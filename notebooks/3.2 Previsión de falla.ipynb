{
 "cells": [
  {
   "cell_type": "markdown",
   "source": [
    "<h1 style='color: green; font-size: 26px; font-weight: bold;'> 3. Previsão de falha <h1>"
   ],
   "metadata": {
    "collapsed": false
   }
  },
  {
   "cell_type": "markdown",
   "source": [
    "### Notebook 2, Pré Processamento II (se necessário), Feature engineering, modelagem e modelo final."
   ],
   "metadata": {
    "collapsed": false
   }
  },
  {
   "cell_type": "markdown",
   "source": [
    "<strong>Descripción</strong>\n",
    "<p>Los galpones de Full de mercado libre cuentan con una flota de dispositivos que transmiten\n",
    "diariamente telemetría agregada en varios atributos.\n",
    "Las técnicas de mantenimiento predictivo están diseñadas para ayudar a determinar la\n",
    "condición del equipo de mantenimiento en servicio para predecir cuándo se debe realizar el\n",
    "mantenimiento. Este enfoque promete ahorros de costos sobre el mantenimiento preventivo\n",
    "de rutina o basado en el tiempo porque las tareas se realizan solo cuando están justificadas.\n",
    "</p>\n",
    "\n",
    "<strong>Entregable</strong>\n",
    "<p>Tiene la tarea de generar una Jupyter notebook con un modelo predictivo para predecir la\n",
    "probabilidad de falla del dispositivo con el objetivo de bajar los costos del proceso. Como\n",
    "una referencia, una falla de un dispositivo tiene un costo de 1 mientras el costo de un\n",
    "mantenimiento es 0,5. El archivo \"full_devices.csv\" tiene los valores diários para los 9\n",
    "atributos de los dispositivos y la columna que está tratando de predecir se llama 'failure' con\n",
    "el valor binario 0 para no fallar y 1 para fallar\n",
    "</p>"
   ],
   "metadata": {
    "collapsed": false
   }
  },
  {
   "cell_type": "markdown",
   "source": [
    "# Feature engineering"
   ],
   "metadata": {
    "collapsed": false
   }
  },
  {
   "cell_type": "code",
   "execution_count": null,
   "outputs": [],
   "source": [],
   "metadata": {
    "collapsed": false
   }
  }
 ],
 "metadata": {
  "kernelspec": {
   "display_name": "Python 3",
   "language": "python",
   "name": "python3"
  },
  "language_info": {
   "codemirror_mode": {
    "name": "ipython",
    "version": 2
   },
   "file_extension": ".py",
   "mimetype": "text/x-python",
   "name": "python",
   "nbconvert_exporter": "python",
   "pygments_lexer": "ipython2",
   "version": "2.7.6"
  }
 },
 "nbformat": 4,
 "nbformat_minor": 0
}
