{
 "cells": [
  {
   "cell_type": "markdown",
   "source": [
    "<h1 style='color: green; font-size: 26px; font-weight: bold;'> 3. Previsão de falha <h1>"
   ],
   "metadata": {
    "collapsed": false
   }
  },
  {
   "cell_type": "markdown",
   "source": [
    "### Notebook 2\n",
    "1.  Pré Processamento II\n",
    "2. Feature engineering\n",
    "3. Modelagem\n",
    "4. Avaliação\n",
    "5. Modelo final\n",
    "6. Conclusão."
   ],
   "metadata": {
    "collapsed": false
   }
  },
  {
   "cell_type": "markdown",
   "source": [
    "<strong>Descripción</strong>\n",
    "<p>Los galpones de Full de mercado libre cuentan con una flota de dispositivos que transmiten\n",
    "diariamente telemetría agregada en varios atributos.\n",
    "Las técnicas de mantenimiento predictivo están diseñadas para ayudar a determinar la\n",
    "condición del equipo de mantenimiento en servicio para predecir cuándo se debe realizar el\n",
    "mantenimiento. Este enfoque promete ahorros de costos sobre el mantenimiento preventivo\n",
    "de rutina o basado en el tiempo porque las tareas se realizan solo cuando están justificadas.\n",
    "</p>\n",
    "\n",
    "<strong>Entregable</strong>\n",
    "<p>Tiene la tarea de generar una Jupyter notebook con un modelo predictivo para predecir la\n",
    "probabilidad de falla del dispositivo con el objetivo de bajar los costos del proceso. Como\n",
    "una referencia, una falla de un dispositivo tiene un costo de 1 mientras el costo de un\n",
    "mantenimiento es 0,5. El archivo \"full_devices.csv\" tiene los valores diários para los 9\n",
    "atributos de los dispositivos y la columna que está tratando de predecir se llama 'failure' con\n",
    "el valor binario 0 para no fallar y 1 para fallar\n",
    "</p>"
   ],
   "metadata": {
    "collapsed": false
   }
  },
  {
   "cell_type": "markdown",
   "source": [
    "# Carregando os dados"
   ],
   "metadata": {
    "collapsed": false
   },
   "outputs": [
    {
     "ename": "SyntaxError",
     "evalue": "invalid syntax (2920854292.py, line 1)",
     "output_type": "error",
     "traceback": [
      "\u001B[1;36m  Cell \u001B[1;32mIn[1], line 1\u001B[1;36m\u001B[0m\n\u001B[1;33m    Carregando os dados\u001B[0m\n\u001B[1;37m               ^\u001B[0m\n\u001B[1;31mSyntaxError\u001B[0m\u001B[1;31m:\u001B[0m invalid syntax\n"
     ]
    }
   ],
   "execution_count": 1
  },
  {
   "cell_type": "code",
   "execution_count": 229,
   "outputs": [],
   "source": [
    "import pandas as pd\n",
    "import os\n",
    "import seaborn as sns\n",
    "import matplotlib.pyplot as plt\n",
    "import numpy as np\n",
    "from imblearn.over_sampling import SMOTE\n",
    "from imblearn.over_sampling import SMOTENC"
   ],
   "metadata": {
    "collapsed": false
   }
  },
  {
   "cell_type": "code",
   "execution_count": 230,
   "outputs": [
    {
     "data": {
      "text/plain": "         date    device  failure  attribute1  attribute2  attribute3  \\\n0  2015-01-01  S1F01085        0   215630672          56           0   \n1  2015-01-01  S1F0166B        0    61370680           0           3   \n2  2015-01-01  S1F01E6Y        0   173295968           0           0   \n3  2015-01-01  S1F01JE0        0    79694024           0           0   \n4  2015-01-01  S1F01R2B        0   135970480           0           0   \n\n   attribute4  attribute5  attribute6  attribute7  attribute8  attribute9  \n0          52           6      407438           0           0           7  \n1           0           6      403174           0           0           0  \n2           0          12      237394           0           0           0  \n3           0           6      410186           0           0           0  \n4           0          15      313173           0           0           3  ",
      "text/html": "<div>\n<style scoped>\n    .dataframe tbody tr th:only-of-type {\n        vertical-align: middle;\n    }\n\n    .dataframe tbody tr th {\n        vertical-align: top;\n    }\n\n    .dataframe thead th {\n        text-align: right;\n    }\n</style>\n<table border=\"1\" class=\"dataframe\">\n  <thead>\n    <tr style=\"text-align: right;\">\n      <th></th>\n      <th>date</th>\n      <th>device</th>\n      <th>failure</th>\n      <th>attribute1</th>\n      <th>attribute2</th>\n      <th>attribute3</th>\n      <th>attribute4</th>\n      <th>attribute5</th>\n      <th>attribute6</th>\n      <th>attribute7</th>\n      <th>attribute8</th>\n      <th>attribute9</th>\n    </tr>\n  </thead>\n  <tbody>\n    <tr>\n      <th>0</th>\n      <td>2015-01-01</td>\n      <td>S1F01085</td>\n      <td>0</td>\n      <td>215630672</td>\n      <td>56</td>\n      <td>0</td>\n      <td>52</td>\n      <td>6</td>\n      <td>407438</td>\n      <td>0</td>\n      <td>0</td>\n      <td>7</td>\n    </tr>\n    <tr>\n      <th>1</th>\n      <td>2015-01-01</td>\n      <td>S1F0166B</td>\n      <td>0</td>\n      <td>61370680</td>\n      <td>0</td>\n      <td>3</td>\n      <td>0</td>\n      <td>6</td>\n      <td>403174</td>\n      <td>0</td>\n      <td>0</td>\n      <td>0</td>\n    </tr>\n    <tr>\n      <th>2</th>\n      <td>2015-01-01</td>\n      <td>S1F01E6Y</td>\n      <td>0</td>\n      <td>173295968</td>\n      <td>0</td>\n      <td>0</td>\n      <td>0</td>\n      <td>12</td>\n      <td>237394</td>\n      <td>0</td>\n      <td>0</td>\n      <td>0</td>\n    </tr>\n    <tr>\n      <th>3</th>\n      <td>2015-01-01</td>\n      <td>S1F01JE0</td>\n      <td>0</td>\n      <td>79694024</td>\n      <td>0</td>\n      <td>0</td>\n      <td>0</td>\n      <td>6</td>\n      <td>410186</td>\n      <td>0</td>\n      <td>0</td>\n      <td>0</td>\n    </tr>\n    <tr>\n      <th>4</th>\n      <td>2015-01-01</td>\n      <td>S1F01R2B</td>\n      <td>0</td>\n      <td>135970480</td>\n      <td>0</td>\n      <td>0</td>\n      <td>0</td>\n      <td>15</td>\n      <td>313173</td>\n      <td>0</td>\n      <td>0</td>\n      <td>3</td>\n    </tr>\n  </tbody>\n</table>\n</div>"
     },
     "execution_count": 230,
     "metadata": {},
     "output_type": "execute_result"
    }
   ],
   "source": [
    "dir_data = \"F:\\PycharmProjects\\DesaioMELI\\data\"\n",
    "df = pd.read_csv(dir_data+r'\\full_devices.csv', sep=',', encoding='ISO-8859-1')\n",
    "df.head()"
   ],
   "metadata": {
    "collapsed": false
   }
  },
  {
   "cell_type": "markdown",
   "source": [
    "coluna 'failure'\n",
    "1 = Equipamento falhou\n",
    "0 = Equipamento não falhou\n",
    "\n",
    "'device'\n",
    "equipamento monitorado\n",
    "\n",
    "'attribute1'\n",
    "pode ser algum código, não tenho certeza.\n"
   ],
   "metadata": {
    "collapsed": false
   }
  },
  {
   "cell_type": "code",
   "execution_count": 231,
   "outputs": [
    {
     "data": {
      "text/plain": "date             304\ndevice          1169\nfailure            2\nattribute1    123877\nattribute2       558\nattribute3        47\nattribute4       115\nattribute5        60\nattribute6     44838\nattribute7        28\nattribute8        28\nattribute9        65\ndtype: int64"
     },
     "execution_count": 231,
     "metadata": {},
     "output_type": "execute_result"
    }
   ],
   "source": [
    "df.nunique()"
   ],
   "metadata": {
    "collapsed": false
   }
  },
  {
   "cell_type": "code",
   "execution_count": 232,
   "outputs": [
    {
     "data": {
      "text/plain": "(1169, 11)"
     },
     "execution_count": 232,
     "metadata": {},
     "output_type": "execute_result"
    }
   ],
   "source": [
    "df.groupby(['device']).agg(['count']).shape"
   ],
   "metadata": {
    "collapsed": false
   }
  },
  {
   "cell_type": "code",
   "execution_count": 233,
   "outputs": [
    {
     "data": {
      "text/plain": "(304, 11)"
     },
     "execution_count": 233,
     "metadata": {},
     "output_type": "execute_result"
    }
   ],
   "source": [
    "df.groupby(['date']).agg(['count']).shape"
   ],
   "metadata": {
    "collapsed": false
   }
  },
  {
   "cell_type": "markdown",
   "source": [
    "# Pré processamento II"
   ],
   "metadata": {
    "collapsed": false
   }
  },
  {
   "cell_type": "code",
   "execution_count": 234,
   "outputs": [
    {
     "name": "stdout",
     "output_type": "stream",
     "text": [
      "<class 'pandas.core.frame.DataFrame'>\n",
      "RangeIndex: 124494 entries, 0 to 124493\n",
      "Data columns (total 12 columns):\n",
      " #   Column      Non-Null Count   Dtype         \n",
      "---  ------      --------------   -----         \n",
      " 0   date        124494 non-null  datetime64[ns]\n",
      " 1   device      124494 non-null  object        \n",
      " 2   failure     124494 non-null  int64         \n",
      " 3   attribute1  124494 non-null  int64         \n",
      " 4   attribute2  124494 non-null  int64         \n",
      " 5   attribute3  124494 non-null  int64         \n",
      " 6   attribute4  124494 non-null  int64         \n",
      " 7   attribute5  124494 non-null  int64         \n",
      " 8   attribute6  124494 non-null  int64         \n",
      " 9   attribute7  124494 non-null  int64         \n",
      " 10  attribute8  124494 non-null  int64         \n",
      " 11  attribute9  124494 non-null  int64         \n",
      "dtypes: datetime64[ns](1), int64(10), object(1)\n",
      "memory usage: 11.4+ MB\n"
     ]
    }
   ],
   "source": [
    "#Tranformando os tipos de dados\n",
    "df.date = pd.to_datetime(df.date, format='%Y-%m-%d')\n",
    "df.info()"
   ],
   "metadata": {
    "collapsed": false
   }
  },
  {
   "cell_type": "code",
   "execution_count": 235,
   "outputs": [],
   "source": [
    "df = df.drop_duplicates()"
   ],
   "metadata": {
    "collapsed": false
   }
  },
  {
   "cell_type": "markdown",
   "source": [
    "Eliminando o registro duplicado identificado no notebook 1"
   ],
   "metadata": {
    "collapsed": false
   }
  },
  {
   "cell_type": "code",
   "execution_count": 236,
   "outputs": [
    {
     "data": {
      "text/plain": "(124493, 12)"
     },
     "execution_count": 236,
     "metadata": {},
     "output_type": "execute_result"
    }
   ],
   "source": [
    "df.shape"
   ],
   "metadata": {
    "collapsed": false
   }
  },
  {
   "cell_type": "code",
   "execution_count": 237,
   "outputs": [
    {
     "data": {
      "text/plain": "failure\n0    124387\n1       106\nName: device, dtype: int64"
     },
     "execution_count": 237,
     "metadata": {},
     "output_type": "execute_result"
    }
   ],
   "source": [
    "df.groupby(['failure'])['device'].count()"
   ],
   "metadata": {
    "collapsed": false
   }
  },
  {
   "cell_type": "code",
   "execution_count": 238,
   "outputs": [
    {
     "name": "stdout",
     "output_type": "stream",
     "text": [
      "Percentual de falha: 0.00085%\n"
     ]
    }
   ],
   "source": [
    "#percentual de falha em 11 meses\n",
    "print('Percentual de falha: {:.5f}%'.format(df.groupby(['failure'])['device'].count().iloc[1] / df['device'].count()))"
   ],
   "metadata": {
    "collapsed": false
   }
  },
  {
   "cell_type": "code",
   "execution_count": 239,
   "outputs": [
    {
     "data": {
      "text/plain": "           date    device  failure  attribute1  attribute2  attribute3  \\\n0    2015-01-01  S1F01085        0   215630672          56           0   \n1163 2015-01-02  S1F01085        0     1650864          56           0   \n2326 2015-01-03  S1F01085        0   124017368          56           0   \n3489 2015-01-04  S1F01085        0   128073224          56           0   \n4651 2015-01-05  S1F01085        0    97393448          56           0   \n\n      attribute4  attribute5  attribute6  attribute7  attribute8  attribute9  \\\n0             52           6      407438           0           0           7   \n1163          52           6      407438           0           0           7   \n2326          52           6      407438           0           0           7   \n3489          52           6      407439           0           0           7   \n4651          52           6      408114           0           0           7   \n\n      flipper  \n0           1  \n1163        0  \n2326        0  \n3489        0  \n4651        0  ",
      "text/html": "<div>\n<style scoped>\n    .dataframe tbody tr th:only-of-type {\n        vertical-align: middle;\n    }\n\n    .dataframe tbody tr th {\n        vertical-align: top;\n    }\n\n    .dataframe thead th {\n        text-align: right;\n    }\n</style>\n<table border=\"1\" class=\"dataframe\">\n  <thead>\n    <tr style=\"text-align: right;\">\n      <th></th>\n      <th>date</th>\n      <th>device</th>\n      <th>failure</th>\n      <th>attribute1</th>\n      <th>attribute2</th>\n      <th>attribute3</th>\n      <th>attribute4</th>\n      <th>attribute5</th>\n      <th>attribute6</th>\n      <th>attribute7</th>\n      <th>attribute8</th>\n      <th>attribute9</th>\n      <th>flipper</th>\n    </tr>\n  </thead>\n  <tbody>\n    <tr>\n      <th>0</th>\n      <td>2015-01-01</td>\n      <td>S1F01085</td>\n      <td>0</td>\n      <td>215630672</td>\n      <td>56</td>\n      <td>0</td>\n      <td>52</td>\n      <td>6</td>\n      <td>407438</td>\n      <td>0</td>\n      <td>0</td>\n      <td>7</td>\n      <td>1</td>\n    </tr>\n    <tr>\n      <th>1163</th>\n      <td>2015-01-02</td>\n      <td>S1F01085</td>\n      <td>0</td>\n      <td>1650864</td>\n      <td>56</td>\n      <td>0</td>\n      <td>52</td>\n      <td>6</td>\n      <td>407438</td>\n      <td>0</td>\n      <td>0</td>\n      <td>7</td>\n      <td>0</td>\n    </tr>\n    <tr>\n      <th>2326</th>\n      <td>2015-01-03</td>\n      <td>S1F01085</td>\n      <td>0</td>\n      <td>124017368</td>\n      <td>56</td>\n      <td>0</td>\n      <td>52</td>\n      <td>6</td>\n      <td>407438</td>\n      <td>0</td>\n      <td>0</td>\n      <td>7</td>\n      <td>0</td>\n    </tr>\n    <tr>\n      <th>3489</th>\n      <td>2015-01-04</td>\n      <td>S1F01085</td>\n      <td>0</td>\n      <td>128073224</td>\n      <td>56</td>\n      <td>0</td>\n      <td>52</td>\n      <td>6</td>\n      <td>407439</td>\n      <td>0</td>\n      <td>0</td>\n      <td>7</td>\n      <td>0</td>\n    </tr>\n    <tr>\n      <th>4651</th>\n      <td>2015-01-05</td>\n      <td>S1F01085</td>\n      <td>0</td>\n      <td>97393448</td>\n      <td>56</td>\n      <td>0</td>\n      <td>52</td>\n      <td>6</td>\n      <td>408114</td>\n      <td>0</td>\n      <td>0</td>\n      <td>7</td>\n      <td>0</td>\n    </tr>\n  </tbody>\n</table>\n</div>"
     },
     "execution_count": 239,
     "metadata": {},
     "output_type": "execute_result"
    }
   ],
   "source": [
    "#ordenando o dataset por data e pelo device para posteriormente verificar o histórico até a falha\n",
    "df = df.sort_values(by=['device','date'], ascending=[True, True])\n",
    "df['flipper'] = np.where((df.device != df.device.shift(1)), 1, 0)\n",
    "df.head()"
   ],
   "metadata": {
    "collapsed": false
   }
  },
  {
   "cell_type": "markdown",
   "source": [
    "<strong>Pensando no oversampling, somente duplicar os dados pode gerar overfitting, pois existe um tempo de vida para cada dispositivo e um período de uso para falha, visto que não é um evento comum, então introduzir somente os registros de falhas, sem considerar os dados que antecem o evento resultará em um viés que acarretará em overfitting. O viés é inevitavél, mas o ideal é que acompanhe o comportamento dos dados.</strong>\n",
    "\n",
    "Dito isso, vou criar algumas features para obter essa informação de comportamento dos dados até a falha e com isso gerar os novos registros, além de tranformar os dados de colunas para melhor se adequarem a modelagem."
   ],
   "metadata": {
    "collapsed": false
   }
  },
  {
   "cell_type": "code",
   "execution_count": 240,
   "outputs": [],
   "source": [
    "#pega o 1º registro para cada dispositivo, com a coluna criada 'flipper'\n",
    "starter = df[df['flipper'] == 1]\n",
    "starter = starter[['date','device']]\n",
    "starter = starter.rename(index=str, columns={\"date\": \"start_date\"})\n",
    "starter['start_date'] = pd.to_datetime(starter['start_date'])"
   ],
   "metadata": {
    "collapsed": false
   }
  },
  {
   "cell_type": "code",
   "execution_count": 241,
   "outputs": [],
   "source": [
    "#Merge start_date com o dataset original, para marcar a data de inicio de monitoramento de cada dispositivo\n",
    "df = df.sort_values(by=['device', 'date'], ascending=[True, True])\n",
    "starter = starter.sort_values(by=['device'], ascending=[True])\n",
    "df = df.merge(starter, on=['device'], how='left')"
   ],
   "metadata": {
    "collapsed": false
   }
  },
  {
   "cell_type": "code",
   "execution_count": 242,
   "outputs": [
    {
     "data": {
      "text/plain": "date        start_date\n2015-01-05  2015-01-01    1\n2015-01-07  2015-01-01    1\n2015-01-09  2015-01-01    1\n2015-01-13  2015-01-01    1\n2015-01-14  2015-01-01    1\n                         ..\n2015-08-04  2015-01-01    1\n2015-08-18  2015-01-01    1\n2015-10-05  2015-01-01    1\n2015-10-09  2015-01-01    1\n2015-10-26  2015-01-01    1\nName: device, Length: 76, dtype: int64"
     },
     "execution_count": 242,
     "metadata": {},
     "output_type": "execute_result"
    }
   ],
   "source": [
    "df[df['failure'] == 1].groupby(['date','start_date'])['device'].count()"
   ],
   "metadata": {
    "collapsed": false
   }
  },
  {
   "cell_type": "code",
   "execution_count": 243,
   "outputs": [],
   "source": [
    "# Calcula os dias até a falha para cada dispositivo, contando a partir do momento que se iniciou a monitoria do dispositivo\n",
    "#Isso irá servir para encontrar o valor do ciclo para usar como janela no agrupamento\n",
    "devices = df['device'].unique()\n",
    "failure_record = []\n",
    "no_failured = []\n",
    "for device in devices:\n",
    "    start_date = df.loc[(df['device'] == device) & (df['flipper'] == 1), 'date'].iloc[0]\n",
    "    falhas_dispositivo = df.loc[(df['device'] == device) & (df['failure'] == 1), 'date']\n",
    "    if not falhas_dispositivo.empty:\n",
    "        data_falha = falhas_dispositivo.min()\n",
    "        dias_decorridos = (data_falha - start_date).days\n",
    "        failure_record.append({\n",
    "            'device': device,\n",
    "            'count_days': dias_decorridos,\n",
    "            'start_date': start_date,\n",
    "            'failure_date': data_falha.date()\n",
    "        })\n",
    "    else:\n",
    "        no_failured.append({\n",
    "            'device': device,\n",
    "            'start_date': start_date,\n",
    "        })"
   ],
   "metadata": {
    "collapsed": false
   }
  },
  {
   "cell_type": "code",
   "execution_count": 244,
   "outputs": [],
   "source": [
    "#Dataframe com os dispositivos que falharam e outro com os que não falharam\n",
    "df_failured_record = pd.DataFrame(failure_record).sort_values(by='failure_date').reset_index(drop=True)\n",
    "df_non_failured_record = pd.DataFrame(no_failured).sort_values(by='start_date').reset_index(drop=True)"
   ],
   "metadata": {
    "collapsed": false
   }
  },
  {
   "cell_type": "code",
   "execution_count": 245,
   "outputs": [
    {
     "data": {
      "text/plain": "        device start_date\n0     S1F01085 2015-01-01\n1     W1F0X5L3 2015-01-01\n2     W1F0X5L8 2015-01-01\n3     W1F0X5N2 2015-01-01\n4     W1F0X5TL 2015-01-01\n...        ...        ...\n1058  S1F02W1L 2015-05-06\n1059  S1F02XLX 2015-05-06\n1060  S1F013BB 2015-05-06\n1061  S1F03499 2015-05-06\n1062  W1F1DA5ÿ 2015-06-13\n\n[1063 rows x 2 columns]",
      "text/html": "<div>\n<style scoped>\n    .dataframe tbody tr th:only-of-type {\n        vertical-align: middle;\n    }\n\n    .dataframe tbody tr th {\n        vertical-align: top;\n    }\n\n    .dataframe thead th {\n        text-align: right;\n    }\n</style>\n<table border=\"1\" class=\"dataframe\">\n  <thead>\n    <tr style=\"text-align: right;\">\n      <th></th>\n      <th>device</th>\n      <th>start_date</th>\n    </tr>\n  </thead>\n  <tbody>\n    <tr>\n      <th>0</th>\n      <td>S1F01085</td>\n      <td>2015-01-01</td>\n    </tr>\n    <tr>\n      <th>1</th>\n      <td>W1F0X5L3</td>\n      <td>2015-01-01</td>\n    </tr>\n    <tr>\n      <th>2</th>\n      <td>W1F0X5L8</td>\n      <td>2015-01-01</td>\n    </tr>\n    <tr>\n      <th>3</th>\n      <td>W1F0X5N2</td>\n      <td>2015-01-01</td>\n    </tr>\n    <tr>\n      <th>4</th>\n      <td>W1F0X5TL</td>\n      <td>2015-01-01</td>\n    </tr>\n    <tr>\n      <th>...</th>\n      <td>...</td>\n      <td>...</td>\n    </tr>\n    <tr>\n      <th>1058</th>\n      <td>S1F02W1L</td>\n      <td>2015-05-06</td>\n    </tr>\n    <tr>\n      <th>1059</th>\n      <td>S1F02XLX</td>\n      <td>2015-05-06</td>\n    </tr>\n    <tr>\n      <th>1060</th>\n      <td>S1F013BB</td>\n      <td>2015-05-06</td>\n    </tr>\n    <tr>\n      <th>1061</th>\n      <td>S1F03499</td>\n      <td>2015-05-06</td>\n    </tr>\n    <tr>\n      <th>1062</th>\n      <td>W1F1DA5ÿ</td>\n      <td>2015-06-13</td>\n    </tr>\n  </tbody>\n</table>\n<p>1063 rows × 2 columns</p>\n</div>"
     },
     "execution_count": 245,
     "metadata": {},
     "output_type": "execute_result"
    }
   ],
   "source": [
    "df_non_failured_record"
   ],
   "metadata": {
    "collapsed": false
   }
  },
  {
   "cell_type": "code",
   "execution_count": 246,
   "outputs": [
    {
     "data": {
      "text/plain": "       device  count_days start_date failure_date\n0    S1F0RRB1           4 2015-01-01   2015-01-05\n1    S1F0CTDN           6 2015-01-01   2015-01-07\n2    W1F0PNA5           8 2015-01-01   2015-01-09\n3    W1F13SRV          12 2015-01-01   2015-01-13\n4    W1F1230J          13 2015-01-01   2015-01-14\n..        ...         ...        ...          ...\n101  W1F1CB5E         215 2015-01-01   2015-08-04\n102  Z1F0MRPJ         229 2015-01-01   2015-08-18\n103  S1F0JGJV         277 2015-01-01   2015-10-05\n104  Z1F14BGY         281 2015-01-01   2015-10-09\n105  W1F0T0B1         298 2015-01-01   2015-10-26\n\n[106 rows x 4 columns]",
      "text/html": "<div>\n<style scoped>\n    .dataframe tbody tr th:only-of-type {\n        vertical-align: middle;\n    }\n\n    .dataframe tbody tr th {\n        vertical-align: top;\n    }\n\n    .dataframe thead th {\n        text-align: right;\n    }\n</style>\n<table border=\"1\" class=\"dataframe\">\n  <thead>\n    <tr style=\"text-align: right;\">\n      <th></th>\n      <th>device</th>\n      <th>count_days</th>\n      <th>start_date</th>\n      <th>failure_date</th>\n    </tr>\n  </thead>\n  <tbody>\n    <tr>\n      <th>0</th>\n      <td>S1F0RRB1</td>\n      <td>4</td>\n      <td>2015-01-01</td>\n      <td>2015-01-05</td>\n    </tr>\n    <tr>\n      <th>1</th>\n      <td>S1F0CTDN</td>\n      <td>6</td>\n      <td>2015-01-01</td>\n      <td>2015-01-07</td>\n    </tr>\n    <tr>\n      <th>2</th>\n      <td>W1F0PNA5</td>\n      <td>8</td>\n      <td>2015-01-01</td>\n      <td>2015-01-09</td>\n    </tr>\n    <tr>\n      <th>3</th>\n      <td>W1F13SRV</td>\n      <td>12</td>\n      <td>2015-01-01</td>\n      <td>2015-01-13</td>\n    </tr>\n    <tr>\n      <th>4</th>\n      <td>W1F1230J</td>\n      <td>13</td>\n      <td>2015-01-01</td>\n      <td>2015-01-14</td>\n    </tr>\n    <tr>\n      <th>...</th>\n      <td>...</td>\n      <td>...</td>\n      <td>...</td>\n      <td>...</td>\n    </tr>\n    <tr>\n      <th>101</th>\n      <td>W1F1CB5E</td>\n      <td>215</td>\n      <td>2015-01-01</td>\n      <td>2015-08-04</td>\n    </tr>\n    <tr>\n      <th>102</th>\n      <td>Z1F0MRPJ</td>\n      <td>229</td>\n      <td>2015-01-01</td>\n      <td>2015-08-18</td>\n    </tr>\n    <tr>\n      <th>103</th>\n      <td>S1F0JGJV</td>\n      <td>277</td>\n      <td>2015-01-01</td>\n      <td>2015-10-05</td>\n    </tr>\n    <tr>\n      <th>104</th>\n      <td>Z1F14BGY</td>\n      <td>281</td>\n      <td>2015-01-01</td>\n      <td>2015-10-09</td>\n    </tr>\n    <tr>\n      <th>105</th>\n      <td>W1F0T0B1</td>\n      <td>298</td>\n      <td>2015-01-01</td>\n      <td>2015-10-26</td>\n    </tr>\n  </tbody>\n</table>\n<p>106 rows × 4 columns</p>\n</div>"
     },
     "execution_count": 246,
     "metadata": {},
     "output_type": "execute_result"
    }
   ],
   "source": [
    "df_failured_record"
   ],
   "metadata": {
    "collapsed": false
   }
  },
  {
   "cell_type": "code",
   "execution_count": 247,
   "outputs": [
    {
     "data": {
      "text/plain": "<Figure size 600x400 with 1 Axes>",
      "image/png": "[encoded data removed]"
     },
     "metadata": {},
     "output_type": "display_data"
    }
   ],
   "source": [
    "plt.figure(figsize=(6,4))\n",
    "sns.boxplot(x= 'start_date',y='count_days',data=df_failured_record)\n",
    "plt.show()"
   ],
   "metadata": {
    "collapsed": false
   }
  },
  {
   "cell_type": "code",
   "execution_count": 248,
   "outputs": [
    {
     "data": {
      "text/plain": "array([[<Axes: title={'center': 'count_days'}>,\n        <Axes: title={'center': 'start_date'}>]], dtype=object)"
     },
     "execution_count": 248,
     "metadata": {},
     "output_type": "execute_result"
    },
    {
     "data": {
      "text/plain": "<Figure size 1000x200 with 2 Axes>",
      "image/png": "[encoded data removed]"
     },
     "metadata": {},
     "output_type": "display_data"
    }
   ],
   "source": [
    "#Distribuição dos dispositivos que falharam em dias corrido a partir do inicio da monitoria de cada um\n",
    "ax = df_failured_record.hist(bins=100, figsize=(10,2))\n",
    "ax"
   ],
   "metadata": {
    "collapsed": false
   }
  },
  {
   "cell_type": "code",
   "execution_count": 249,
   "outputs": [
    {
     "data": {
      "text/plain": "       count_days\ncount  106.000000\nmean   106.905660\nstd     74.017826\nmin      4.000000\n25%     34.000000\n50%    113.000000\n75%    163.250000\nmax    298.000000",
      "text/html": "<div>\n<style scoped>\n    .dataframe tbody tr th:only-of-type {\n        vertical-align: middle;\n    }\n\n    .dataframe tbody tr th {\n        vertical-align: top;\n    }\n\n    .dataframe thead th {\n        text-align: right;\n    }\n</style>\n<table border=\"1\" class=\"dataframe\">\n  <thead>\n    <tr style=\"text-align: right;\">\n      <th></th>\n      <th>count_days</th>\n    </tr>\n  </thead>\n  <tbody>\n    <tr>\n      <th>count</th>\n      <td>106.000000</td>\n    </tr>\n    <tr>\n      <th>mean</th>\n      <td>106.905660</td>\n    </tr>\n    <tr>\n      <th>std</th>\n      <td>74.017826</td>\n    </tr>\n    <tr>\n      <th>min</th>\n      <td>4.000000</td>\n    </tr>\n    <tr>\n      <th>25%</th>\n      <td>34.000000</td>\n    </tr>\n    <tr>\n      <th>50%</th>\n      <td>113.000000</td>\n    </tr>\n    <tr>\n      <th>75%</th>\n      <td>163.250000</td>\n    </tr>\n    <tr>\n      <th>max</th>\n      <td>298.000000</td>\n    </tr>\n  </tbody>\n</table>\n</div>"
     },
     "execution_count": 249,
     "metadata": {},
     "output_type": "execute_result"
    }
   ],
   "source": [
    "df_failured_record.describe()"
   ],
   "metadata": {
    "collapsed": false
   }
  },
  {
   "cell_type": "code",
   "execution_count": 250,
   "outputs": [
    {
     "data": {
      "text/plain": "       device  count_days start_date failure_date\n0    S1F023H2        18.0 2015-01-01   2015-01-19\n1    S1F03YZM         NaN        NaT          NaN\n2    S1F09DZQ         NaN        NaT          NaN\n3    S1F0CTDN         NaN        NaT          NaN\n4    S1F0DSTY         NaN        NaT          NaN\n..        ...         ...        ...          ...\n101  Z1F1901P         NaN        NaT          NaN\n102  Z1F1AG5N         NaN        NaT          NaN\n103  Z1F1FCH5         NaN        NaT          NaN\n104  Z1F1RJFA         NaN        NaT          NaN\n105  Z1F1VQFY         NaN        NaT          NaN\n\n[106 rows x 4 columns]",
      "text/html": "<div>\n<style scoped>\n    .dataframe tbody tr th:only-of-type {\n        vertical-align: middle;\n    }\n\n    .dataframe tbody tr th {\n        vertical-align: top;\n    }\n\n    .dataframe thead th {\n        text-align: right;\n    }\n</style>\n<table border=\"1\" class=\"dataframe\">\n  <thead>\n    <tr style=\"text-align: right;\">\n      <th></th>\n      <th>device</th>\n      <th>count_days</th>\n      <th>start_date</th>\n      <th>failure_date</th>\n    </tr>\n  </thead>\n  <tbody>\n    <tr>\n      <th>0</th>\n      <td>S1F023H2</td>\n      <td>18.0</td>\n      <td>2015-01-01</td>\n      <td>2015-01-19</td>\n    </tr>\n    <tr>\n      <th>1</th>\n      <td>S1F03YZM</td>\n      <td>NaN</td>\n      <td>NaT</td>\n      <td>NaN</td>\n    </tr>\n    <tr>\n      <th>2</th>\n      <td>S1F09DZQ</td>\n      <td>NaN</td>\n      <td>NaT</td>\n      <td>NaN</td>\n    </tr>\n    <tr>\n      <th>3</th>\n      <td>S1F0CTDN</td>\n      <td>NaN</td>\n      <td>NaT</td>\n      <td>NaN</td>\n    </tr>\n    <tr>\n      <th>4</th>\n      <td>S1F0DSTY</td>\n      <td>NaN</td>\n      <td>NaT</td>\n      <td>NaN</td>\n    </tr>\n    <tr>\n      <th>...</th>\n      <td>...</td>\n      <td>...</td>\n      <td>...</td>\n      <td>...</td>\n    </tr>\n    <tr>\n      <th>101</th>\n      <td>Z1F1901P</td>\n      <td>NaN</td>\n      <td>NaT</td>\n      <td>NaN</td>\n    </tr>\n    <tr>\n      <th>102</th>\n      <td>Z1F1AG5N</td>\n      <td>NaN</td>\n      <td>NaT</td>\n      <td>NaN</td>\n    </tr>\n    <tr>\n      <th>103</th>\n      <td>Z1F1FCH5</td>\n      <td>NaN</td>\n      <td>NaT</td>\n      <td>NaN</td>\n    </tr>\n    <tr>\n      <th>104</th>\n      <td>Z1F1RJFA</td>\n      <td>NaN</td>\n      <td>NaT</td>\n      <td>NaN</td>\n    </tr>\n    <tr>\n      <th>105</th>\n      <td>Z1F1VQFY</td>\n      <td>NaN</td>\n      <td>NaT</td>\n      <td>NaN</td>\n    </tr>\n  </tbody>\n</table>\n<p>106 rows × 4 columns</p>\n</div>"
     },
     "execution_count": 250,
     "metadata": {},
     "output_type": "execute_result"
    }
   ],
   "source": [
    "#mediana\n",
    "df_failured_record.mode()"
   ],
   "metadata": {
    "collapsed": false
   }
  },
  {
   "cell_type": "code",
   "execution_count": 251,
   "outputs": [
    {
     "data": {
      "text/plain": "failure_date\n2015-01-19    8\n2015-05-08    3\n2015-02-04    3\n2015-07-20    2\n2015-03-17    2\n             ..\n2015-04-20    1\n2015-04-21    1\n2015-04-27    1\n2015-01-07    1\n2015-10-26    1\nName: device, Length: 76, dtype: int64"
     },
     "execution_count": 251,
     "metadata": {},
     "output_type": "execute_result"
    }
   ],
   "source": [
    "#Falhas ranqueada por data\n",
    "df_failured_record.groupby('failure_date')['device'].count().sort_values(ascending=False)"
   ],
   "metadata": {
    "collapsed": false
   }
  },
  {
   "cell_type": "markdown",
   "source": [
    "Todos os dispositivos que falharam são monitorados desde o dia 01-01 e 75% deles falharam em até 163 dias após essa data.\n",
    "O dia que mais dispositivos falharam aconteceu 18 dias após a data de inicio da monitoria, no total foram 8 dispositivos.\n",
    "Vou utilizar essa janela de dias para fazer a Sobreamostragem e agregação dos dados dos sensores."
   ],
   "metadata": {
    "collapsed": false
   }
  },
  {
   "cell_type": "markdown",
   "source": [
    "# Feature engineering"
   ],
   "metadata": {
    "collapsed": false
   }
  },
  {
   "cell_type": "markdown",
   "source": [
    "## Novas colunas auxiliares"
   ],
   "metadata": {
    "collapsed": false
   }
  },
  {
   "cell_type": "code",
   "execution_count": 252,
   "outputs": [],
   "source": [
    "#Esta é a janela pela qual será feita a agregação dos valores das colunas.\n",
    "window = 18"
   ],
   "metadata": {
    "collapsed": false
   }
  },
  {
   "cell_type": "code",
   "execution_count": 253,
   "outputs": [
    {
     "data": {
      "text/plain": "        date    device  failure  attribute1  attribute2  attribute3  \\\n0 2015-01-01  S1F01085        0   215630672          56           0   \n1 2015-01-02  S1F01085        0     1650864          56           0   \n2 2015-01-03  S1F01085        0   124017368          56           0   \n3 2015-01-04  S1F01085        0   128073224          56           0   \n4 2015-01-05  S1F01085        0    97393448          56           0   \n\n   attribute4  attribute5  attribute6  attribute7  attribute8  attribute9  \\\n0          52           6      407438           0           0           7   \n1          52           6      407438           0           0           7   \n2          52           6      407438           0           0           7   \n3          52           6      407439           0           0           7   \n4          52           6      408114           0           0           7   \n\n   flipper start_date  \n0        1 2015-01-01  \n1        0 2015-01-01  \n2        0 2015-01-01  \n3        0 2015-01-01  \n4        0 2015-01-01  ",
      "text/html": "<div>\n<style scoped>\n    .dataframe tbody tr th:only-of-type {\n        vertical-align: middle;\n    }\n\n    .dataframe tbody tr th {\n        vertical-align: top;\n    }\n\n    .dataframe thead th {\n        text-align: right;\n    }\n</style>\n<table border=\"1\" class=\"dataframe\">\n  <thead>\n    <tr style=\"text-align: right;\">\n      <th></th>\n      <th>date</th>\n      <th>device</th>\n      <th>failure</th>\n      <th>attribute1</th>\n      <th>attribute2</th>\n      <th>attribute3</th>\n      <th>attribute4</th>\n      <th>attribute5</th>\n      <th>attribute6</th>\n      <th>attribute7</th>\n      <th>attribute8</th>\n      <th>attribute9</th>\n      <th>flipper</th>\n      <th>start_date</th>\n    </tr>\n  </thead>\n  <tbody>\n    <tr>\n      <th>0</th>\n      <td>2015-01-01</td>\n      <td>S1F01085</td>\n      <td>0</td>\n      <td>215630672</td>\n      <td>56</td>\n      <td>0</td>\n      <td>52</td>\n      <td>6</td>\n      <td>407438</td>\n      <td>0</td>\n      <td>0</td>\n      <td>7</td>\n      <td>1</td>\n      <td>2015-01-01</td>\n    </tr>\n    <tr>\n      <th>1</th>\n      <td>2015-01-02</td>\n      <td>S1F01085</td>\n      <td>0</td>\n      <td>1650864</td>\n      <td>56</td>\n      <td>0</td>\n      <td>52</td>\n      <td>6</td>\n      <td>407438</td>\n      <td>0</td>\n      <td>0</td>\n      <td>7</td>\n      <td>0</td>\n      <td>2015-01-01</td>\n    </tr>\n    <tr>\n      <th>2</th>\n      <td>2015-01-03</td>\n      <td>S1F01085</td>\n      <td>0</td>\n      <td>124017368</td>\n      <td>56</td>\n      <td>0</td>\n      <td>52</td>\n      <td>6</td>\n      <td>407438</td>\n      <td>0</td>\n      <td>0</td>\n      <td>7</td>\n      <td>0</td>\n      <td>2015-01-01</td>\n    </tr>\n    <tr>\n      <th>3</th>\n      <td>2015-01-04</td>\n      <td>S1F01085</td>\n      <td>0</td>\n      <td>128073224</td>\n      <td>56</td>\n      <td>0</td>\n      <td>52</td>\n      <td>6</td>\n      <td>407439</td>\n      <td>0</td>\n      <td>0</td>\n      <td>7</td>\n      <td>0</td>\n      <td>2015-01-01</td>\n    </tr>\n    <tr>\n      <th>4</th>\n      <td>2015-01-05</td>\n      <td>S1F01085</td>\n      <td>0</td>\n      <td>97393448</td>\n      <td>56</td>\n      <td>0</td>\n      <td>52</td>\n      <td>6</td>\n      <td>408114</td>\n      <td>0</td>\n      <td>0</td>\n      <td>7</td>\n      <td>0</td>\n      <td>2015-01-01</td>\n    </tr>\n  </tbody>\n</table>\n</div>"
     },
     "execution_count": 253,
     "metadata": {},
     "output_type": "execute_result"
    }
   ],
   "source": [
    "#pegando o primeiro registro para cada máqui, com a coluna flipper\n",
    "df.head()"
   ],
   "metadata": {
    "collapsed": false
   }
  },
  {
   "cell_type": "code",
   "execution_count": 254,
   "outputs": [
    {
     "data": {
      "text/plain": "        date    device  failure  attribute1  attribute2  attribute3  \\\n0 2015-01-01  S1F01085        0   215630672          56           0   \n1 2015-01-02  S1F01085        0     1650864          56           0   \n2 2015-01-03  S1F01085        0   124017368          56           0   \n3 2015-01-04  S1F01085        0   128073224          56           0   \n4 2015-01-05  S1F01085        0    97393448          56           0   \n\n   attribute4  attribute5  attribute6  attribute7  attribute8  attribute9  \\\n0          52           6      407438           0           0           7   \n1          52           6      407438           0           0           7   \n2          52           6      407438           0           0           7   \n3          52           6      407439           0           0           7   \n4          52           6      408114           0           0           7   \n\n   flipper start_date  time_since_start  too_soon  \n0        1 2015-01-01               0.0         1  \n1        0 2015-01-01               1.0         1  \n2        0 2015-01-01               2.0         1  \n3        0 2015-01-01               3.0         1  \n4        0 2015-01-01               4.0         1  ",
      "text/html": "<div>\n<style scoped>\n    .dataframe tbody tr th:only-of-type {\n        vertical-align: middle;\n    }\n\n    .dataframe tbody tr th {\n        vertical-align: top;\n    }\n\n    .dataframe thead th {\n        text-align: right;\n    }\n</style>\n<table border=\"1\" class=\"dataframe\">\n  <thead>\n    <tr style=\"text-align: right;\">\n      <th></th>\n      <th>date</th>\n      <th>device</th>\n      <th>failure</th>\n      <th>attribute1</th>\n      <th>attribute2</th>\n      <th>attribute3</th>\n      <th>attribute4</th>\n      <th>attribute5</th>\n      <th>attribute6</th>\n      <th>attribute7</th>\n      <th>attribute8</th>\n      <th>attribute9</th>\n      <th>flipper</th>\n      <th>start_date</th>\n      <th>time_since_start</th>\n      <th>too_soon</th>\n    </tr>\n  </thead>\n  <tbody>\n    <tr>\n      <th>0</th>\n      <td>2015-01-01</td>\n      <td>S1F01085</td>\n      <td>0</td>\n      <td>215630672</td>\n      <td>56</td>\n      <td>0</td>\n      <td>52</td>\n      <td>6</td>\n      <td>407438</td>\n      <td>0</td>\n      <td>0</td>\n      <td>7</td>\n      <td>1</td>\n      <td>2015-01-01</td>\n      <td>0.0</td>\n      <td>1</td>\n    </tr>\n    <tr>\n      <th>1</th>\n      <td>2015-01-02</td>\n      <td>S1F01085</td>\n      <td>0</td>\n      <td>1650864</td>\n      <td>56</td>\n      <td>0</td>\n      <td>52</td>\n      <td>6</td>\n      <td>407438</td>\n      <td>0</td>\n      <td>0</td>\n      <td>7</td>\n      <td>0</td>\n      <td>2015-01-01</td>\n      <td>1.0</td>\n      <td>1</td>\n    </tr>\n    <tr>\n      <th>2</th>\n      <td>2015-01-03</td>\n      <td>S1F01085</td>\n      <td>0</td>\n      <td>124017368</td>\n      <td>56</td>\n      <td>0</td>\n      <td>52</td>\n      <td>6</td>\n      <td>407438</td>\n      <td>0</td>\n      <td>0</td>\n      <td>7</td>\n      <td>0</td>\n      <td>2015-01-01</td>\n      <td>2.0</td>\n      <td>1</td>\n    </tr>\n    <tr>\n      <th>3</th>\n      <td>2015-01-04</td>\n      <td>S1F01085</td>\n      <td>0</td>\n      <td>128073224</td>\n      <td>56</td>\n      <td>0</td>\n      <td>52</td>\n      <td>6</td>\n      <td>407439</td>\n      <td>0</td>\n      <td>0</td>\n      <td>7</td>\n      <td>0</td>\n      <td>2015-01-01</td>\n      <td>3.0</td>\n      <td>1</td>\n    </tr>\n    <tr>\n      <th>4</th>\n      <td>2015-01-05</td>\n      <td>S1F01085</td>\n      <td>0</td>\n      <td>97393448</td>\n      <td>56</td>\n      <td>0</td>\n      <td>52</td>\n      <td>6</td>\n      <td>408114</td>\n      <td>0</td>\n      <td>0</td>\n      <td>7</td>\n      <td>0</td>\n      <td>2015-01-01</td>\n      <td>4.0</td>\n      <td>1</td>\n    </tr>\n  </tbody>\n</table>\n</div>"
     },
     "execution_count": 254,
     "metadata": {},
     "output_type": "execute_result"
    }
   ],
   "source": [
    "#Calcula o número de dias corridos para cada dispositivo até atingir 'window',\n",
    "df['count_days'] = df['date'] - df['start_date']\n",
    "df['time_since_start'] = df['count_days'] / np.timedelta64(1, 'D')\n",
    "df = df.drop(columns=['count_days'])\n",
    "# quando valor for 1, o histórico de monitoramento do dispositivo tem menos que 18 dias\n",
    "df['too_soon'] = np.where((df.time_since_start < window) , 1, 0)\n",
    "df.head()"
   ],
   "metadata": {
    "collapsed": false
   }
  },
  {
   "cell_type": "code",
   "execution_count": 255,
   "outputs": [
    {
     "data": {
      "text/plain": "        date    device  failure  attribute1  attribute2  attribute3  \\\n0 2015-01-01  S1F01085        0   215630672          56           0   \n1 2015-01-02  S1F01085        0     1650864          56           0   \n2 2015-01-03  S1F01085        0   124017368          56           0   \n3 2015-01-04  S1F01085        0   128073224          56           0   \n4 2015-01-05  S1F01085        0    97393448          56           0   \n\n   attribute4  attribute5  attribute6  attribute7  attribute9  flipper  \\\n0          52           6      407438           0           7        1   \n1          52           6      407438           0           7        0   \n2          52           6      407438           0           7        0   \n3          52           6      407439           0           7        0   \n4          52           6      408114           0           7        0   \n\n  start_date  time_since_start  too_soon  \n0 2015-01-01               0.0         1  \n1 2015-01-01               1.0         1  \n2 2015-01-01               2.0         1  \n3 2015-01-01               3.0         1  \n4 2015-01-01               4.0         1  ",
      "text/html": "<div>\n<style scoped>\n    .dataframe tbody tr th:only-of-type {\n        vertical-align: middle;\n    }\n\n    .dataframe tbody tr th {\n        vertical-align: top;\n    }\n\n    .dataframe thead th {\n        text-align: right;\n    }\n</style>\n<table border=\"1\" class=\"dataframe\">\n  <thead>\n    <tr style=\"text-align: right;\">\n      <th></th>\n      <th>date</th>\n      <th>device</th>\n      <th>failure</th>\n      <th>attribute1</th>\n      <th>attribute2</th>\n      <th>attribute3</th>\n      <th>attribute4</th>\n      <th>attribute5</th>\n      <th>attribute6</th>\n      <th>attribute7</th>\n      <th>attribute9</th>\n      <th>flipper</th>\n      <th>start_date</th>\n      <th>time_since_start</th>\n      <th>too_soon</th>\n    </tr>\n  </thead>\n  <tbody>\n    <tr>\n      <th>0</th>\n      <td>2015-01-01</td>\n      <td>S1F01085</td>\n      <td>0</td>\n      <td>215630672</td>\n      <td>56</td>\n      <td>0</td>\n      <td>52</td>\n      <td>6</td>\n      <td>407438</td>\n      <td>0</td>\n      <td>7</td>\n      <td>1</td>\n      <td>2015-01-01</td>\n      <td>0.0</td>\n      <td>1</td>\n    </tr>\n    <tr>\n      <th>1</th>\n      <td>2015-01-02</td>\n      <td>S1F01085</td>\n      <td>0</td>\n      <td>1650864</td>\n      <td>56</td>\n      <td>0</td>\n      <td>52</td>\n      <td>6</td>\n      <td>407438</td>\n      <td>0</td>\n      <td>7</td>\n      <td>0</td>\n      <td>2015-01-01</td>\n      <td>1.0</td>\n      <td>1</td>\n    </tr>\n    <tr>\n      <th>2</th>\n      <td>2015-01-03</td>\n      <td>S1F01085</td>\n      <td>0</td>\n      <td>124017368</td>\n      <td>56</td>\n      <td>0</td>\n      <td>52</td>\n      <td>6</td>\n      <td>407438</td>\n      <td>0</td>\n      <td>7</td>\n      <td>0</td>\n      <td>2015-01-01</td>\n      <td>2.0</td>\n      <td>1</td>\n    </tr>\n    <tr>\n      <th>3</th>\n      <td>2015-01-04</td>\n      <td>S1F01085</td>\n      <td>0</td>\n      <td>128073224</td>\n      <td>56</td>\n      <td>0</td>\n      <td>52</td>\n      <td>6</td>\n      <td>407439</td>\n      <td>0</td>\n      <td>7</td>\n      <td>0</td>\n      <td>2015-01-01</td>\n      <td>3.0</td>\n      <td>1</td>\n    </tr>\n    <tr>\n      <th>4</th>\n      <td>2015-01-05</td>\n      <td>S1F01085</td>\n      <td>0</td>\n      <td>97393448</td>\n      <td>56</td>\n      <td>0</td>\n      <td>52</td>\n      <td>6</td>\n      <td>408114</td>\n      <td>0</td>\n      <td>7</td>\n      <td>0</td>\n      <td>2015-01-01</td>\n      <td>4.0</td>\n      <td>1</td>\n    </tr>\n  </tbody>\n</table>\n</div>"
     },
     "execution_count": 255,
     "metadata": {},
     "output_type": "execute_result"
    }
   ],
   "source": [
    "#Drop da coluna attribute8 por ter correlação perfeita positiva com a attribute9\n",
    "df.drop('attribute8', axis=1, inplace=True)\n",
    "df.head()"
   ],
   "metadata": {
    "collapsed": false
   }
  },
  {
   "cell_type": "markdown",
   "source": [
    "## Oversamplig - gerando mais casos de falha para balanceamento das classes"
   ],
   "metadata": {
    "collapsed": false
   }
  },
  {
   "cell_type": "markdown",
   "source": [
    "No primeiro momento vou testar a janela encontrada com a moda da coluna de datas para falhas"
   ],
   "metadata": {
    "collapsed": false
   }
  },
  {
   "cell_type": "code",
   "execution_count": null,
   "outputs": [],
   "source": [],
   "metadata": {
    "collapsed": false
   }
  },
  {
   "cell_type": "markdown",
   "source": [
    "## Tranformação dos dados"
   ],
   "metadata": {
    "collapsed": false
   }
  },
  {
   "cell_type": "code",
   "execution_count": null,
   "outputs": [],
   "source": [],
   "metadata": {
    "collapsed": false
   }
  },
  {
   "cell_type": "markdown",
   "source": [],
   "metadata": {
    "collapsed": false
   }
  }
 ],
 "metadata": {
  "kernelspec": {
   "display_name": "Python 3",
   "language": "python",
   "name": "python3"
  },
  "language_info": {
   "codemirror_mode": {
    "name": "ipython",
    "version": 2
   },
   "file_extension": ".py",
   "mimetype": "text/x-python",
   "name": "python",
   "nbconvert_exporter": "python",
   "pygments_lexer": "ipython2",
   "version": "2.7.6"
  }
 },
 "nbformat": 4,
 "nbformat_minor": 0
}
