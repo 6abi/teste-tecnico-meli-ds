{
 "cells": [
  {
   "cell_type": "markdown",
   "source": [
    "<h1 style='color: green; font-size: 26px; font-weight: bold;'> 3. Previsão de falha <h1>"
   ],
   "metadata": {
    "collapsed": false
   }
  },
  {
   "cell_type": "markdown",
   "source": [
    "### Notebook 2\n",
    "1.  Pré Processamento II\n",
    "2. Feature engineering\n",
    "3. Modelagem\n",
    "4. Avaliação\n",
    "5. Modelo final\n",
    "6. Conclusão."
   ],
   "metadata": {
    "collapsed": false
   }
  },
  {
   "cell_type": "markdown",
   "source": [
    "<strong>Descripción</strong>\n",
    "<p>Los galpones de Full de mercado libre cuentan con una flota de dispositivos que transmiten\n",
    "diariamente telemetría agregada en varios atributos.\n",
    "Las técnicas de mantenimiento predictivo están diseñadas para ayudar a determinar la\n",
    "condición del equipo de mantenimiento en servicio para predecir cuándo se debe realizar el\n",
    "mantenimiento. Este enfoque promete ahorros de costos sobre el mantenimiento preventivo\n",
    "de rutina o basado en el tiempo porque las tareas se realizan solo cuando están justificadas.\n",
    "</p>\n",
    "\n",
    "<strong>Entregable</strong>\n",
    "<p>Tiene la tarea de generar una Jupyter notebook con un modelo predictivo para predecir la\n",
    "probabilidad de falla del dispositivo con el objetivo de bajar los costos del proceso. Como\n",
    "una referencia, una falla de un dispositivo tiene un costo de 1 mientras el costo de un\n",
    "mantenimiento es 0,5. El archivo \"full_devices.csv\" tiene los valores diários para los 9\n",
    "atributos de los dispositivos y la columna que está tratando de predecir se llama 'failure' con\n",
    "el valor binario 0 para no fallar y 1 para fallar\n",
    "</p>"
   ],
   "metadata": {
    "collapsed": false
   }
  },
  {
   "cell_type": "markdown",
   "source": [
    "# Carregando os dados"
   ],
   "metadata": {
    "collapsed": false
   },
   "outputs": [
    {
     "ename": "SyntaxError",
     "evalue": "invalid syntax (2920854292.py, line 1)",
     "output_type": "error",
     "traceback": [
      "\u001B[1;36m  Cell \u001B[1;32mIn[1], line 1\u001B[1;36m\u001B[0m\n\u001B[1;33m    Carregando os dados\u001B[0m\n\u001B[1;37m               ^\u001B[0m\n\u001B[1;31mSyntaxError\u001B[0m\u001B[1;31m:\u001B[0m invalid syntax\n"
     ]
    }
   ],
   "execution_count": 1
  },
  {
   "cell_type": "code",
   "execution_count": 58,
   "outputs": [],
   "source": [
    "import pandas as pd\n",
    "import os\n",
    "import seaborn as sns\n",
    "import matplotlib.pyplot as plt\n",
    "import numpy as np\n",
    "from imblearn.over_sampling import SMOTE\n",
    "from imblearn.over_sampling import SMOTENC"
   ],
   "metadata": {
    "collapsed": false
   }
  },
  {
   "cell_type": "code",
   "execution_count": 59,
   "outputs": [
    {
     "data": {
      "text/plain": "         date    device  failure  attribute1  attribute2  attribute3  \\\n0  2015-01-01  S1F01085        0   215630672          56           0   \n1  2015-01-01  S1F0166B        0    61370680           0           3   \n2  2015-01-01  S1F01E6Y        0   173295968           0           0   \n3  2015-01-01  S1F01JE0        0    79694024           0           0   \n4  2015-01-01  S1F01R2B        0   135970480           0           0   \n\n   attribute4  attribute5  attribute6  attribute7  attribute8  attribute9  \n0          52           6      407438           0           0           7  \n1           0           6      403174           0           0           0  \n2           0          12      237394           0           0           0  \n3           0           6      410186           0           0           0  \n4           0          15      313173           0           0           3  ",
      "text/html": "<div>\n<style scoped>\n    .dataframe tbody tr th:only-of-type {\n        vertical-align: middle;\n    }\n\n    .dataframe tbody tr th {\n        vertical-align: top;\n    }\n\n    .dataframe thead th {\n        text-align: right;\n    }\n</style>\n<table border=\"1\" class=\"dataframe\">\n  <thead>\n    <tr style=\"text-align: right;\">\n      <th></th>\n      <th>date</th>\n      <th>device</th>\n      <th>failure</th>\n      <th>attribute1</th>\n      <th>attribute2</th>\n      <th>attribute3</th>\n      <th>attribute4</th>\n      <th>attribute5</th>\n      <th>attribute6</th>\n      <th>attribute7</th>\n      <th>attribute8</th>\n      <th>attribute9</th>\n    </tr>\n  </thead>\n  <tbody>\n    <tr>\n      <th>0</th>\n      <td>2015-01-01</td>\n      <td>S1F01085</td>\n      <td>0</td>\n      <td>215630672</td>\n      <td>56</td>\n      <td>0</td>\n      <td>52</td>\n      <td>6</td>\n      <td>407438</td>\n      <td>0</td>\n      <td>0</td>\n      <td>7</td>\n    </tr>\n    <tr>\n      <th>1</th>\n      <td>2015-01-01</td>\n      <td>S1F0166B</td>\n      <td>0</td>\n      <td>61370680</td>\n      <td>0</td>\n      <td>3</td>\n      <td>0</td>\n      <td>6</td>\n      <td>403174</td>\n      <td>0</td>\n      <td>0</td>\n      <td>0</td>\n    </tr>\n    <tr>\n      <th>2</th>\n      <td>2015-01-01</td>\n      <td>S1F01E6Y</td>\n      <td>0</td>\n      <td>173295968</td>\n      <td>0</td>\n      <td>0</td>\n      <td>0</td>\n      <td>12</td>\n      <td>237394</td>\n      <td>0</td>\n      <td>0</td>\n      <td>0</td>\n    </tr>\n    <tr>\n      <th>3</th>\n      <td>2015-01-01</td>\n      <td>S1F01JE0</td>\n      <td>0</td>\n      <td>79694024</td>\n      <td>0</td>\n      <td>0</td>\n      <td>0</td>\n      <td>6</td>\n      <td>410186</td>\n      <td>0</td>\n      <td>0</td>\n      <td>0</td>\n    </tr>\n    <tr>\n      <th>4</th>\n      <td>2015-01-01</td>\n      <td>S1F01R2B</td>\n      <td>0</td>\n      <td>135970480</td>\n      <td>0</td>\n      <td>0</td>\n      <td>0</td>\n      <td>15</td>\n      <td>313173</td>\n      <td>0</td>\n      <td>0</td>\n      <td>3</td>\n    </tr>\n  </tbody>\n</table>\n</div>"
     },
     "execution_count": 59,
     "metadata": {},
     "output_type": "execute_result"
    }
   ],
   "source": [
    "dir_data = \"F:\\PycharmProjects\\DesaioMELI\\data\"\n",
    "df = pd.read_csv(dir_data+r'\\full_devices.csv', sep=',', encoding='ISO-8859-1')\n",
    "df.head()"
   ],
   "metadata": {
    "collapsed": false
   }
  },
  {
   "cell_type": "markdown",
   "source": [
    "coluna 'failure'\n",
    "1 = Equipamento falhou\n",
    "0 = Equipamento não falhou\n",
    "\n",
    "'device'\n",
    "equipamento monitorado\n",
    "\n",
    "'attribute1'\n",
    "pode ser algum código, não tenho certeza.\n"
   ],
   "metadata": {
    "collapsed": false
   }
  },
  {
   "cell_type": "code",
   "execution_count": 60,
   "outputs": [
    {
     "data": {
      "text/plain": "date             304\ndevice          1169\nfailure            2\nattribute1    123877\nattribute2       558\nattribute3        47\nattribute4       115\nattribute5        60\nattribute6     44838\nattribute7        28\nattribute8        28\nattribute9        65\ndtype: int64"
     },
     "execution_count": 60,
     "metadata": {},
     "output_type": "execute_result"
    }
   ],
   "source": [
    "df.nunique()"
   ],
   "metadata": {
    "collapsed": false
   }
  },
  {
   "cell_type": "code",
   "execution_count": 61,
   "outputs": [
    {
     "data": {
      "text/plain": "(1169, 11)"
     },
     "execution_count": 61,
     "metadata": {},
     "output_type": "execute_result"
    }
   ],
   "source": [
    "df.groupby(['device']).agg(['count']).shape"
   ],
   "metadata": {
    "collapsed": false
   }
  },
  {
   "cell_type": "code",
   "execution_count": 62,
   "outputs": [
    {
     "data": {
      "text/plain": "(304, 11)"
     },
     "execution_count": 62,
     "metadata": {},
     "output_type": "execute_result"
    }
   ],
   "source": [
    "df.groupby(['date']).agg(['count']).shape"
   ],
   "metadata": {
    "collapsed": false
   }
  },
  {
   "cell_type": "markdown",
   "source": [
    "# Pré processamento II"
   ],
   "metadata": {
    "collapsed": false
   }
  },
  {
   "cell_type": "code",
   "execution_count": 63,
   "outputs": [
    {
     "name": "stdout",
     "output_type": "stream",
     "text": [
      "<class 'pandas.core.frame.DataFrame'>\n",
      "RangeIndex: 124494 entries, 0 to 124493\n",
      "Data columns (total 12 columns):\n",
      " #   Column      Non-Null Count   Dtype         \n",
      "---  ------      --------------   -----         \n",
      " 0   date        124494 non-null  datetime64[ns]\n",
      " 1   device      124494 non-null  object        \n",
      " 2   failure     124494 non-null  int64         \n",
      " 3   attribute1  124494 non-null  int64         \n",
      " 4   attribute2  124494 non-null  int64         \n",
      " 5   attribute3  124494 non-null  int64         \n",
      " 6   attribute4  124494 non-null  int64         \n",
      " 7   attribute5  124494 non-null  int64         \n",
      " 8   attribute6  124494 non-null  int64         \n",
      " 9   attribute7  124494 non-null  int64         \n",
      " 10  attribute8  124494 non-null  int64         \n",
      " 11  attribute9  124494 non-null  int64         \n",
      "dtypes: datetime64[ns](1), int64(10), object(1)\n",
      "memory usage: 11.4+ MB\n"
     ]
    }
   ],
   "source": [
    "#Tranformando os tipos de dados\n",
    "df.date = pd.to_datetime(df.date, format='%Y-%m-%d')\n",
    "df.info()"
   ],
   "metadata": {
    "collapsed": false
   }
  },
  {
   "cell_type": "code",
   "execution_count": 64,
   "outputs": [],
   "source": [
    "df = df.drop_duplicates()"
   ],
   "metadata": {
    "collapsed": false
   }
  },
  {
   "cell_type": "markdown",
   "source": [
    "Eliminando o registro duplicado identificado no notebook 1"
   ],
   "metadata": {
    "collapsed": false
   }
  },
  {
   "cell_type": "code",
   "execution_count": 65,
   "outputs": [
    {
     "data": {
      "text/plain": "(124493, 12)"
     },
     "execution_count": 65,
     "metadata": {},
     "output_type": "execute_result"
    }
   ],
   "source": [
    "df.shape"
   ],
   "metadata": {
    "collapsed": false
   }
  },
  {
   "cell_type": "code",
   "execution_count": 66,
   "outputs": [
    {
     "data": {
      "text/plain": "failure\n0    124387\n1       106\nName: device, dtype: int64"
     },
     "execution_count": 66,
     "metadata": {},
     "output_type": "execute_result"
    }
   ],
   "source": [
    "df.groupby(['failure'])['device'].count()"
   ],
   "metadata": {
    "collapsed": false
   }
  },
  {
   "cell_type": "code",
   "execution_count": 67,
   "outputs": [
    {
     "name": "stdout",
     "output_type": "stream",
     "text": [
      "Percentual de falha: 0.00085%\n"
     ]
    }
   ],
   "source": [
    "#percentual de falha em 11 meses\n",
    "print('Percentual de falha: {:.5f}%'.format(df.groupby(['failure'])['device'].count().iloc[1] / df['device'].count()))"
   ],
   "metadata": {
    "collapsed": false
   }
  },
  {
   "cell_type": "code",
   "execution_count": 68,
   "outputs": [
    {
     "data": {
      "text/plain": "           date    device  failure  attribute1  attribute2  attribute3  \\\n0    2015-01-01  S1F01085        0   215630672          56           0   \n1163 2015-01-02  S1F01085        0     1650864          56           0   \n2326 2015-01-03  S1F01085        0   124017368          56           0   \n3489 2015-01-04  S1F01085        0   128073224          56           0   \n4651 2015-01-05  S1F01085        0    97393448          56           0   \n\n      attribute4  attribute5  attribute6  attribute7  attribute8  attribute9  \\\n0             52           6      407438           0           0           7   \n1163          52           6      407438           0           0           7   \n2326          52           6      407438           0           0           7   \n3489          52           6      407439           0           0           7   \n4651          52           6      408114           0           0           7   \n\n      flipper  \n0           1  \n1163        0  \n2326        0  \n3489        0  \n4651        0  ",
      "text/html": "<div>\n<style scoped>\n    .dataframe tbody tr th:only-of-type {\n        vertical-align: middle;\n    }\n\n    .dataframe tbody tr th {\n        vertical-align: top;\n    }\n\n    .dataframe thead th {\n        text-align: right;\n    }\n</style>\n<table border=\"1\" class=\"dataframe\">\n  <thead>\n    <tr style=\"text-align: right;\">\n      <th></th>\n      <th>date</th>\n      <th>device</th>\n      <th>failure</th>\n      <th>attribute1</th>\n      <th>attribute2</th>\n      <th>attribute3</th>\n      <th>attribute4</th>\n      <th>attribute5</th>\n      <th>attribute6</th>\n      <th>attribute7</th>\n      <th>attribute8</th>\n      <th>attribute9</th>\n      <th>flipper</th>\n    </tr>\n  </thead>\n  <tbody>\n    <tr>\n      <th>0</th>\n      <td>2015-01-01</td>\n      <td>S1F01085</td>\n      <td>0</td>\n      <td>215630672</td>\n      <td>56</td>\n      <td>0</td>\n      <td>52</td>\n      <td>6</td>\n      <td>407438</td>\n      <td>0</td>\n      <td>0</td>\n      <td>7</td>\n      <td>1</td>\n    </tr>\n    <tr>\n      <th>1163</th>\n      <td>2015-01-02</td>\n      <td>S1F01085</td>\n      <td>0</td>\n      <td>1650864</td>\n      <td>56</td>\n      <td>0</td>\n      <td>52</td>\n      <td>6</td>\n      <td>407438</td>\n      <td>0</td>\n      <td>0</td>\n      <td>7</td>\n      <td>0</td>\n    </tr>\n    <tr>\n      <th>2326</th>\n      <td>2015-01-03</td>\n      <td>S1F01085</td>\n      <td>0</td>\n      <td>124017368</td>\n      <td>56</td>\n      <td>0</td>\n      <td>52</td>\n      <td>6</td>\n      <td>407438</td>\n      <td>0</td>\n      <td>0</td>\n      <td>7</td>\n      <td>0</td>\n    </tr>\n    <tr>\n      <th>3489</th>\n      <td>2015-01-04</td>\n      <td>S1F01085</td>\n      <td>0</td>\n      <td>128073224</td>\n      <td>56</td>\n      <td>0</td>\n      <td>52</td>\n      <td>6</td>\n      <td>407439</td>\n      <td>0</td>\n      <td>0</td>\n      <td>7</td>\n      <td>0</td>\n    </tr>\n    <tr>\n      <th>4651</th>\n      <td>2015-01-05</td>\n      <td>S1F01085</td>\n      <td>0</td>\n      <td>97393448</td>\n      <td>56</td>\n      <td>0</td>\n      <td>52</td>\n      <td>6</td>\n      <td>408114</td>\n      <td>0</td>\n      <td>0</td>\n      <td>7</td>\n      <td>0</td>\n    </tr>\n  </tbody>\n</table>\n</div>"
     },
     "execution_count": 68,
     "metadata": {},
     "output_type": "execute_result"
    }
   ],
   "source": [
    "#ordenando o dataset por data e pelo device para posteriormente verificar o histórico até a falha\n",
    "df = df.sort_values(by=['device','date'], ascending=[True, True])\n",
    "df['flipper'] = np.where((df.device != df.device.shift(1)), 1, 0)\n",
    "df.head()"
   ],
   "metadata": {
    "collapsed": false
   }
  },
  {
   "cell_type": "markdown",
   "source": [
    "<strong>Pensando no oversampling, somente duplicar os dados pode gerar overfitting, pois existe um tempo de vida para cada dispositivo e um período de uso para falha, visto que não é um evento comum, então introduzir somente os registros de falhas, sem considerar os dados que antecem o evento resultará em um viés que acarretará em overfitting. O viés é inevitavél, mas o ideal é que acompanhe o comportamento dos dados.</strong>\n",
    "\n",
    "Dito isso, vou criar algumas features para obter essa informação de comportamento dos dados até a falha e com isso gerar os novos registros, além de tranformar os dados de colunas para melhor se adequarem a modelagem."
   ],
   "metadata": {
    "collapsed": false
   }
  },
  {
   "cell_type": "code",
   "execution_count": 69,
   "outputs": [],
   "source": [
    "#pega o 1º registro para cada dispositivo, com a coluna criada 'flipper'\n",
    "starter = df[df['flipper'] == 1]\n",
    "starter = starter[['date','device']]\n",
    "starter = starter.rename(index=str, columns={\"date\": \"start_date\"})\n",
    "starter['start_date'] = pd.to_datetime(starter['start_date'])"
   ],
   "metadata": {
    "collapsed": false
   }
  },
  {
   "cell_type": "code",
   "execution_count": 70,
   "outputs": [],
   "source": [
    "#Merge start_date com o dataset original, para marcar a data de inicio de monitoramento de cada dispositivo\n",
    "df = df.sort_values(by=['device', 'date'], ascending=[True, True])\n",
    "starter = starter.sort_values(by=['device'], ascending=[True])\n",
    "df = df.merge(starter, on=['device'], how='left')"
   ],
   "metadata": {
    "collapsed": false
   }
  },
  {
   "cell_type": "code",
   "execution_count": null,
   "outputs": [],
   "source": [
    "# Filtra registros dos dispositivos que tiveram falha em algum momento\n",
    "failured = df[df['failure'] == 1]\n",
    "all_failed_devices = df[df['device'].isin(df.loc[df['failure'] == 1, 'device'].unique())]\n",
    "\n",
    "#Dias até o evento de falha para cada distpositivo\n",
    "failured['tempo_ate_falha'] = failured['date'] - failured['date']\n"
   ],
   "metadata": {
    "collapsed": false
   }
  }
 ],
 "metadata": {
  "kernelspec": {
   "display_name": "Python 3",
   "language": "python",
   "name": "python3"
  },
  "language_info": {
   "codemirror_mode": {
    "name": "ipython",
    "version": 2
   },
   "file_extension": ".py",
   "mimetype": "text/x-python",
   "name": "python",
   "nbconvert_exporter": "python",
   "pygments_lexer": "ipython2",
   "version": "2.7.6"
  }
 },
 "nbformat": 4,
 "nbformat_minor": 0
}
