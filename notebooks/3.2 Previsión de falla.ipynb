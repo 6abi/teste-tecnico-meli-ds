{
 "cells": [
  {
   "cell_type": "markdown",
   "source": [
    "<h1 style='color: green; font-size: 26px; font-weight: bold;'> 3. Previsão de falha <h1>"
   ],
   "metadata": {
    "collapsed": false
   }
  },
  {
   "cell_type": "markdown",
   "source": [
    "### Notebook 2\n",
    "1.  Pré Processamento II\n",
    "2. Feature engineering\n",
    "3. Modelagem\n",
    "4. Avaliação\n",
    "5. Modelo final\n",
    "6. Avaliação do modelo e custo\n",
    "6. Conclusão."
   ],
   "metadata": {
    "collapsed": false
   }
  },
  {
   "cell_type": "markdown",
   "source": [
    "<strong>Descripción</strong>\n",
    "<p>Los galpones de Full de mercado libre cuentan con una flota de dispositivos que transmiten\n",
    "diariamente telemetría agregada en varios atributos.\n",
    "Las técnicas de mantenimiento predictivo están diseñadas para ayudar a determinar la\n",
    "condición del equipo de mantenimiento en servicio para predecir cuándo se debe realizar el\n",
    "mantenimiento. Este enfoque promete ahorros de costos sobre el mantenimiento preventivo\n",
    "de rutina o basado en el tiempo porque las tareas se realizan solo cuando están justificadas.\n",
    "</p>\n",
    "\n",
    "<strong>Entregable</strong>\n",
    "<p>Tiene la tarea de generar una Jupyter notebook con un modelo predictivo para predecir la\n",
    "probabilidad de falla del dispositivo con el objetivo de bajar los costos del proceso. Como\n",
    "una referencia, una falla de un dispositivo tiene un costo de 1 mientras el costo de un\n",
    "mantenimiento es 0,5. El archivo \"full_devices.csv\" tiene los valores diários para los 9\n",
    "atributos de los dispositivos y la columna que está tratando de predecir se llama 'failure' con\n",
    "el valor binario 0 para no fallar y 1 para fallar\n",
    "</p>"
   ],
   "metadata": {
    "collapsed": false
   }
  },
  {
   "cell_type": "markdown",
   "source": [
    "# Carregando os dados"
   ],
   "metadata": {
    "collapsed": false
   },
   "outputs": [
    {
     "ename": "SyntaxError",
     "evalue": "invalid syntax (2920854292.py, line 1)",
     "output_type": "error",
     "traceback": [
      "\u001B[1;36m  Cell \u001B[1;32mIn[1], line 1\u001B[1;36m\u001B[0m\n\u001B[1;33m    Carregando os dados\u001B[0m\n\u001B[1;37m               ^\u001B[0m\n\u001B[1;31mSyntaxError\u001B[0m\u001B[1;31m:\u001B[0m invalid syntax\n"
     ]
    }
   ],
   "execution_count": 1
  },
  {
   "cell_type": "code",
   "execution_count": 193,
   "outputs": [],
   "source": [
    "import pandas as pd\n",
    "import os\n",
    "import seaborn as sns\n",
    "import matplotlib.pyplot as plt\n",
    "import numpy as np\n",
    "from imblearn.over_sampling import SMOTE\n",
    "from imblearn.over_sampling import SMOTENC"
   ],
   "metadata": {
    "collapsed": false
   }
  },
  {
   "cell_type": "code",
   "execution_count": 194,
   "outputs": [
    {
     "data": {
      "text/plain": "         date    device  failure  attribute1  attribute2  attribute3  \\\n0  2015-01-01  S1F01085        0   215630672          56           0   \n1  2015-01-01  S1F0166B        0    61370680           0           3   \n2  2015-01-01  S1F01E6Y        0   173295968           0           0   \n3  2015-01-01  S1F01JE0        0    79694024           0           0   \n4  2015-01-01  S1F01R2B        0   135970480           0           0   \n\n   attribute4  attribute5  attribute6  attribute7  attribute8  attribute9  \n0          52           6      407438           0           0           7  \n1           0           6      403174           0           0           0  \n2           0          12      237394           0           0           0  \n3           0           6      410186           0           0           0  \n4           0          15      313173           0           0           3  ",
      "text/html": "<div>\n<style scoped>\n    .dataframe tbody tr th:only-of-type {\n        vertical-align: middle;\n    }\n\n    .dataframe tbody tr th {\n        vertical-align: top;\n    }\n\n    .dataframe thead th {\n        text-align: right;\n    }\n</style>\n<table border=\"1\" class=\"dataframe\">\n  <thead>\n    <tr style=\"text-align: right;\">\n      <th></th>\n      <th>date</th>\n      <th>device</th>\n      <th>failure</th>\n      <th>attribute1</th>\n      <th>attribute2</th>\n      <th>attribute3</th>\n      <th>attribute4</th>\n      <th>attribute5</th>\n      <th>attribute6</th>\n      <th>attribute7</th>\n      <th>attribute8</th>\n      <th>attribute9</th>\n    </tr>\n  </thead>\n  <tbody>\n    <tr>\n      <th>0</th>\n      <td>2015-01-01</td>\n      <td>S1F01085</td>\n      <td>0</td>\n      <td>215630672</td>\n      <td>56</td>\n      <td>0</td>\n      <td>52</td>\n      <td>6</td>\n      <td>407438</td>\n      <td>0</td>\n      <td>0</td>\n      <td>7</td>\n    </tr>\n    <tr>\n      <th>1</th>\n      <td>2015-01-01</td>\n      <td>S1F0166B</td>\n      <td>0</td>\n      <td>61370680</td>\n      <td>0</td>\n      <td>3</td>\n      <td>0</td>\n      <td>6</td>\n      <td>403174</td>\n      <td>0</td>\n      <td>0</td>\n      <td>0</td>\n    </tr>\n    <tr>\n      <th>2</th>\n      <td>2015-01-01</td>\n      <td>S1F01E6Y</td>\n      <td>0</td>\n      <td>173295968</td>\n      <td>0</td>\n      <td>0</td>\n      <td>0</td>\n      <td>12</td>\n      <td>237394</td>\n      <td>0</td>\n      <td>0</td>\n      <td>0</td>\n    </tr>\n    <tr>\n      <th>3</th>\n      <td>2015-01-01</td>\n      <td>S1F01JE0</td>\n      <td>0</td>\n      <td>79694024</td>\n      <td>0</td>\n      <td>0</td>\n      <td>0</td>\n      <td>6</td>\n      <td>410186</td>\n      <td>0</td>\n      <td>0</td>\n      <td>0</td>\n    </tr>\n    <tr>\n      <th>4</th>\n      <td>2015-01-01</td>\n      <td>S1F01R2B</td>\n      <td>0</td>\n      <td>135970480</td>\n      <td>0</td>\n      <td>0</td>\n      <td>0</td>\n      <td>15</td>\n      <td>313173</td>\n      <td>0</td>\n      <td>0</td>\n      <td>3</td>\n    </tr>\n  </tbody>\n</table>\n</div>"
     },
     "execution_count": 194,
     "metadata": {},
     "output_type": "execute_result"
    }
   ],
   "source": [
    "dir_data = \"F:\\PycharmProjects\\DesaioMELI\\data\"\n",
    "df = pd.read_csv(dir_data+r'\\full_devices.csv', sep=',', encoding='ISO-8859-1')\n",
    "df.head()"
   ],
   "metadata": {
    "collapsed": false
   }
  },
  {
   "cell_type": "markdown",
   "source": [
    "coluna 'failure'\n",
    "1 = Equipamento falhou\n",
    "0 = Equipamento não falhou\n",
    "\n",
    "'device'\n",
    "equipamento monitorado\n",
    "\n",
    "'attribute1'\n",
    "pode ser algum código, não tenho certeza.\n"
   ],
   "metadata": {
    "collapsed": false
   }
  },
  {
   "cell_type": "code",
   "execution_count": 195,
   "outputs": [
    {
     "data": {
      "text/plain": "date             304\ndevice          1169\nfailure            2\nattribute1    123877\nattribute2       558\nattribute3        47\nattribute4       115\nattribute5        60\nattribute6     44838\nattribute7        28\nattribute8        28\nattribute9        65\ndtype: int64"
     },
     "execution_count": 195,
     "metadata": {},
     "output_type": "execute_result"
    }
   ],
   "source": [
    "df.nunique()"
   ],
   "metadata": {
    "collapsed": false
   }
  },
  {
   "cell_type": "code",
   "execution_count": 196,
   "outputs": [
    {
     "data": {
      "text/plain": "(1169, 11)"
     },
     "execution_count": 196,
     "metadata": {},
     "output_type": "execute_result"
    }
   ],
   "source": [
    "df.groupby(['device']).agg(['count']).shape"
   ],
   "metadata": {
    "collapsed": false
   }
  },
  {
   "cell_type": "code",
   "execution_count": 197,
   "outputs": [
    {
     "data": {
      "text/plain": "(304, 11)"
     },
     "execution_count": 197,
     "metadata": {},
     "output_type": "execute_result"
    }
   ],
   "source": [
    "df.groupby(['date']).agg(['count']).shape"
   ],
   "metadata": {
    "collapsed": false
   }
  },
  {
   "cell_type": "code",
   "execution_count": 198,
   "outputs": [
    {
     "data": {
      "text/plain": "0    124388\n1       106\nName: failure, dtype: int64"
     },
     "execution_count": 198,
     "metadata": {},
     "output_type": "execute_result"
    }
   ],
   "source": [
    "df.failure.value_counts()"
   ],
   "metadata": {
    "collapsed": false
   }
  },
  {
   "cell_type": "code",
   "execution_count": 198,
   "outputs": [],
   "source": [],
   "metadata": {
    "collapsed": false
   }
  },
  {
   "cell_type": "markdown",
   "source": [
    "# Pré processamento II"
   ],
   "metadata": {
    "collapsed": false
   }
  },
  {
   "cell_type": "code",
   "execution_count": 199,
   "outputs": [
    {
     "name": "stdout",
     "output_type": "stream",
     "text": [
      "<class 'pandas.core.frame.DataFrame'>\n",
      "RangeIndex: 124494 entries, 0 to 124493\n",
      "Data columns (total 12 columns):\n",
      " #   Column      Non-Null Count   Dtype         \n",
      "---  ------      --------------   -----         \n",
      " 0   date        124494 non-null  datetime64[ns]\n",
      " 1   device      124494 non-null  object        \n",
      " 2   failure     124494 non-null  int64         \n",
      " 3   attribute1  124494 non-null  int64         \n",
      " 4   attribute2  124494 non-null  int64         \n",
      " 5   attribute3  124494 non-null  int64         \n",
      " 6   attribute4  124494 non-null  int64         \n",
      " 7   attribute5  124494 non-null  int64         \n",
      " 8   attribute6  124494 non-null  int64         \n",
      " 9   attribute7  124494 non-null  int64         \n",
      " 10  attribute8  124494 non-null  int64         \n",
      " 11  attribute9  124494 non-null  int64         \n",
      "dtypes: datetime64[ns](1), int64(10), object(1)\n",
      "memory usage: 11.4+ MB\n"
     ]
    }
   ],
   "source": [
    "#Tranformando os tipos de dados\n",
    "df.date = pd.to_datetime(df.date, format='%Y-%m-%d')\n",
    "df.info()"
   ],
   "metadata": {
    "collapsed": false
   }
  },
  {
   "cell_type": "code",
   "execution_count": 200,
   "outputs": [
    {
     "data": {
      "text/plain": "0    92179\n1       79\nName: failure, dtype: int64"
     },
     "execution_count": 200,
     "metadata": {},
     "output_type": "execute_result"
    }
   ],
   "source": [
    "ini_date = pd.to_datetime(df['date'][0])\n",
    "end_date = ini_date + pd.Timedelta(days=163)\n",
    "df = df[df.date <= end_date]\n",
    "df.failure.value_counts()"
   ],
   "metadata": {
    "collapsed": false
   }
  },
  {
   "cell_type": "code",
   "execution_count": 201,
   "outputs": [],
   "source": [
    "# Eliminando o registro duplicado identificado no notebook 1\n",
    "df = df.drop_duplicates()"
   ],
   "metadata": {
    "collapsed": false
   }
  },
  {
   "cell_type": "markdown",
   "source": [],
   "metadata": {
    "collapsed": false
   }
  },
  {
   "cell_type": "code",
   "execution_count": 202,
   "outputs": [
    {
     "data": {
      "text/plain": "(92258, 12)"
     },
     "execution_count": 202,
     "metadata": {},
     "output_type": "execute_result"
    }
   ],
   "source": [
    "df.shape"
   ],
   "metadata": {
    "collapsed": false
   }
  },
  {
   "cell_type": "code",
   "execution_count": 203,
   "outputs": [
    {
     "data": {
      "text/plain": "failure\n0    92179\n1       79\nName: device, dtype: int64"
     },
     "execution_count": 203,
     "metadata": {},
     "output_type": "execute_result"
    }
   ],
   "source": [
    "df.groupby(['failure'])['device'].count()"
   ],
   "metadata": {
    "collapsed": false
   }
  },
  {
   "cell_type": "code",
   "execution_count": 204,
   "outputs": [
    {
     "name": "stdout",
     "output_type": "stream",
     "text": [
      "Percentual de falha: 0.00086%\n"
     ]
    }
   ],
   "source": [
    "#percentual de falha em 11 meses\n",
    "print('Percentual de falha: {:.5f}%'.format(df.groupby(['failure'])['device'].count().iloc[1] / df['device'].count()))"
   ],
   "metadata": {
    "collapsed": false
   }
  },
  {
   "cell_type": "code",
   "execution_count": 205,
   "outputs": [
    {
     "data": {
      "text/plain": "           date    device  failure  attribute1  attribute2  attribute3  \\\n0    2015-01-01  S1F01085        0   215630672          56           0   \n1163 2015-01-02  S1F01085        0     1650864          56           0   \n2326 2015-01-03  S1F01085        0   124017368          56           0   \n3489 2015-01-04  S1F01085        0   128073224          56           0   \n4651 2015-01-05  S1F01085        0    97393448          56           0   \n\n      attribute4  attribute5  attribute6  attribute7  attribute8  attribute9  \\\n0             52           6      407438           0           0           7   \n1163          52           6      407438           0           0           7   \n2326          52           6      407438           0           0           7   \n3489          52           6      407439           0           0           7   \n4651          52           6      408114           0           0           7   \n\n      flipper  \n0           1  \n1163        0  \n2326        0  \n3489        0  \n4651        0  ",
      "text/html": "<div>\n<style scoped>\n    .dataframe tbody tr th:only-of-type {\n        vertical-align: middle;\n    }\n\n    .dataframe tbody tr th {\n        vertical-align: top;\n    }\n\n    .dataframe thead th {\n        text-align: right;\n    }\n</style>\n<table border=\"1\" class=\"dataframe\">\n  <thead>\n    <tr style=\"text-align: right;\">\n      <th></th>\n      <th>date</th>\n      <th>device</th>\n      <th>failure</th>\n      <th>attribute1</th>\n      <th>attribute2</th>\n      <th>attribute3</th>\n      <th>attribute4</th>\n      <th>attribute5</th>\n      <th>attribute6</th>\n      <th>attribute7</th>\n      <th>attribute8</th>\n      <th>attribute9</th>\n      <th>flipper</th>\n    </tr>\n  </thead>\n  <tbody>\n    <tr>\n      <th>0</th>\n      <td>2015-01-01</td>\n      <td>S1F01085</td>\n      <td>0</td>\n      <td>215630672</td>\n      <td>56</td>\n      <td>0</td>\n      <td>52</td>\n      <td>6</td>\n      <td>407438</td>\n      <td>0</td>\n      <td>0</td>\n      <td>7</td>\n      <td>1</td>\n    </tr>\n    <tr>\n      <th>1163</th>\n      <td>2015-01-02</td>\n      <td>S1F01085</td>\n      <td>0</td>\n      <td>1650864</td>\n      <td>56</td>\n      <td>0</td>\n      <td>52</td>\n      <td>6</td>\n      <td>407438</td>\n      <td>0</td>\n      <td>0</td>\n      <td>7</td>\n      <td>0</td>\n    </tr>\n    <tr>\n      <th>2326</th>\n      <td>2015-01-03</td>\n      <td>S1F01085</td>\n      <td>0</td>\n      <td>124017368</td>\n      <td>56</td>\n      <td>0</td>\n      <td>52</td>\n      <td>6</td>\n      <td>407438</td>\n      <td>0</td>\n      <td>0</td>\n      <td>7</td>\n      <td>0</td>\n    </tr>\n    <tr>\n      <th>3489</th>\n      <td>2015-01-04</td>\n      <td>S1F01085</td>\n      <td>0</td>\n      <td>128073224</td>\n      <td>56</td>\n      <td>0</td>\n      <td>52</td>\n      <td>6</td>\n      <td>407439</td>\n      <td>0</td>\n      <td>0</td>\n      <td>7</td>\n      <td>0</td>\n    </tr>\n    <tr>\n      <th>4651</th>\n      <td>2015-01-05</td>\n      <td>S1F01085</td>\n      <td>0</td>\n      <td>97393448</td>\n      <td>56</td>\n      <td>0</td>\n      <td>52</td>\n      <td>6</td>\n      <td>408114</td>\n      <td>0</td>\n      <td>0</td>\n      <td>7</td>\n      <td>0</td>\n    </tr>\n  </tbody>\n</table>\n</div>"
     },
     "execution_count": 205,
     "metadata": {},
     "output_type": "execute_result"
    }
   ],
   "source": [
    "#ordenando o dataset por data e pelo device para posteriormente verificar o histórico até a falha\n",
    "df = df.sort_values(by=['device','date'], ascending=[True, True])\n",
    "df['flipper'] = np.where((df.device != df.device.shift(1)), 1, 0)\n",
    "df.head()"
   ],
   "metadata": {
    "collapsed": false
   }
  },
  {
   "cell_type": "markdown",
   "source": [
    "<strong>Pensando no oversampling, somente duplicar os dados pode gerar overfitting, pois existe um tempo de vida para cada dispositivo e um período de uso para falha, visto que não é um evento comum, então introduzir somente os registros de falhas, sem considerar os dados que antecem o evento resultará em um viés que acarretará em overfitting. O viés é inevitavél, mas o ideal é que acompanhe o comportamento dos dados.</strong>\n",
    "\n",
    "Dito isso, vou criar algumas features para obter essa informação de comportamento dos dados até a falha e com isso gerar os novos registros, além de tranformar os dados de colunas para melhor se adequarem a modelagem."
   ],
   "metadata": {
    "collapsed": false
   }
  },
  {
   "cell_type": "code",
   "execution_count": 206,
   "outputs": [],
   "source": [
    "#pega o 1º registro para cada dispositivo, com a coluna criada 'flipper'\n",
    "starter = df[df['flipper'] == 1]\n",
    "starter = starter[['date','device']]\n",
    "starter = starter.rename(index=str, columns={\"date\": \"start_date\"})\n",
    "starter['start_date'] = pd.to_datetime(starter['start_date'])"
   ],
   "metadata": {
    "collapsed": false
   }
  },
  {
   "cell_type": "code",
   "execution_count": 207,
   "outputs": [],
   "source": [
    "#Merge start_date com o dataset original, para marcar a data de inicio de monitoramento de cada dispositivo\n",
    "df = df.sort_values(by=['device', 'date'], ascending=[True, True])\n",
    "starter = starter.sort_values(by=['device'], ascending=[True])\n",
    "df = df.merge(starter, on=['device'], how='left')"
   ],
   "metadata": {
    "collapsed": false
   }
  },
  {
   "cell_type": "code",
   "execution_count": 208,
   "outputs": [
    {
     "data": {
      "text/plain": "date        start_date\n2015-01-05  2015-01-01    1\n2015-01-07  2015-01-01    1\n2015-01-09  2015-01-01    1\n2015-01-13  2015-01-01    1\n2015-01-14  2015-01-01    1\n2015-01-17  2015-01-01    1\n2015-01-18  2015-01-01    1\n2015-01-19  2015-01-01    8\n2015-01-20  2015-01-01    1\n2015-01-22  2015-01-01    1\n2015-01-23  2015-01-01    2\n2015-01-26  2015-01-01    1\n2015-01-27  2015-01-01    1\n2015-01-28  2015-01-01    1\n2015-01-29  2015-01-01    2\n2015-02-02  2015-01-01    2\n2015-02-04  2015-01-01    3\n2015-02-05  2015-01-01    1\n2015-02-09  2015-01-01    2\n2015-02-14  2015-01-01    1\n2015-02-18  2015-01-01    1\n2015-02-19  2015-01-01    1\n2015-02-21  2015-01-01    1\n2015-02-23  2015-01-01    1\n2015-02-27  2015-01-01    1\n2015-03-04  2015-01-01    1\n2015-03-05  2015-01-01    1\n2015-03-17  2015-01-01    2\n2015-03-19  2015-01-01    2\n2015-03-24  2015-01-01    2\n2015-03-25  2015-01-01    1\n2015-04-03  2015-01-01    1\n2015-04-06  2015-01-01    1\n2015-04-09  2015-01-01    1\n2015-04-17  2015-01-01    1\n2015-04-20  2015-01-01    1\n2015-04-21  2015-01-01    1\n2015-04-27  2015-01-01    1\n2015-04-28  2015-01-01    1\n2015-04-30  2015-01-01    1\n2015-05-04  2015-01-01    1\n2015-05-05  2015-01-01    2\n2015-05-07  2015-01-01    2\n2015-05-08  2015-01-01    3\n2015-05-09  2015-01-01    2\n2015-05-12  2015-01-01    1\n2015-05-13  2015-01-01    2\n2015-05-18  2015-01-01    1\n2015-05-19  2015-01-01    1\n2015-05-20  2015-01-01    2\n2015-05-21  2015-01-01    2\n2015-05-28  2015-01-01    2\n2015-06-10  2015-01-01    1\n2015-06-11  2015-01-01    1\nName: device, dtype: int64"
     },
     "execution_count": 208,
     "metadata": {},
     "output_type": "execute_result"
    }
   ],
   "source": [
    "df[df['failure'] == 1].groupby(['date','start_date'])['device'].count()"
   ],
   "metadata": {
    "collapsed": false
   }
  },
  {
   "cell_type": "code",
   "execution_count": 209,
   "outputs": [],
   "source": [
    "# Calcula os dias até a falha para cada dispositivo, contando a partir do momento que se iniciou a monitoria do dispositivo\n",
    "#Isso irá servir para encontrar o valor do ciclo para usar como janela no agrupamento\n",
    "devices = df['device'].unique()\n",
    "failure_record = []\n",
    "no_failured = []\n",
    "for device in devices:\n",
    "    start_date = df.loc[(df['device'] == device) & (df['flipper'] == 1), 'date'].iloc[0]\n",
    "    falhas_dispositivo = df.loc[(df['device'] == device) & (df['failure'] == 1), 'date']\n",
    "    if not falhas_dispositivo.empty:\n",
    "        data_falha = falhas_dispositivo.min()\n",
    "        dias_decorridos = (data_falha - start_date).days\n",
    "        failure_record.append({\n",
    "            'device': device,\n",
    "            'count_days': dias_decorridos,\n",
    "            'start_date': start_date,\n",
    "            'failure_date': data_falha.date()\n",
    "        })\n",
    "    else:\n",
    "        no_failured.append({\n",
    "            'device': device,\n",
    "            'start_date': start_date,\n",
    "        })"
   ],
   "metadata": {
    "collapsed": false
   }
  },
  {
   "cell_type": "code",
   "execution_count": 210,
   "outputs": [],
   "source": [
    "#Dataframe com os dispositivos que falharam e outro com os que não falharam\n",
    "df_failured_record = pd.DataFrame(failure_record).sort_values(by='failure_date').reset_index(drop=True)\n",
    "df_non_failured_record = pd.DataFrame(no_failured).sort_values(by='start_date').reset_index(drop=True)"
   ],
   "metadata": {
    "collapsed": false
   }
  },
  {
   "cell_type": "code",
   "execution_count": 211,
   "outputs": [
    {
     "data": {
      "text/plain": "        device start_date\n0     S1F01085 2015-01-01\n1     W1F0X5TL 2015-01-01\n2     W1F0X5VA 2015-01-01\n3     W1F0X60T 2015-01-01\n4     W1F0X6CF 2015-01-01\n...        ...        ...\n1085  S1F02W1L 2015-05-06\n1086  S1F02XLX 2015-05-06\n1087  S1F013BB 2015-05-06\n1088  S1F03499 2015-05-06\n1089  W1F1DA5ÿ 2015-06-13\n\n[1090 rows x 2 columns]",
      "text/html": "<div>\n<style scoped>\n    .dataframe tbody tr th:only-of-type {\n        vertical-align: middle;\n    }\n\n    .dataframe tbody tr th {\n        vertical-align: top;\n    }\n\n    .dataframe thead th {\n        text-align: right;\n    }\n</style>\n<table border=\"1\" class=\"dataframe\">\n  <thead>\n    <tr style=\"text-align: right;\">\n      <th></th>\n      <th>device</th>\n      <th>start_date</th>\n    </tr>\n  </thead>\n  <tbody>\n    <tr>\n      <th>0</th>\n      <td>S1F01085</td>\n      <td>2015-01-01</td>\n    </tr>\n    <tr>\n      <th>1</th>\n      <td>W1F0X5TL</td>\n      <td>2015-01-01</td>\n    </tr>\n    <tr>\n      <th>2</th>\n      <td>W1F0X5VA</td>\n      <td>2015-01-01</td>\n    </tr>\n    <tr>\n      <th>3</th>\n      <td>W1F0X60T</td>\n      <td>2015-01-01</td>\n    </tr>\n    <tr>\n      <th>4</th>\n      <td>W1F0X6CF</td>\n      <td>2015-01-01</td>\n    </tr>\n    <tr>\n      <th>...</th>\n      <td>...</td>\n      <td>...</td>\n    </tr>\n    <tr>\n      <th>1085</th>\n      <td>S1F02W1L</td>\n      <td>2015-05-06</td>\n    </tr>\n    <tr>\n      <th>1086</th>\n      <td>S1F02XLX</td>\n      <td>2015-05-06</td>\n    </tr>\n    <tr>\n      <th>1087</th>\n      <td>S1F013BB</td>\n      <td>2015-05-06</td>\n    </tr>\n    <tr>\n      <th>1088</th>\n      <td>S1F03499</td>\n      <td>2015-05-06</td>\n    </tr>\n    <tr>\n      <th>1089</th>\n      <td>W1F1DA5ÿ</td>\n      <td>2015-06-13</td>\n    </tr>\n  </tbody>\n</table>\n<p>1090 rows × 2 columns</p>\n</div>"
     },
     "execution_count": 211,
     "metadata": {},
     "output_type": "execute_result"
    }
   ],
   "source": [
    "df_non_failured_record"
   ],
   "metadata": {
    "collapsed": false
   }
  },
  {
   "cell_type": "code",
   "execution_count": 212,
   "outputs": [
    {
     "data": {
      "text/plain": "      device  count_days start_date failure_date\n0   S1F0RRB1           4 2015-01-01   2015-01-05\n1   S1F0CTDN           6 2015-01-01   2015-01-07\n2   W1F0PNA5           8 2015-01-01   2015-01-09\n3   W1F13SRV          12 2015-01-01   2015-01-13\n4   W1F1230J          13 2015-01-01   2015-01-14\n..       ...         ...        ...          ...\n74  W1F0WBTM         140 2015-01-01   2015-05-21\n75  S1F0QF3R         147 2015-01-01   2015-05-28\n76  S1F0GSD9         147 2015-01-01   2015-05-28\n77  W1F0Z3KR         160 2015-01-01   2015-06-10\n78  W1F0M4BZ         161 2015-01-01   2015-06-11\n\n[79 rows x 4 columns]",
      "text/html": "<div>\n<style scoped>\n    .dataframe tbody tr th:only-of-type {\n        vertical-align: middle;\n    }\n\n    .dataframe tbody tr th {\n        vertical-align: top;\n    }\n\n    .dataframe thead th {\n        text-align: right;\n    }\n</style>\n<table border=\"1\" class=\"dataframe\">\n  <thead>\n    <tr style=\"text-align: right;\">\n      <th></th>\n      <th>device</th>\n      <th>count_days</th>\n      <th>start_date</th>\n      <th>failure_date</th>\n    </tr>\n  </thead>\n  <tbody>\n    <tr>\n      <th>0</th>\n      <td>S1F0RRB1</td>\n      <td>4</td>\n      <td>2015-01-01</td>\n      <td>2015-01-05</td>\n    </tr>\n    <tr>\n      <th>1</th>\n      <td>S1F0CTDN</td>\n      <td>6</td>\n      <td>2015-01-01</td>\n      <td>2015-01-07</td>\n    </tr>\n    <tr>\n      <th>2</th>\n      <td>W1F0PNA5</td>\n      <td>8</td>\n      <td>2015-01-01</td>\n      <td>2015-01-09</td>\n    </tr>\n    <tr>\n      <th>3</th>\n      <td>W1F13SRV</td>\n      <td>12</td>\n      <td>2015-01-01</td>\n      <td>2015-01-13</td>\n    </tr>\n    <tr>\n      <th>4</th>\n      <td>W1F1230J</td>\n      <td>13</td>\n      <td>2015-01-01</td>\n      <td>2015-01-14</td>\n    </tr>\n    <tr>\n      <th>...</th>\n      <td>...</td>\n      <td>...</td>\n      <td>...</td>\n      <td>...</td>\n    </tr>\n    <tr>\n      <th>74</th>\n      <td>W1F0WBTM</td>\n      <td>140</td>\n      <td>2015-01-01</td>\n      <td>2015-05-21</td>\n    </tr>\n    <tr>\n      <th>75</th>\n      <td>S1F0QF3R</td>\n      <td>147</td>\n      <td>2015-01-01</td>\n      <td>2015-05-28</td>\n    </tr>\n    <tr>\n      <th>76</th>\n      <td>S1F0GSD9</td>\n      <td>147</td>\n      <td>2015-01-01</td>\n      <td>2015-05-28</td>\n    </tr>\n    <tr>\n      <th>77</th>\n      <td>W1F0Z3KR</td>\n      <td>160</td>\n      <td>2015-01-01</td>\n      <td>2015-06-10</td>\n    </tr>\n    <tr>\n      <th>78</th>\n      <td>W1F0M4BZ</td>\n      <td>161</td>\n      <td>2015-01-01</td>\n      <td>2015-06-11</td>\n    </tr>\n  </tbody>\n</table>\n<p>79 rows × 4 columns</p>\n</div>"
     },
     "execution_count": 212,
     "metadata": {},
     "output_type": "execute_result"
    }
   ],
   "source": [
    "df_failured_record"
   ],
   "metadata": {
    "collapsed": false
   }
  },
  {
   "cell_type": "code",
   "execution_count": 213,
   "outputs": [
    {
     "data": {
      "text/plain": "<Figure size 600x400 with 1 Axes>",
      "image/png": "[encoded data removed]"
     },
     "metadata": {},
     "output_type": "display_data"
    }
   ],
   "source": [
    "plt.figure(figsize=(6,4))\n",
    "sns.boxplot(x= 'start_date',y='count_days',data=df_failured_record)\n",
    "plt.show()"
   ],
   "metadata": {
    "collapsed": false
   }
  },
  {
   "cell_type": "code",
   "execution_count": 214,
   "outputs": [
    {
     "data": {
      "text/plain": "array([[<Axes: title={'center': 'count_days'}>,\n        <Axes: title={'center': 'start_date'}>]], dtype=object)"
     },
     "execution_count": 214,
     "metadata": {},
     "output_type": "execute_result"
    },
    {
     "data": {
      "text/plain": "<Figure size 1000x200 with 2 Axes>",
      "image/png": "[encoded data removed]"
     },
     "metadata": {},
     "output_type": "display_data"
    }
   ],
   "source": [
    "#Distribuição dos dispositivos que falharam em dias corrido a partir do inicio da monitoria de cada um\n",
    "ax = df_failured_record.hist(bins=100, figsize=(10,2))\n",
    "ax"
   ],
   "metadata": {
    "collapsed": false
   }
  },
  {
   "cell_type": "code",
   "execution_count": 215,
   "outputs": [
    {
     "data": {
      "text/plain": "       count_days\ncount   79.000000\nmean    72.911392\nstd     49.369406\nmin      4.000000\n25%     25.500000\n50%     63.000000\n75%    125.000000\nmax    161.000000",
      "text/html": "<div>\n<style scoped>\n    .dataframe tbody tr th:only-of-type {\n        vertical-align: middle;\n    }\n\n    .dataframe tbody tr th {\n        vertical-align: top;\n    }\n\n    .dataframe thead th {\n        text-align: right;\n    }\n</style>\n<table border=\"1\" class=\"dataframe\">\n  <thead>\n    <tr style=\"text-align: right;\">\n      <th></th>\n      <th>count_days</th>\n    </tr>\n  </thead>\n  <tbody>\n    <tr>\n      <th>count</th>\n      <td>79.000000</td>\n    </tr>\n    <tr>\n      <th>mean</th>\n      <td>72.911392</td>\n    </tr>\n    <tr>\n      <th>std</th>\n      <td>49.369406</td>\n    </tr>\n    <tr>\n      <th>min</th>\n      <td>4.000000</td>\n    </tr>\n    <tr>\n      <th>25%</th>\n      <td>25.500000</td>\n    </tr>\n    <tr>\n      <th>50%</th>\n      <td>63.000000</td>\n    </tr>\n    <tr>\n      <th>75%</th>\n      <td>125.000000</td>\n    </tr>\n    <tr>\n      <th>max</th>\n      <td>161.000000</td>\n    </tr>\n  </tbody>\n</table>\n</div>"
     },
     "execution_count": 215,
     "metadata": {},
     "output_type": "execute_result"
    }
   ],
   "source": [
    "df_failured_record.describe()"
   ],
   "metadata": {
    "collapsed": false
   }
  },
  {
   "cell_type": "code",
   "execution_count": 216,
   "outputs": [
    {
     "data": {
      "text/plain": "      device  count_days start_date failure_date\n0   S1F023H2        18.0 2015-01-01   2015-01-19\n1   S1F0CTDN         NaN        NaT          NaN\n2   S1F0DSTY         NaN        NaT          NaN\n3   S1F0F4EB         NaN        NaT          NaN\n4   S1F0GG8X         NaN        NaT          NaN\n..       ...         ...        ...          ...\n74  Z1F1653X         NaN        NaT          NaN\n75  Z1F1901P         NaN        NaT          NaN\n76  Z1F1AG5N         NaN        NaT          NaN\n77  Z1F1FCH5         NaN        NaT          NaN\n78  Z1F1RJFA         NaN        NaT          NaN\n\n[79 rows x 4 columns]",
      "text/html": "<div>\n<style scoped>\n    .dataframe tbody tr th:only-of-type {\n        vertical-align: middle;\n    }\n\n    .dataframe tbody tr th {\n        vertical-align: top;\n    }\n\n    .dataframe thead th {\n        text-align: right;\n    }\n</style>\n<table border=\"1\" class=\"dataframe\">\n  <thead>\n    <tr style=\"text-align: right;\">\n      <th></th>\n      <th>device</th>\n      <th>count_days</th>\n      <th>start_date</th>\n      <th>failure_date</th>\n    </tr>\n  </thead>\n  <tbody>\n    <tr>\n      <th>0</th>\n      <td>S1F023H2</td>\n      <td>18.0</td>\n      <td>2015-01-01</td>\n      <td>2015-01-19</td>\n    </tr>\n    <tr>\n      <th>1</th>\n      <td>S1F0CTDN</td>\n      <td>NaN</td>\n      <td>NaT</td>\n      <td>NaN</td>\n    </tr>\n    <tr>\n      <th>2</th>\n      <td>S1F0DSTY</td>\n      <td>NaN</td>\n      <td>NaT</td>\n      <td>NaN</td>\n    </tr>\n    <tr>\n      <th>3</th>\n      <td>S1F0F4EB</td>\n      <td>NaN</td>\n      <td>NaT</td>\n      <td>NaN</td>\n    </tr>\n    <tr>\n      <th>4</th>\n      <td>S1F0GG8X</td>\n      <td>NaN</td>\n      <td>NaT</td>\n      <td>NaN</td>\n    </tr>\n    <tr>\n      <th>...</th>\n      <td>...</td>\n      <td>...</td>\n      <td>...</td>\n      <td>...</td>\n    </tr>\n    <tr>\n      <th>74</th>\n      <td>Z1F1653X</td>\n      <td>NaN</td>\n      <td>NaT</td>\n      <td>NaN</td>\n    </tr>\n    <tr>\n      <th>75</th>\n      <td>Z1F1901P</td>\n      <td>NaN</td>\n      <td>NaT</td>\n      <td>NaN</td>\n    </tr>\n    <tr>\n      <th>76</th>\n      <td>Z1F1AG5N</td>\n      <td>NaN</td>\n      <td>NaT</td>\n      <td>NaN</td>\n    </tr>\n    <tr>\n      <th>77</th>\n      <td>Z1F1FCH5</td>\n      <td>NaN</td>\n      <td>NaT</td>\n      <td>NaN</td>\n    </tr>\n    <tr>\n      <th>78</th>\n      <td>Z1F1RJFA</td>\n      <td>NaN</td>\n      <td>NaT</td>\n      <td>NaN</td>\n    </tr>\n  </tbody>\n</table>\n<p>79 rows × 4 columns</p>\n</div>"
     },
     "execution_count": 216,
     "metadata": {},
     "output_type": "execute_result"
    }
   ],
   "source": [
    "#mediana\n",
    "df_failured_record.mode()"
   ],
   "metadata": {
    "collapsed": false
   }
  },
  {
   "cell_type": "code",
   "execution_count": 217,
   "outputs": [
    {
     "data": {
      "text/plain": "failure_date\n2015-01-19    8\n2015-02-04    3\n2015-05-08    3\n2015-03-17    2\n2015-05-09    2\n2015-03-24    2\n2015-03-19    2\n2015-05-05    2\n2015-02-09    2\n2015-05-07    2\n2015-01-29    2\n2015-02-02    2\n2015-05-13    2\n2015-05-28    2\n2015-05-20    2\n2015-05-21    2\n2015-01-23    2\n2015-05-12    1\n2015-04-21    1\n2015-06-10    1\n2015-04-09    1\n2015-04-17    1\n2015-04-20    1\n2015-04-30    1\n2015-04-27    1\n2015-04-28    1\n2015-05-04    1\n2015-05-19    1\n2015-05-18    1\n2015-04-03    1\n2015-04-06    1\n2015-01-05    1\n2015-03-25    1\n2015-01-07    1\n2015-01-09    1\n2015-01-13    1\n2015-01-14    1\n2015-01-17    1\n2015-01-18    1\n2015-01-20    1\n2015-01-22    1\n2015-01-26    1\n2015-01-27    1\n2015-01-28    1\n2015-02-05    1\n2015-02-14    1\n2015-02-18    1\n2015-02-19    1\n2015-02-21    1\n2015-02-23    1\n2015-02-27    1\n2015-03-04    1\n2015-03-05    1\n2015-06-11    1\nName: device, dtype: int64"
     },
     "execution_count": 217,
     "metadata": {},
     "output_type": "execute_result"
    }
   ],
   "source": [
    "#Falhas ranqueada por data\n",
    "df_failured_record.groupby('failure_date')['device'].count().sort_values(ascending=False)"
   ],
   "metadata": {
    "collapsed": false
   }
  },
  {
   "cell_type": "markdown",
   "source": [
    "Todos os dispositivos que falharam são monitorados desde o dia 01-01 e 75% deles falharam em até 163 dias após essa data.\n",
    "O dia que mais dispositivos falharam aconteceu 18 dias após a data de inicio da monitoria, no total foram 8 dispositivos.\n",
    "Vou utilizar essa janela de dias para fazer a Sobreamostragem e agregação dos dados dos sensores."
   ],
   "metadata": {
    "collapsed": false
   }
  },
  {
   "cell_type": "markdown",
   "source": [
    "# Feature engineering"
   ],
   "metadata": {
    "collapsed": false
   }
  },
  {
   "cell_type": "markdown",
   "source": [
    "### Novas colunas auxiliares"
   ],
   "metadata": {
    "collapsed": false
   }
  },
  {
   "cell_type": "code",
   "execution_count": 218,
   "outputs": [],
   "source": [
    "#Esta é a janela pela qual será feita a agregação dos valores das colunas.\n",
    "window = 18"
   ],
   "metadata": {
    "collapsed": false
   }
  },
  {
   "cell_type": "code",
   "execution_count": 219,
   "outputs": [
    {
     "data": {
      "text/plain": "        date    device  failure  attribute1  attribute2  attribute3  \\\n0 2015-01-01  S1F01085        0   215630672          56           0   \n1 2015-01-02  S1F01085        0     1650864          56           0   \n2 2015-01-03  S1F01085        0   124017368          56           0   \n3 2015-01-04  S1F01085        0   128073224          56           0   \n4 2015-01-05  S1F01085        0    97393448          56           0   \n\n   attribute4  attribute5  attribute6  attribute7  attribute8  attribute9  \\\n0          52           6      407438           0           0           7   \n1          52           6      407438           0           0           7   \n2          52           6      407438           0           0           7   \n3          52           6      407439           0           0           7   \n4          52           6      408114           0           0           7   \n\n   flipper start_date  \n0        1 2015-01-01  \n1        0 2015-01-01  \n2        0 2015-01-01  \n3        0 2015-01-01  \n4        0 2015-01-01  ",
      "text/html": "<div>\n<style scoped>\n    .dataframe tbody tr th:only-of-type {\n        vertical-align: middle;\n    }\n\n    .dataframe tbody tr th {\n        vertical-align: top;\n    }\n\n    .dataframe thead th {\n        text-align: right;\n    }\n</style>\n<table border=\"1\" class=\"dataframe\">\n  <thead>\n    <tr style=\"text-align: right;\">\n      <th></th>\n      <th>date</th>\n      <th>device</th>\n      <th>failure</th>\n      <th>attribute1</th>\n      <th>attribute2</th>\n      <th>attribute3</th>\n      <th>attribute4</th>\n      <th>attribute5</th>\n      <th>attribute6</th>\n      <th>attribute7</th>\n      <th>attribute8</th>\n      <th>attribute9</th>\n      <th>flipper</th>\n      <th>start_date</th>\n    </tr>\n  </thead>\n  <tbody>\n    <tr>\n      <th>0</th>\n      <td>2015-01-01</td>\n      <td>S1F01085</td>\n      <td>0</td>\n      <td>215630672</td>\n      <td>56</td>\n      <td>0</td>\n      <td>52</td>\n      <td>6</td>\n      <td>407438</td>\n      <td>0</td>\n      <td>0</td>\n      <td>7</td>\n      <td>1</td>\n      <td>2015-01-01</td>\n    </tr>\n    <tr>\n      <th>1</th>\n      <td>2015-01-02</td>\n      <td>S1F01085</td>\n      <td>0</td>\n      <td>1650864</td>\n      <td>56</td>\n      <td>0</td>\n      <td>52</td>\n      <td>6</td>\n      <td>407438</td>\n      <td>0</td>\n      <td>0</td>\n      <td>7</td>\n      <td>0</td>\n      <td>2015-01-01</td>\n    </tr>\n    <tr>\n      <th>2</th>\n      <td>2015-01-03</td>\n      <td>S1F01085</td>\n      <td>0</td>\n      <td>124017368</td>\n      <td>56</td>\n      <td>0</td>\n      <td>52</td>\n      <td>6</td>\n      <td>407438</td>\n      <td>0</td>\n      <td>0</td>\n      <td>7</td>\n      <td>0</td>\n      <td>2015-01-01</td>\n    </tr>\n    <tr>\n      <th>3</th>\n      <td>2015-01-04</td>\n      <td>S1F01085</td>\n      <td>0</td>\n      <td>128073224</td>\n      <td>56</td>\n      <td>0</td>\n      <td>52</td>\n      <td>6</td>\n      <td>407439</td>\n      <td>0</td>\n      <td>0</td>\n      <td>7</td>\n      <td>0</td>\n      <td>2015-01-01</td>\n    </tr>\n    <tr>\n      <th>4</th>\n      <td>2015-01-05</td>\n      <td>S1F01085</td>\n      <td>0</td>\n      <td>97393448</td>\n      <td>56</td>\n      <td>0</td>\n      <td>52</td>\n      <td>6</td>\n      <td>408114</td>\n      <td>0</td>\n      <td>0</td>\n      <td>7</td>\n      <td>0</td>\n      <td>2015-01-01</td>\n    </tr>\n  </tbody>\n</table>\n</div>"
     },
     "execution_count": 219,
     "metadata": {},
     "output_type": "execute_result"
    }
   ],
   "source": [
    "#pegando o primeiro registro para cada máqui, com a coluna flipper\n",
    "df.head()"
   ],
   "metadata": {
    "collapsed": false
   }
  },
  {
   "cell_type": "code",
   "execution_count": 220,
   "outputs": [
    {
     "data": {
      "text/plain": "        date    device  failure  attribute1  attribute2  attribute3  \\\n0 2015-01-01  S1F01085        0   215630672          56           0   \n1 2015-01-02  S1F01085        0     1650864          56           0   \n2 2015-01-03  S1F01085        0   124017368          56           0   \n3 2015-01-04  S1F01085        0   128073224          56           0   \n4 2015-01-05  S1F01085        0    97393448          56           0   \n\n   attribute4  attribute5  attribute6  attribute7  attribute8  attribute9  \\\n0          52           6      407438           0           0           7   \n1          52           6      407438           0           0           7   \n2          52           6      407438           0           0           7   \n3          52           6      407439           0           0           7   \n4          52           6      408114           0           0           7   \n\n   flipper start_date  time_since_start  too_soon  \n0        1 2015-01-01               0.0         1  \n1        0 2015-01-01               1.0         1  \n2        0 2015-01-01               2.0         1  \n3        0 2015-01-01               3.0         1  \n4        0 2015-01-01               4.0         1  ",
      "text/html": "<div>\n<style scoped>\n    .dataframe tbody tr th:only-of-type {\n        vertical-align: middle;\n    }\n\n    .dataframe tbody tr th {\n        vertical-align: top;\n    }\n\n    .dataframe thead th {\n        text-align: right;\n    }\n</style>\n<table border=\"1\" class=\"dataframe\">\n  <thead>\n    <tr style=\"text-align: right;\">\n      <th></th>\n      <th>date</th>\n      <th>device</th>\n      <th>failure</th>\n      <th>attribute1</th>\n      <th>attribute2</th>\n      <th>attribute3</th>\n      <th>attribute4</th>\n      <th>attribute5</th>\n      <th>attribute6</th>\n      <th>attribute7</th>\n      <th>attribute8</th>\n      <th>attribute9</th>\n      <th>flipper</th>\n      <th>start_date</th>\n      <th>time_since_start</th>\n      <th>too_soon</th>\n    </tr>\n  </thead>\n  <tbody>\n    <tr>\n      <th>0</th>\n      <td>2015-01-01</td>\n      <td>S1F01085</td>\n      <td>0</td>\n      <td>215630672</td>\n      <td>56</td>\n      <td>0</td>\n      <td>52</td>\n      <td>6</td>\n      <td>407438</td>\n      <td>0</td>\n      <td>0</td>\n      <td>7</td>\n      <td>1</td>\n      <td>2015-01-01</td>\n      <td>0.0</td>\n      <td>1</td>\n    </tr>\n    <tr>\n      <th>1</th>\n      <td>2015-01-02</td>\n      <td>S1F01085</td>\n      <td>0</td>\n      <td>1650864</td>\n      <td>56</td>\n      <td>0</td>\n      <td>52</td>\n      <td>6</td>\n      <td>407438</td>\n      <td>0</td>\n      <td>0</td>\n      <td>7</td>\n      <td>0</td>\n      <td>2015-01-01</td>\n      <td>1.0</td>\n      <td>1</td>\n    </tr>\n    <tr>\n      <th>2</th>\n      <td>2015-01-03</td>\n      <td>S1F01085</td>\n      <td>0</td>\n      <td>124017368</td>\n      <td>56</td>\n      <td>0</td>\n      <td>52</td>\n      <td>6</td>\n      <td>407438</td>\n      <td>0</td>\n      <td>0</td>\n      <td>7</td>\n      <td>0</td>\n      <td>2015-01-01</td>\n      <td>2.0</td>\n      <td>1</td>\n    </tr>\n    <tr>\n      <th>3</th>\n      <td>2015-01-04</td>\n      <td>S1F01085</td>\n      <td>0</td>\n      <td>128073224</td>\n      <td>56</td>\n      <td>0</td>\n      <td>52</td>\n      <td>6</td>\n      <td>407439</td>\n      <td>0</td>\n      <td>0</td>\n      <td>7</td>\n      <td>0</td>\n      <td>2015-01-01</td>\n      <td>3.0</td>\n      <td>1</td>\n    </tr>\n    <tr>\n      <th>4</th>\n      <td>2015-01-05</td>\n      <td>S1F01085</td>\n      <td>0</td>\n      <td>97393448</td>\n      <td>56</td>\n      <td>0</td>\n      <td>52</td>\n      <td>6</td>\n      <td>408114</td>\n      <td>0</td>\n      <td>0</td>\n      <td>7</td>\n      <td>0</td>\n      <td>2015-01-01</td>\n      <td>4.0</td>\n      <td>1</td>\n    </tr>\n  </tbody>\n</table>\n</div>"
     },
     "execution_count": 220,
     "metadata": {},
     "output_type": "execute_result"
    }
   ],
   "source": [
    "#Calcula o número de dias corridos para cada dispositivo até atingir 'window',\n",
    "df['count_days'] = df['date'] - df['start_date']\n",
    "df['time_since_start'] = df['count_days'] / np.timedelta64(1, 'D')\n",
    "df = df.drop(columns=['count_days'])\n",
    "# quando valor for 1, o histórico de monitoramento do dispositivo tem menos que 18 dias\n",
    "df['too_soon'] = np.where((df.time_since_start < window) , 1, 0)\n",
    "df.head()"
   ],
   "metadata": {
    "collapsed": false
   }
  },
  {
   "cell_type": "code",
   "execution_count": 221,
   "outputs": [
    {
     "data": {
      "text/plain": "        date    device  failure  attribute1  attribute2  attribute3  \\\n0 2015-01-01  S1F01085        0   215630672          56           0   \n1 2015-01-02  S1F01085        0     1650864          56           0   \n2 2015-01-03  S1F01085        0   124017368          56           0   \n3 2015-01-04  S1F01085        0   128073224          56           0   \n4 2015-01-05  S1F01085        0    97393448          56           0   \n\n   attribute4  attribute5  attribute6  attribute7  attribute9  flipper  \\\n0          52           6      407438           0           7        1   \n1          52           6      407438           0           7        0   \n2          52           6      407438           0           7        0   \n3          52           6      407439           0           7        0   \n4          52           6      408114           0           7        0   \n\n  start_date  time_since_start  too_soon  \n0 2015-01-01               0.0         1  \n1 2015-01-01               1.0         1  \n2 2015-01-01               2.0         1  \n3 2015-01-01               3.0         1  \n4 2015-01-01               4.0         1  ",
      "text/html": "<div>\n<style scoped>\n    .dataframe tbody tr th:only-of-type {\n        vertical-align: middle;\n    }\n\n    .dataframe tbody tr th {\n        vertical-align: top;\n    }\n\n    .dataframe thead th {\n        text-align: right;\n    }\n</style>\n<table border=\"1\" class=\"dataframe\">\n  <thead>\n    <tr style=\"text-align: right;\">\n      <th></th>\n      <th>date</th>\n      <th>device</th>\n      <th>failure</th>\n      <th>attribute1</th>\n      <th>attribute2</th>\n      <th>attribute3</th>\n      <th>attribute4</th>\n      <th>attribute5</th>\n      <th>attribute6</th>\n      <th>attribute7</th>\n      <th>attribute9</th>\n      <th>flipper</th>\n      <th>start_date</th>\n      <th>time_since_start</th>\n      <th>too_soon</th>\n    </tr>\n  </thead>\n  <tbody>\n    <tr>\n      <th>0</th>\n      <td>2015-01-01</td>\n      <td>S1F01085</td>\n      <td>0</td>\n      <td>215630672</td>\n      <td>56</td>\n      <td>0</td>\n      <td>52</td>\n      <td>6</td>\n      <td>407438</td>\n      <td>0</td>\n      <td>7</td>\n      <td>1</td>\n      <td>2015-01-01</td>\n      <td>0.0</td>\n      <td>1</td>\n    </tr>\n    <tr>\n      <th>1</th>\n      <td>2015-01-02</td>\n      <td>S1F01085</td>\n      <td>0</td>\n      <td>1650864</td>\n      <td>56</td>\n      <td>0</td>\n      <td>52</td>\n      <td>6</td>\n      <td>407438</td>\n      <td>0</td>\n      <td>7</td>\n      <td>0</td>\n      <td>2015-01-01</td>\n      <td>1.0</td>\n      <td>1</td>\n    </tr>\n    <tr>\n      <th>2</th>\n      <td>2015-01-03</td>\n      <td>S1F01085</td>\n      <td>0</td>\n      <td>124017368</td>\n      <td>56</td>\n      <td>0</td>\n      <td>52</td>\n      <td>6</td>\n      <td>407438</td>\n      <td>0</td>\n      <td>7</td>\n      <td>0</td>\n      <td>2015-01-01</td>\n      <td>2.0</td>\n      <td>1</td>\n    </tr>\n    <tr>\n      <th>3</th>\n      <td>2015-01-04</td>\n      <td>S1F01085</td>\n      <td>0</td>\n      <td>128073224</td>\n      <td>56</td>\n      <td>0</td>\n      <td>52</td>\n      <td>6</td>\n      <td>407439</td>\n      <td>0</td>\n      <td>7</td>\n      <td>0</td>\n      <td>2015-01-01</td>\n      <td>3.0</td>\n      <td>1</td>\n    </tr>\n    <tr>\n      <th>4</th>\n      <td>2015-01-05</td>\n      <td>S1F01085</td>\n      <td>0</td>\n      <td>97393448</td>\n      <td>56</td>\n      <td>0</td>\n      <td>52</td>\n      <td>6</td>\n      <td>408114</td>\n      <td>0</td>\n      <td>7</td>\n      <td>0</td>\n      <td>2015-01-01</td>\n      <td>4.0</td>\n      <td>1</td>\n    </tr>\n  </tbody>\n</table>\n</div>"
     },
     "execution_count": 221,
     "metadata": {},
     "output_type": "execute_result"
    }
   ],
   "source": [
    "#Drop da coluna attribute8 por ter correlação perfeita positiva com a attribute9\n",
    "df.drop('attribute8', axis=1, inplace=True)\n",
    "df.head()"
   ],
   "metadata": {
    "collapsed": false
   }
  },
  {
   "cell_type": "markdown",
   "source": [
    "### Oversamplig - gerando mais casos de falha para balanceamento das classes"
   ],
   "metadata": {
    "collapsed": false
   }
  },
  {
   "cell_type": "markdown",
   "source": [
    "No primeiro momento vou testar a janela encontrada com a moda da coluna de datas para falhas.\n",
    "A técnica será a de SMOTE (Synthetic Minority Over-sampling Technique), ela gera amostras sintéticas da classe minoritária. Para cada exemplo da classe minoritária é selecionado aleatóriamente um valor k vizinhos mais próximos para criar novos exemplos. Usarei a janela (18) para K e a quantidade de amostras ((taxa de oversampling) será determinada pela razão: (tamanho_nao_falhas / tamanho_falhas) - 1) / 10."
   ],
   "metadata": {
    "collapsed": false
   }
  },
  {
   "cell_type": "code",
   "execution_count": 222,
   "outputs": [
    {
     "name": "stdout",
     "output_type": "stream",
     "text": [
      "Quantidade de device: 1169 e device Encoder: 1169\n"
     ]
    }
   ],
   "source": [
    "from sklearn.preprocessing import LabelEncoder\n",
    "from datetime import datetime\n",
    "\n",
    "\n",
    "#trasformação da coluna de dispositivos\n",
    "encoder = LabelEncoder()\n",
    "\n",
    "df['device_encoder'] = encoder.fit_transform(df['device'])\n",
    "print('Quantidade de device: {} e device Encoder: {}'.format(df['device'].nunique(), df['device_encoder'].nunique()))\n",
    "df.drop('device', axis=1, inplace=True)\n",
    "\n",
    "#colunas de datas precisam ser convertidas\n",
    "df[\"date\"] = (pd.to_datetime(df[\"date\"]) - datetime(1970, 1, 1)).dt.total_seconds()\n",
    "df[\"start_date\"] = (pd.to_datetime(df[\"start_date\"]) - datetime(1970, 1, 1)).dt.total_seconds()"
   ],
   "metadata": {
    "collapsed": false
   }
  },
  {
   "cell_type": "code",
   "execution_count": 223,
   "outputs": [
    {
     "name": "stdout",
     "output_type": "stream",
     "text": [
      "Contagem de classe antes do oversampling: Counter({0: 92179, 1: 79})\n",
      "Contagem de classe depois do oversampling: Counter({0: 92179, 1: 2763})\n",
      "0.029101978049756692\n"
     ]
    }
   ],
   "source": [
    "from collections import Counter\n",
    "from imblearn.over_sampling import SMOTE\n",
    "\n",
    "def oversamplit_SMOTE(data, tx):\n",
    "    # Separando as features e o target\n",
    "    X = data.drop('failure', axis=1)\n",
    "    y = data['failure']\n",
    "\n",
    "    # Verifique a contagem de classe antes do oversampling\n",
    "    print('Contagem de classe antes do oversampling:', Counter(y))\n",
    "\n",
    "    # Determine a taxa de oversampling\n",
    "    minority_class_size = len(data[data['failure'] == 1])\n",
    "    majority_class_size = len(data[data['failure'] == 0])\n",
    "    oversampling_rate = (1 - (minority_class_size / majority_class_size)) * tx\n",
    "\n",
    "    # Use SMOTE para gerar amostras sintéticas com a taxa de oversampling\n",
    "    smote = SMOTE(sampling_strategy=oversampling_rate, k_neighbors=18, random_state=42)\n",
    "    X_resampled, y_resampled = smote.fit_resample(X, y)\n",
    "\n",
    "    # Verifique a contagem de classe depois do oversampling\n",
    "    print('Contagem de classe depois do oversampling:', Counter(y_resampled))\n",
    "    print(y_resampled.mean())\n",
    "    # Criando um novo DataFrame com as features resampleadas e o target resampleado\n",
    "    df_resampled = pd.DataFrame(X_resampled, columns=X.columns)\n",
    "    df_resampled['failure'] = y_resampled\n",
    "    return df_resampled\n",
    "\n",
    "df_resampled = oversamplit_SMOTE(df, 0.03)"
   ],
   "metadata": {
    "collapsed": false
   }
  },
  {
   "cell_type": "markdown",
   "source": [
    "O percentual de falha original é: 0.83%. Ainda está muito desbalanceado, por enquanto irei manter essas quantidades, para não introduzir um viés alto antes de fazer o split entre treino e teste. Depois desse split, vou fazer o SMOTE de novo para gerar noso registros no dataset de treino."
   ],
   "metadata": {
    "collapsed": false
   }
  },
  {
   "cell_type": "code",
   "execution_count": 224,
   "outputs": [
    {
     "data": {
      "text/plain": "(94942, 15)"
     },
     "execution_count": 224,
     "metadata": {},
     "output_type": "execute_result"
    }
   ],
   "source": [
    "df_resampled.shape"
   ],
   "metadata": {
    "collapsed": false
   }
  },
  {
   "cell_type": "code",
   "execution_count": 225,
   "outputs": [
    {
     "data": {
      "text/plain": "<Axes: xlabel='failure', ylabel='count'>"
     },
     "execution_count": 225,
     "metadata": {},
     "output_type": "execute_result"
    },
    {
     "data": {
      "text/plain": "<Figure size 640x480 with 1 Axes>",
      "image/png": "[encoded data removed]"
     },
     "metadata": {},
     "output_type": "display_data"
    }
   ],
   "source": [
    "sns.countplot(data=df_resampled, x='failure')"
   ],
   "metadata": {
    "collapsed": false
   }
  },
  {
   "cell_type": "code",
   "execution_count": 226,
   "outputs": [
    {
     "data": {
      "text/plain": "            date  attribute1  attribute2  attribute3  attribute4  attribute5  \\\n0   1.420070e+09   215630672          56           0          52           6   \n1   1.420157e+09     1650864          56           0          52           6   \n2   1.420243e+09   124017368          56           0          52           6   \n3   1.420330e+09   128073224          56           0          52           6   \n4   1.420416e+09    97393448          56           0          52           6   \n5   1.420502e+09   128832128          56           0          52           6   \n6   1.430870e+09    14533968           0           0           0           5   \n7   1.430957e+09    46202296           0           0           0           5   \n8   1.431043e+09   214383720           0           0           0           5   \n9   1.431130e+09   243346080           0           0           0           5   \n10  1.431216e+09    85127128           0           0           0           5   \n11  1.431302e+09   115676688           0           0           0           5   \n12  1.420070e+09    61370680           0           3           0           6   \n13  1.420157e+09   191946112           0           3           0           6   \n14  1.420243e+09    77681360           0           3           0           6   \n15  1.420330e+09    82195688           0           3           0           6   \n16  1.420416e+09   224339296           0           3           0           6   \n17  1.420502e+09     7441792           0           3           0           6   \n18  1.420070e+09   173295968           0           0           0          12   \n19  1.420157e+09   192723440           0           0           0          12   \n20  1.420243e+09   214317232           0           0           0          12   \n21  1.420330e+09   236917296           0           0           0          12   \n22  1.420416e+09    17099072           0           0           0          12   \n23  1.420502e+09    37263504           0           0           0          12   \n24  1.420589e+09    62055216           0           0           0          12   \n25  1.420675e+09    82886232           0           0           0          12   \n26  1.420762e+09   109504512           0           0           0          12   \n27  1.420848e+09   130876064           0           0           0          12   \n28  1.420934e+09   154306584           0           0           0          12   \n29  1.421021e+09   174969224           0           0           0          12   \n\n    attribute6  attribute7  attribute9  flipper    start_date  \\\n0       407438           0           7        1  1.420070e+09   \n1       407438           0           7        0  1.420070e+09   \n2       407438           0           7        0  1.420070e+09   \n3       407439           0           7        0  1.420070e+09   \n4       408114           0           7        0  1.420070e+09   \n5       409404           0           7        0  1.420070e+09   \n6       688952           0           0        1  1.430870e+09   \n7       688952           0           0        0  1.430870e+09   \n8       688964           0           0        0  1.430870e+09   \n9       689035           0           0        0  1.430870e+09   \n10      689062           0           0        0  1.430870e+09   \n11      689161           0           0        0  1.430870e+09   \n12      403174           0           0        1  1.420070e+09   \n13      403174           0           0        0  1.420070e+09   \n14      403174           0           0        0  1.420070e+09   \n15      403175           0           0        0  1.420070e+09   \n16      403812           0           0        0  1.420070e+09   \n17      404786           0           0        0  1.420070e+09   \n18      237394           0           0        1  1.420070e+09   \n19      238718           0           0        0  1.420070e+09   \n20      240021           0           0        0  1.420070e+09   \n21      241264           0           0        0  1.420070e+09   \n22      242553           0           0        0  1.420070e+09   \n23      243875           0           0        0  1.420070e+09   \n24      245207           0           0        0  1.420070e+09   \n25      246493           0           0        0  1.420070e+09   \n26      247666           0           0        0  1.420070e+09   \n27      248950           0           0        0  1.420070e+09   \n28      250284           0           0        0  1.420070e+09   \n29      251590           0           0        0  1.420070e+09   \n\n    time_since_start  too_soon  device_encoder  failure  \n0                0.0         1               0        0  \n1                1.0         1               0        0  \n2                2.0         1               0        0  \n3                3.0         1               0        0  \n4                4.0         1               0        0  \n5                5.0         1               0        0  \n6                0.0         1               1        0  \n7                1.0         1               1        0  \n8                2.0         1               1        0  \n9                3.0         1               1        0  \n10               4.0         1               1        0  \n11               5.0         1               1        0  \n12               0.0         1               2        0  \n13               1.0         1               2        0  \n14               2.0         1               2        0  \n15               3.0         1               2        0  \n16               4.0         1               2        0  \n17               5.0         1               2        0  \n18               0.0         1               3        0  \n19               1.0         1               3        0  \n20               2.0         1               3        0  \n21               3.0         1               3        0  \n22               4.0         1               3        0  \n23               5.0         1               3        0  \n24               6.0         1               3        0  \n25               7.0         1               3        0  \n26               8.0         1               3        0  \n27               9.0         1               3        0  \n28              10.0         1               3        0  \n29              11.0         1               3        0  ",
      "text/html": "<div>\n<style scoped>\n    .dataframe tbody tr th:only-of-type {\n        vertical-align: middle;\n    }\n\n    .dataframe tbody tr th {\n        vertical-align: top;\n    }\n\n    .dataframe thead th {\n        text-align: right;\n    }\n</style>\n<table border=\"1\" class=\"dataframe\">\n  <thead>\n    <tr style=\"text-align: right;\">\n      <th></th>\n      <th>date</th>\n      <th>attribute1</th>\n      <th>attribute2</th>\n      <th>attribute3</th>\n      <th>attribute4</th>\n      <th>attribute5</th>\n      <th>attribute6</th>\n      <th>attribute7</th>\n      <th>attribute9</th>\n      <th>flipper</th>\n      <th>start_date</th>\n      <th>time_since_start</th>\n      <th>too_soon</th>\n      <th>device_encoder</th>\n      <th>failure</th>\n    </tr>\n  </thead>\n  <tbody>\n    <tr>\n      <th>0</th>\n      <td>1.420070e+09</td>\n      <td>215630672</td>\n      <td>56</td>\n      <td>0</td>\n      <td>52</td>\n      <td>6</td>\n      <td>407438</td>\n      <td>0</td>\n      <td>7</td>\n      <td>1</td>\n      <td>1.420070e+09</td>\n      <td>0.0</td>\n      <td>1</td>\n      <td>0</td>\n      <td>0</td>\n    </tr>\n    <tr>\n      <th>1</th>\n      <td>1.420157e+09</td>\n      <td>1650864</td>\n      <td>56</td>\n      <td>0</td>\n      <td>52</td>\n      <td>6</td>\n      <td>407438</td>\n      <td>0</td>\n      <td>7</td>\n      <td>0</td>\n      <td>1.420070e+09</td>\n      <td>1.0</td>\n      <td>1</td>\n      <td>0</td>\n      <td>0</td>\n    </tr>\n    <tr>\n      <th>2</th>\n      <td>1.420243e+09</td>\n      <td>124017368</td>\n      <td>56</td>\n      <td>0</td>\n      <td>52</td>\n      <td>6</td>\n      <td>407438</td>\n      <td>0</td>\n      <td>7</td>\n      <td>0</td>\n      <td>1.420070e+09</td>\n      <td>2.0</td>\n      <td>1</td>\n      <td>0</td>\n      <td>0</td>\n    </tr>\n    <tr>\n      <th>3</th>\n      <td>1.420330e+09</td>\n      <td>128073224</td>\n      <td>56</td>\n      <td>0</td>\n      <td>52</td>\n      <td>6</td>\n      <td>407439</td>\n      <td>0</td>\n      <td>7</td>\n      <td>0</td>\n      <td>1.420070e+09</td>\n      <td>3.0</td>\n      <td>1</td>\n      <td>0</td>\n      <td>0</td>\n    </tr>\n    <tr>\n      <th>4</th>\n      <td>1.420416e+09</td>\n      <td>97393448</td>\n      <td>56</td>\n      <td>0</td>\n      <td>52</td>\n      <td>6</td>\n      <td>408114</td>\n      <td>0</td>\n      <td>7</td>\n      <td>0</td>\n      <td>1.420070e+09</td>\n      <td>4.0</td>\n      <td>1</td>\n      <td>0</td>\n      <td>0</td>\n    </tr>\n    <tr>\n      <th>5</th>\n      <td>1.420502e+09</td>\n      <td>128832128</td>\n      <td>56</td>\n      <td>0</td>\n      <td>52</td>\n      <td>6</td>\n      <td>409404</td>\n      <td>0</td>\n      <td>7</td>\n      <td>0</td>\n      <td>1.420070e+09</td>\n      <td>5.0</td>\n      <td>1</td>\n      <td>0</td>\n      <td>0</td>\n    </tr>\n    <tr>\n      <th>6</th>\n      <td>1.430870e+09</td>\n      <td>14533968</td>\n      <td>0</td>\n      <td>0</td>\n      <td>0</td>\n      <td>5</td>\n      <td>688952</td>\n      <td>0</td>\n      <td>0</td>\n      <td>1</td>\n      <td>1.430870e+09</td>\n      <td>0.0</td>\n      <td>1</td>\n      <td>1</td>\n      <td>0</td>\n    </tr>\n    <tr>\n      <th>7</th>\n      <td>1.430957e+09</td>\n      <td>46202296</td>\n      <td>0</td>\n      <td>0</td>\n      <td>0</td>\n      <td>5</td>\n      <td>688952</td>\n      <td>0</td>\n      <td>0</td>\n      <td>0</td>\n      <td>1.430870e+09</td>\n      <td>1.0</td>\n      <td>1</td>\n      <td>1</td>\n      <td>0</td>\n    </tr>\n    <tr>\n      <th>8</th>\n      <td>1.431043e+09</td>\n      <td>214383720</td>\n      <td>0</td>\n      <td>0</td>\n      <td>0</td>\n      <td>5</td>\n      <td>688964</td>\n      <td>0</td>\n      <td>0</td>\n      <td>0</td>\n      <td>1.430870e+09</td>\n      <td>2.0</td>\n      <td>1</td>\n      <td>1</td>\n      <td>0</td>\n    </tr>\n    <tr>\n      <th>9</th>\n      <td>1.431130e+09</td>\n      <td>243346080</td>\n      <td>0</td>\n      <td>0</td>\n      <td>0</td>\n      <td>5</td>\n      <td>689035</td>\n      <td>0</td>\n      <td>0</td>\n      <td>0</td>\n      <td>1.430870e+09</td>\n      <td>3.0</td>\n      <td>1</td>\n      <td>1</td>\n      <td>0</td>\n    </tr>\n    <tr>\n      <th>10</th>\n      <td>1.431216e+09</td>\n      <td>85127128</td>\n      <td>0</td>\n      <td>0</td>\n      <td>0</td>\n      <td>5</td>\n      <td>689062</td>\n      <td>0</td>\n      <td>0</td>\n      <td>0</td>\n      <td>1.430870e+09</td>\n      <td>4.0</td>\n      <td>1</td>\n      <td>1</td>\n      <td>0</td>\n    </tr>\n    <tr>\n      <th>11</th>\n      <td>1.431302e+09</td>\n      <td>115676688</td>\n      <td>0</td>\n      <td>0</td>\n      <td>0</td>\n      <td>5</td>\n      <td>689161</td>\n      <td>0</td>\n      <td>0</td>\n      <td>0</td>\n      <td>1.430870e+09</td>\n      <td>5.0</td>\n      <td>1</td>\n      <td>1</td>\n      <td>0</td>\n    </tr>\n    <tr>\n      <th>12</th>\n      <td>1.420070e+09</td>\n      <td>61370680</td>\n      <td>0</td>\n      <td>3</td>\n      <td>0</td>\n      <td>6</td>\n      <td>403174</td>\n      <td>0</td>\n      <td>0</td>\n      <td>1</td>\n      <td>1.420070e+09</td>\n      <td>0.0</td>\n      <td>1</td>\n      <td>2</td>\n      <td>0</td>\n    </tr>\n    <tr>\n      <th>13</th>\n      <td>1.420157e+09</td>\n      <td>191946112</td>\n      <td>0</td>\n      <td>3</td>\n      <td>0</td>\n      <td>6</td>\n      <td>403174</td>\n      <td>0</td>\n      <td>0</td>\n      <td>0</td>\n      <td>1.420070e+09</td>\n      <td>1.0</td>\n      <td>1</td>\n      <td>2</td>\n      <td>0</td>\n    </tr>\n    <tr>\n      <th>14</th>\n      <td>1.420243e+09</td>\n      <td>77681360</td>\n      <td>0</td>\n      <td>3</td>\n      <td>0</td>\n      <td>6</td>\n      <td>403174</td>\n      <td>0</td>\n      <td>0</td>\n      <td>0</td>\n      <td>1.420070e+09</td>\n      <td>2.0</td>\n      <td>1</td>\n      <td>2</td>\n      <td>0</td>\n    </tr>\n    <tr>\n      <th>15</th>\n      <td>1.420330e+09</td>\n      <td>82195688</td>\n      <td>0</td>\n      <td>3</td>\n      <td>0</td>\n      <td>6</td>\n      <td>403175</td>\n      <td>0</td>\n      <td>0</td>\n      <td>0</td>\n      <td>1.420070e+09</td>\n      <td>3.0</td>\n      <td>1</td>\n      <td>2</td>\n      <td>0</td>\n    </tr>\n    <tr>\n      <th>16</th>\n      <td>1.420416e+09</td>\n      <td>224339296</td>\n      <td>0</td>\n      <td>3</td>\n      <td>0</td>\n      <td>6</td>\n      <td>403812</td>\n      <td>0</td>\n      <td>0</td>\n      <td>0</td>\n      <td>1.420070e+09</td>\n      <td>4.0</td>\n      <td>1</td>\n      <td>2</td>\n      <td>0</td>\n    </tr>\n    <tr>\n      <th>17</th>\n      <td>1.420502e+09</td>\n      <td>7441792</td>\n      <td>0</td>\n      <td>3</td>\n      <td>0</td>\n      <td>6</td>\n      <td>404786</td>\n      <td>0</td>\n      <td>0</td>\n      <td>0</td>\n      <td>1.420070e+09</td>\n      <td>5.0</td>\n      <td>1</td>\n      <td>2</td>\n      <td>0</td>\n    </tr>\n    <tr>\n      <th>18</th>\n      <td>1.420070e+09</td>\n      <td>173295968</td>\n      <td>0</td>\n      <td>0</td>\n      <td>0</td>\n      <td>12</td>\n      <td>237394</td>\n      <td>0</td>\n      <td>0</td>\n      <td>1</td>\n      <td>1.420070e+09</td>\n      <td>0.0</td>\n      <td>1</td>\n      <td>3</td>\n      <td>0</td>\n    </tr>\n    <tr>\n      <th>19</th>\n      <td>1.420157e+09</td>\n      <td>192723440</td>\n      <td>0</td>\n      <td>0</td>\n      <td>0</td>\n      <td>12</td>\n      <td>238718</td>\n      <td>0</td>\n      <td>0</td>\n      <td>0</td>\n      <td>1.420070e+09</td>\n      <td>1.0</td>\n      <td>1</td>\n      <td>3</td>\n      <td>0</td>\n    </tr>\n    <tr>\n      <th>20</th>\n      <td>1.420243e+09</td>\n      <td>214317232</td>\n      <td>0</td>\n      <td>0</td>\n      <td>0</td>\n      <td>12</td>\n      <td>240021</td>\n      <td>0</td>\n      <td>0</td>\n      <td>0</td>\n      <td>1.420070e+09</td>\n      <td>2.0</td>\n      <td>1</td>\n      <td>3</td>\n      <td>0</td>\n    </tr>\n    <tr>\n      <th>21</th>\n      <td>1.420330e+09</td>\n      <td>236917296</td>\n      <td>0</td>\n      <td>0</td>\n      <td>0</td>\n      <td>12</td>\n      <td>241264</td>\n      <td>0</td>\n      <td>0</td>\n      <td>0</td>\n      <td>1.420070e+09</td>\n      <td>3.0</td>\n      <td>1</td>\n      <td>3</td>\n      <td>0</td>\n    </tr>\n    <tr>\n      <th>22</th>\n      <td>1.420416e+09</td>\n      <td>17099072</td>\n      <td>0</td>\n      <td>0</td>\n      <td>0</td>\n      <td>12</td>\n      <td>242553</td>\n      <td>0</td>\n      <td>0</td>\n      <td>0</td>\n      <td>1.420070e+09</td>\n      <td>4.0</td>\n      <td>1</td>\n      <td>3</td>\n      <td>0</td>\n    </tr>\n    <tr>\n      <th>23</th>\n      <td>1.420502e+09</td>\n      <td>37263504</td>\n      <td>0</td>\n      <td>0</td>\n      <td>0</td>\n      <td>12</td>\n      <td>243875</td>\n      <td>0</td>\n      <td>0</td>\n      <td>0</td>\n      <td>1.420070e+09</td>\n      <td>5.0</td>\n      <td>1</td>\n      <td>3</td>\n      <td>0</td>\n    </tr>\n    <tr>\n      <th>24</th>\n      <td>1.420589e+09</td>\n      <td>62055216</td>\n      <td>0</td>\n      <td>0</td>\n      <td>0</td>\n      <td>12</td>\n      <td>245207</td>\n      <td>0</td>\n      <td>0</td>\n      <td>0</td>\n      <td>1.420070e+09</td>\n      <td>6.0</td>\n      <td>1</td>\n      <td>3</td>\n      <td>0</td>\n    </tr>\n    <tr>\n      <th>25</th>\n      <td>1.420675e+09</td>\n      <td>82886232</td>\n      <td>0</td>\n      <td>0</td>\n      <td>0</td>\n      <td>12</td>\n      <td>246493</td>\n      <td>0</td>\n      <td>0</td>\n      <td>0</td>\n      <td>1.420070e+09</td>\n      <td>7.0</td>\n      <td>1</td>\n      <td>3</td>\n      <td>0</td>\n    </tr>\n    <tr>\n      <th>26</th>\n      <td>1.420762e+09</td>\n      <td>109504512</td>\n      <td>0</td>\n      <td>0</td>\n      <td>0</td>\n      <td>12</td>\n      <td>247666</td>\n      <td>0</td>\n      <td>0</td>\n      <td>0</td>\n      <td>1.420070e+09</td>\n      <td>8.0</td>\n      <td>1</td>\n      <td>3</td>\n      <td>0</td>\n    </tr>\n    <tr>\n      <th>27</th>\n      <td>1.420848e+09</td>\n      <td>130876064</td>\n      <td>0</td>\n      <td>0</td>\n      <td>0</td>\n      <td>12</td>\n      <td>248950</td>\n      <td>0</td>\n      <td>0</td>\n      <td>0</td>\n      <td>1.420070e+09</td>\n      <td>9.0</td>\n      <td>1</td>\n      <td>3</td>\n      <td>0</td>\n    </tr>\n    <tr>\n      <th>28</th>\n      <td>1.420934e+09</td>\n      <td>154306584</td>\n      <td>0</td>\n      <td>0</td>\n      <td>0</td>\n      <td>12</td>\n      <td>250284</td>\n      <td>0</td>\n      <td>0</td>\n      <td>0</td>\n      <td>1.420070e+09</td>\n      <td>10.0</td>\n      <td>1</td>\n      <td>3</td>\n      <td>0</td>\n    </tr>\n    <tr>\n      <th>29</th>\n      <td>1.421021e+09</td>\n      <td>174969224</td>\n      <td>0</td>\n      <td>0</td>\n      <td>0</td>\n      <td>12</td>\n      <td>251590</td>\n      <td>0</td>\n      <td>0</td>\n      <td>0</td>\n      <td>1.420070e+09</td>\n      <td>11.0</td>\n      <td>1</td>\n      <td>3</td>\n      <td>0</td>\n    </tr>\n  </tbody>\n</table>\n</div>"
     },
     "execution_count": 226,
     "metadata": {},
     "output_type": "execute_result"
    }
   ],
   "source": [
    "#ordenando novamente pelo device e date\n",
    "df_resampled.sort_values(by=['device_encoder','date'], ascending=[True, True]).head(30)"
   ],
   "metadata": {
    "collapsed": false
   }
  },
  {
   "cell_type": "markdown",
   "source": [
    "### Tranformação dos dados"
   ],
   "metadata": {
    "collapsed": false
   }
  },
  {
   "cell_type": "markdown",
   "source": [
    "Os dados são bem dispersos, então para a transformação vou utilizar a média, mediana, o máximo e o minímo das colunas de telemetria."
   ],
   "metadata": {
    "collapsed": false
   }
  },
  {
   "cell_type": "code",
   "execution_count": 227,
   "outputs": [],
   "source": [
    "def tranform_new_data(colum):\n",
    "    df_resampled[colum+'_mean'] =np.where((df_resampled.too_soon == 0),(df_resampled[colum].rolling(min_periods=1,window=window).mean()), df_resampled[colum])\n",
    "    df_resampled[colum+'_median'] =np.where((df_resampled.too_soon == 0),(df_resampled[colum].rolling(min_periods=1,window=window).median()), df_resampled[colum])\n",
    "    df_resampled[colum+'_max'] = np.where((df_resampled.too_soon == 0),(df_resampled[colum].rolling(min_periods=1, window=window).max()), df_resampled[colum])\n",
    "    df_resampled[colum+'_min'] = np.where((df_resampled.too_soon == 0),(df_resampled[colum].rolling(min_periods=1, window=window).min()), df_resampled[colum])\n",
    "\n",
    "#Colunas para transformação\n",
    "for i in df_resampled.columns[1:9]:\n",
    "    tranform_new_data(df_resampled[i].name)"
   ],
   "metadata": {
    "collapsed": false
   }
  },
  {
   "cell_type": "code",
   "execution_count": 228,
   "outputs": [
    {
     "data": {
      "text/plain": "           date  attribute1  attribute2  attribute3  attribute4  attribute5  \\\n0  1.420070e+09   215630672          56           0          52           6   \n1  1.420157e+09     1650864          56           0          52           6   \n2  1.420243e+09   124017368          56           0          52           6   \n3  1.420330e+09   128073224          56           0          52           6   \n4  1.420416e+09    97393448          56           0          52           6   \n\n   attribute6  attribute7  attribute9  flipper  ...  attribute6_max  \\\n0      407438           0           7        1  ...        407438.0   \n1      407438           0           7        0  ...        407438.0   \n2      407438           0           7        0  ...        407438.0   \n3      407439           0           7        0  ...        407439.0   \n4      408114           0           7        0  ...        408114.0   \n\n   attribute6_min  attribute7_mean  attribute7_median  attribute7_max  \\\n0        407438.0              0.0                0.0             0.0   \n1        407438.0              0.0                0.0             0.0   \n2        407438.0              0.0                0.0             0.0   \n3        407439.0              0.0                0.0             0.0   \n4        408114.0              0.0                0.0             0.0   \n\n   attribute7_min  attribute9_mean  attribute9_median  attribute9_max  \\\n0             0.0              7.0                7.0             7.0   \n1             0.0              7.0                7.0             7.0   \n2             0.0              7.0                7.0             7.0   \n3             0.0              7.0                7.0             7.0   \n4             0.0              7.0                7.0             7.0   \n\n   attribute9_min  \n0             7.0  \n1             7.0  \n2             7.0  \n3             7.0  \n4             7.0  \n\n[5 rows x 47 columns]",
      "text/html": "<div>\n<style scoped>\n    .dataframe tbody tr th:only-of-type {\n        vertical-align: middle;\n    }\n\n    .dataframe tbody tr th {\n        vertical-align: top;\n    }\n\n    .dataframe thead th {\n        text-align: right;\n    }\n</style>\n<table border=\"1\" class=\"dataframe\">\n  <thead>\n    <tr style=\"text-align: right;\">\n      <th></th>\n      <th>date</th>\n      <th>attribute1</th>\n      <th>attribute2</th>\n      <th>attribute3</th>\n      <th>attribute4</th>\n      <th>attribute5</th>\n      <th>attribute6</th>\n      <th>attribute7</th>\n      <th>attribute9</th>\n      <th>flipper</th>\n      <th>...</th>\n      <th>attribute6_max</th>\n      <th>attribute6_min</th>\n      <th>attribute7_mean</th>\n      <th>attribute7_median</th>\n      <th>attribute7_max</th>\n      <th>attribute7_min</th>\n      <th>attribute9_mean</th>\n      <th>attribute9_median</th>\n      <th>attribute9_max</th>\n      <th>attribute9_min</th>\n    </tr>\n  </thead>\n  <tbody>\n    <tr>\n      <th>0</th>\n      <td>1.420070e+09</td>\n      <td>215630672</td>\n      <td>56</td>\n      <td>0</td>\n      <td>52</td>\n      <td>6</td>\n      <td>407438</td>\n      <td>0</td>\n      <td>7</td>\n      <td>1</td>\n      <td>...</td>\n      <td>407438.0</td>\n      <td>407438.0</td>\n      <td>0.0</td>\n      <td>0.0</td>\n      <td>0.0</td>\n      <td>0.0</td>\n      <td>7.0</td>\n      <td>7.0</td>\n      <td>7.0</td>\n      <td>7.0</td>\n    </tr>\n    <tr>\n      <th>1</th>\n      <td>1.420157e+09</td>\n      <td>1650864</td>\n      <td>56</td>\n      <td>0</td>\n      <td>52</td>\n      <td>6</td>\n      <td>407438</td>\n      <td>0</td>\n      <td>7</td>\n      <td>0</td>\n      <td>...</td>\n      <td>407438.0</td>\n      <td>407438.0</td>\n      <td>0.0</td>\n      <td>0.0</td>\n      <td>0.0</td>\n      <td>0.0</td>\n      <td>7.0</td>\n      <td>7.0</td>\n      <td>7.0</td>\n      <td>7.0</td>\n    </tr>\n    <tr>\n      <th>2</th>\n      <td>1.420243e+09</td>\n      <td>124017368</td>\n      <td>56</td>\n      <td>0</td>\n      <td>52</td>\n      <td>6</td>\n      <td>407438</td>\n      <td>0</td>\n      <td>7</td>\n      <td>0</td>\n      <td>...</td>\n      <td>407438.0</td>\n      <td>407438.0</td>\n      <td>0.0</td>\n      <td>0.0</td>\n      <td>0.0</td>\n      <td>0.0</td>\n      <td>7.0</td>\n      <td>7.0</td>\n      <td>7.0</td>\n      <td>7.0</td>\n    </tr>\n    <tr>\n      <th>3</th>\n      <td>1.420330e+09</td>\n      <td>128073224</td>\n      <td>56</td>\n      <td>0</td>\n      <td>52</td>\n      <td>6</td>\n      <td>407439</td>\n      <td>0</td>\n      <td>7</td>\n      <td>0</td>\n      <td>...</td>\n      <td>407439.0</td>\n      <td>407439.0</td>\n      <td>0.0</td>\n      <td>0.0</td>\n      <td>0.0</td>\n      <td>0.0</td>\n      <td>7.0</td>\n      <td>7.0</td>\n      <td>7.0</td>\n      <td>7.0</td>\n    </tr>\n    <tr>\n      <th>4</th>\n      <td>1.420416e+09</td>\n      <td>97393448</td>\n      <td>56</td>\n      <td>0</td>\n      <td>52</td>\n      <td>6</td>\n      <td>408114</td>\n      <td>0</td>\n      <td>7</td>\n      <td>0</td>\n      <td>...</td>\n      <td>408114.0</td>\n      <td>408114.0</td>\n      <td>0.0</td>\n      <td>0.0</td>\n      <td>0.0</td>\n      <td>0.0</td>\n      <td>7.0</td>\n      <td>7.0</td>\n      <td>7.0</td>\n      <td>7.0</td>\n    </tr>\n  </tbody>\n</table>\n<p>5 rows × 47 columns</p>\n</div>"
     },
     "execution_count": 228,
     "metadata": {},
     "output_type": "execute_result"
    }
   ],
   "source": [
    "df_resampled.head()"
   ],
   "metadata": {
    "collapsed": false
   }
  },
  {
   "cell_type": "code",
   "execution_count": 229,
   "outputs": [
    {
     "data": {
      "text/plain": "           date  attribute1  attribute2  attribute3  attribute4  attribute5  \\\n0  1.420070e+09   215630672          56           0          52           6   \n1  1.420157e+09     1650864          56           0          52           6   \n2  1.420243e+09   124017368          56           0          52           6   \n3  1.420330e+09   128073224          56           0          52           6   \n4  1.420416e+09    97393448          56           0          52           6   \n5  1.420502e+09   128832128          56           0          52           6   \n6  1.430870e+09    14533968           0           0           0           5   \n7  1.430957e+09    46202296           0           0           0           5   \n8  1.431043e+09   214383720           0           0           0           5   \n9  1.431130e+09   243346080           0           0           0           5   \n\n   attribute6  attribute7  attribute9  flipper  ...  attribute6_max  \\\n0      407438           0           7        1  ...        407438.0   \n1      407438           0           7        0  ...        407438.0   \n2      407438           0           7        0  ...        407438.0   \n3      407439           0           7        0  ...        407439.0   \n4      408114           0           7        0  ...        408114.0   \n5      409404           0           7        0  ...        409404.0   \n6      688952           0           0        1  ...        688952.0   \n7      688952           0           0        0  ...        688952.0   \n8      688964           0           0        0  ...        688964.0   \n9      689035           0           0        0  ...        689035.0   \n\n   attribute6_min  attribute7_mean  attribute7_median  attribute7_max  \\\n0        407438.0              0.0                0.0             0.0   \n1        407438.0              0.0                0.0             0.0   \n2        407438.0              0.0                0.0             0.0   \n3        407439.0              0.0                0.0             0.0   \n4        408114.0              0.0                0.0             0.0   \n5        409404.0              0.0                0.0             0.0   \n6        688952.0              0.0                0.0             0.0   \n7        688952.0              0.0                0.0             0.0   \n8        688964.0              0.0                0.0             0.0   \n9        689035.0              0.0                0.0             0.0   \n\n   attribute7_min  attribute9_mean  attribute9_median  attribute9_max  \\\n0             0.0              7.0                7.0             7.0   \n1             0.0              7.0                7.0             7.0   \n2             0.0              7.0                7.0             7.0   \n3             0.0              7.0                7.0             7.0   \n4             0.0              7.0                7.0             7.0   \n5             0.0              7.0                7.0             7.0   \n6             0.0              0.0                0.0             0.0   \n7             0.0              0.0                0.0             0.0   \n8             0.0              0.0                0.0             0.0   \n9             0.0              0.0                0.0             0.0   \n\n   attribute9_min  \n0             7.0  \n1             7.0  \n2             7.0  \n3             7.0  \n4             7.0  \n5             7.0  \n6             0.0  \n7             0.0  \n8             0.0  \n9             0.0  \n\n[10 rows x 47 columns]",
      "text/html": "<div>\n<style scoped>\n    .dataframe tbody tr th:only-of-type {\n        vertical-align: middle;\n    }\n\n    .dataframe tbody tr th {\n        vertical-align: top;\n    }\n\n    .dataframe thead th {\n        text-align: right;\n    }\n</style>\n<table border=\"1\" class=\"dataframe\">\n  <thead>\n    <tr style=\"text-align: right;\">\n      <th></th>\n      <th>date</th>\n      <th>attribute1</th>\n      <th>attribute2</th>\n      <th>attribute3</th>\n      <th>attribute4</th>\n      <th>attribute5</th>\n      <th>attribute6</th>\n      <th>attribute7</th>\n      <th>attribute9</th>\n      <th>flipper</th>\n      <th>...</th>\n      <th>attribute6_max</th>\n      <th>attribute6_min</th>\n      <th>attribute7_mean</th>\n      <th>attribute7_median</th>\n      <th>attribute7_max</th>\n      <th>attribute7_min</th>\n      <th>attribute9_mean</th>\n      <th>attribute9_median</th>\n      <th>attribute9_max</th>\n      <th>attribute9_min</th>\n    </tr>\n  </thead>\n  <tbody>\n    <tr>\n      <th>0</th>\n      <td>1.420070e+09</td>\n      <td>215630672</td>\n      <td>56</td>\n      <td>0</td>\n      <td>52</td>\n      <td>6</td>\n      <td>407438</td>\n      <td>0</td>\n      <td>7</td>\n      <td>1</td>\n      <td>...</td>\n      <td>407438.0</td>\n      <td>407438.0</td>\n      <td>0.0</td>\n      <td>0.0</td>\n      <td>0.0</td>\n      <td>0.0</td>\n      <td>7.0</td>\n      <td>7.0</td>\n      <td>7.0</td>\n      <td>7.0</td>\n    </tr>\n    <tr>\n      <th>1</th>\n      <td>1.420157e+09</td>\n      <td>1650864</td>\n      <td>56</td>\n      <td>0</td>\n      <td>52</td>\n      <td>6</td>\n      <td>407438</td>\n      <td>0</td>\n      <td>7</td>\n      <td>0</td>\n      <td>...</td>\n      <td>407438.0</td>\n      <td>407438.0</td>\n      <td>0.0</td>\n      <td>0.0</td>\n      <td>0.0</td>\n      <td>0.0</td>\n      <td>7.0</td>\n      <td>7.0</td>\n      <td>7.0</td>\n      <td>7.0</td>\n    </tr>\n    <tr>\n      <th>2</th>\n      <td>1.420243e+09</td>\n      <td>124017368</td>\n      <td>56</td>\n      <td>0</td>\n      <td>52</td>\n      <td>6</td>\n      <td>407438</td>\n      <td>0</td>\n      <td>7</td>\n      <td>0</td>\n      <td>...</td>\n      <td>407438.0</td>\n      <td>407438.0</td>\n      <td>0.0</td>\n      <td>0.0</td>\n      <td>0.0</td>\n      <td>0.0</td>\n      <td>7.0</td>\n      <td>7.0</td>\n      <td>7.0</td>\n      <td>7.0</td>\n    </tr>\n    <tr>\n      <th>3</th>\n      <td>1.420330e+09</td>\n      <td>128073224</td>\n      <td>56</td>\n      <td>0</td>\n      <td>52</td>\n      <td>6</td>\n      <td>407439</td>\n      <td>0</td>\n      <td>7</td>\n      <td>0</td>\n      <td>...</td>\n      <td>407439.0</td>\n      <td>407439.0</td>\n      <td>0.0</td>\n      <td>0.0</td>\n      <td>0.0</td>\n      <td>0.0</td>\n      <td>7.0</td>\n      <td>7.0</td>\n      <td>7.0</td>\n      <td>7.0</td>\n    </tr>\n    <tr>\n      <th>4</th>\n      <td>1.420416e+09</td>\n      <td>97393448</td>\n      <td>56</td>\n      <td>0</td>\n      <td>52</td>\n      <td>6</td>\n      <td>408114</td>\n      <td>0</td>\n      <td>7</td>\n      <td>0</td>\n      <td>...</td>\n      <td>408114.0</td>\n      <td>408114.0</td>\n      <td>0.0</td>\n      <td>0.0</td>\n      <td>0.0</td>\n      <td>0.0</td>\n      <td>7.0</td>\n      <td>7.0</td>\n      <td>7.0</td>\n      <td>7.0</td>\n    </tr>\n    <tr>\n      <th>5</th>\n      <td>1.420502e+09</td>\n      <td>128832128</td>\n      <td>56</td>\n      <td>0</td>\n      <td>52</td>\n      <td>6</td>\n      <td>409404</td>\n      <td>0</td>\n      <td>7</td>\n      <td>0</td>\n      <td>...</td>\n      <td>409404.0</td>\n      <td>409404.0</td>\n      <td>0.0</td>\n      <td>0.0</td>\n      <td>0.0</td>\n      <td>0.0</td>\n      <td>7.0</td>\n      <td>7.0</td>\n      <td>7.0</td>\n      <td>7.0</td>\n    </tr>\n    <tr>\n      <th>6</th>\n      <td>1.430870e+09</td>\n      <td>14533968</td>\n      <td>0</td>\n      <td>0</td>\n      <td>0</td>\n      <td>5</td>\n      <td>688952</td>\n      <td>0</td>\n      <td>0</td>\n      <td>1</td>\n      <td>...</td>\n      <td>688952.0</td>\n      <td>688952.0</td>\n      <td>0.0</td>\n      <td>0.0</td>\n      <td>0.0</td>\n      <td>0.0</td>\n      <td>0.0</td>\n      <td>0.0</td>\n      <td>0.0</td>\n      <td>0.0</td>\n    </tr>\n    <tr>\n      <th>7</th>\n      <td>1.430957e+09</td>\n      <td>46202296</td>\n      <td>0</td>\n      <td>0</td>\n      <td>0</td>\n      <td>5</td>\n      <td>688952</td>\n      <td>0</td>\n      <td>0</td>\n      <td>0</td>\n      <td>...</td>\n      <td>688952.0</td>\n      <td>688952.0</td>\n      <td>0.0</td>\n      <td>0.0</td>\n      <td>0.0</td>\n      <td>0.0</td>\n      <td>0.0</td>\n      <td>0.0</td>\n      <td>0.0</td>\n      <td>0.0</td>\n    </tr>\n    <tr>\n      <th>8</th>\n      <td>1.431043e+09</td>\n      <td>214383720</td>\n      <td>0</td>\n      <td>0</td>\n      <td>0</td>\n      <td>5</td>\n      <td>688964</td>\n      <td>0</td>\n      <td>0</td>\n      <td>0</td>\n      <td>...</td>\n      <td>688964.0</td>\n      <td>688964.0</td>\n      <td>0.0</td>\n      <td>0.0</td>\n      <td>0.0</td>\n      <td>0.0</td>\n      <td>0.0</td>\n      <td>0.0</td>\n      <td>0.0</td>\n      <td>0.0</td>\n    </tr>\n    <tr>\n      <th>9</th>\n      <td>1.431130e+09</td>\n      <td>243346080</td>\n      <td>0</td>\n      <td>0</td>\n      <td>0</td>\n      <td>5</td>\n      <td>689035</td>\n      <td>0</td>\n      <td>0</td>\n      <td>0</td>\n      <td>...</td>\n      <td>689035.0</td>\n      <td>689035.0</td>\n      <td>0.0</td>\n      <td>0.0</td>\n      <td>0.0</td>\n      <td>0.0</td>\n      <td>0.0</td>\n      <td>0.0</td>\n      <td>0.0</td>\n      <td>0.0</td>\n    </tr>\n  </tbody>\n</table>\n<p>10 rows × 47 columns</p>\n</div>"
     },
     "execution_count": 229,
     "metadata": {},
     "output_type": "execute_result"
    }
   ],
   "source": [
    "df_resampled.head(10)\n"
   ],
   "metadata": {
    "collapsed": false
   }
  },
  {
   "cell_type": "code",
   "execution_count": 230,
   "outputs": [],
   "source": [
    "df = df_resampled"
   ],
   "metadata": {
    "collapsed": false
   }
  },
  {
   "cell_type": "markdown",
   "source": [
    "### Separação dos dados entre treino e teste por estratificação"
   ],
   "metadata": {
    "collapsed": false
   }
  },
  {
   "cell_type": "code",
   "execution_count": 231,
   "outputs": [
    {
     "name": "stdout",
     "output_type": "stream",
     "text": [
      "Proporção de classe no conjunto de treino: 0    0.970929\n",
      "1    0.029071\n",
      "Name: failure, dtype: float64\n",
      "Proporção de classe no conjunto de teste: 0    0.97072\n",
      "1    0.02928\n",
      "Name: failure, dtype: float64\n",
      "\n",
      "Número de registros no conjunto de treino: 80700\n",
      "Número de registros no conjunto de teste: 14242\n",
      "\n",
      "Contagem de valores failure no conjunto de treino:\n",
      "0    78354\n",
      "1     2346\n",
      "Name: failure, dtype: int64\n",
      "\n",
      "Contagem de valores failure no conjunto de teste:\n",
      "0    13825\n",
      "1      417\n",
      "Name: failure, dtype: int64\n"
     ]
    }
   ],
   "source": [
    "from sklearn.model_selection import train_test_split\n",
    "# Separando as features e o target\n",
    "X = df.drop('failure', axis=1)\n",
    "y = df['failure']\n",
    "stratify_col = df['device_encoder']\n",
    "\n",
    "# dividindo o conjunto de dados em treino e teste com estratificação\n",
    "X_train, X_test, y_train, y_test = train_test_split(X, y, stratify=stratify_col, test_size=0.15, random_state=45)\n",
    "\n",
    "# Verificando as proporções das classes nos conjuntos de treino e teste\n",
    "print('Proporção de classe no conjunto de treino:', y_train.value_counts(normalize=True))\n",
    "print('Proporção de classe no conjunto de teste:', y_test.value_counts(normalize=True))\n",
    "\n",
    "# Exibindo a quantidade de registros em cada conjunto de dados\n",
    "print('\\nNúmero de registros no conjunto de treino:', len(X_train))\n",
    "print('Número de registros no conjunto de teste:', len(X_test))\n",
    "\n",
    "# Exibindo a contagem de valores únicos na coluna 'failure' para cada conjunto de dados\n",
    "print('\\nContagem de valores failure no conjunto de treino:')\n",
    "print(y_train.value_counts())\n",
    "\n",
    "print('\\nContagem de valores failure no conjunto de teste:')\n",
    "print(y_test.value_counts())"
   ],
   "metadata": {
    "collapsed": false
   }
  },
  {
   "cell_type": "code",
   "execution_count": 232,
   "outputs": [],
   "source": [
    "#Tranformando novamente as colunas de data\n",
    "# df_resampled['date'] = pd.to_datetime(df_resampled['date'],unit='s')\n",
    "# df_resampled['start_date'] = pd.to_datetime(df_resampled['start_date'],unit='s')\n",
    "#\n",
    "# df_resampled['start_date'] = df_resampled['start_date'].dt.strftime('%Y-%m-%d')\n",
    "# df_resampled['date'] = df_resampled['date'].dt.strftime('%Y-%m-%d')"
   ],
   "metadata": {
    "collapsed": false
   }
  },
  {
   "cell_type": "markdown",
   "source": [
    "### Oversampling mais intenso com SMOTE nos dados de treino"
   ],
   "metadata": {
    "collapsed": false
   }
  },
  {
   "cell_type": "code",
   "execution_count": 233,
   "outputs": [
    {
     "name": "stdout",
     "output_type": "stream",
     "text": [
      "Contagem de classe antes do oversampling: Counter({0: 78354, 1: 2346})\n",
      "Contagem de classe depois do oversampling: Counter({0: 78354, 1: 76008})\n",
      "0.4924009795156839\n"
     ]
    }
   ],
   "source": [
    "# Concatenando as features e o target\n",
    "train_df = pd.concat([X_train, y_train], axis=1)\n",
    "# Chamando a função de Oversampling, agora permitindo uma taxa maior\n",
    "train_df = oversamplit_SMOTE(train_df, 1)"
   ],
   "metadata": {
    "collapsed": false
   }
  },
  {
   "cell_type": "code",
   "execution_count": 234,
   "outputs": [
    {
     "data": {
      "text/plain": "0    92179\n1     2763\nName: failure, dtype: int64"
     },
     "execution_count": 234,
     "metadata": {},
     "output_type": "execute_result"
    }
   ],
   "source": [
    "df.failure.value_counts()"
   ],
   "metadata": {
    "collapsed": false
   }
  },
  {
   "cell_type": "markdown",
   "source": [
    "agora irei trabalhar com esse novo dataset para treinamento dos modelos - train_df"
   ],
   "metadata": {
    "collapsed": false
   }
  },
  {
   "cell_type": "markdown",
   "source": [
    "##### Inicialmente, irei utilizar todas colunas para avaliação de Feaute importance."
   ],
   "metadata": {
    "collapsed": false
   }
  },
  {
   "cell_type": "code",
   "execution_count": 235,
   "outputs": [
    {
     "name": "stdout",
     "output_type": "stream",
     "text": [
      "\n",
      "Contagem de valores failure no conjunto de treino:\n",
      "0    73726\n",
      "1     2227\n",
      "Name: failure, dtype: int64\n",
      "\n",
      "Contagem de valores failure no conjunto de teste:\n",
      "0    18453\n",
      "1      536\n",
      "Name: failure, dtype: int64\n"
     ]
    }
   ],
   "source": [
    "# Separando as features e o target\n",
    "X2 = df.drop('failure', axis=1)\n",
    "y2 = df['failure']\n",
    "stratify_col2 = df['device_encoder']\n",
    "\n",
    "# dividindo o conjunto de dados em treino e teste com estratificação\n",
    "X_train2, X_test2, y_train2, y_test2 = train_test_split(X2, y2, stratify=stratify_col2, test_size=0.20, random_state=45)\n",
    "\n",
    "# Exibindo a contagem de valores únicos na coluna 'failure' para cada conjunto de dados\n",
    "print('\\nContagem de valores failure no conjunto de treino:')\n",
    "print(y_train2.value_counts())\n",
    "\n",
    "print('\\nContagem de valores failure no conjunto de teste:')\n",
    "print(y_test2.value_counts())"
   ],
   "metadata": {
    "collapsed": false
   }
  },
  {
   "cell_type": "markdown",
   "source": [
    "# Modelagem"
   ],
   "metadata": {
    "collapsed": false
   }
  },
  {
   "cell_type": "code",
   "execution_count": 236,
   "outputs": [],
   "source": [
    "#imports das bibliotecas para treinar os modelos\n",
    "from sklearn.pipeline import Pipeline\n",
    "from sklearn.linear_model import LogisticRegression\n",
    "from sklearn.tree import DecisionTreeClassifier\n",
    "from sklearn.ensemble import GradientBoostingClassifier\n",
    "from sklearn.neighbors import KNeighborsClassifier\n",
    "from sklearn.ensemble import RandomForestClassifier\n",
    "from sklearn.svm import SVC\n",
    "\n",
    "\n",
    "from sklearn.metrics import f1_score\n",
    "from sklearn.metrics import classification_report\n",
    "from sklearn.metrics import accuracy_score\n",
    "from sklearn.metrics import confusion_matrix\n",
    "from sklearn.metrics import ConfusionMatrixDisplay\n",
    "from sklearn.metrics import precision_score\n",
    "from sklearn.metrics import recall_score\n",
    "from sklearn.inspection import permutation_importance\n",
    "from sklearn.metrics import roc_curve, roc_auc_score"
   ],
   "metadata": {
    "collapsed": false
   }
  },
  {
   "cell_type": "code",
   "execution_count": 237,
   "outputs": [],
   "source": [
    "# Função para chamar o pipeline de predição e gerar a confusion matrix\n",
    "def prediction_pipe(clf):\n",
    "  clf.fit(X_train2, y_train2)\n",
    "  y_pred = clf.predict(X_test2)\n",
    "  cm = confusion_matrix(y_test2, y_pred, labels=clf.classes_, normalize='all')\n",
    "  print('F1 Score:', f1_score(y_test2, y_pred))\n",
    "  print('Matriz de confusão: \\n', cm, '\\n')\n",
    "  print(\"===============================================\")"
   ],
   "metadata": {
    "collapsed": false
   }
  },
  {
   "cell_type": "code",
   "execution_count": 238,
   "outputs": [
    {
     "name": "stdout",
     "output_type": "stream",
     "text": [
      "Logistic Regression\n"
     ]
    },
    {
     "name": "stderr",
     "output_type": "stream",
     "text": [
      "F:\\PycharmProjects\\DesaioMELI\\meli\\Lib\\site-packages\\sklearn\\linear_model\\_logistic.py:458: ConvergenceWarning: lbfgs failed to converge (status=1):\n",
      "STOP: TOTAL NO. of ITERATIONS REACHED LIMIT.\n",
      "\n",
      "Increase the number of iterations (max_iter) or scale the data as shown in:\n",
      "    https://scikit-learn.org/stable/modules/preprocessing.html\n",
      "Please also refer to the documentation for alternative solver options:\n",
      "    https://scikit-learn.org/stable/modules/linear_model.html#logistic-regression\n",
      "  n_iter_i = _check_optimize_result(\n"
     ]
    },
    {
     "name": "stdout",
     "output_type": "stream",
     "text": [
      "F1 Score: 0.0\n",
      "Matriz de confusão: \n",
      " [[9.71667808e-01 1.05324135e-04]\n",
      " [2.82268682e-02 0.00000000e+00]] \n",
      "\n",
      "===============================================\n",
      "Decision Tree\n",
      "F1 Score: 0.9721189591078068\n",
      "Matriz de confusão: \n",
      " [[9.70877877e-01 8.95255148e-04]\n",
      " [6.84606878e-04 2.75422613e-02]] \n",
      "\n",
      "===============================================\n",
      "Gradient Boosting\n",
      "F1 Score: 0.9812382739212007\n",
      "Matriz de confusão: \n",
      " [[9.71404497e-01 3.68634473e-04]\n",
      " [6.84606878e-04 2.75422613e-02]] \n",
      "\n",
      "===============================================\n",
      "Random Forest\n",
      "F1 Score: 0.9840075258701788\n",
      "Matriz de confusão: \n",
      " [[9.71562484e-01 2.10648270e-04]\n",
      " [6.84606878e-04 2.75422613e-02]] \n",
      "\n",
      "===============================================\n",
      "KNeighbors\n",
      "F1 Score: 0.16842105263157894\n",
      "Matriz de confusão: \n",
      " [[0.9679288  0.00384433]\n",
      " [0.02527779 0.00294908]] \n",
      "\n",
      "===============================================\n"
     ]
    }
   ],
   "source": [
    "\n",
    "# Aplicando pipelines de modelos para diferentes classificadores\n",
    "pipeline_lr = Pipeline([('lr_classifier',LogisticRegression())])\n",
    "# pipeline_svm = Pipeline([('svm_classifier',SVC())])\n",
    "pipeline_dt = Pipeline([('dt_classifier',DecisionTreeClassifier())])\n",
    "pipeline_gbcl = Pipeline([('gbcl_classifier',GradientBoostingClassifier())])\n",
    "pipeline_rf = Pipeline([('rf_classifier',RandomForestClassifier())])\n",
    "pipeline_knn = Pipeline([('knn_classifier',KNeighborsClassifier())])\n",
    "\n",
    "\n",
    "# Aplicando modelos\n",
    "\n",
    "pipelines = {'Logistic Regression':pipeline_lr, 'Decision Tree':pipeline_dt, 'Gradient Boosting':pipeline_gbcl, 'Random Forest':pipeline_rf, 'KNeighbors':pipeline_knn }\n",
    "for k, pipe in pipelines.items():\n",
    "  print(k)\n",
    "  prediction_pipe(pipe)"
   ],
   "metadata": {
    "collapsed": false
   }
  },
  {
   "cell_type": "markdown",
   "source": [
    "Random Forest se mostrou o algoritmo com melhor desempenho, vou seguir com ele para fazer o ajuste de hiperparametro e avaliação do modelo."
   ],
   "metadata": {
    "collapsed": false
   }
  },
  {
   "cell_type": "code",
   "execution_count": 239,
   "outputs": [],
   "source": [
    "\n",
    "# Aplicando o Random Forest\n",
    "params = {\n",
    "    'n_estimators': 75,\n",
    "     'min_samples_split': 10,\n",
    "     'min_samples_leaf': 2,\n",
    "     'max_features': 'sqrt',\n",
    "     'max_depth': 3,\n",
    "     'bootstrap': True}\n",
    "\n",
    "clf = RandomForestClassifier(**params)\n",
    "clf.fit(X_train2, y_train2)\n",
    "y_pred = clf.predict(X_test2)"
   ],
   "metadata": {
    "collapsed": false
   }
  },
  {
   "cell_type": "code",
   "execution_count": 240,
   "outputs": [
    {
     "name": "stdout",
     "output_type": "stream",
     "text": [
      "              precision    recall  f1-score   support\n",
      "\n",
      "           0       1.00      1.00      1.00     18453\n",
      "           1       1.00      0.96      0.98       536\n",
      "\n",
      "    accuracy                           1.00     18989\n",
      "   macro avg       1.00      0.98      0.99     18989\n",
      "weighted avg       1.00      1.00      1.00     18989\n",
      "\n"
     ]
    }
   ],
   "source": [
    "#Agora o teste com o outro dataset de teste que separei no primeiro Oversampling\n",
    "print(classification_report(y_test2, clf.predict(X_test2)))"
   ],
   "metadata": {
    "collapsed": false
   }
  },
  {
   "cell_type": "code",
   "execution_count": 241,
   "outputs": [
    {
     "data": {
      "text/plain": "<Figure size 640x480 with 2 Axes>",
      "image/png": "[encoded data removed]"
     },
     "metadata": {},
     "output_type": "display_data"
    }
   ],
   "source": [
    "# Matriz de confusão\n",
    "cm = confusion_matrix(y_test2, y_pred, labels=clf.classes_)\n",
    "disp = ConfusionMatrixDisplay(confusion_matrix=cm, display_labels=clf.classes_)\n",
    "disp.plot()\n",
    "plt.show()"
   ],
   "metadata": {
    "collapsed": false
   }
  },
  {
   "cell_type": "markdown",
   "source": [
    "A previsão para não falha está boa, como era de se esperar pela quantidade de dados dessa classe.\n",
    "O percentual de TP está dentro da proporção esperada, mas ainda há uma melhoria a ser feita, visto que o custo para uma manutenção preventiva é a metade do custo para manutenção quando o equipamento quebra, uma quantidade maior de Falso positivo (até um certo limite) geraria um custo menor comparado com Falso Negativo, ou seja, se o modelo prever que um equipamento irá falhar e acarretar manutenção, sem estar quebrado, é melhor do que prever que o equipamento não irá falhar e ele falhar, de acordo com os custos infomados na descrição do problema.\n",
    "Então, o FN pode na verdade tornar o modelo nada eficiente. Nos próximos passos irei fazer a análise das features e alterar o peso de cada target, se melhorar essa questão, manterei o modelo, caso contrário, partirei para a abordagem de aprendizado Semi-supervisionado, antes de fazer a modelagem por mês.\n",
    "Essa abordagem mensal exigiria reprocessamento do Oversampling para se adequar a janela."
   ],
   "metadata": {
    "collapsed": false
   }
  },
  {
   "cell_type": "markdown",
   "source": [
    "Segundo o enunciado: a falha do equipamento tem custo 1 e a manutenção preventiva tem custo 0.5.\n",
    "Vou usar isso como peso no treinamento e na avaliação (se por exemplo, para X equipamentos monitorados, qual o custo gerado de acordo com a previsão do modelo e resultado da confusion matrix)."
   ],
   "metadata": {
    "collapsed": false
   }
  },
  {
   "cell_type": "markdown",
   "source": [
    "#### Seguindo com a análise de feature importance"
   ],
   "metadata": {
    "collapsed": false
   }
  },
  {
   "cell_type": "code",
   "execution_count": 242,
   "outputs": [
    {
     "data": {
      "text/plain": "array([[9.98973640e-01, 1.02636018e-03],\n       [9.99185554e-01, 8.14446018e-04],\n       [9.98152945e-01, 1.84705460e-03],\n       ...,\n       [9.98154888e-01, 1.84511242e-03],\n       [9.99070778e-01, 9.29222256e-04],\n       [9.98906307e-01, 1.09369269e-03]])"
     },
     "execution_count": 242,
     "metadata": {},
     "output_type": "execute_result"
    }
   ],
   "source": [
    "# Prever as probabilidades da classe positiva (1) para os dados de teste\n",
    "clf.predict_proba(X_test2)"
   ],
   "metadata": {
    "collapsed": false
   }
  },
  {
   "cell_type": "code",
   "execution_count": 243,
   "outputs": [
    {
     "name": "stdout",
     "output_type": "stream",
     "text": [
      "TPR:  0.6548507462686567\n",
      "FPR:  0.33335139724344737\n",
      "thresholds 1.0\n"
     ]
    }
   ],
   "source": [
    "# Prever as probabilidades da classe positiva (1) para os dados de teste\n",
    "y_pred_prob = clf.predict_proba(X_test2)[:,1]\n",
    "fpr, tpr, thresholds = roc_curve(y_test2, y_pred)\n",
    "print('TPR: ', tpr.mean())\n",
    "print('FPR: ',fpr.mean())\n",
    "print('thresholds', thresholds.mean())"
   ],
   "metadata": {
    "collapsed": false
   }
  },
  {
   "cell_type": "code",
   "execution_count": 244,
   "outputs": [
    {
     "name": "stderr",
     "output_type": "stream",
     "text": [
      "No artists with labels found to put in legend.  Note that artists whose label start with an underscore are ignored when legend() is called with no argument.\n"
     ]
    },
    {
     "data": {
      "text/plain": "<Figure size 640x480 with 1 Axes>",
      "image/png": "[encoded data removed]"
     },
     "metadata": {},
     "output_type": "display_data"
    }
   ],
   "source": [
    "# Plotar a curva ROC\n",
    "plt.plot(fpr, tpr, color='darkorange', lw=2)\n",
    "plt.plot([0, 1], [0, 1], color='navy', lw=2, linestyle='--')\n",
    "plt.xlim([0.0, 1.0])\n",
    "plt.ylim([0.0, 1.05])\n",
    "plt.xlabel('Taxa de Falsos Positivos')\n",
    "plt.ylabel('Taxa de Verdadeiros Positivos')\n",
    "plt.title('Curva ROC')\n",
    "plt.legend(loc=\"lower right\")\n",
    "plt.show()"
   ],
   "metadata": {
    "collapsed": false
   }
  },
  {
   "cell_type": "code",
   "execution_count": 245,
   "outputs": [
    {
     "name": "stdout",
     "output_type": "stream",
     "text": [
      "Valor AUC: 0.98\n"
     ]
    }
   ],
   "source": [
    "print('Valor AUC: {:.2f}'.format(roc_auc_score(y_test2, y_pred)))"
   ],
   "metadata": {
    "collapsed": false
   }
  },
  {
   "cell_type": "markdown",
   "source": [
    "# Modelo final"
   ],
   "metadata": {
    "collapsed": false
   }
  },
  {
   "cell_type": "code",
   "execution_count": 246,
   "outputs": [],
   "source": [
    "# Aplicando o Random Forest com pesos diferentes para as classes 0-não falha e 1-falha\n",
    "\n",
    "params = {\n",
    "    'n_estimators': 100,\n",
    "     'min_samples_split': 2,\n",
    "     'min_samples_leaf': 3,\n",
    "     'max_features': 'sqrt',\n",
    "     'max_depth': 2,\n",
    "     'bootstrap': True,\n",
    "     #peso maior para positiva\n",
    "    }\n",
    "crf = RandomForestClassifier(**params, class_weight={0: 0.5, 1: 10})\n",
    "\n",
    "crf.fit(X_train2, y_train2)\n",
    "y_pred = clf.predict(X_test2)"
   ],
   "metadata": {
    "collapsed": false
   }
  },
  {
   "cell_type": "code",
   "execution_count": 247,
   "outputs": [
    {
     "name": "stdout",
     "output_type": "stream",
     "text": [
      "              precision    recall  f1-score   support\n",
      "\n",
      "           0       1.00      1.00      1.00     18453\n",
      "           1       0.97      0.97      0.97       536\n",
      "\n",
      "    accuracy                           1.00     18989\n",
      "   macro avg       0.98      0.99      0.99     18989\n",
      "weighted avg       1.00      1.00      1.00     18989\n",
      "\n"
     ]
    }
   ],
   "source": [
    "#Report\n",
    "print(classification_report(y_test2, crf.predict(X_test2)))"
   ],
   "metadata": {
    "collapsed": false
   }
  },
  {
   "cell_type": "code",
   "execution_count": 248,
   "outputs": [
    {
     "data": {
      "text/plain": "date                 0.000000e+00\nattribute1           0.000000e+00\nattribute9_median    0.000000e+00\nattribute3           0.000000e+00\nattribute3_min       0.000000e+00\nattribute3_median    0.000000e+00\nattribute1_min       0.000000e+00\nattribute1_median    0.000000e+00\nattribute9           0.000000e+00\nflipper              0.000000e+00\nstart_date           0.000000e+00\ntoo_soon             0.000000e+00\ndevice_encoder       0.000000e+00\nattribute1_mean      7.176462e-07\nattribute3_mean      7.313149e-06\ntime_since_start     1.067277e-05\nattribute6           2.849907e-05\nattribute6_median    1.194167e-04\nattribute1_max       1.771342e-04\nattribute7_min       3.432175e-04\nattribute5_median    7.509553e-04\nattribute9_min       8.951042e-04\nattribute5           1.176591e-03\nattribute4_min       2.282346e-03\nattribute2_min       2.352189e-03\nattribute3_max       3.715029e-03\nattribute5_mean      5.030431e-03\nattribute4           6.263294e-03\nattribute7           6.976030e-03\nattribute9_mean      6.988486e-03\nattribute6_mean      7.747347e-03\nattribute5_min       8.276427e-03\nattribute6_max       1.295411e-02\nattribute6_min       1.677029e-02\nattribute4_median    2.569370e-02\nattribute2           2.679393e-02\nattribute5_max       4.216008e-02\nattribute9_max       4.633785e-02\nattribute4_max       4.672730e-02\nattribute2_max       6.285105e-02\nattribute2_median    7.308541e-02\nattribute7_max       7.800441e-02\nattribute2_mean      9.777945e-02\nattribute7_median    1.019354e-01\nattribute4_mean      1.231371e-01\nattribute7_mean      1.926287e-01\ndtype: float64"
     },
     "execution_count": 248,
     "metadata": {},
     "output_type": "execute_result"
    }
   ],
   "source": [
    "# view das feature scores\n",
    "feature_scores = pd.Series(crf.feature_importances_, index=X_train2.columns).sort_values()\n",
    "feature_scores"
   ],
   "metadata": {
    "collapsed": false
   }
  },
  {
   "cell_type": "markdown",
   "source": [
    "A maioria das features de menos importância foram criadas na Parte de Feature Engineering.\n",
    "A que tem maior score é justamente a que determinar o 'inicio do ciclo' de cada máquina, ."
   ],
   "metadata": {
    "collapsed": false
   }
  },
  {
   "cell_type": "markdown",
   "source": [
    "#### Avaliando desempenho com o dataframe de teste criado com menos oversampling e sem as features que mostraram menos importância."
   ],
   "metadata": {
    "collapsed": false
   }
  },
  {
   "cell_type": "code",
   "execution_count": 249,
   "outputs": [
    {
     "data": {
      "text/plain": "['date',\n 'attribute1',\n 'attribute9_median',\n 'attribute3',\n 'attribute3_min',\n 'attribute3_median',\n 'attribute1_min',\n 'attribute1_median',\n 'attribute9',\n 'flipper',\n 'start_date',\n 'too_soon']"
     },
     "execution_count": 249,
     "metadata": {},
     "output_type": "execute_result"
    }
   ],
   "source": [
    "# Gráfico para plotar as features e seus scores\n",
    "# f, ax = plt.subplots(figsize=(10, 12))\n",
    "# ax = sns.barplot(x=feature_scores, y=feature_scores.index, data=feature_scores, orient='h')\n",
    "# ax.set_title(\"Visualize feature scores of the features\")\n",
    "# ax.set_yticklabels(feature_scores.index)\n",
    "# ax.set_xlabel(\"Feature importance score\")\n",
    "# ax.set_ylabel(\"Features\")\n",
    "# plt.show()\n",
    "feature_scores.index.to_list()[0:12]"
   ],
   "metadata": {
    "collapsed": false
   }
  },
  {
   "cell_type": "code",
   "execution_count": 250,
   "outputs": [],
   "source": [
    "features_filter_off = feature_scores.index.to_list()[0:12]"
   ],
   "metadata": {
    "collapsed": false
   }
  },
  {
   "cell_type": "code",
   "execution_count": 251,
   "outputs": [
    {
     "data": {
      "text/plain": "['date',\n 'attribute1',\n 'attribute9_median',\n 'attribute3',\n 'attribute3_min',\n 'attribute3_median',\n 'attribute1_min',\n 'attribute1_median',\n 'attribute9',\n 'flipper',\n 'start_date',\n 'too_soon']"
     },
     "execution_count": 251,
     "metadata": {},
     "output_type": "execute_result"
    }
   ],
   "source": [
    "features_filter_off"
   ],
   "metadata": {
    "collapsed": false
   }
  },
  {
   "cell_type": "markdown",
   "source": [
    "# Avaliação do modelo e custo operacional"
   ],
   "metadata": {
    "collapsed": false
   }
  },
  {
   "cell_type": "markdown",
   "source": [
    "Com os dados de teste com menor oversampling"
   ],
   "metadata": {
    "collapsed": false
   }
  },
  {
   "cell_type": "code",
   "execution_count": 295,
   "outputs": [
    {
     "name": "stdout",
     "output_type": "stream",
     "text": [
      "              precision    recall  f1-score   support\n",
      "\n",
      "           0       1.00      1.00      1.00     13825\n",
      "           1       0.95      0.98      0.96       417\n",
      "\n",
      "    accuracy                           1.00     14242\n",
      "   macro avg       0.98      0.99      0.98     14242\n",
      "weighted avg       1.00      1.00      1.00     14242\n",
      "\n"
     ]
    }
   ],
   "source": [
    "crf.fit(X_train, y_train)\n",
    "y_pred = crf.predict(X_test)\n",
    "#Report\n",
    "print(classification_report(y_test, crf.predict(X_test)))"
   ],
   "metadata": {
    "collapsed": false
   }
  },
  {
   "cell_type": "code",
   "execution_count": 296,
   "outputs": [
    {
     "data": {
      "text/plain": "       0    1\n0  13805   20\n1     10  407",
      "text/html": "<div>\n<style scoped>\n    .dataframe tbody tr th:only-of-type {\n        vertical-align: middle;\n    }\n\n    .dataframe tbody tr th {\n        vertical-align: top;\n    }\n\n    .dataframe thead th {\n        text-align: right;\n    }\n</style>\n<table border=\"1\" class=\"dataframe\">\n  <thead>\n    <tr style=\"text-align: right;\">\n      <th></th>\n      <th>0</th>\n      <th>1</th>\n    </tr>\n  </thead>\n  <tbody>\n    <tr>\n      <th>0</th>\n      <td>13805</td>\n      <td>20</td>\n    </tr>\n    <tr>\n      <th>1</th>\n      <td>10</td>\n      <td>407</td>\n    </tr>\n  </tbody>\n</table>\n</div>"
     },
     "execution_count": 296,
     "metadata": {},
     "output_type": "execute_result"
    }
   ],
   "source": [
    "cm = pd.DataFrame(confusion_matrix(y_test, y_pred, labels=clf.classes_))\n",
    "cm"
   ],
   "metadata": {
    "collapsed": false
   }
  },
  {
   "cell_type": "markdown",
   "source": [
    "#### Custo por equipamento\n",
    "Custo caso previsão de não falha (Verdadeiro negativo): 0.\n",
    "Custo caso não precise de manutenção (Falso positivo) vou assumir o mesmo do verdadeiro Positivo: 0.5\n",
    "Custo de uma falha (Falso Negativo):  1\n",
    "Custo de manutenção antes da falha(Verdadeiro Positivo): 0.5\n",
    "Usando a precisão de 90% (considerando os valores de acurácia e sendo mais conservadora).\n",
    "\n",
    "Custo sem o modelo: 1\n"
   ],
   "metadata": {
    "collapsed": false
   }
  },
  {
   "cell_type": "markdown",
   "source": [
    "Calculando o custo para manutenção de cada equipamento monitorado"
   ],
   "metadata": {
    "collapsed": false
   }
  },
  {
   "cell_type": "markdown",
   "source": [
    "Nas etapas iniciais, vimos que 75% dos dispositivos falhar em até 163 dias a partir da data de monitoramento, com mais dispositos tendo sua falha 18 dias após a data inicial. Então, dentro dessa janela de 163 dias, tem uma probabilidade de falha de 75% para algum dispositivo. Vou usar essa informalção no cálculo estimado de custo.\n",
    "Vou usar uma precisão de 90%, menor do que a retornada pela avaliação do modelo, por margem."
   ],
   "metadata": {
    "collapsed": false
   }
  },
  {
   "cell_type": "code",
   "execution_count": 297,
   "outputs": [
    {
     "data": {
      "text/plain": "       0    1\n0  13805   20\n1     10  407",
      "text/html": "<div>\n<style scoped>\n    .dataframe tbody tr th:only-of-type {\n        vertical-align: middle;\n    }\n\n    .dataframe tbody tr th {\n        vertical-align: top;\n    }\n\n    .dataframe thead th {\n        text-align: right;\n    }\n</style>\n<table border=\"1\" class=\"dataframe\">\n  <thead>\n    <tr style=\"text-align: right;\">\n      <th></th>\n      <th>0</th>\n      <th>1</th>\n    </tr>\n  </thead>\n  <tbody>\n    <tr>\n      <th>0</th>\n      <td>13805</td>\n      <td>20</td>\n    </tr>\n    <tr>\n      <th>1</th>\n      <td>10</td>\n      <td>407</td>\n    </tr>\n  </tbody>\n</table>\n</div>"
     },
     "execution_count": 297,
     "metadata": {},
     "output_type": "execute_result"
    }
   ],
   "source": [
    "cm\n"
   ],
   "metadata": {
    "collapsed": false
   }
  },
  {
   "cell_type": "code",
   "execution_count": 298,
   "outputs": [],
   "source": [
    "# Transpose do dataframe\n",
    "df_t = cm.T\n",
    "\n",
    "# Selecionar a segunda coluna (que agora é a segunda linha)\n",
    "linha2 = df_t.iloc[:, 1]\n",
    "\n",
    "# Criar duas novas colunas com os valores da segunda linha\n",
    "cm['FN'] = linha2[0]\n",
    "cm['VP'] = linha2[1]\n",
    "cm.rename(columns={0:'VN', 1:'FP'}, inplace=True)\n"
   ],
   "metadata": {
    "collapsed": false
   }
  },
  {
   "cell_type": "code",
   "execution_count": 299,
   "outputs": [
    {
     "data": {
      "text/plain": "      VN  FP  FN   VP\n0  13805  20  10  407",
      "text/html": "<div>\n<style scoped>\n    .dataframe tbody tr th:only-of-type {\n        vertical-align: middle;\n    }\n\n    .dataframe tbody tr th {\n        vertical-align: top;\n    }\n\n    .dataframe thead th {\n        text-align: right;\n    }\n</style>\n<table border=\"1\" class=\"dataframe\">\n  <thead>\n    <tr style=\"text-align: right;\">\n      <th></th>\n      <th>VN</th>\n      <th>FP</th>\n      <th>FN</th>\n      <th>VP</th>\n    </tr>\n  </thead>\n  <tbody>\n    <tr>\n      <th>0</th>\n      <td>13805</td>\n      <td>20</td>\n      <td>10</td>\n      <td>407</td>\n    </tr>\n  </tbody>\n</table>\n</div>"
     },
     "execution_count": 299,
     "metadata": {},
     "output_type": "execute_result"
    }
   ],
   "source": [
    "cm = cm.iloc[0:1]\n",
    "cm"
   ],
   "metadata": {
    "collapsed": false
   }
  },
  {
   "cell_type": "code",
   "execution_count": 300,
   "outputs": [
    {
     "data": {
      "text/plain": "        0\nVN  13805\nFP     20\nFN     10\nVP    407",
      "text/html": "<div>\n<style scoped>\n    .dataframe tbody tr th:only-of-type {\n        vertical-align: middle;\n    }\n\n    .dataframe tbody tr th {\n        vertical-align: top;\n    }\n\n    .dataframe thead th {\n        text-align: right;\n    }\n</style>\n<table border=\"1\" class=\"dataframe\">\n  <thead>\n    <tr style=\"text-align: right;\">\n      <th></th>\n      <th>0</th>\n    </tr>\n  </thead>\n  <tbody>\n    <tr>\n      <th>VN</th>\n      <td>13805</td>\n    </tr>\n    <tr>\n      <th>FP</th>\n      <td>20</td>\n    </tr>\n    <tr>\n      <th>FN</th>\n      <td>10</td>\n    </tr>\n    <tr>\n      <th>VP</th>\n      <td>407</td>\n    </tr>\n  </tbody>\n</table>\n</div>"
     },
     "execution_count": 300,
     "metadata": {},
     "output_type": "execute_result"
    }
   ],
   "source": [
    "cm = cm.T\n",
    "cm"
   ],
   "metadata": {
    "collapsed": false
   }
  },
  {
   "cell_type": "code",
   "execution_count": 301,
   "outputs": [
    {
     "data": {
      "text/plain": "        0  cost\nVN  13805   0.0\nFP     20   0.5\nFN     10   1.0\nVP    407   0.5",
      "text/html": "<div>\n<style scoped>\n    .dataframe tbody tr th:only-of-type {\n        vertical-align: middle;\n    }\n\n    .dataframe tbody tr th {\n        vertical-align: top;\n    }\n\n    .dataframe thead th {\n        text-align: right;\n    }\n</style>\n<table border=\"1\" class=\"dataframe\">\n  <thead>\n    <tr style=\"text-align: right;\">\n      <th></th>\n      <th>0</th>\n      <th>cost</th>\n    </tr>\n  </thead>\n  <tbody>\n    <tr>\n      <th>VN</th>\n      <td>13805</td>\n      <td>0.0</td>\n    </tr>\n    <tr>\n      <th>FP</th>\n      <td>20</td>\n      <td>0.5</td>\n    </tr>\n    <tr>\n      <th>FN</th>\n      <td>10</td>\n      <td>1.0</td>\n    </tr>\n    <tr>\n      <th>VP</th>\n      <td>407</td>\n      <td>0.5</td>\n    </tr>\n  </tbody>\n</table>\n</div>"
     },
     "execution_count": 301,
     "metadata": {},
     "output_type": "execute_result"
    }
   ],
   "source": [
    "#custo de cada cenário\n",
    "cm['cost'] = [0,0.5,1,0.5]\n",
    "cm"
   ],
   "metadata": {
    "collapsed": false
   }
  },
  {
   "cell_type": "code",
   "execution_count": 302,
   "outputs": [
    {
     "data": {
      "text/plain": "      qtd  cost  total\nVN  13805   0.0    0.0\nFP     20   0.5   10.0\nFN     10   1.0   10.0\nVP    407   0.5  203.5",
      "text/html": "<div>\n<style scoped>\n    .dataframe tbody tr th:only-of-type {\n        vertical-align: middle;\n    }\n\n    .dataframe tbody tr th {\n        vertical-align: top;\n    }\n\n    .dataframe thead th {\n        text-align: right;\n    }\n</style>\n<table border=\"1\" class=\"dataframe\">\n  <thead>\n    <tr style=\"text-align: right;\">\n      <th></th>\n      <th>qtd</th>\n      <th>cost</th>\n      <th>total</th>\n    </tr>\n  </thead>\n  <tbody>\n    <tr>\n      <th>VN</th>\n      <td>13805</td>\n      <td>0.0</td>\n      <td>0.0</td>\n    </tr>\n    <tr>\n      <th>FP</th>\n      <td>20</td>\n      <td>0.5</td>\n      <td>10.0</td>\n    </tr>\n    <tr>\n      <th>FN</th>\n      <td>10</td>\n      <td>1.0</td>\n      <td>10.0</td>\n    </tr>\n    <tr>\n      <th>VP</th>\n      <td>407</td>\n      <td>0.5</td>\n      <td>203.5</td>\n    </tr>\n  </tbody>\n</table>\n</div>"
     },
     "execution_count": 302,
     "metadata": {},
     "output_type": "execute_result"
    }
   ],
   "source": [
    "#custo total de cada cenário\n",
    "cm['total'] = cm[0] * cm['cost']\n",
    "cm.rename(columns={0:'qtd'})"
   ],
   "metadata": {
    "collapsed": false
   }
  },
  {
   "cell_type": "markdown",
   "source": [
    "Esse seria o custo unitário com o cenário da matriz de confusão dos dados de teste, com as previsões erradas e corretas.\n",
    " Na sequência, está a preparação dos dados para o cálculo do custo para a manutenção para quando o dispositivo falha e o custo de manutenção preventiva."
   ],
   "metadata": {
    "collapsed": false
   }
  },
  {
   "cell_type": "code",
   "execution_count": 303,
   "outputs": [],
   "source": [
    "df['date'] = pd.to_datetime(df['date'], unit='s')"
   ],
   "metadata": {
    "collapsed": false
   }
  },
  {
   "cell_type": "code",
   "execution_count": 304,
   "outputs": [],
   "source": [
    "ini_date = pd.to_datetime(df['date'][0])\n",
    "end_date = ini_date + pd.Timedelta(days=163)\n",
    "df_select = df.loc[df['date'] <= end_date]"
   ],
   "metadata": {
    "collapsed": false
   }
  },
  {
   "cell_type": "code",
   "execution_count": 310,
   "outputs": [
    {
     "data": {
      "text/plain": "(94942,)"
     },
     "execution_count": 310,
     "metadata": {},
     "output_type": "execute_result"
    }
   ],
   "source": [
    "df_select['device_encoder'].shape"
   ],
   "metadata": {
    "collapsed": false
   }
  },
  {
   "cell_type": "code",
   "execution_count": 311,
   "outputs": [
    {
     "data": {
      "text/plain": "1169"
     },
     "execution_count": 311,
     "metadata": {},
     "output_type": "execute_result"
    }
   ],
   "source": [
    "unique_devices = df_select['device_encoder'].nunique()\n",
    "unique_devices"
   ],
   "metadata": {
    "collapsed": false
   }
  },
  {
   "cell_type": "code",
   "execution_count": 335,
   "outputs": [],
   "source": [
    "# unique_devices_fail = df_select['device_encoder'][df['failure'] == 1].nunique() #todos os dispositivos que já falharam alguma vez e, até 163 dias\n",
    "# value =  unique_devices_fail        #caso a manutenção seja feita somente após a falha\n",
    "value_prev = cm['total'].sum()     #custo para cada cenário previsto do modelo"
   ],
   "metadata": {
    "collapsed": false
   }
  },
  {
   "cell_type": "code",
   "execution_count": 316,
   "outputs": [
    {
     "name": "stdout",
     "output_type": "stream",
     "text": [
      "1003 223.5\n"
     ]
    }
   ],
   "source": [
    "# print(value, value_prev)"
   ],
   "metadata": {
    "collapsed": false
   }
  },
  {
   "cell_type": "code",
   "execution_count": 333,
   "outputs": [
    {
     "data": {
      "text/plain": "      qtd  cost  total\nVN  13805   0.0    0.0\nFP     20   0.5   10.0\nFN     10   1.0   10.0\nVP    407   0.5  203.5",
      "text/html": "<div>\n<style scoped>\n    .dataframe tbody tr th:only-of-type {\n        vertical-align: middle;\n    }\n\n    .dataframe tbody tr th {\n        vertical-align: top;\n    }\n\n    .dataframe thead th {\n        text-align: right;\n    }\n</style>\n<table border=\"1\" class=\"dataframe\">\n  <thead>\n    <tr style=\"text-align: right;\">\n      <th></th>\n      <th>qtd</th>\n      <th>cost</th>\n      <th>total</th>\n    </tr>\n  </thead>\n  <tbody>\n    <tr>\n      <th>VN</th>\n      <td>13805</td>\n      <td>0.0</td>\n      <td>0.0</td>\n    </tr>\n    <tr>\n      <th>FP</th>\n      <td>20</td>\n      <td>0.5</td>\n      <td>10.0</td>\n    </tr>\n    <tr>\n      <th>FN</th>\n      <td>10</td>\n      <td>1.0</td>\n      <td>10.0</td>\n    </tr>\n    <tr>\n      <th>VP</th>\n      <td>407</td>\n      <td>0.5</td>\n      <td>203.5</td>\n    </tr>\n  </tbody>\n</table>\n</div>"
     },
     "execution_count": 333,
     "metadata": {},
     "output_type": "execute_result"
    }
   ],
   "source": [
    "#custo total de acordo com cada cenário\n",
    "cm\n",
    "cm.rename(columns={0:'qtd'},inplace=True)\n",
    "cm"
   ],
   "metadata": {
    "collapsed": false
   }
  },
  {
   "cell_type": "markdown",
   "source": [
    "Nesse cenário acima, o custo total sem o modelo, seria a soma de VP e FN, visto que o custo seria 1."
   ],
   "metadata": {
    "collapsed": false
   }
  },
  {
   "cell_type": "code",
   "execution_count": 352,
   "outputs": [
    {
     "data": {
      "text/plain": "417"
     },
     "execution_count": 352,
     "metadata": {},
     "output_type": "execute_result"
    }
   ],
   "source": [
    "value_cost_total = cm.iloc[(cm.index == 'FN') | (cm.index == 'VP')]\n",
    "value_cost_total = value_cost_total.qtd.sum()\n",
    "value_cost_total"
   ],
   "metadata": {
    "collapsed": false
   }
  },
  {
   "cell_type": "code",
   "execution_count": 353,
   "outputs": [
    {
     "name": "stdout",
     "output_type": "stream",
     "text": [
      "custo para manutenção somente na falha:  417\n",
      "custo total com manutenção preventiva: 223.50\n",
      "Economia estimada: 193.50\n",
      "Custo reduzido em: -46.40\n"
     ]
    }
   ],
   "source": [
    "print('custo para manutenção somente na falha: ', value_cost_total)\n",
    "print('custo total com manutenção preventiva: {:.2f}'.format(value_prev))\n",
    "print('Economia estimada: {:.2f}'.format(value_cost_total - value_prev))\n",
    "print('Custo reduzido em: {:.2f}'.format(((value_prev - value_cost_total) / value_cost_total)*100))"
   ],
   "metadata": {
    "collapsed": false
   }
  },
  {
   "cell_type": "markdown",
   "source": [
    "#### O modelo treinado apresentaria uma redução do custo em cerca de 46% com a predição, mesmo apresentando valores consideráveis de falso positivo, resulta em um custo menor do que somente manutenção no momento de falha."
   ],
   "metadata": {
    "collapsed": false
   }
  },
  {
   "cell_type": "markdown",
   "source": [
    "# Conclusões"
   ],
   "metadata": {
    "collapsed": false
   }
  },
  {
   "cell_type": "markdown",
   "source": [
    "A aplicação dos modelos se mostrou bastante eficiente para prever as máquinas que não falhariam, mas esse não era o intuito principal, o problema central era reduzir o custo com a manutenção preditiva, o tanto quanto possível.\n",
    "Para tal, foi feito o ajuste do modelo com o algoritmo de Random Forest, pois apresentou o melhor desempenho.\n",
    "A redução estimada do com manutenção ficou em <strong>46%</strong>, mas é válido ressaltar que foi inserido viés na modelagem, podendo causar uma redução menor em produção.\n",
    "Antes de levar o modelo para produção, seria interessante investigar a redução dos dispositivos ao longo dos meses, avaliando, por exemplo, se a redução de fato é por causa da redução na quantidade de equipamentos ou se existem equipamentos que não são mais monitorados (por defeito dos sensores ou outro motivo), pois dependendo do motivo, irá influenciar no desempenho em ambiente de produção, pois se realmente equipamento continuam em uso, mas sem monitoria, acontecerá a falha sem que seja prevista, resultando em custo 1 por unidade e consequentemente no racional de redução do custo e eficácia do modelo.\n",
    "Caso o modelo apresente desempenho diferente do esperado, em produção, como próximo passo, poderia ser feita a modelagem mês a mês, visto que tem a redução dos dispositivos, neste caso, também precisaria ser feito o balanceamento, então pode apresentar desempenho similar, por isso iniciei com a abordagem da base geral, e se mostrou satisfatória.\n",
    "endo pouco confiável para dizer as possíveis falhas. Esse resultado pode ter alguma ligação com a quantidade de dados usada, já que foi necessário realizar seu balanceamento. Essa técnica foi essencial para obter conclusões melhores, pois, rodando experimento com os dados originais, os resultados foram menos satisfatórios.\n",
    "Com a aplicação descrita neste script, foi possível ter uma noção inicial de como os dados se comportam quando submetidos ao processo de aprendizagem de máquina, com Pré-processamento e transformação dos dados.\n"
   ],
   "metadata": {
    "collapsed": false
   }
  },
  {
   "cell_type": "code",
   "execution_count": 354,
   "outputs": [],
   "source": [
    "# salvar modelo\n",
    "import pickle\n",
    "# salvar o modelo\n",
    "with open('failure_predict_crf.pikle', 'wb') as file:\n",
    "    pickle.dump(crf, file)"
   ],
   "metadata": {
    "collapsed": false
   }
  },
  {
   "cell_type": "code",
   "execution_count": 355,
   "outputs": [],
   "source": [
    "# Carregar modelo\n",
    "with open('failure_predict_crf.pikle', 'rb') as f:\n",
    "    model = pickle.load(f)"
   ],
   "metadata": {
    "collapsed": false
   }
  },
  {
   "cell_type": "markdown",
   "source": [],
   "metadata": {
    "collapsed": false
   }
  }
 ],
 "metadata": {
  "kernelspec": {
   "display_name": "Python 3",
   "language": "python",
   "name": "python3"
  },
  "language_info": {
   "codemirror_mode": {
    "name": "ipython",
    "version": 2
   },
   "file_extension": ".py",
   "mimetype": "text/x-python",
   "name": "python",
   "nbconvert_exporter": "python",
   "pygments_lexer": "ipython2",
   "version": "2.7.6"
  }
 },
 "nbformat": 4,
 "nbformat_minor": 0
}
