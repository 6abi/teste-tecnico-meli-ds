{
 "cells": [
  {
   "cell_type": "markdown",
   "source": [
    "<h1 style='color: green; font-size: 26px; font-weight: bold;'> 3. Previsão de falha <h1>"
   ],
   "metadata": {
    "collapsed": false
   }
  },
  {
   "cell_type": "markdown",
   "source": [
    "### Notebook 2\n",
    "1.  Pré Processamento II\n",
    "2. Feature engineering\n",
    "3. Modelagem\n",
    "4. Avaliação\n",
    "5. Modelo final\n",
    "6. Conclusão."
   ],
   "metadata": {
    "collapsed": false
   }
  },
  {
   "cell_type": "markdown",
   "source": [
    "<strong>Descripción</strong>\n",
    "<p>Los galpones de Full de mercado libre cuentan con una flota de dispositivos que transmiten\n",
    "diariamente telemetría agregada en varios atributos.\n",
    "Las técnicas de mantenimiento predictivo están diseñadas para ayudar a determinar la\n",
    "condición del equipo de mantenimiento en servicio para predecir cuándo se debe realizar el\n",
    "mantenimiento. Este enfoque promete ahorros de costos sobre el mantenimiento preventivo\n",
    "de rutina o basado en el tiempo porque las tareas se realizan solo cuando están justificadas.\n",
    "</p>\n",
    "\n",
    "<strong>Entregable</strong>\n",
    "<p>Tiene la tarea de generar una Jupyter notebook con un modelo predictivo para predecir la\n",
    "probabilidad de falla del dispositivo con el objetivo de bajar los costos del proceso. Como\n",
    "una referencia, una falla de un dispositivo tiene un costo de 1 mientras el costo de un\n",
    "mantenimiento es 0,5. El archivo \"full_devices.csv\" tiene los valores diários para los 9\n",
    "atributos de los dispositivos y la columna que está tratando de predecir se llama 'failure' con\n",
    "el valor binario 0 para no fallar y 1 para fallar\n",
    "</p>"
   ],
   "metadata": {
    "collapsed": false
   }
  },
  {
   "cell_type": "markdown",
   "source": [
    "# Carregando os dados"
   ],
   "metadata": {
    "collapsed": false
   },
   "outputs": [
    {
     "ename": "SyntaxError",
     "evalue": "invalid syntax (2920854292.py, line 1)",
     "output_type": "error",
     "traceback": [
      "\u001B[1;36m  Cell \u001B[1;32mIn[1], line 1\u001B[1;36m\u001B[0m\n\u001B[1;33m    Carregando os dados\u001B[0m\n\u001B[1;37m               ^\u001B[0m\n\u001B[1;31mSyntaxError\u001B[0m\u001B[1;31m:\u001B[0m invalid syntax\n"
     ]
    }
   ],
   "execution_count": 1
  },
  {
   "cell_type": "code",
   "execution_count": 258,
   "outputs": [],
   "source": [
    "import pandas as pd\n",
    "import os\n",
    "import seaborn as sns\n",
    "import matplotlib.pyplot as plt\n",
    "import numpy as np\n",
    "from imblearn.over_sampling import SMOTE\n",
    "from imblearn.over_sampling import SMOTENC"
   ],
   "metadata": {
    "collapsed": false
   }
  },
  {
   "cell_type": "code",
   "execution_count": 259,
   "outputs": [
    {
     "data": {
      "text/plain": "         date    device  failure  attribute1  attribute2  attribute3  \\\n0  2015-01-01  S1F01085        0   215630672          56           0   \n1  2015-01-01  S1F0166B        0    61370680           0           3   \n2  2015-01-01  S1F01E6Y        0   173295968           0           0   \n3  2015-01-01  S1F01JE0        0    79694024           0           0   \n4  2015-01-01  S1F01R2B        0   135970480           0           0   \n\n   attribute4  attribute5  attribute6  attribute7  attribute8  attribute9  \n0          52           6      407438           0           0           7  \n1           0           6      403174           0           0           0  \n2           0          12      237394           0           0           0  \n3           0           6      410186           0           0           0  \n4           0          15      313173           0           0           3  ",
      "text/html": "<div>\n<style scoped>\n    .dataframe tbody tr th:only-of-type {\n        vertical-align: middle;\n    }\n\n    .dataframe tbody tr th {\n        vertical-align: top;\n    }\n\n    .dataframe thead th {\n        text-align: right;\n    }\n</style>\n<table border=\"1\" class=\"dataframe\">\n  <thead>\n    <tr style=\"text-align: right;\">\n      <th></th>\n      <th>date</th>\n      <th>device</th>\n      <th>failure</th>\n      <th>attribute1</th>\n      <th>attribute2</th>\n      <th>attribute3</th>\n      <th>attribute4</th>\n      <th>attribute5</th>\n      <th>attribute6</th>\n      <th>attribute7</th>\n      <th>attribute8</th>\n      <th>attribute9</th>\n    </tr>\n  </thead>\n  <tbody>\n    <tr>\n      <th>0</th>\n      <td>2015-01-01</td>\n      <td>S1F01085</td>\n      <td>0</td>\n      <td>215630672</td>\n      <td>56</td>\n      <td>0</td>\n      <td>52</td>\n      <td>6</td>\n      <td>407438</td>\n      <td>0</td>\n      <td>0</td>\n      <td>7</td>\n    </tr>\n    <tr>\n      <th>1</th>\n      <td>2015-01-01</td>\n      <td>S1F0166B</td>\n      <td>0</td>\n      <td>61370680</td>\n      <td>0</td>\n      <td>3</td>\n      <td>0</td>\n      <td>6</td>\n      <td>403174</td>\n      <td>0</td>\n      <td>0</td>\n      <td>0</td>\n    </tr>\n    <tr>\n      <th>2</th>\n      <td>2015-01-01</td>\n      <td>S1F01E6Y</td>\n      <td>0</td>\n      <td>173295968</td>\n      <td>0</td>\n      <td>0</td>\n      <td>0</td>\n      <td>12</td>\n      <td>237394</td>\n      <td>0</td>\n      <td>0</td>\n      <td>0</td>\n    </tr>\n    <tr>\n      <th>3</th>\n      <td>2015-01-01</td>\n      <td>S1F01JE0</td>\n      <td>0</td>\n      <td>79694024</td>\n      <td>0</td>\n      <td>0</td>\n      <td>0</td>\n      <td>6</td>\n      <td>410186</td>\n      <td>0</td>\n      <td>0</td>\n      <td>0</td>\n    </tr>\n    <tr>\n      <th>4</th>\n      <td>2015-01-01</td>\n      <td>S1F01R2B</td>\n      <td>0</td>\n      <td>135970480</td>\n      <td>0</td>\n      <td>0</td>\n      <td>0</td>\n      <td>15</td>\n      <td>313173</td>\n      <td>0</td>\n      <td>0</td>\n      <td>3</td>\n    </tr>\n  </tbody>\n</table>\n</div>"
     },
     "execution_count": 259,
     "metadata": {},
     "output_type": "execute_result"
    }
   ],
   "source": [
    "dir_data = \"F:\\PycharmProjects\\DesaioMELI\\data\"\n",
    "df = pd.read_csv(dir_data+r'\\full_devices.csv', sep=',', encoding='ISO-8859-1')\n",
    "df.head()"
   ],
   "metadata": {
    "collapsed": false
   }
  },
  {
   "cell_type": "markdown",
   "source": [
    "coluna 'failure'\n",
    "1 = Equipamento falhou\n",
    "0 = Equipamento não falhou\n",
    "\n",
    "'device'\n",
    "equipamento monitorado\n",
    "\n",
    "'attribute1'\n",
    "pode ser algum código, não tenho certeza.\n"
   ],
   "metadata": {
    "collapsed": false
   }
  },
  {
   "cell_type": "code",
   "execution_count": 260,
   "outputs": [
    {
     "data": {
      "text/plain": "date             304\ndevice          1169\nfailure            2\nattribute1    123877\nattribute2       558\nattribute3        47\nattribute4       115\nattribute5        60\nattribute6     44838\nattribute7        28\nattribute8        28\nattribute9        65\ndtype: int64"
     },
     "execution_count": 260,
     "metadata": {},
     "output_type": "execute_result"
    }
   ],
   "source": [
    "df.nunique()"
   ],
   "metadata": {
    "collapsed": false
   }
  },
  {
   "cell_type": "code",
   "execution_count": 261,
   "outputs": [
    {
     "data": {
      "text/plain": "(1169, 11)"
     },
     "execution_count": 261,
     "metadata": {},
     "output_type": "execute_result"
    }
   ],
   "source": [
    "df.groupby(['device']).agg(['count']).shape"
   ],
   "metadata": {
    "collapsed": false
   }
  },
  {
   "cell_type": "code",
   "execution_count": 262,
   "outputs": [
    {
     "data": {
      "text/plain": "(304, 11)"
     },
     "execution_count": 262,
     "metadata": {},
     "output_type": "execute_result"
    }
   ],
   "source": [
    "df.groupby(['date']).agg(['count']).shape"
   ],
   "metadata": {
    "collapsed": false
   }
  },
  {
   "cell_type": "markdown",
   "source": [
    "# Pré processamento II"
   ],
   "metadata": {
    "collapsed": false
   }
  },
  {
   "cell_type": "code",
   "execution_count": 263,
   "outputs": [
    {
     "name": "stdout",
     "output_type": "stream",
     "text": [
      "<class 'pandas.core.frame.DataFrame'>\n",
      "RangeIndex: 124494 entries, 0 to 124493\n",
      "Data columns (total 12 columns):\n",
      " #   Column      Non-Null Count   Dtype         \n",
      "---  ------      --------------   -----         \n",
      " 0   date        124494 non-null  datetime64[ns]\n",
      " 1   device      124494 non-null  object        \n",
      " 2   failure     124494 non-null  int64         \n",
      " 3   attribute1  124494 non-null  int64         \n",
      " 4   attribute2  124494 non-null  int64         \n",
      " 5   attribute3  124494 non-null  int64         \n",
      " 6   attribute4  124494 non-null  int64         \n",
      " 7   attribute5  124494 non-null  int64         \n",
      " 8   attribute6  124494 non-null  int64         \n",
      " 9   attribute7  124494 non-null  int64         \n",
      " 10  attribute8  124494 non-null  int64         \n",
      " 11  attribute9  124494 non-null  int64         \n",
      "dtypes: datetime64[ns](1), int64(10), object(1)\n",
      "memory usage: 11.4+ MB\n"
     ]
    }
   ],
   "source": [
    "#Tranformando os tipos de dados\n",
    "df.date = pd.to_datetime(df.date, format='%Y-%m-%d')\n",
    "df.info()"
   ],
   "metadata": {
    "collapsed": false
   }
  },
  {
   "cell_type": "code",
   "execution_count": 264,
   "outputs": [],
   "source": [
    "df = df.drop_duplicates()"
   ],
   "metadata": {
    "collapsed": false
   }
  },
  {
   "cell_type": "markdown",
   "source": [
    "Eliminando o registro duplicado identificado no notebook 1"
   ],
   "metadata": {
    "collapsed": false
   }
  },
  {
   "cell_type": "code",
   "execution_count": 265,
   "outputs": [
    {
     "data": {
      "text/plain": "(124493, 12)"
     },
     "execution_count": 265,
     "metadata": {},
     "output_type": "execute_result"
    }
   ],
   "source": [
    "df.shape"
   ],
   "metadata": {
    "collapsed": false
   }
  },
  {
   "cell_type": "code",
   "execution_count": 266,
   "outputs": [
    {
     "data": {
      "text/plain": "failure\n0    124387\n1       106\nName: device, dtype: int64"
     },
     "execution_count": 266,
     "metadata": {},
     "output_type": "execute_result"
    }
   ],
   "source": [
    "df.groupby(['failure'])['device'].count()"
   ],
   "metadata": {
    "collapsed": false
   }
  },
  {
   "cell_type": "code",
   "execution_count": 267,
   "outputs": [
    {
     "name": "stdout",
     "output_type": "stream",
     "text": [
      "Percentual de falha: 0.00085%\n"
     ]
    }
   ],
   "source": [
    "#percentual de falha em 11 meses\n",
    "print('Percentual de falha: {:.5f}%'.format(df.groupby(['failure'])['device'].count().iloc[1] / df['device'].count()))"
   ],
   "metadata": {
    "collapsed": false
   }
  },
  {
   "cell_type": "code",
   "execution_count": 268,
   "outputs": [
    {
     "data": {
      "text/plain": "           date    device  failure  attribute1  attribute2  attribute3  \\\n0    2015-01-01  S1F01085        0   215630672          56           0   \n1163 2015-01-02  S1F01085        0     1650864          56           0   \n2326 2015-01-03  S1F01085        0   124017368          56           0   \n3489 2015-01-04  S1F01085        0   128073224          56           0   \n4651 2015-01-05  S1F01085        0    97393448          56           0   \n\n      attribute4  attribute5  attribute6  attribute7  attribute8  attribute9  \\\n0             52           6      407438           0           0           7   \n1163          52           6      407438           0           0           7   \n2326          52           6      407438           0           0           7   \n3489          52           6      407439           0           0           7   \n4651          52           6      408114           0           0           7   \n\n      flipper  \n0           1  \n1163        0  \n2326        0  \n3489        0  \n4651        0  ",
      "text/html": "<div>\n<style scoped>\n    .dataframe tbody tr th:only-of-type {\n        vertical-align: middle;\n    }\n\n    .dataframe tbody tr th {\n        vertical-align: top;\n    }\n\n    .dataframe thead th {\n        text-align: right;\n    }\n</style>\n<table border=\"1\" class=\"dataframe\">\n  <thead>\n    <tr style=\"text-align: right;\">\n      <th></th>\n      <th>date</th>\n      <th>device</th>\n      <th>failure</th>\n      <th>attribute1</th>\n      <th>attribute2</th>\n      <th>attribute3</th>\n      <th>attribute4</th>\n      <th>attribute5</th>\n      <th>attribute6</th>\n      <th>attribute7</th>\n      <th>attribute8</th>\n      <th>attribute9</th>\n      <th>flipper</th>\n    </tr>\n  </thead>\n  <tbody>\n    <tr>\n      <th>0</th>\n      <td>2015-01-01</td>\n      <td>S1F01085</td>\n      <td>0</td>\n      <td>215630672</td>\n      <td>56</td>\n      <td>0</td>\n      <td>52</td>\n      <td>6</td>\n      <td>407438</td>\n      <td>0</td>\n      <td>0</td>\n      <td>7</td>\n      <td>1</td>\n    </tr>\n    <tr>\n      <th>1163</th>\n      <td>2015-01-02</td>\n      <td>S1F01085</td>\n      <td>0</td>\n      <td>1650864</td>\n      <td>56</td>\n      <td>0</td>\n      <td>52</td>\n      <td>6</td>\n      <td>407438</td>\n      <td>0</td>\n      <td>0</td>\n      <td>7</td>\n      <td>0</td>\n    </tr>\n    <tr>\n      <th>2326</th>\n      <td>2015-01-03</td>\n      <td>S1F01085</td>\n      <td>0</td>\n      <td>124017368</td>\n      <td>56</td>\n      <td>0</td>\n      <td>52</td>\n      <td>6</td>\n      <td>407438</td>\n      <td>0</td>\n      <td>0</td>\n      <td>7</td>\n      <td>0</td>\n    </tr>\n    <tr>\n      <th>3489</th>\n      <td>2015-01-04</td>\n      <td>S1F01085</td>\n      <td>0</td>\n      <td>128073224</td>\n      <td>56</td>\n      <td>0</td>\n      <td>52</td>\n      <td>6</td>\n      <td>407439</td>\n      <td>0</td>\n      <td>0</td>\n      <td>7</td>\n      <td>0</td>\n    </tr>\n    <tr>\n      <th>4651</th>\n      <td>2015-01-05</td>\n      <td>S1F01085</td>\n      <td>0</td>\n      <td>97393448</td>\n      <td>56</td>\n      <td>0</td>\n      <td>52</td>\n      <td>6</td>\n      <td>408114</td>\n      <td>0</td>\n      <td>0</td>\n      <td>7</td>\n      <td>0</td>\n    </tr>\n  </tbody>\n</table>\n</div>"
     },
     "execution_count": 268,
     "metadata": {},
     "output_type": "execute_result"
    }
   ],
   "source": [
    "#ordenando o dataset por data e pelo device para posteriormente verificar o histórico até a falha\n",
    "df = df.sort_values(by=['device','date'], ascending=[True, True])\n",
    "df['flipper'] = np.where((df.device != df.device.shift(1)), 1, 0)\n",
    "df.head()"
   ],
   "metadata": {
    "collapsed": false
   }
  },
  {
   "cell_type": "markdown",
   "source": [
    "<strong>Pensando no oversampling, somente duplicar os dados pode gerar overfitting, pois existe um tempo de vida para cada dispositivo e um período de uso para falha, visto que não é um evento comum, então introduzir somente os registros de falhas, sem considerar os dados que antecem o evento resultará em um viés que acarretará em overfitting. O viés é inevitavél, mas o ideal é que acompanhe o comportamento dos dados.</strong>\n",
    "\n",
    "Dito isso, vou criar algumas features para obter essa informação de comportamento dos dados até a falha e com isso gerar os novos registros, além de tranformar os dados de colunas para melhor se adequarem a modelagem."
   ],
   "metadata": {
    "collapsed": false
   }
  },
  {
   "cell_type": "code",
   "execution_count": 269,
   "outputs": [],
   "source": [
    "#pega o 1º registro para cada dispositivo, com a coluna criada 'flipper'\n",
    "starter = df[df['flipper'] == 1]\n",
    "starter = starter[['date','device']]\n",
    "starter = starter.rename(index=str, columns={\"date\": \"start_date\"})\n",
    "starter['start_date'] = pd.to_datetime(starter['start_date'])"
   ],
   "metadata": {
    "collapsed": false
   }
  },
  {
   "cell_type": "code",
   "execution_count": 270,
   "outputs": [],
   "source": [
    "#Merge start_date com o dataset original, para marcar a data de inicio de monitoramento de cada dispositivo\n",
    "df = df.sort_values(by=['device', 'date'], ascending=[True, True])\n",
    "starter = starter.sort_values(by=['device'], ascending=[True])\n",
    "df = df.merge(starter, on=['device'], how='left')"
   ],
   "metadata": {
    "collapsed": false
   }
  },
  {
   "cell_type": "code",
   "execution_count": 271,
   "outputs": [
    {
     "data": {
      "text/plain": "date        start_date\n2015-01-05  2015-01-01    1\n2015-01-07  2015-01-01    1\n2015-01-09  2015-01-01    1\n2015-01-13  2015-01-01    1\n2015-01-14  2015-01-01    1\n                         ..\n2015-08-04  2015-01-01    1\n2015-08-18  2015-01-01    1\n2015-10-05  2015-01-01    1\n2015-10-09  2015-01-01    1\n2015-10-26  2015-01-01    1\nName: device, Length: 76, dtype: int64"
     },
     "execution_count": 271,
     "metadata": {},
     "output_type": "execute_result"
    }
   ],
   "source": [
    "df[df['failure'] == 1].groupby(['date','start_date'])['device'].count()"
   ],
   "metadata": {
    "collapsed": false
   }
  },
  {
   "cell_type": "code",
   "execution_count": 272,
   "outputs": [],
   "source": [
    "# Calcula os dias até a falha para cada dispositivo, contando a partir do momento que se iniciou a monitoria do dispositivo\n",
    "#Isso irá servir para encontrar o valor do ciclo para usar como janela no agrupamento\n",
    "devices = df['device'].unique()\n",
    "failure_record = []\n",
    "no_failured = []\n",
    "for device in devices:\n",
    "    start_date = df.loc[(df['device'] == device) & (df['flipper'] == 1), 'date'].iloc[0]\n",
    "    falhas_dispositivo = df.loc[(df['device'] == device) & (df['failure'] == 1), 'date']\n",
    "    if not falhas_dispositivo.empty:\n",
    "        data_falha = falhas_dispositivo.min()\n",
    "        dias_decorridos = (data_falha - start_date).days\n",
    "        failure_record.append({\n",
    "            'device': device,\n",
    "            'count_days': dias_decorridos,\n",
    "            'start_date': start_date,\n",
    "            'failure_date': data_falha.date()\n",
    "        })\n",
    "    else:\n",
    "        no_failured.append({\n",
    "            'device': device,\n",
    "            'start_date': start_date,\n",
    "        })"
   ],
   "metadata": {
    "collapsed": false
   }
  },
  {
   "cell_type": "code",
   "execution_count": 273,
   "outputs": [],
   "source": [
    "#Dataframe com os dispositivos que falharam e outro com os que não falharam\n",
    "df_failured_record = pd.DataFrame(failure_record).sort_values(by='failure_date').reset_index(drop=True)\n",
    "df_non_failured_record = pd.DataFrame(no_failured).sort_values(by='start_date').reset_index(drop=True)"
   ],
   "metadata": {
    "collapsed": false
   }
  },
  {
   "cell_type": "code",
   "execution_count": 274,
   "outputs": [
    {
     "data": {
      "text/plain": "        device start_date\n0     S1F01085 2015-01-01\n1     W1F0X5L3 2015-01-01\n2     W1F0X5L8 2015-01-01\n3     W1F0X5N2 2015-01-01\n4     W1F0X5TL 2015-01-01\n...        ...        ...\n1058  S1F02W1L 2015-05-06\n1059  S1F02XLX 2015-05-06\n1060  S1F013BB 2015-05-06\n1061  S1F03499 2015-05-06\n1062  W1F1DA5ÿ 2015-06-13\n\n[1063 rows x 2 columns]",
      "text/html": "<div>\n<style scoped>\n    .dataframe tbody tr th:only-of-type {\n        vertical-align: middle;\n    }\n\n    .dataframe tbody tr th {\n        vertical-align: top;\n    }\n\n    .dataframe thead th {\n        text-align: right;\n    }\n</style>\n<table border=\"1\" class=\"dataframe\">\n  <thead>\n    <tr style=\"text-align: right;\">\n      <th></th>\n      <th>device</th>\n      <th>start_date</th>\n    </tr>\n  </thead>\n  <tbody>\n    <tr>\n      <th>0</th>\n      <td>S1F01085</td>\n      <td>2015-01-01</td>\n    </tr>\n    <tr>\n      <th>1</th>\n      <td>W1F0X5L3</td>\n      <td>2015-01-01</td>\n    </tr>\n    <tr>\n      <th>2</th>\n      <td>W1F0X5L8</td>\n      <td>2015-01-01</td>\n    </tr>\n    <tr>\n      <th>3</th>\n      <td>W1F0X5N2</td>\n      <td>2015-01-01</td>\n    </tr>\n    <tr>\n      <th>4</th>\n      <td>W1F0X5TL</td>\n      <td>2015-01-01</td>\n    </tr>\n    <tr>\n      <th>...</th>\n      <td>...</td>\n      <td>...</td>\n    </tr>\n    <tr>\n      <th>1058</th>\n      <td>S1F02W1L</td>\n      <td>2015-05-06</td>\n    </tr>\n    <tr>\n      <th>1059</th>\n      <td>S1F02XLX</td>\n      <td>2015-05-06</td>\n    </tr>\n    <tr>\n      <th>1060</th>\n      <td>S1F013BB</td>\n      <td>2015-05-06</td>\n    </tr>\n    <tr>\n      <th>1061</th>\n      <td>S1F03499</td>\n      <td>2015-05-06</td>\n    </tr>\n    <tr>\n      <th>1062</th>\n      <td>W1F1DA5ÿ</td>\n      <td>2015-06-13</td>\n    </tr>\n  </tbody>\n</table>\n<p>1063 rows × 2 columns</p>\n</div>"
     },
     "execution_count": 274,
     "metadata": {},
     "output_type": "execute_result"
    }
   ],
   "source": [
    "df_non_failured_record"
   ],
   "metadata": {
    "collapsed": false
   }
  },
  {
   "cell_type": "code",
   "execution_count": 275,
   "outputs": [
    {
     "data": {
      "text/plain": "       device  count_days start_date failure_date\n0    S1F0RRB1           4 2015-01-01   2015-01-05\n1    S1F0CTDN           6 2015-01-01   2015-01-07\n2    W1F0PNA5           8 2015-01-01   2015-01-09\n3    W1F13SRV          12 2015-01-01   2015-01-13\n4    W1F1230J          13 2015-01-01   2015-01-14\n..        ...         ...        ...          ...\n101  W1F1CB5E         215 2015-01-01   2015-08-04\n102  Z1F0MRPJ         229 2015-01-01   2015-08-18\n103  S1F0JGJV         277 2015-01-01   2015-10-05\n104  Z1F14BGY         281 2015-01-01   2015-10-09\n105  W1F0T0B1         298 2015-01-01   2015-10-26\n\n[106 rows x 4 columns]",
      "text/html": "<div>\n<style scoped>\n    .dataframe tbody tr th:only-of-type {\n        vertical-align: middle;\n    }\n\n    .dataframe tbody tr th {\n        vertical-align: top;\n    }\n\n    .dataframe thead th {\n        text-align: right;\n    }\n</style>\n<table border=\"1\" class=\"dataframe\">\n  <thead>\n    <tr style=\"text-align: right;\">\n      <th></th>\n      <th>device</th>\n      <th>count_days</th>\n      <th>start_date</th>\n      <th>failure_date</th>\n    </tr>\n  </thead>\n  <tbody>\n    <tr>\n      <th>0</th>\n      <td>S1F0RRB1</td>\n      <td>4</td>\n      <td>2015-01-01</td>\n      <td>2015-01-05</td>\n    </tr>\n    <tr>\n      <th>1</th>\n      <td>S1F0CTDN</td>\n      <td>6</td>\n      <td>2015-01-01</td>\n      <td>2015-01-07</td>\n    </tr>\n    <tr>\n      <th>2</th>\n      <td>W1F0PNA5</td>\n      <td>8</td>\n      <td>2015-01-01</td>\n      <td>2015-01-09</td>\n    </tr>\n    <tr>\n      <th>3</th>\n      <td>W1F13SRV</td>\n      <td>12</td>\n      <td>2015-01-01</td>\n      <td>2015-01-13</td>\n    </tr>\n    <tr>\n      <th>4</th>\n      <td>W1F1230J</td>\n      <td>13</td>\n      <td>2015-01-01</td>\n      <td>2015-01-14</td>\n    </tr>\n    <tr>\n      <th>...</th>\n      <td>...</td>\n      <td>...</td>\n      <td>...</td>\n      <td>...</td>\n    </tr>\n    <tr>\n      <th>101</th>\n      <td>W1F1CB5E</td>\n      <td>215</td>\n      <td>2015-01-01</td>\n      <td>2015-08-04</td>\n    </tr>\n    <tr>\n      <th>102</th>\n      <td>Z1F0MRPJ</td>\n      <td>229</td>\n      <td>2015-01-01</td>\n      <td>2015-08-18</td>\n    </tr>\n    <tr>\n      <th>103</th>\n      <td>S1F0JGJV</td>\n      <td>277</td>\n      <td>2015-01-01</td>\n      <td>2015-10-05</td>\n    </tr>\n    <tr>\n      <th>104</th>\n      <td>Z1F14BGY</td>\n      <td>281</td>\n      <td>2015-01-01</td>\n      <td>2015-10-09</td>\n    </tr>\n    <tr>\n      <th>105</th>\n      <td>W1F0T0B1</td>\n      <td>298</td>\n      <td>2015-01-01</td>\n      <td>2015-10-26</td>\n    </tr>\n  </tbody>\n</table>\n<p>106 rows × 4 columns</p>\n</div>"
     },
     "execution_count": 275,
     "metadata": {},
     "output_type": "execute_result"
    }
   ],
   "source": [
    "df_failured_record"
   ],
   "metadata": {
    "collapsed": false
   }
  },
  {
   "cell_type": "code",
   "execution_count": 276,
   "outputs": [
    {
     "data": {
      "text/plain": "<Figure size 600x400 with 1 Axes>",
      "image/png": "[encoded data removed]"
     },
     "metadata": {},
     "output_type": "display_data"
    }
   ],
   "source": [
    "plt.figure(figsize=(6,4))\n",
    "sns.boxplot(x= 'start_date',y='count_days',data=df_failured_record)\n",
    "plt.show()"
   ],
   "metadata": {
    "collapsed": false
   }
  },
  {
   "cell_type": "code",
   "execution_count": 277,
   "outputs": [
    {
     "data": {
      "text/plain": "array([[<Axes: title={'center': 'count_days'}>,\n        <Axes: title={'center': 'start_date'}>]], dtype=object)"
     },
     "execution_count": 277,
     "metadata": {},
     "output_type": "execute_result"
    },
    {
     "data": {
      "text/plain": "<Figure size 1000x200 with 2 Axes>",
      "image/png": "[encoded data removed]"
     },
     "metadata": {},
     "output_type": "display_data"
    }
   ],
   "source": [
    "#Distribuição dos dispositivos que falharam em dias corrido a partir do inicio da monitoria de cada um\n",
    "ax = df_failured_record.hist(bins=100, figsize=(10,2))\n",
    "ax"
   ],
   "metadata": {
    "collapsed": false
   }
  },
  {
   "cell_type": "code",
   "execution_count": 278,
   "outputs": [
    {
     "data": {
      "text/plain": "       count_days\ncount  106.000000\nmean   106.905660\nstd     74.017826\nmin      4.000000\n25%     34.000000\n50%    113.000000\n75%    163.250000\nmax    298.000000",
      "text/html": "<div>\n<style scoped>\n    .dataframe tbody tr th:only-of-type {\n        vertical-align: middle;\n    }\n\n    .dataframe tbody tr th {\n        vertical-align: top;\n    }\n\n    .dataframe thead th {\n        text-align: right;\n    }\n</style>\n<table border=\"1\" class=\"dataframe\">\n  <thead>\n    <tr style=\"text-align: right;\">\n      <th></th>\n      <th>count_days</th>\n    </tr>\n  </thead>\n  <tbody>\n    <tr>\n      <th>count</th>\n      <td>106.000000</td>\n    </tr>\n    <tr>\n      <th>mean</th>\n      <td>106.905660</td>\n    </tr>\n    <tr>\n      <th>std</th>\n      <td>74.017826</td>\n    </tr>\n    <tr>\n      <th>min</th>\n      <td>4.000000</td>\n    </tr>\n    <tr>\n      <th>25%</th>\n      <td>34.000000</td>\n    </tr>\n    <tr>\n      <th>50%</th>\n      <td>113.000000</td>\n    </tr>\n    <tr>\n      <th>75%</th>\n      <td>163.250000</td>\n    </tr>\n    <tr>\n      <th>max</th>\n      <td>298.000000</td>\n    </tr>\n  </tbody>\n</table>\n</div>"
     },
     "execution_count": 278,
     "metadata": {},
     "output_type": "execute_result"
    }
   ],
   "source": [
    "df_failured_record.describe()"
   ],
   "metadata": {
    "collapsed": false
   }
  },
  {
   "cell_type": "code",
   "execution_count": 279,
   "outputs": [
    {
     "data": {
      "text/plain": "       device  count_days start_date failure_date\n0    S1F023H2        18.0 2015-01-01   2015-01-19\n1    S1F03YZM         NaN        NaT          NaN\n2    S1F09DZQ         NaN        NaT          NaN\n3    S1F0CTDN         NaN        NaT          NaN\n4    S1F0DSTY         NaN        NaT          NaN\n..        ...         ...        ...          ...\n101  Z1F1901P         NaN        NaT          NaN\n102  Z1F1AG5N         NaN        NaT          NaN\n103  Z1F1FCH5         NaN        NaT          NaN\n104  Z1F1RJFA         NaN        NaT          NaN\n105  Z1F1VQFY         NaN        NaT          NaN\n\n[106 rows x 4 columns]",
      "text/html": "<div>\n<style scoped>\n    .dataframe tbody tr th:only-of-type {\n        vertical-align: middle;\n    }\n\n    .dataframe tbody tr th {\n        vertical-align: top;\n    }\n\n    .dataframe thead th {\n        text-align: right;\n    }\n</style>\n<table border=\"1\" class=\"dataframe\">\n  <thead>\n    <tr style=\"text-align: right;\">\n      <th></th>\n      <th>device</th>\n      <th>count_days</th>\n      <th>start_date</th>\n      <th>failure_date</th>\n    </tr>\n  </thead>\n  <tbody>\n    <tr>\n      <th>0</th>\n      <td>S1F023H2</td>\n      <td>18.0</td>\n      <td>2015-01-01</td>\n      <td>2015-01-19</td>\n    </tr>\n    <tr>\n      <th>1</th>\n      <td>S1F03YZM</td>\n      <td>NaN</td>\n      <td>NaT</td>\n      <td>NaN</td>\n    </tr>\n    <tr>\n      <th>2</th>\n      <td>S1F09DZQ</td>\n      <td>NaN</td>\n      <td>NaT</td>\n      <td>NaN</td>\n    </tr>\n    <tr>\n      <th>3</th>\n      <td>S1F0CTDN</td>\n      <td>NaN</td>\n      <td>NaT</td>\n      <td>NaN</td>\n    </tr>\n    <tr>\n      <th>4</th>\n      <td>S1F0DSTY</td>\n      <td>NaN</td>\n      <td>NaT</td>\n      <td>NaN</td>\n    </tr>\n    <tr>\n      <th>...</th>\n      <td>...</td>\n      <td>...</td>\n      <td>...</td>\n      <td>...</td>\n    </tr>\n    <tr>\n      <th>101</th>\n      <td>Z1F1901P</td>\n      <td>NaN</td>\n      <td>NaT</td>\n      <td>NaN</td>\n    </tr>\n    <tr>\n      <th>102</th>\n      <td>Z1F1AG5N</td>\n      <td>NaN</td>\n      <td>NaT</td>\n      <td>NaN</td>\n    </tr>\n    <tr>\n      <th>103</th>\n      <td>Z1F1FCH5</td>\n      <td>NaN</td>\n      <td>NaT</td>\n      <td>NaN</td>\n    </tr>\n    <tr>\n      <th>104</th>\n      <td>Z1F1RJFA</td>\n      <td>NaN</td>\n      <td>NaT</td>\n      <td>NaN</td>\n    </tr>\n    <tr>\n      <th>105</th>\n      <td>Z1F1VQFY</td>\n      <td>NaN</td>\n      <td>NaT</td>\n      <td>NaN</td>\n    </tr>\n  </tbody>\n</table>\n<p>106 rows × 4 columns</p>\n</div>"
     },
     "execution_count": 279,
     "metadata": {},
     "output_type": "execute_result"
    }
   ],
   "source": [
    "#mediana\n",
    "df_failured_record.mode()"
   ],
   "metadata": {
    "collapsed": false
   }
  },
  {
   "cell_type": "code",
   "execution_count": 280,
   "outputs": [
    {
     "data": {
      "text/plain": "failure_date\n2015-01-19    8\n2015-05-08    3\n2015-02-04    3\n2015-07-20    2\n2015-03-17    2\n             ..\n2015-04-20    1\n2015-04-21    1\n2015-04-27    1\n2015-01-07    1\n2015-10-26    1\nName: device, Length: 76, dtype: int64"
     },
     "execution_count": 280,
     "metadata": {},
     "output_type": "execute_result"
    }
   ],
   "source": [
    "#Falhas ranqueada por data\n",
    "df_failured_record.groupby('failure_date')['device'].count().sort_values(ascending=False)"
   ],
   "metadata": {
    "collapsed": false
   }
  },
  {
   "cell_type": "markdown",
   "source": [
    "Todos os dispositivos que falharam são monitorados desde o dia 01-01 e 75% deles falharam em até 163 dias após essa data.\n",
    "O dia que mais dispositivos falharam aconteceu 18 dias após a data de inicio da monitoria, no total foram 8 dispositivos.\n",
    "Vou utilizar essa janela de dias para fazer a Sobreamostragem e agregação dos dados dos sensores."
   ],
   "metadata": {
    "collapsed": false
   }
  },
  {
   "cell_type": "markdown",
   "source": [
    "# Feature engineering"
   ],
   "metadata": {
    "collapsed": false
   }
  },
  {
   "cell_type": "markdown",
   "source": [
    "### Novas colunas auxiliares"
   ],
   "metadata": {
    "collapsed": false
   }
  },
  {
   "cell_type": "code",
   "execution_count": 281,
   "outputs": [],
   "source": [
    "#Esta é a janela pela qual será feita a agregação dos valores das colunas.\n",
    "window = 18"
   ],
   "metadata": {
    "collapsed": false
   }
  },
  {
   "cell_type": "code",
   "execution_count": 282,
   "outputs": [
    {
     "data": {
      "text/plain": "        date    device  failure  attribute1  attribute2  attribute3  \\\n0 2015-01-01  S1F01085        0   215630672          56           0   \n1 2015-01-02  S1F01085        0     1650864          56           0   \n2 2015-01-03  S1F01085        0   124017368          56           0   \n3 2015-01-04  S1F01085        0   128073224          56           0   \n4 2015-01-05  S1F01085        0    97393448          56           0   \n\n   attribute4  attribute5  attribute6  attribute7  attribute8  attribute9  \\\n0          52           6      407438           0           0           7   \n1          52           6      407438           0           0           7   \n2          52           6      407438           0           0           7   \n3          52           6      407439           0           0           7   \n4          52           6      408114           0           0           7   \n\n   flipper start_date  \n0        1 2015-01-01  \n1        0 2015-01-01  \n2        0 2015-01-01  \n3        0 2015-01-01  \n4        0 2015-01-01  ",
      "text/html": "<div>\n<style scoped>\n    .dataframe tbody tr th:only-of-type {\n        vertical-align: middle;\n    }\n\n    .dataframe tbody tr th {\n        vertical-align: top;\n    }\n\n    .dataframe thead th {\n        text-align: right;\n    }\n</style>\n<table border=\"1\" class=\"dataframe\">\n  <thead>\n    <tr style=\"text-align: right;\">\n      <th></th>\n      <th>date</th>\n      <th>device</th>\n      <th>failure</th>\n      <th>attribute1</th>\n      <th>attribute2</th>\n      <th>attribute3</th>\n      <th>attribute4</th>\n      <th>attribute5</th>\n      <th>attribute6</th>\n      <th>attribute7</th>\n      <th>attribute8</th>\n      <th>attribute9</th>\n      <th>flipper</th>\n      <th>start_date</th>\n    </tr>\n  </thead>\n  <tbody>\n    <tr>\n      <th>0</th>\n      <td>2015-01-01</td>\n      <td>S1F01085</td>\n      <td>0</td>\n      <td>215630672</td>\n      <td>56</td>\n      <td>0</td>\n      <td>52</td>\n      <td>6</td>\n      <td>407438</td>\n      <td>0</td>\n      <td>0</td>\n      <td>7</td>\n      <td>1</td>\n      <td>2015-01-01</td>\n    </tr>\n    <tr>\n      <th>1</th>\n      <td>2015-01-02</td>\n      <td>S1F01085</td>\n      <td>0</td>\n      <td>1650864</td>\n      <td>56</td>\n      <td>0</td>\n      <td>52</td>\n      <td>6</td>\n      <td>407438</td>\n      <td>0</td>\n      <td>0</td>\n      <td>7</td>\n      <td>0</td>\n      <td>2015-01-01</td>\n    </tr>\n    <tr>\n      <th>2</th>\n      <td>2015-01-03</td>\n      <td>S1F01085</td>\n      <td>0</td>\n      <td>124017368</td>\n      <td>56</td>\n      <td>0</td>\n      <td>52</td>\n      <td>6</td>\n      <td>407438</td>\n      <td>0</td>\n      <td>0</td>\n      <td>7</td>\n      <td>0</td>\n      <td>2015-01-01</td>\n    </tr>\n    <tr>\n      <th>3</th>\n      <td>2015-01-04</td>\n      <td>S1F01085</td>\n      <td>0</td>\n      <td>128073224</td>\n      <td>56</td>\n      <td>0</td>\n      <td>52</td>\n      <td>6</td>\n      <td>407439</td>\n      <td>0</td>\n      <td>0</td>\n      <td>7</td>\n      <td>0</td>\n      <td>2015-01-01</td>\n    </tr>\n    <tr>\n      <th>4</th>\n      <td>2015-01-05</td>\n      <td>S1F01085</td>\n      <td>0</td>\n      <td>97393448</td>\n      <td>56</td>\n      <td>0</td>\n      <td>52</td>\n      <td>6</td>\n      <td>408114</td>\n      <td>0</td>\n      <td>0</td>\n      <td>7</td>\n      <td>0</td>\n      <td>2015-01-01</td>\n    </tr>\n  </tbody>\n</table>\n</div>"
     },
     "execution_count": 282,
     "metadata": {},
     "output_type": "execute_result"
    }
   ],
   "source": [
    "#pegando o primeiro registro para cada máqui, com a coluna flipper\n",
    "df.head()"
   ],
   "metadata": {
    "collapsed": false
   }
  },
  {
   "cell_type": "code",
   "execution_count": 283,
   "outputs": [
    {
     "data": {
      "text/plain": "        date    device  failure  attribute1  attribute2  attribute3  \\\n0 2015-01-01  S1F01085        0   215630672          56           0   \n1 2015-01-02  S1F01085        0     1650864          56           0   \n2 2015-01-03  S1F01085        0   124017368          56           0   \n3 2015-01-04  S1F01085        0   128073224          56           0   \n4 2015-01-05  S1F01085        0    97393448          56           0   \n\n   attribute4  attribute5  attribute6  attribute7  attribute8  attribute9  \\\n0          52           6      407438           0           0           7   \n1          52           6      407438           0           0           7   \n2          52           6      407438           0           0           7   \n3          52           6      407439           0           0           7   \n4          52           6      408114           0           0           7   \n\n   flipper start_date  time_since_start  too_soon  \n0        1 2015-01-01               0.0         1  \n1        0 2015-01-01               1.0         1  \n2        0 2015-01-01               2.0         1  \n3        0 2015-01-01               3.0         1  \n4        0 2015-01-01               4.0         1  ",
      "text/html": "<div>\n<style scoped>\n    .dataframe tbody tr th:only-of-type {\n        vertical-align: middle;\n    }\n\n    .dataframe tbody tr th {\n        vertical-align: top;\n    }\n\n    .dataframe thead th {\n        text-align: right;\n    }\n</style>\n<table border=\"1\" class=\"dataframe\">\n  <thead>\n    <tr style=\"text-align: right;\">\n      <th></th>\n      <th>date</th>\n      <th>device</th>\n      <th>failure</th>\n      <th>attribute1</th>\n      <th>attribute2</th>\n      <th>attribute3</th>\n      <th>attribute4</th>\n      <th>attribute5</th>\n      <th>attribute6</th>\n      <th>attribute7</th>\n      <th>attribute8</th>\n      <th>attribute9</th>\n      <th>flipper</th>\n      <th>start_date</th>\n      <th>time_since_start</th>\n      <th>too_soon</th>\n    </tr>\n  </thead>\n  <tbody>\n    <tr>\n      <th>0</th>\n      <td>2015-01-01</td>\n      <td>S1F01085</td>\n      <td>0</td>\n      <td>215630672</td>\n      <td>56</td>\n      <td>0</td>\n      <td>52</td>\n      <td>6</td>\n      <td>407438</td>\n      <td>0</td>\n      <td>0</td>\n      <td>7</td>\n      <td>1</td>\n      <td>2015-01-01</td>\n      <td>0.0</td>\n      <td>1</td>\n    </tr>\n    <tr>\n      <th>1</th>\n      <td>2015-01-02</td>\n      <td>S1F01085</td>\n      <td>0</td>\n      <td>1650864</td>\n      <td>56</td>\n      <td>0</td>\n      <td>52</td>\n      <td>6</td>\n      <td>407438</td>\n      <td>0</td>\n      <td>0</td>\n      <td>7</td>\n      <td>0</td>\n      <td>2015-01-01</td>\n      <td>1.0</td>\n      <td>1</td>\n    </tr>\n    <tr>\n      <th>2</th>\n      <td>2015-01-03</td>\n      <td>S1F01085</td>\n      <td>0</td>\n      <td>124017368</td>\n      <td>56</td>\n      <td>0</td>\n      <td>52</td>\n      <td>6</td>\n      <td>407438</td>\n      <td>0</td>\n      <td>0</td>\n      <td>7</td>\n      <td>0</td>\n      <td>2015-01-01</td>\n      <td>2.0</td>\n      <td>1</td>\n    </tr>\n    <tr>\n      <th>3</th>\n      <td>2015-01-04</td>\n      <td>S1F01085</td>\n      <td>0</td>\n      <td>128073224</td>\n      <td>56</td>\n      <td>0</td>\n      <td>52</td>\n      <td>6</td>\n      <td>407439</td>\n      <td>0</td>\n      <td>0</td>\n      <td>7</td>\n      <td>0</td>\n      <td>2015-01-01</td>\n      <td>3.0</td>\n      <td>1</td>\n    </tr>\n    <tr>\n      <th>4</th>\n      <td>2015-01-05</td>\n      <td>S1F01085</td>\n      <td>0</td>\n      <td>97393448</td>\n      <td>56</td>\n      <td>0</td>\n      <td>52</td>\n      <td>6</td>\n      <td>408114</td>\n      <td>0</td>\n      <td>0</td>\n      <td>7</td>\n      <td>0</td>\n      <td>2015-01-01</td>\n      <td>4.0</td>\n      <td>1</td>\n    </tr>\n  </tbody>\n</table>\n</div>"
     },
     "execution_count": 283,
     "metadata": {},
     "output_type": "execute_result"
    }
   ],
   "source": [
    "#Calcula o número de dias corridos para cada dispositivo até atingir 'window',\n",
    "df['count_days'] = df['date'] - df['start_date']\n",
    "df['time_since_start'] = df['count_days'] / np.timedelta64(1, 'D')\n",
    "df = df.drop(columns=['count_days'])\n",
    "# quando valor for 1, o histórico de monitoramento do dispositivo tem menos que 18 dias\n",
    "df['too_soon'] = np.where((df.time_since_start < window) , 1, 0)\n",
    "df.head()"
   ],
   "metadata": {
    "collapsed": false
   }
  },
  {
   "cell_type": "code",
   "execution_count": 284,
   "outputs": [
    {
     "data": {
      "text/plain": "        date    device  failure  attribute1  attribute2  attribute3  \\\n0 2015-01-01  S1F01085        0   215630672          56           0   \n1 2015-01-02  S1F01085        0     1650864          56           0   \n2 2015-01-03  S1F01085        0   124017368          56           0   \n3 2015-01-04  S1F01085        0   128073224          56           0   \n4 2015-01-05  S1F01085        0    97393448          56           0   \n\n   attribute4  attribute5  attribute6  attribute7  attribute9  flipper  \\\n0          52           6      407438           0           7        1   \n1          52           6      407438           0           7        0   \n2          52           6      407438           0           7        0   \n3          52           6      407439           0           7        0   \n4          52           6      408114           0           7        0   \n\n  start_date  time_since_start  too_soon  \n0 2015-01-01               0.0         1  \n1 2015-01-01               1.0         1  \n2 2015-01-01               2.0         1  \n3 2015-01-01               3.0         1  \n4 2015-01-01               4.0         1  ",
      "text/html": "<div>\n<style scoped>\n    .dataframe tbody tr th:only-of-type {\n        vertical-align: middle;\n    }\n\n    .dataframe tbody tr th {\n        vertical-align: top;\n    }\n\n    .dataframe thead th {\n        text-align: right;\n    }\n</style>\n<table border=\"1\" class=\"dataframe\">\n  <thead>\n    <tr style=\"text-align: right;\">\n      <th></th>\n      <th>date</th>\n      <th>device</th>\n      <th>failure</th>\n      <th>attribute1</th>\n      <th>attribute2</th>\n      <th>attribute3</th>\n      <th>attribute4</th>\n      <th>attribute5</th>\n      <th>attribute6</th>\n      <th>attribute7</th>\n      <th>attribute9</th>\n      <th>flipper</th>\n      <th>start_date</th>\n      <th>time_since_start</th>\n      <th>too_soon</th>\n    </tr>\n  </thead>\n  <tbody>\n    <tr>\n      <th>0</th>\n      <td>2015-01-01</td>\n      <td>S1F01085</td>\n      <td>0</td>\n      <td>215630672</td>\n      <td>56</td>\n      <td>0</td>\n      <td>52</td>\n      <td>6</td>\n      <td>407438</td>\n      <td>0</td>\n      <td>7</td>\n      <td>1</td>\n      <td>2015-01-01</td>\n      <td>0.0</td>\n      <td>1</td>\n    </tr>\n    <tr>\n      <th>1</th>\n      <td>2015-01-02</td>\n      <td>S1F01085</td>\n      <td>0</td>\n      <td>1650864</td>\n      <td>56</td>\n      <td>0</td>\n      <td>52</td>\n      <td>6</td>\n      <td>407438</td>\n      <td>0</td>\n      <td>7</td>\n      <td>0</td>\n      <td>2015-01-01</td>\n      <td>1.0</td>\n      <td>1</td>\n    </tr>\n    <tr>\n      <th>2</th>\n      <td>2015-01-03</td>\n      <td>S1F01085</td>\n      <td>0</td>\n      <td>124017368</td>\n      <td>56</td>\n      <td>0</td>\n      <td>52</td>\n      <td>6</td>\n      <td>407438</td>\n      <td>0</td>\n      <td>7</td>\n      <td>0</td>\n      <td>2015-01-01</td>\n      <td>2.0</td>\n      <td>1</td>\n    </tr>\n    <tr>\n      <th>3</th>\n      <td>2015-01-04</td>\n      <td>S1F01085</td>\n      <td>0</td>\n      <td>128073224</td>\n      <td>56</td>\n      <td>0</td>\n      <td>52</td>\n      <td>6</td>\n      <td>407439</td>\n      <td>0</td>\n      <td>7</td>\n      <td>0</td>\n      <td>2015-01-01</td>\n      <td>3.0</td>\n      <td>1</td>\n    </tr>\n    <tr>\n      <th>4</th>\n      <td>2015-01-05</td>\n      <td>S1F01085</td>\n      <td>0</td>\n      <td>97393448</td>\n      <td>56</td>\n      <td>0</td>\n      <td>52</td>\n      <td>6</td>\n      <td>408114</td>\n      <td>0</td>\n      <td>7</td>\n      <td>0</td>\n      <td>2015-01-01</td>\n      <td>4.0</td>\n      <td>1</td>\n    </tr>\n  </tbody>\n</table>\n</div>"
     },
     "execution_count": 284,
     "metadata": {},
     "output_type": "execute_result"
    }
   ],
   "source": [
    "#Drop da coluna attribute8 por ter correlação perfeita positiva com a attribute9\n",
    "df.drop('attribute8', axis=1, inplace=True)\n",
    "df.head()"
   ],
   "metadata": {
    "collapsed": false
   }
  },
  {
   "cell_type": "markdown",
   "source": [
    "### Oversamplig - gerando mais casos de falha para balanceamento das classes"
   ],
   "metadata": {
    "collapsed": false
   }
  },
  {
   "cell_type": "markdown",
   "source": [
    "No primeiro momento vou testar a janela encontrada com a moda da coluna de datas para falhas.\n",
    "A técnica será a de SMOTE (Synthetic Minority Over-sampling Technique), ela gera amostras sintéticas da classe minoritária. Para cada exemplo da classe minoritária é selecionado aleatóriamente um valor k vizinhos mais próximos para criar novos exemplos. Usarei a janela (18) para K e a quantidade de amostras ((taxa de oversampling) será determinada pela razão: (tamanho_nao_falhas / tamanho_falhas) - 1) / 10."
   ],
   "metadata": {
    "collapsed": false
   }
  },
  {
   "cell_type": "code",
   "execution_count": 285,
   "outputs": [
    {
     "name": "stdout",
     "output_type": "stream",
     "text": [
      "Quantidade de device: 1169 e device Encoder: 1169\n"
     ]
    }
   ],
   "source": [
    "from sklearn.preprocessing import LabelEncoder\n",
    "from datetime import datetime\n",
    "\n",
    "\n",
    "#trasformação da coluna de dispositivos\n",
    "encoder = LabelEncoder()\n",
    "\n",
    "df['device_encolder'] = encoder.fit_transform(df['device'])\n",
    "print('Quantidade de device: {} e device Encoder: {}'.format(df['device'].nunique(), df['device_encolder'].nunique()))\n",
    "df.drop('device', axis=1, inplace=True)\n",
    "\n",
    "#colunas de datas precisam ser convertidas\n",
    "df[\"date\"] = (pd.to_datetime(df[\"date\"]) - datetime(1970, 1, 1)).dt.total_seconds()\n",
    "df[\"start_date\"] = (pd.to_datetime(df[\"start_date\"]) - datetime(1970, 1, 1)).dt.total_seconds()"
   ],
   "metadata": {
    "collapsed": false
   }
  },
  {
   "cell_type": "code",
   "execution_count": 286,
   "outputs": [
    {
     "name": "stdout",
     "output_type": "stream",
     "text": [
      "Contagem de classe antes do oversampling: Counter({0: 124387, 1: 106})\n",
      "Contagem de classe depois do oversampling: Counter({0: 124387, 1: 6214})\n",
      "0.04758003384353872\n"
     ]
    }
   ],
   "source": [
    "from collections import Counter\n",
    "from imblearn.over_sampling import SMOTE\n",
    "\n",
    "def oversamplit_SMOTE(data):\n",
    "    # Separando as features e o target\n",
    "    X = data.drop('failure', axis=1)\n",
    "    y = data['failure']\n",
    "\n",
    "    # Verifique a contagem de classe antes do oversampling\n",
    "    print('Contagem de classe antes do oversampling:', Counter(y))\n",
    "\n",
    "    # Determine a taxa de oversampling\n",
    "    minority_class_size = len(data[data['failure'] == 1])\n",
    "    majority_class_size = len(data[data['failure'] == 0])\n",
    "    oversampling_rate = (1 - (minority_class_size / majority_class_size)) * 0.05\n",
    "\n",
    "    # Use SMOTE para gerar amostras sintéticas com a taxa de oversampling\n",
    "    smote = SMOTE(sampling_strategy=oversampling_rate, k_neighbors=18, random_state=42)\n",
    "    X_resampled, y_resampled = smote.fit_resample(X, y)\n",
    "\n",
    "    # Verifique a contagem de classe depois do oversampling\n",
    "    print('Contagem de classe depois do oversampling:', Counter(y_resampled))\n",
    "    print(y_resampled.mean())\n",
    "\n",
    "df = oversamplit_SMOTE(df)"
   ],
   "metadata": {
    "collapsed": false
   }
  },
  {
   "cell_type": "markdown",
   "source": [
    "O percentual de falha original é: 0.83%, com Oversample ficou em 5%. Ainda está muito desbalanceado, por enquanto irei manter essas quantidades, para não introduzir um viés alto antes de fazer o split entre treino e teste. Depois desse split, vou fazer o SMOTE de novo para gerar noso registros no dataset de treino."
   ],
   "metadata": {
    "collapsed": false
   }
  },
  {
   "cell_type": "code",
   "execution_count": 287,
   "outputs": [
    {
     "data": {
      "text/plain": "(130601, 55)"
     },
     "execution_count": 287,
     "metadata": {},
     "output_type": "execute_result"
    }
   ],
   "source": [
    "# Criando um novo DataFrame com as features resampleadas e o target resampleado\n",
    "df_resampled = pd.DataFrame(X_resampled, columns=X.columns)\n",
    "df_resampled['failure'] = y_resampled\n",
    "\n",
    "df_resampled.shape\n"
   ],
   "metadata": {
    "collapsed": false
   }
  },
  {
   "cell_type": "code",
   "execution_count": 288,
   "outputs": [
    {
     "data": {
      "text/plain": "<Axes: xlabel='failure', ylabel='count'>"
     },
     "execution_count": 288,
     "metadata": {},
     "output_type": "execute_result"
    },
    {
     "data": {
      "text/plain": "<Figure size 640x480 with 1 Axes>",
      "image/png": "[encoded data removed]"
     },
     "metadata": {},
     "output_type": "display_data"
    }
   ],
   "source": [
    "sns.countplot(data=df_resampled, x='failure')"
   ],
   "metadata": {
    "collapsed": false
   }
  },
  {
   "cell_type": "code",
   "execution_count": 289,
   "outputs": [
    {
     "data": {
      "text/plain": "          date  attribute1  attribute2  attribute3  attribute4  attribute5  \\\n0   2015-01-01   215630672          56           0          52           6   \n1   2015-01-02     1650864          56           0          52           6   \n2   2015-01-03   124017368          56           0          52           6   \n3   2015-01-04   128073224          56           0          52           6   \n4   2015-01-05    97393448          56           0          52           6   \n5   2015-01-06   128832128          56           0          52           6   \n6   2015-05-06    14533968           0           0           0           5   \n7   2015-05-07    46202296           0           0           0           5   \n8   2015-05-08   214383720           0           0           0           5   \n9   2015-05-09   243346080           0           0           0           5   \n10  2015-05-10    85127128           0           0           0           5   \n11  2015-05-11   115676688           0           0           0           5   \n12  2015-01-01    61370680           0           3           0           6   \n13  2015-01-02   191946112           0           3           0           6   \n14  2015-01-03    77681360           0           3           0           6   \n15  2015-01-04    82195688           0           3           0           6   \n16  2015-01-05   224339296           0           3           0           6   \n17  2015-01-06     7441792           0           3           0           6   \n18  2015-01-01   173295968           0           0           0          12   \n19  2015-01-02   192723440           0           0           0          12   \n20  2015-01-03   214317232           0           0           0          12   \n21  2015-01-04   236917296           0           0           0          12   \n22  2015-01-05    17099072           0           0           0          12   \n23  2015-01-06    37263504           0           0           0          12   \n24  2015-01-07    62055216           0           0           0          12   \n25  2015-01-08    82886232           0           0           0          12   \n26  2015-01-09   109504512           0           0           0          12   \n27  2015-01-10   130876064           0           0           0          12   \n28  2015-01-11   154306584           0           0           0          12   \n29  2015-01-12   174969224           0           0           0          12   \n\n    attribute6  attribute7  attribute9  flipper  ... attribute9_min  \\\n0       407438           0           7        1  ...            7.0   \n1       407438           0           7        0  ...            7.0   \n2       407438           0           7        0  ...            7.0   \n3       407439           0           7        0  ...            7.0   \n4       408114           0           7        0  ...            7.0   \n5       409404           0           7        0  ...            7.0   \n6       688952           0           0        1  ...            0.0   \n7       688952           0           0        0  ...            0.0   \n8       688964           0           0        0  ...            0.0   \n9       689035           0           0        0  ...            0.0   \n10      689062           0           0        0  ...            0.0   \n11      689161           0           0        0  ...            0.0   \n12      403174           0           0        1  ...            0.0   \n13      403174           0           0        0  ...            0.0   \n14      403174           0           0        0  ...            0.0   \n15      403175           0           0        0  ...            0.0   \n16      403812           0           0        0  ...            0.0   \n17      404786           0           0        0  ...            0.0   \n18      237394           0           0        1  ...            0.0   \n19      238718           0           0        0  ...            0.0   \n20      240021           0           0        0  ...            0.0   \n21      241264           0           0        0  ...            0.0   \n22      242553           0           0        0  ...            0.0   \n23      243875           0           0        0  ...            0.0   \n24      245207           0           0        0  ...            0.0   \n25      246493           0           0        0  ...            0.0   \n26      247666           0           0        0  ...            0.0   \n27      248950           0           0        0  ...            0.0   \n28      250284           0           0        0  ...            0.0   \n29      251590           0           0        0  ...            0.0   \n\n    attribute1_chg  attribute2_chg  attribute3_chg  attribute4_chg  \\\n0              1.0             1.0             0.0             1.0   \n1              1.0             1.0             0.0             1.0   \n2              1.0             1.0             0.0             1.0   \n3              1.0             1.0             0.0             1.0   \n4              1.0             1.0             0.0             1.0   \n5              1.0             1.0             0.0             1.0   \n6              1.0             0.0             0.0             0.0   \n7              1.0             0.0             0.0             0.0   \n8              1.0             0.0             0.0             0.0   \n9              1.0             0.0             0.0             0.0   \n10             1.0             0.0             0.0             0.0   \n11             1.0             0.0             0.0             0.0   \n12             1.0             0.0             1.0             0.0   \n13             1.0             0.0             1.0             0.0   \n14             1.0             0.0             1.0             0.0   \n15             1.0             0.0             1.0             0.0   \n16             1.0             0.0             1.0             0.0   \n17             1.0             0.0             1.0             0.0   \n18             1.0             0.0             0.0             0.0   \n19             1.0             0.0             0.0             0.0   \n20             1.0             0.0             0.0             0.0   \n21             1.0             0.0             0.0             0.0   \n22             1.0             0.0             0.0             0.0   \n23             1.0             0.0             0.0             0.0   \n24             1.0             0.0             0.0             0.0   \n25             1.0             0.0             0.0             0.0   \n26             1.0             0.0             0.0             0.0   \n27             1.0             0.0             0.0             0.0   \n28             1.0             0.0             0.0             0.0   \n29             1.0             0.0             0.0             0.0   \n\n    attribute5_chg  attribute6_chg  attribute7_chg  attribute9_chg  failure  \n0              1.0             1.0             0.0             1.0        0  \n1              1.0             1.0             0.0             1.0        0  \n2              1.0             1.0             0.0             1.0        0  \n3              1.0             1.0             0.0             1.0        0  \n4              1.0             1.0             0.0             1.0        0  \n5              1.0             1.0             0.0             1.0        0  \n6              1.0             1.0             0.0             0.0        0  \n7              1.0             1.0             0.0             0.0        0  \n8              1.0             1.0             0.0             0.0        0  \n9              1.0             1.0             0.0             0.0        0  \n10             1.0             1.0             0.0             0.0        0  \n11             1.0             1.0             0.0             0.0        0  \n12             1.0             1.0             0.0             0.0        0  \n13             1.0             1.0             0.0             0.0        0  \n14             1.0             1.0             0.0             0.0        0  \n15             1.0             1.0             0.0             0.0        0  \n16             1.0             1.0             0.0             0.0        0  \n17             1.0             1.0             0.0             0.0        0  \n18             1.0             1.0             0.0             0.0        0  \n19             1.0             1.0             0.0             0.0        0  \n20             1.0             1.0             0.0             0.0        0  \n21             1.0             1.0             0.0             0.0        0  \n22             1.0             1.0             0.0             0.0        0  \n23             1.0             1.0             0.0             0.0        0  \n24             1.0             1.0             0.0             0.0        0  \n25             1.0             1.0             0.0             0.0        0  \n26             1.0             1.0             0.0             0.0        0  \n27             1.0             1.0             0.0             0.0        0  \n28             1.0             1.0             0.0             0.0        0  \n29             1.0             1.0             0.0             0.0        0  \n\n[30 rows x 55 columns]",
      "text/html": "<div>\n<style scoped>\n    .dataframe tbody tr th:only-of-type {\n        vertical-align: middle;\n    }\n\n    .dataframe tbody tr th {\n        vertical-align: top;\n    }\n\n    .dataframe thead th {\n        text-align: right;\n    }\n</style>\n<table border=\"1\" class=\"dataframe\">\n  <thead>\n    <tr style=\"text-align: right;\">\n      <th></th>\n      <th>date</th>\n      <th>attribute1</th>\n      <th>attribute2</th>\n      <th>attribute3</th>\n      <th>attribute4</th>\n      <th>attribute5</th>\n      <th>attribute6</th>\n      <th>attribute7</th>\n      <th>attribute9</th>\n      <th>flipper</th>\n      <th>...</th>\n      <th>attribute9_min</th>\n      <th>attribute1_chg</th>\n      <th>attribute2_chg</th>\n      <th>attribute3_chg</th>\n      <th>attribute4_chg</th>\n      <th>attribute5_chg</th>\n      <th>attribute6_chg</th>\n      <th>attribute7_chg</th>\n      <th>attribute9_chg</th>\n      <th>failure</th>\n    </tr>\n  </thead>\n  <tbody>\n    <tr>\n      <th>0</th>\n      <td>2015-01-01</td>\n      <td>215630672</td>\n      <td>56</td>\n      <td>0</td>\n      <td>52</td>\n      <td>6</td>\n      <td>407438</td>\n      <td>0</td>\n      <td>7</td>\n      <td>1</td>\n      <td>...</td>\n      <td>7.0</td>\n      <td>1.0</td>\n      <td>1.0</td>\n      <td>0.0</td>\n      <td>1.0</td>\n      <td>1.0</td>\n      <td>1.0</td>\n      <td>0.0</td>\n      <td>1.0</td>\n      <td>0</td>\n    </tr>\n    <tr>\n      <th>1</th>\n      <td>2015-01-02</td>\n      <td>1650864</td>\n      <td>56</td>\n      <td>0</td>\n      <td>52</td>\n      <td>6</td>\n      <td>407438</td>\n      <td>0</td>\n      <td>7</td>\n      <td>0</td>\n      <td>...</td>\n      <td>7.0</td>\n      <td>1.0</td>\n      <td>1.0</td>\n      <td>0.0</td>\n      <td>1.0</td>\n      <td>1.0</td>\n      <td>1.0</td>\n      <td>0.0</td>\n      <td>1.0</td>\n      <td>0</td>\n    </tr>\n    <tr>\n      <th>2</th>\n      <td>2015-01-03</td>\n      <td>124017368</td>\n      <td>56</td>\n      <td>0</td>\n      <td>52</td>\n      <td>6</td>\n      <td>407438</td>\n      <td>0</td>\n      <td>7</td>\n      <td>0</td>\n      <td>...</td>\n      <td>7.0</td>\n      <td>1.0</td>\n      <td>1.0</td>\n      <td>0.0</td>\n      <td>1.0</td>\n      <td>1.0</td>\n      <td>1.0</td>\n      <td>0.0</td>\n      <td>1.0</td>\n      <td>0</td>\n    </tr>\n    <tr>\n      <th>3</th>\n      <td>2015-01-04</td>\n      <td>128073224</td>\n      <td>56</td>\n      <td>0</td>\n      <td>52</td>\n      <td>6</td>\n      <td>407439</td>\n      <td>0</td>\n      <td>7</td>\n      <td>0</td>\n      <td>...</td>\n      <td>7.0</td>\n      <td>1.0</td>\n      <td>1.0</td>\n      <td>0.0</td>\n      <td>1.0</td>\n      <td>1.0</td>\n      <td>1.0</td>\n      <td>0.0</td>\n      <td>1.0</td>\n      <td>0</td>\n    </tr>\n    <tr>\n      <th>4</th>\n      <td>2015-01-05</td>\n      <td>97393448</td>\n      <td>56</td>\n      <td>0</td>\n      <td>52</td>\n      <td>6</td>\n      <td>408114</td>\n      <td>0</td>\n      <td>7</td>\n      <td>0</td>\n      <td>...</td>\n      <td>7.0</td>\n      <td>1.0</td>\n      <td>1.0</td>\n      <td>0.0</td>\n      <td>1.0</td>\n      <td>1.0</td>\n      <td>1.0</td>\n      <td>0.0</td>\n      <td>1.0</td>\n      <td>0</td>\n    </tr>\n    <tr>\n      <th>5</th>\n      <td>2015-01-06</td>\n      <td>128832128</td>\n      <td>56</td>\n      <td>0</td>\n      <td>52</td>\n      <td>6</td>\n      <td>409404</td>\n      <td>0</td>\n      <td>7</td>\n      <td>0</td>\n      <td>...</td>\n      <td>7.0</td>\n      <td>1.0</td>\n      <td>1.0</td>\n      <td>0.0</td>\n      <td>1.0</td>\n      <td>1.0</td>\n      <td>1.0</td>\n      <td>0.0</td>\n      <td>1.0</td>\n      <td>0</td>\n    </tr>\n    <tr>\n      <th>6</th>\n      <td>2015-05-06</td>\n      <td>14533968</td>\n      <td>0</td>\n      <td>0</td>\n      <td>0</td>\n      <td>5</td>\n      <td>688952</td>\n      <td>0</td>\n      <td>0</td>\n      <td>1</td>\n      <td>...</td>\n      <td>0.0</td>\n      <td>1.0</td>\n      <td>0.0</td>\n      <td>0.0</td>\n      <td>0.0</td>\n      <td>1.0</td>\n      <td>1.0</td>\n      <td>0.0</td>\n      <td>0.0</td>\n      <td>0</td>\n    </tr>\n    <tr>\n      <th>7</th>\n      <td>2015-05-07</td>\n      <td>46202296</td>\n      <td>0</td>\n      <td>0</td>\n      <td>0</td>\n      <td>5</td>\n      <td>688952</td>\n      <td>0</td>\n      <td>0</td>\n      <td>0</td>\n      <td>...</td>\n      <td>0.0</td>\n      <td>1.0</td>\n      <td>0.0</td>\n      <td>0.0</td>\n      <td>0.0</td>\n      <td>1.0</td>\n      <td>1.0</td>\n      <td>0.0</td>\n      <td>0.0</td>\n      <td>0</td>\n    </tr>\n    <tr>\n      <th>8</th>\n      <td>2015-05-08</td>\n      <td>214383720</td>\n      <td>0</td>\n      <td>0</td>\n      <td>0</td>\n      <td>5</td>\n      <td>688964</td>\n      <td>0</td>\n      <td>0</td>\n      <td>0</td>\n      <td>...</td>\n      <td>0.0</td>\n      <td>1.0</td>\n      <td>0.0</td>\n      <td>0.0</td>\n      <td>0.0</td>\n      <td>1.0</td>\n      <td>1.0</td>\n      <td>0.0</td>\n      <td>0.0</td>\n      <td>0</td>\n    </tr>\n    <tr>\n      <th>9</th>\n      <td>2015-05-09</td>\n      <td>243346080</td>\n      <td>0</td>\n      <td>0</td>\n      <td>0</td>\n      <td>5</td>\n      <td>689035</td>\n      <td>0</td>\n      <td>0</td>\n      <td>0</td>\n      <td>...</td>\n      <td>0.0</td>\n      <td>1.0</td>\n      <td>0.0</td>\n      <td>0.0</td>\n      <td>0.0</td>\n      <td>1.0</td>\n      <td>1.0</td>\n      <td>0.0</td>\n      <td>0.0</td>\n      <td>0</td>\n    </tr>\n    <tr>\n      <th>10</th>\n      <td>2015-05-10</td>\n      <td>85127128</td>\n      <td>0</td>\n      <td>0</td>\n      <td>0</td>\n      <td>5</td>\n      <td>689062</td>\n      <td>0</td>\n      <td>0</td>\n      <td>0</td>\n      <td>...</td>\n      <td>0.0</td>\n      <td>1.0</td>\n      <td>0.0</td>\n      <td>0.0</td>\n      <td>0.0</td>\n      <td>1.0</td>\n      <td>1.0</td>\n      <td>0.0</td>\n      <td>0.0</td>\n      <td>0</td>\n    </tr>\n    <tr>\n      <th>11</th>\n      <td>2015-05-11</td>\n      <td>115676688</td>\n      <td>0</td>\n      <td>0</td>\n      <td>0</td>\n      <td>5</td>\n      <td>689161</td>\n      <td>0</td>\n      <td>0</td>\n      <td>0</td>\n      <td>...</td>\n      <td>0.0</td>\n      <td>1.0</td>\n      <td>0.0</td>\n      <td>0.0</td>\n      <td>0.0</td>\n      <td>1.0</td>\n      <td>1.0</td>\n      <td>0.0</td>\n      <td>0.0</td>\n      <td>0</td>\n    </tr>\n    <tr>\n      <th>12</th>\n      <td>2015-01-01</td>\n      <td>61370680</td>\n      <td>0</td>\n      <td>3</td>\n      <td>0</td>\n      <td>6</td>\n      <td>403174</td>\n      <td>0</td>\n      <td>0</td>\n      <td>1</td>\n      <td>...</td>\n      <td>0.0</td>\n      <td>1.0</td>\n      <td>0.0</td>\n      <td>1.0</td>\n      <td>0.0</td>\n      <td>1.0</td>\n      <td>1.0</td>\n      <td>0.0</td>\n      <td>0.0</td>\n      <td>0</td>\n    </tr>\n    <tr>\n      <th>13</th>\n      <td>2015-01-02</td>\n      <td>191946112</td>\n      <td>0</td>\n      <td>3</td>\n      <td>0</td>\n      <td>6</td>\n      <td>403174</td>\n      <td>0</td>\n      <td>0</td>\n      <td>0</td>\n      <td>...</td>\n      <td>0.0</td>\n      <td>1.0</td>\n      <td>0.0</td>\n      <td>1.0</td>\n      <td>0.0</td>\n      <td>1.0</td>\n      <td>1.0</td>\n      <td>0.0</td>\n      <td>0.0</td>\n      <td>0</td>\n    </tr>\n    <tr>\n      <th>14</th>\n      <td>2015-01-03</td>\n      <td>77681360</td>\n      <td>0</td>\n      <td>3</td>\n      <td>0</td>\n      <td>6</td>\n      <td>403174</td>\n      <td>0</td>\n      <td>0</td>\n      <td>0</td>\n      <td>...</td>\n      <td>0.0</td>\n      <td>1.0</td>\n      <td>0.0</td>\n      <td>1.0</td>\n      <td>0.0</td>\n      <td>1.0</td>\n      <td>1.0</td>\n      <td>0.0</td>\n      <td>0.0</td>\n      <td>0</td>\n    </tr>\n    <tr>\n      <th>15</th>\n      <td>2015-01-04</td>\n      <td>82195688</td>\n      <td>0</td>\n      <td>3</td>\n      <td>0</td>\n      <td>6</td>\n      <td>403175</td>\n      <td>0</td>\n      <td>0</td>\n      <td>0</td>\n      <td>...</td>\n      <td>0.0</td>\n      <td>1.0</td>\n      <td>0.0</td>\n      <td>1.0</td>\n      <td>0.0</td>\n      <td>1.0</td>\n      <td>1.0</td>\n      <td>0.0</td>\n      <td>0.0</td>\n      <td>0</td>\n    </tr>\n    <tr>\n      <th>16</th>\n      <td>2015-01-05</td>\n      <td>224339296</td>\n      <td>0</td>\n      <td>3</td>\n      <td>0</td>\n      <td>6</td>\n      <td>403812</td>\n      <td>0</td>\n      <td>0</td>\n      <td>0</td>\n      <td>...</td>\n      <td>0.0</td>\n      <td>1.0</td>\n      <td>0.0</td>\n      <td>1.0</td>\n      <td>0.0</td>\n      <td>1.0</td>\n      <td>1.0</td>\n      <td>0.0</td>\n      <td>0.0</td>\n      <td>0</td>\n    </tr>\n    <tr>\n      <th>17</th>\n      <td>2015-01-06</td>\n      <td>7441792</td>\n      <td>0</td>\n      <td>3</td>\n      <td>0</td>\n      <td>6</td>\n      <td>404786</td>\n      <td>0</td>\n      <td>0</td>\n      <td>0</td>\n      <td>...</td>\n      <td>0.0</td>\n      <td>1.0</td>\n      <td>0.0</td>\n      <td>1.0</td>\n      <td>0.0</td>\n      <td>1.0</td>\n      <td>1.0</td>\n      <td>0.0</td>\n      <td>0.0</td>\n      <td>0</td>\n    </tr>\n    <tr>\n      <th>18</th>\n      <td>2015-01-01</td>\n      <td>173295968</td>\n      <td>0</td>\n      <td>0</td>\n      <td>0</td>\n      <td>12</td>\n      <td>237394</td>\n      <td>0</td>\n      <td>0</td>\n      <td>1</td>\n      <td>...</td>\n      <td>0.0</td>\n      <td>1.0</td>\n      <td>0.0</td>\n      <td>0.0</td>\n      <td>0.0</td>\n      <td>1.0</td>\n      <td>1.0</td>\n      <td>0.0</td>\n      <td>0.0</td>\n      <td>0</td>\n    </tr>\n    <tr>\n      <th>19</th>\n      <td>2015-01-02</td>\n      <td>192723440</td>\n      <td>0</td>\n      <td>0</td>\n      <td>0</td>\n      <td>12</td>\n      <td>238718</td>\n      <td>0</td>\n      <td>0</td>\n      <td>0</td>\n      <td>...</td>\n      <td>0.0</td>\n      <td>1.0</td>\n      <td>0.0</td>\n      <td>0.0</td>\n      <td>0.0</td>\n      <td>1.0</td>\n      <td>1.0</td>\n      <td>0.0</td>\n      <td>0.0</td>\n      <td>0</td>\n    </tr>\n    <tr>\n      <th>20</th>\n      <td>2015-01-03</td>\n      <td>214317232</td>\n      <td>0</td>\n      <td>0</td>\n      <td>0</td>\n      <td>12</td>\n      <td>240021</td>\n      <td>0</td>\n      <td>0</td>\n      <td>0</td>\n      <td>...</td>\n      <td>0.0</td>\n      <td>1.0</td>\n      <td>0.0</td>\n      <td>0.0</td>\n      <td>0.0</td>\n      <td>1.0</td>\n      <td>1.0</td>\n      <td>0.0</td>\n      <td>0.0</td>\n      <td>0</td>\n    </tr>\n    <tr>\n      <th>21</th>\n      <td>2015-01-04</td>\n      <td>236917296</td>\n      <td>0</td>\n      <td>0</td>\n      <td>0</td>\n      <td>12</td>\n      <td>241264</td>\n      <td>0</td>\n      <td>0</td>\n      <td>0</td>\n      <td>...</td>\n      <td>0.0</td>\n      <td>1.0</td>\n      <td>0.0</td>\n      <td>0.0</td>\n      <td>0.0</td>\n      <td>1.0</td>\n      <td>1.0</td>\n      <td>0.0</td>\n      <td>0.0</td>\n      <td>0</td>\n    </tr>\n    <tr>\n      <th>22</th>\n      <td>2015-01-05</td>\n      <td>17099072</td>\n      <td>0</td>\n      <td>0</td>\n      <td>0</td>\n      <td>12</td>\n      <td>242553</td>\n      <td>0</td>\n      <td>0</td>\n      <td>0</td>\n      <td>...</td>\n      <td>0.0</td>\n      <td>1.0</td>\n      <td>0.0</td>\n      <td>0.0</td>\n      <td>0.0</td>\n      <td>1.0</td>\n      <td>1.0</td>\n      <td>0.0</td>\n      <td>0.0</td>\n      <td>0</td>\n    </tr>\n    <tr>\n      <th>23</th>\n      <td>2015-01-06</td>\n      <td>37263504</td>\n      <td>0</td>\n      <td>0</td>\n      <td>0</td>\n      <td>12</td>\n      <td>243875</td>\n      <td>0</td>\n      <td>0</td>\n      <td>0</td>\n      <td>...</td>\n      <td>0.0</td>\n      <td>1.0</td>\n      <td>0.0</td>\n      <td>0.0</td>\n      <td>0.0</td>\n      <td>1.0</td>\n      <td>1.0</td>\n      <td>0.0</td>\n      <td>0.0</td>\n      <td>0</td>\n    </tr>\n    <tr>\n      <th>24</th>\n      <td>2015-01-07</td>\n      <td>62055216</td>\n      <td>0</td>\n      <td>0</td>\n      <td>0</td>\n      <td>12</td>\n      <td>245207</td>\n      <td>0</td>\n      <td>0</td>\n      <td>0</td>\n      <td>...</td>\n      <td>0.0</td>\n      <td>1.0</td>\n      <td>0.0</td>\n      <td>0.0</td>\n      <td>0.0</td>\n      <td>1.0</td>\n      <td>1.0</td>\n      <td>0.0</td>\n      <td>0.0</td>\n      <td>0</td>\n    </tr>\n    <tr>\n      <th>25</th>\n      <td>2015-01-08</td>\n      <td>82886232</td>\n      <td>0</td>\n      <td>0</td>\n      <td>0</td>\n      <td>12</td>\n      <td>246493</td>\n      <td>0</td>\n      <td>0</td>\n      <td>0</td>\n      <td>...</td>\n      <td>0.0</td>\n      <td>1.0</td>\n      <td>0.0</td>\n      <td>0.0</td>\n      <td>0.0</td>\n      <td>1.0</td>\n      <td>1.0</td>\n      <td>0.0</td>\n      <td>0.0</td>\n      <td>0</td>\n    </tr>\n    <tr>\n      <th>26</th>\n      <td>2015-01-09</td>\n      <td>109504512</td>\n      <td>0</td>\n      <td>0</td>\n      <td>0</td>\n      <td>12</td>\n      <td>247666</td>\n      <td>0</td>\n      <td>0</td>\n      <td>0</td>\n      <td>...</td>\n      <td>0.0</td>\n      <td>1.0</td>\n      <td>0.0</td>\n      <td>0.0</td>\n      <td>0.0</td>\n      <td>1.0</td>\n      <td>1.0</td>\n      <td>0.0</td>\n      <td>0.0</td>\n      <td>0</td>\n    </tr>\n    <tr>\n      <th>27</th>\n      <td>2015-01-10</td>\n      <td>130876064</td>\n      <td>0</td>\n      <td>0</td>\n      <td>0</td>\n      <td>12</td>\n      <td>248950</td>\n      <td>0</td>\n      <td>0</td>\n      <td>0</td>\n      <td>...</td>\n      <td>0.0</td>\n      <td>1.0</td>\n      <td>0.0</td>\n      <td>0.0</td>\n      <td>0.0</td>\n      <td>1.0</td>\n      <td>1.0</td>\n      <td>0.0</td>\n      <td>0.0</td>\n      <td>0</td>\n    </tr>\n    <tr>\n      <th>28</th>\n      <td>2015-01-11</td>\n      <td>154306584</td>\n      <td>0</td>\n      <td>0</td>\n      <td>0</td>\n      <td>12</td>\n      <td>250284</td>\n      <td>0</td>\n      <td>0</td>\n      <td>0</td>\n      <td>...</td>\n      <td>0.0</td>\n      <td>1.0</td>\n      <td>0.0</td>\n      <td>0.0</td>\n      <td>0.0</td>\n      <td>1.0</td>\n      <td>1.0</td>\n      <td>0.0</td>\n      <td>0.0</td>\n      <td>0</td>\n    </tr>\n    <tr>\n      <th>29</th>\n      <td>2015-01-12</td>\n      <td>174969224</td>\n      <td>0</td>\n      <td>0</td>\n      <td>0</td>\n      <td>12</td>\n      <td>251590</td>\n      <td>0</td>\n      <td>0</td>\n      <td>0</td>\n      <td>...</td>\n      <td>0.0</td>\n      <td>1.0</td>\n      <td>0.0</td>\n      <td>0.0</td>\n      <td>0.0</td>\n      <td>1.0</td>\n      <td>1.0</td>\n      <td>0.0</td>\n      <td>0.0</td>\n      <td>0</td>\n    </tr>\n  </tbody>\n</table>\n<p>30 rows × 55 columns</p>\n</div>"
     },
     "execution_count": 289,
     "metadata": {},
     "output_type": "execute_result"
    }
   ],
   "source": [
    "#ordenando novamente pelo device e date\n",
    "df_resampled.sort_values(by=['device_encolder','date'], ascending=[True, True]).head(30)"
   ],
   "metadata": {
    "collapsed": false
   }
  },
  {
   "cell_type": "markdown",
   "source": [
    "### Tranformação dos dados"
   ],
   "metadata": {
    "collapsed": false
   }
  },
  {
   "cell_type": "markdown",
   "source": [
    "Os dados são bem dispersos, então para a transformação vou utilizar a média, mediana, o máximo e o minímo das colunas de telemetria."
   ],
   "metadata": {
    "collapsed": false
   }
  },
  {
   "cell_type": "code",
   "execution_count": 290,
   "outputs": [],
   "source": [
    "def tranform_new_data(colum):\n",
    "    df_resampled[colum+'_mean'] =np.where((df_resampled.too_soon == 0),(df_resampled[colum].rolling(min_periods=1,window=window).mean()), df_resampled[colum])\n",
    "    df_resampled[colum+'_median'] =np.where((df_resampled.too_soon == 0),(df_resampled[colum].rolling(min_periods=1,window=window).median()), df_resampled[colum])\n",
    "    df_resampled[colum+'_max'] = np.where((df_resampled.too_soon == 0),(df_resampled[colum].rolling(min_periods=1, window=window).max()), df_resampled[colum])\n",
    "    df_resampled[colum+'_min'] = np.where((df_resampled.too_soon == 0),(df_resampled[colum].rolling(min_periods=1, window=window).min()), df_resampled[colum])\n",
    "\n",
    "#Colunas para transformação\n",
    "for i in df_resampled.columns[1:9]:\n",
    "    tranform_new_data(df_resampled[i].name)"
   ],
   "metadata": {
    "collapsed": false
   }
  },
  {
   "cell_type": "code",
   "execution_count": 291,
   "outputs": [
    {
     "data": {
      "text/plain": "         date  attribute1  attribute2  attribute3  attribute4  attribute5  \\\n0  2015-01-01   215630672          56           0          52           6   \n1  2015-01-02     1650864          56           0          52           6   \n2  2015-01-03   124017368          56           0          52           6   \n3  2015-01-04   128073224          56           0          52           6   \n4  2015-01-05    97393448          56           0          52           6   \n\n   attribute6  attribute7  attribute9  flipper  ... attribute9_min  \\\n0      407438           0           7        1  ...            7.0   \n1      407438           0           7        0  ...            7.0   \n2      407438           0           7        0  ...            7.0   \n3      407439           0           7        0  ...            7.0   \n4      408114           0           7        0  ...            7.0   \n\n   attribute1_chg  attribute2_chg  attribute3_chg  attribute4_chg  \\\n0             1.0             1.0             0.0             1.0   \n1             1.0             1.0             0.0             1.0   \n2             1.0             1.0             0.0             1.0   \n3             1.0             1.0             0.0             1.0   \n4             1.0             1.0             0.0             1.0   \n\n   attribute5_chg  attribute6_chg  attribute7_chg  attribute9_chg  failure  \n0             1.0             1.0             0.0             1.0        0  \n1             1.0             1.0             0.0             1.0        0  \n2             1.0             1.0             0.0             1.0        0  \n3             1.0             1.0             0.0             1.0        0  \n4             1.0             1.0             0.0             1.0        0  \n\n[5 rows x 55 columns]",
      "text/html": "<div>\n<style scoped>\n    .dataframe tbody tr th:only-of-type {\n        vertical-align: middle;\n    }\n\n    .dataframe tbody tr th {\n        vertical-align: top;\n    }\n\n    .dataframe thead th {\n        text-align: right;\n    }\n</style>\n<table border=\"1\" class=\"dataframe\">\n  <thead>\n    <tr style=\"text-align: right;\">\n      <th></th>\n      <th>date</th>\n      <th>attribute1</th>\n      <th>attribute2</th>\n      <th>attribute3</th>\n      <th>attribute4</th>\n      <th>attribute5</th>\n      <th>attribute6</th>\n      <th>attribute7</th>\n      <th>attribute9</th>\n      <th>flipper</th>\n      <th>...</th>\n      <th>attribute9_min</th>\n      <th>attribute1_chg</th>\n      <th>attribute2_chg</th>\n      <th>attribute3_chg</th>\n      <th>attribute4_chg</th>\n      <th>attribute5_chg</th>\n      <th>attribute6_chg</th>\n      <th>attribute7_chg</th>\n      <th>attribute9_chg</th>\n      <th>failure</th>\n    </tr>\n  </thead>\n  <tbody>\n    <tr>\n      <th>0</th>\n      <td>2015-01-01</td>\n      <td>215630672</td>\n      <td>56</td>\n      <td>0</td>\n      <td>52</td>\n      <td>6</td>\n      <td>407438</td>\n      <td>0</td>\n      <td>7</td>\n      <td>1</td>\n      <td>...</td>\n      <td>7.0</td>\n      <td>1.0</td>\n      <td>1.0</td>\n      <td>0.0</td>\n      <td>1.0</td>\n      <td>1.0</td>\n      <td>1.0</td>\n      <td>0.0</td>\n      <td>1.0</td>\n      <td>0</td>\n    </tr>\n    <tr>\n      <th>1</th>\n      <td>2015-01-02</td>\n      <td>1650864</td>\n      <td>56</td>\n      <td>0</td>\n      <td>52</td>\n      <td>6</td>\n      <td>407438</td>\n      <td>0</td>\n      <td>7</td>\n      <td>0</td>\n      <td>...</td>\n      <td>7.0</td>\n      <td>1.0</td>\n      <td>1.0</td>\n      <td>0.0</td>\n      <td>1.0</td>\n      <td>1.0</td>\n      <td>1.0</td>\n      <td>0.0</td>\n      <td>1.0</td>\n      <td>0</td>\n    </tr>\n    <tr>\n      <th>2</th>\n      <td>2015-01-03</td>\n      <td>124017368</td>\n      <td>56</td>\n      <td>0</td>\n      <td>52</td>\n      <td>6</td>\n      <td>407438</td>\n      <td>0</td>\n      <td>7</td>\n      <td>0</td>\n      <td>...</td>\n      <td>7.0</td>\n      <td>1.0</td>\n      <td>1.0</td>\n      <td>0.0</td>\n      <td>1.0</td>\n      <td>1.0</td>\n      <td>1.0</td>\n      <td>0.0</td>\n      <td>1.0</td>\n      <td>0</td>\n    </tr>\n    <tr>\n      <th>3</th>\n      <td>2015-01-04</td>\n      <td>128073224</td>\n      <td>56</td>\n      <td>0</td>\n      <td>52</td>\n      <td>6</td>\n      <td>407439</td>\n      <td>0</td>\n      <td>7</td>\n      <td>0</td>\n      <td>...</td>\n      <td>7.0</td>\n      <td>1.0</td>\n      <td>1.0</td>\n      <td>0.0</td>\n      <td>1.0</td>\n      <td>1.0</td>\n      <td>1.0</td>\n      <td>0.0</td>\n      <td>1.0</td>\n      <td>0</td>\n    </tr>\n    <tr>\n      <th>4</th>\n      <td>2015-01-05</td>\n      <td>97393448</td>\n      <td>56</td>\n      <td>0</td>\n      <td>52</td>\n      <td>6</td>\n      <td>408114</td>\n      <td>0</td>\n      <td>7</td>\n      <td>0</td>\n      <td>...</td>\n      <td>7.0</td>\n      <td>1.0</td>\n      <td>1.0</td>\n      <td>0.0</td>\n      <td>1.0</td>\n      <td>1.0</td>\n      <td>1.0</td>\n      <td>0.0</td>\n      <td>1.0</td>\n      <td>0</td>\n    </tr>\n  </tbody>\n</table>\n<p>5 rows × 55 columns</p>\n</div>"
     },
     "execution_count": 291,
     "metadata": {},
     "output_type": "execute_result"
    }
   ],
   "source": [
    "df_resampled.head()"
   ],
   "metadata": {
    "collapsed": false
   }
  },
  {
   "cell_type": "markdown",
   "source": [
    "Detectando os valores de pico para cada coluna, criando um valor que indica a distância entre o valor atual e a norma no intante avaliado."
   ],
   "metadata": {
    "collapsed": false
   }
  },
  {
   "cell_type": "code",
   "execution_count": 292,
   "outputs": [],
   "source": [
    "df_resampled['attribute1_chg'] = np.where((df_resampled.attribute1_mean == 0),0 , df_resampled.attribute1/df_resampled.attribute1_mean)\n",
    "df_resampled['attribute2_chg'] = np.where((df_resampled.attribute2_mean == 0),0 , df_resampled.attribute2/df_resampled.attribute2_mean)\n",
    "df_resampled['attribute3_chg'] = np.where((df_resampled.attribute3_mean == 0),0 , df_resampled.attribute3/df_resampled.attribute3_mean)\n",
    "df_resampled['attribute4_chg'] = np.where((df_resampled.attribute4_mean == 0),0 , df_resampled.attribute4/df_resampled.attribute4_mean)\n",
    "df_resampled['attribute5_chg'] = np.where((df_resampled.attribute5_mean == 0),0 , df_resampled.attribute5/df_resampled.attribute5_mean)\n",
    "df_resampled['attribute6_chg'] = np.where((df_resampled.attribute6_mean == 0),0 , df_resampled.attribute6/df_resampled.attribute6_mean)\n",
    "df_resampled['attribute7_chg'] = np.where((df_resampled.attribute7_mean == 0),0 , df_resampled.attribute7/df_resampled.attribute7_mean)\n",
    "df_resampled['attribute9_chg'] = np.where((df_resampled.attribute9_mean == 0),0 , df_resampled.attribute9/df_resampled.attribute9_mean)"
   ],
   "metadata": {
    "collapsed": false
   }
  },
  {
   "cell_type": "code",
   "execution_count": 293,
   "outputs": [
    {
     "data": {
      "text/plain": "         date  attribute1  attribute2  attribute3  attribute4  attribute5  \\\n0  2015-01-01   215630672          56           0          52           6   \n1  2015-01-02     1650864          56           0          52           6   \n2  2015-01-03   124017368          56           0          52           6   \n3  2015-01-04   128073224          56           0          52           6   \n4  2015-01-05    97393448          56           0          52           6   \n\n   attribute6  attribute7  attribute9  flipper  ... attribute9_min  \\\n0      407438           0           7        1  ...            7.0   \n1      407438           0           7        0  ...            7.0   \n2      407438           0           7        0  ...            7.0   \n3      407439           0           7        0  ...            7.0   \n4      408114           0           7        0  ...            7.0   \n\n   attribute1_chg  attribute2_chg  attribute3_chg  attribute4_chg  \\\n0             1.0             1.0             0.0             1.0   \n1             1.0             1.0             0.0             1.0   \n2             1.0             1.0             0.0             1.0   \n3             1.0             1.0             0.0             1.0   \n4             1.0             1.0             0.0             1.0   \n\n   attribute5_chg  attribute6_chg  attribute7_chg  attribute9_chg  failure  \n0             1.0             1.0             0.0             1.0        0  \n1             1.0             1.0             0.0             1.0        0  \n2             1.0             1.0             0.0             1.0        0  \n3             1.0             1.0             0.0             1.0        0  \n4             1.0             1.0             0.0             1.0        0  \n\n[5 rows x 55 columns]",
      "text/html": "<div>\n<style scoped>\n    .dataframe tbody tr th:only-of-type {\n        vertical-align: middle;\n    }\n\n    .dataframe tbody tr th {\n        vertical-align: top;\n    }\n\n    .dataframe thead th {\n        text-align: right;\n    }\n</style>\n<table border=\"1\" class=\"dataframe\">\n  <thead>\n    <tr style=\"text-align: right;\">\n      <th></th>\n      <th>date</th>\n      <th>attribute1</th>\n      <th>attribute2</th>\n      <th>attribute3</th>\n      <th>attribute4</th>\n      <th>attribute5</th>\n      <th>attribute6</th>\n      <th>attribute7</th>\n      <th>attribute9</th>\n      <th>flipper</th>\n      <th>...</th>\n      <th>attribute9_min</th>\n      <th>attribute1_chg</th>\n      <th>attribute2_chg</th>\n      <th>attribute3_chg</th>\n      <th>attribute4_chg</th>\n      <th>attribute5_chg</th>\n      <th>attribute6_chg</th>\n      <th>attribute7_chg</th>\n      <th>attribute9_chg</th>\n      <th>failure</th>\n    </tr>\n  </thead>\n  <tbody>\n    <tr>\n      <th>0</th>\n      <td>2015-01-01</td>\n      <td>215630672</td>\n      <td>56</td>\n      <td>0</td>\n      <td>52</td>\n      <td>6</td>\n      <td>407438</td>\n      <td>0</td>\n      <td>7</td>\n      <td>1</td>\n      <td>...</td>\n      <td>7.0</td>\n      <td>1.0</td>\n      <td>1.0</td>\n      <td>0.0</td>\n      <td>1.0</td>\n      <td>1.0</td>\n      <td>1.0</td>\n      <td>0.0</td>\n      <td>1.0</td>\n      <td>0</td>\n    </tr>\n    <tr>\n      <th>1</th>\n      <td>2015-01-02</td>\n      <td>1650864</td>\n      <td>56</td>\n      <td>0</td>\n      <td>52</td>\n      <td>6</td>\n      <td>407438</td>\n      <td>0</td>\n      <td>7</td>\n      <td>0</td>\n      <td>...</td>\n      <td>7.0</td>\n      <td>1.0</td>\n      <td>1.0</td>\n      <td>0.0</td>\n      <td>1.0</td>\n      <td>1.0</td>\n      <td>1.0</td>\n      <td>0.0</td>\n      <td>1.0</td>\n      <td>0</td>\n    </tr>\n    <tr>\n      <th>2</th>\n      <td>2015-01-03</td>\n      <td>124017368</td>\n      <td>56</td>\n      <td>0</td>\n      <td>52</td>\n      <td>6</td>\n      <td>407438</td>\n      <td>0</td>\n      <td>7</td>\n      <td>0</td>\n      <td>...</td>\n      <td>7.0</td>\n      <td>1.0</td>\n      <td>1.0</td>\n      <td>0.0</td>\n      <td>1.0</td>\n      <td>1.0</td>\n      <td>1.0</td>\n      <td>0.0</td>\n      <td>1.0</td>\n      <td>0</td>\n    </tr>\n    <tr>\n      <th>3</th>\n      <td>2015-01-04</td>\n      <td>128073224</td>\n      <td>56</td>\n      <td>0</td>\n      <td>52</td>\n      <td>6</td>\n      <td>407439</td>\n      <td>0</td>\n      <td>7</td>\n      <td>0</td>\n      <td>...</td>\n      <td>7.0</td>\n      <td>1.0</td>\n      <td>1.0</td>\n      <td>0.0</td>\n      <td>1.0</td>\n      <td>1.0</td>\n      <td>1.0</td>\n      <td>0.0</td>\n      <td>1.0</td>\n      <td>0</td>\n    </tr>\n    <tr>\n      <th>4</th>\n      <td>2015-01-05</td>\n      <td>97393448</td>\n      <td>56</td>\n      <td>0</td>\n      <td>52</td>\n      <td>6</td>\n      <td>408114</td>\n      <td>0</td>\n      <td>7</td>\n      <td>0</td>\n      <td>...</td>\n      <td>7.0</td>\n      <td>1.0</td>\n      <td>1.0</td>\n      <td>0.0</td>\n      <td>1.0</td>\n      <td>1.0</td>\n      <td>1.0</td>\n      <td>0.0</td>\n      <td>1.0</td>\n      <td>0</td>\n    </tr>\n  </tbody>\n</table>\n<p>5 rows × 55 columns</p>\n</div>"
     },
     "execution_count": 293,
     "metadata": {},
     "output_type": "execute_result"
    }
   ],
   "source": [
    "df_resampled.head()\n"
   ],
   "metadata": {
    "collapsed": false
   }
  },
  {
   "cell_type": "code",
   "execution_count": 294,
   "outputs": [],
   "source": [
    "df = df_resampled"
   ],
   "metadata": {
    "collapsed": false
   }
  },
  {
   "cell_type": "markdown",
   "source": [
    "### Separação dos dados entre treino e teste por estratificação"
   ],
   "metadata": {
    "collapsed": false
   }
  },
  {
   "cell_type": "code",
   "execution_count": 295,
   "outputs": [
    {
     "name": "stdout",
     "output_type": "stream",
     "text": [
      "Proporção de classe no conjunto de treino: 0    0.952446\n",
      "1    0.047554\n",
      "Name: failure, dtype: float64\n",
      "Proporção de classe no conjunto de teste: 0    0.952274\n",
      "1    0.047726\n",
      "Name: failure, dtype: float64\n",
      "\n",
      "Número de registros no conjunto de treino: 111010\n",
      "Número de registros no conjunto de teste: 19591\n",
      "\n",
      "Contagem de valores failure no conjunto de treino:\n",
      "0    105731\n",
      "1      5279\n",
      "Name: failure, dtype: int64\n",
      "\n",
      "Contagem de valores failure no conjunto de teste:\n",
      "0    18656\n",
      "1      935\n",
      "Name: failure, dtype: int64\n"
     ]
    }
   ],
   "source": [
    "from sklearn.model_selection import train_test_split\n",
    "# Separando as features e o target\n",
    "X = df.drop('failure', axis=1)\n",
    "y = df['failure']\n",
    "stratify_col = df['device_encolder']\n",
    "\n",
    "# dividindo o conjunto de dados em treino e teste com estratificação\n",
    "X_train, X_test, y_train, y_test = train_test_split(X, y, stratify=stratify_col, test_size=0.15, random_state=45)\n",
    "\n",
    "# Verificando as proporções das classes nos conjuntos de treino e teste\n",
    "print('Proporção de classe no conjunto de treino:', y_train.value_counts(normalize=True))\n",
    "print('Proporção de classe no conjunto de teste:', y_test.value_counts(normalize=True))\n",
    "\n",
    "# Exibindo a quantidade de registros em cada conjunto de dados\n",
    "print('\\nNúmero de registros no conjunto de treino:', len(X_train))\n",
    "print('Número de registros no conjunto de teste:', len(X_test))\n",
    "\n",
    "# Exibindo a contagem de valores únicos na coluna 'failure' para cada conjunto de dados\n",
    "print('\\nContagem de valores failure no conjunto de treino:')\n",
    "print(y_train.value_counts())\n",
    "\n",
    "print('\\nContagem de valores failure no conjunto de teste:')\n",
    "print(y_test.value_counts())"
   ],
   "metadata": {
    "collapsed": false
   }
  },
  {
   "cell_type": "code",
   "execution_count": 296,
   "outputs": [],
   "source": [
    "#Tranformando novamente as colunas de data\n",
    "# df_resampled['date'] = pd.to_datetime(df_resampled['date'],unit='s')\n",
    "# df_resampled['start_date'] = pd.to_datetime(df_resampled['start_date'],unit='s')\n",
    "#\n",
    "# df_resampled['start_date'] = df_resampled['start_date'].dt.strftime('%Y-%m-%d')\n",
    "# df_resampled['date'] = df_resampled['date'].dt.strftime('%Y-%m-%d')"
   ],
   "metadata": {
    "collapsed": false
   }
  },
  {
   "cell_type": "markdown",
   "source": [
    "### Oversampling mais agressivo com SMOTE nos dados de treino"
   ],
   "metadata": {
    "collapsed": false
   }
  },
  {
   "cell_type": "code",
   "execution_count": 297,
   "outputs": [
    {
     "ename": "KeyError",
     "evalue": "\"['failure'] not found in axis\"",
     "output_type": "error",
     "traceback": [
      "\u001B[1;31m---------------------------------------------------------------------------\u001B[0m",
      "\u001B[1;31mKeyError\u001B[0m                                  Traceback (most recent call last)",
      "Cell \u001B[1;32mIn[297], line 1\u001B[0m\n\u001B[1;32m----> 1\u001B[0m \u001B[43moversamplit_SMOTE\u001B[49m\u001B[43m(\u001B[49m\u001B[43mX_train\u001B[49m\u001B[43m)\u001B[49m\n",
      "Cell \u001B[1;32mIn[286], line 6\u001B[0m, in \u001B[0;36moversamplit_SMOTE\u001B[1;34m(data)\u001B[0m\n\u001B[0;32m      4\u001B[0m \u001B[38;5;28;01mdef\u001B[39;00m \u001B[38;5;21moversamplit_SMOTE\u001B[39m(data):\n\u001B[0;32m      5\u001B[0m     \u001B[38;5;66;03m# Separando as features e o target\u001B[39;00m\n\u001B[1;32m----> 6\u001B[0m     X \u001B[38;5;241m=\u001B[39m \u001B[43mdata\u001B[49m\u001B[38;5;241;43m.\u001B[39;49m\u001B[43mdrop\u001B[49m\u001B[43m(\u001B[49m\u001B[38;5;124;43m'\u001B[39;49m\u001B[38;5;124;43mfailure\u001B[39;49m\u001B[38;5;124;43m'\u001B[39;49m\u001B[43m,\u001B[49m\u001B[43m \u001B[49m\u001B[43maxis\u001B[49m\u001B[38;5;241;43m=\u001B[39;49m\u001B[38;5;241;43m1\u001B[39;49m\u001B[43m)\u001B[49m\n\u001B[0;32m      7\u001B[0m     y \u001B[38;5;241m=\u001B[39m data[\u001B[38;5;124m'\u001B[39m\u001B[38;5;124mfailure\u001B[39m\u001B[38;5;124m'\u001B[39m]\n\u001B[0;32m      9\u001B[0m     \u001B[38;5;66;03m# Verifique a contagem de classe antes do oversampling\u001B[39;00m\n",
      "File \u001B[1;32mF:\\PycharmProjects\\DesaioMELI\\meli\\Lib\\site-packages\\pandas\\util\\_decorators.py:331\u001B[0m, in \u001B[0;36mdeprecate_nonkeyword_arguments.<locals>.decorate.<locals>.wrapper\u001B[1;34m(*args, **kwargs)\u001B[0m\n\u001B[0;32m    325\u001B[0m \u001B[38;5;28;01mif\u001B[39;00m \u001B[38;5;28mlen\u001B[39m(args) \u001B[38;5;241m>\u001B[39m num_allow_args:\n\u001B[0;32m    326\u001B[0m     warnings\u001B[38;5;241m.\u001B[39mwarn(\n\u001B[0;32m    327\u001B[0m         msg\u001B[38;5;241m.\u001B[39mformat(arguments\u001B[38;5;241m=\u001B[39m_format_argument_list(allow_args)),\n\u001B[0;32m    328\u001B[0m         \u001B[38;5;167;01mFutureWarning\u001B[39;00m,\n\u001B[0;32m    329\u001B[0m         stacklevel\u001B[38;5;241m=\u001B[39mfind_stack_level(),\n\u001B[0;32m    330\u001B[0m     )\n\u001B[1;32m--> 331\u001B[0m \u001B[38;5;28;01mreturn\u001B[39;00m \u001B[43mfunc\u001B[49m\u001B[43m(\u001B[49m\u001B[38;5;241;43m*\u001B[39;49m\u001B[43margs\u001B[49m\u001B[43m,\u001B[49m\u001B[43m \u001B[49m\u001B[38;5;241;43m*\u001B[39;49m\u001B[38;5;241;43m*\u001B[39;49m\u001B[43mkwargs\u001B[49m\u001B[43m)\u001B[49m\n",
      "File \u001B[1;32mF:\\PycharmProjects\\DesaioMELI\\meli\\Lib\\site-packages\\pandas\\core\\frame.py:5399\u001B[0m, in \u001B[0;36mDataFrame.drop\u001B[1;34m(self, labels, axis, index, columns, level, inplace, errors)\u001B[0m\n\u001B[0;32m   5251\u001B[0m \u001B[38;5;129m@deprecate_nonkeyword_arguments\u001B[39m(version\u001B[38;5;241m=\u001B[39m\u001B[38;5;28;01mNone\u001B[39;00m, allowed_args\u001B[38;5;241m=\u001B[39m[\u001B[38;5;124m\"\u001B[39m\u001B[38;5;124mself\u001B[39m\u001B[38;5;124m\"\u001B[39m, \u001B[38;5;124m\"\u001B[39m\u001B[38;5;124mlabels\u001B[39m\u001B[38;5;124m\"\u001B[39m])\n\u001B[0;32m   5252\u001B[0m \u001B[38;5;28;01mdef\u001B[39;00m \u001B[38;5;21mdrop\u001B[39m(  \u001B[38;5;66;03m# type: ignore[override]\u001B[39;00m\n\u001B[0;32m   5253\u001B[0m     \u001B[38;5;28mself\u001B[39m,\n\u001B[1;32m   (...)\u001B[0m\n\u001B[0;32m   5260\u001B[0m     errors: IgnoreRaise \u001B[38;5;241m=\u001B[39m \u001B[38;5;124m\"\u001B[39m\u001B[38;5;124mraise\u001B[39m\u001B[38;5;124m\"\u001B[39m,\n\u001B[0;32m   5261\u001B[0m ) \u001B[38;5;241m-\u001B[39m\u001B[38;5;241m>\u001B[39m DataFrame \u001B[38;5;241m|\u001B[39m \u001B[38;5;28;01mNone\u001B[39;00m:\n\u001B[0;32m   5262\u001B[0m \u001B[38;5;250m    \u001B[39m\u001B[38;5;124;03m\"\"\"\u001B[39;00m\n\u001B[0;32m   5263\u001B[0m \u001B[38;5;124;03m    Drop specified labels from rows or columns.\u001B[39;00m\n\u001B[0;32m   5264\u001B[0m \n\u001B[1;32m   (...)\u001B[0m\n\u001B[0;32m   5397\u001B[0m \u001B[38;5;124;03m            weight  1.0     0.8\u001B[39;00m\n\u001B[0;32m   5398\u001B[0m \u001B[38;5;124;03m    \"\"\"\u001B[39;00m\n\u001B[1;32m-> 5399\u001B[0m     \u001B[38;5;28;01mreturn\u001B[39;00m \u001B[38;5;28;43msuper\u001B[39;49m\u001B[43m(\u001B[49m\u001B[43m)\u001B[49m\u001B[38;5;241;43m.\u001B[39;49m\u001B[43mdrop\u001B[49m\u001B[43m(\u001B[49m\n\u001B[0;32m   5400\u001B[0m \u001B[43m        \u001B[49m\u001B[43mlabels\u001B[49m\u001B[38;5;241;43m=\u001B[39;49m\u001B[43mlabels\u001B[49m\u001B[43m,\u001B[49m\n\u001B[0;32m   5401\u001B[0m \u001B[43m        \u001B[49m\u001B[43maxis\u001B[49m\u001B[38;5;241;43m=\u001B[39;49m\u001B[43maxis\u001B[49m\u001B[43m,\u001B[49m\n\u001B[0;32m   5402\u001B[0m \u001B[43m        \u001B[49m\u001B[43mindex\u001B[49m\u001B[38;5;241;43m=\u001B[39;49m\u001B[43mindex\u001B[49m\u001B[43m,\u001B[49m\n\u001B[0;32m   5403\u001B[0m \u001B[43m        \u001B[49m\u001B[43mcolumns\u001B[49m\u001B[38;5;241;43m=\u001B[39;49m\u001B[43mcolumns\u001B[49m\u001B[43m,\u001B[49m\n\u001B[0;32m   5404\u001B[0m \u001B[43m        \u001B[49m\u001B[43mlevel\u001B[49m\u001B[38;5;241;43m=\u001B[39;49m\u001B[43mlevel\u001B[49m\u001B[43m,\u001B[49m\n\u001B[0;32m   5405\u001B[0m \u001B[43m        \u001B[49m\u001B[43minplace\u001B[49m\u001B[38;5;241;43m=\u001B[39;49m\u001B[43minplace\u001B[49m\u001B[43m,\u001B[49m\n\u001B[0;32m   5406\u001B[0m \u001B[43m        \u001B[49m\u001B[43merrors\u001B[49m\u001B[38;5;241;43m=\u001B[39;49m\u001B[43merrors\u001B[49m\u001B[43m,\u001B[49m\n\u001B[0;32m   5407\u001B[0m \u001B[43m    \u001B[49m\u001B[43m)\u001B[49m\n",
      "File \u001B[1;32mF:\\PycharmProjects\\DesaioMELI\\meli\\Lib\\site-packages\\pandas\\util\\_decorators.py:331\u001B[0m, in \u001B[0;36mdeprecate_nonkeyword_arguments.<locals>.decorate.<locals>.wrapper\u001B[1;34m(*args, **kwargs)\u001B[0m\n\u001B[0;32m    325\u001B[0m \u001B[38;5;28;01mif\u001B[39;00m \u001B[38;5;28mlen\u001B[39m(args) \u001B[38;5;241m>\u001B[39m num_allow_args:\n\u001B[0;32m    326\u001B[0m     warnings\u001B[38;5;241m.\u001B[39mwarn(\n\u001B[0;32m    327\u001B[0m         msg\u001B[38;5;241m.\u001B[39mformat(arguments\u001B[38;5;241m=\u001B[39m_format_argument_list(allow_args)),\n\u001B[0;32m    328\u001B[0m         \u001B[38;5;167;01mFutureWarning\u001B[39;00m,\n\u001B[0;32m    329\u001B[0m         stacklevel\u001B[38;5;241m=\u001B[39mfind_stack_level(),\n\u001B[0;32m    330\u001B[0m     )\n\u001B[1;32m--> 331\u001B[0m \u001B[38;5;28;01mreturn\u001B[39;00m \u001B[43mfunc\u001B[49m\u001B[43m(\u001B[49m\u001B[38;5;241;43m*\u001B[39;49m\u001B[43margs\u001B[49m\u001B[43m,\u001B[49m\u001B[43m \u001B[49m\u001B[38;5;241;43m*\u001B[39;49m\u001B[38;5;241;43m*\u001B[39;49m\u001B[43mkwargs\u001B[49m\u001B[43m)\u001B[49m\n",
      "File \u001B[1;32mF:\\PycharmProjects\\DesaioMELI\\meli\\Lib\\site-packages\\pandas\\core\\generic.py:4505\u001B[0m, in \u001B[0;36mNDFrame.drop\u001B[1;34m(self, labels, axis, index, columns, level, inplace, errors)\u001B[0m\n\u001B[0;32m   4503\u001B[0m \u001B[38;5;28;01mfor\u001B[39;00m axis, labels \u001B[38;5;129;01min\u001B[39;00m axes\u001B[38;5;241m.\u001B[39mitems():\n\u001B[0;32m   4504\u001B[0m     \u001B[38;5;28;01mif\u001B[39;00m labels \u001B[38;5;129;01mis\u001B[39;00m \u001B[38;5;129;01mnot\u001B[39;00m \u001B[38;5;28;01mNone\u001B[39;00m:\n\u001B[1;32m-> 4505\u001B[0m         obj \u001B[38;5;241m=\u001B[39m \u001B[43mobj\u001B[49m\u001B[38;5;241;43m.\u001B[39;49m\u001B[43m_drop_axis\u001B[49m\u001B[43m(\u001B[49m\u001B[43mlabels\u001B[49m\u001B[43m,\u001B[49m\u001B[43m \u001B[49m\u001B[43maxis\u001B[49m\u001B[43m,\u001B[49m\u001B[43m \u001B[49m\u001B[43mlevel\u001B[49m\u001B[38;5;241;43m=\u001B[39;49m\u001B[43mlevel\u001B[49m\u001B[43m,\u001B[49m\u001B[43m \u001B[49m\u001B[43merrors\u001B[49m\u001B[38;5;241;43m=\u001B[39;49m\u001B[43merrors\u001B[49m\u001B[43m)\u001B[49m\n\u001B[0;32m   4507\u001B[0m \u001B[38;5;28;01mif\u001B[39;00m inplace:\n\u001B[0;32m   4508\u001B[0m     \u001B[38;5;28mself\u001B[39m\u001B[38;5;241m.\u001B[39m_update_inplace(obj)\n",
      "File \u001B[1;32mF:\\PycharmProjects\\DesaioMELI\\meli\\Lib\\site-packages\\pandas\\core\\generic.py:4546\u001B[0m, in \u001B[0;36mNDFrame._drop_axis\u001B[1;34m(self, labels, axis, level, errors, only_slice)\u001B[0m\n\u001B[0;32m   4544\u001B[0m         new_axis \u001B[38;5;241m=\u001B[39m axis\u001B[38;5;241m.\u001B[39mdrop(labels, level\u001B[38;5;241m=\u001B[39mlevel, errors\u001B[38;5;241m=\u001B[39merrors)\n\u001B[0;32m   4545\u001B[0m     \u001B[38;5;28;01melse\u001B[39;00m:\n\u001B[1;32m-> 4546\u001B[0m         new_axis \u001B[38;5;241m=\u001B[39m \u001B[43maxis\u001B[49m\u001B[38;5;241;43m.\u001B[39;49m\u001B[43mdrop\u001B[49m\u001B[43m(\u001B[49m\u001B[43mlabels\u001B[49m\u001B[43m,\u001B[49m\u001B[43m \u001B[49m\u001B[43merrors\u001B[49m\u001B[38;5;241;43m=\u001B[39;49m\u001B[43merrors\u001B[49m\u001B[43m)\u001B[49m\n\u001B[0;32m   4547\u001B[0m     indexer \u001B[38;5;241m=\u001B[39m axis\u001B[38;5;241m.\u001B[39mget_indexer(new_axis)\n\u001B[0;32m   4549\u001B[0m \u001B[38;5;66;03m# Case for non-unique axis\u001B[39;00m\n\u001B[0;32m   4550\u001B[0m \u001B[38;5;28;01melse\u001B[39;00m:\n",
      "File \u001B[1;32mF:\\PycharmProjects\\DesaioMELI\\meli\\Lib\\site-packages\\pandas\\core\\indexes\\base.py:6934\u001B[0m, in \u001B[0;36mIndex.drop\u001B[1;34m(self, labels, errors)\u001B[0m\n\u001B[0;32m   6932\u001B[0m \u001B[38;5;28;01mif\u001B[39;00m mask\u001B[38;5;241m.\u001B[39many():\n\u001B[0;32m   6933\u001B[0m     \u001B[38;5;28;01mif\u001B[39;00m errors \u001B[38;5;241m!=\u001B[39m \u001B[38;5;124m\"\u001B[39m\u001B[38;5;124mignore\u001B[39m\u001B[38;5;124m\"\u001B[39m:\n\u001B[1;32m-> 6934\u001B[0m         \u001B[38;5;28;01mraise\u001B[39;00m \u001B[38;5;167;01mKeyError\u001B[39;00m(\u001B[38;5;124mf\u001B[39m\u001B[38;5;124m\"\u001B[39m\u001B[38;5;132;01m{\u001B[39;00m\u001B[38;5;28mlist\u001B[39m(labels[mask])\u001B[38;5;132;01m}\u001B[39;00m\u001B[38;5;124m not found in axis\u001B[39m\u001B[38;5;124m\"\u001B[39m)\n\u001B[0;32m   6935\u001B[0m     indexer \u001B[38;5;241m=\u001B[39m indexer[\u001B[38;5;241m~\u001B[39mmask]\n\u001B[0;32m   6936\u001B[0m \u001B[38;5;28;01mreturn\u001B[39;00m \u001B[38;5;28mself\u001B[39m\u001B[38;5;241m.\u001B[39mdelete(indexer)\n",
      "\u001B[1;31mKeyError\u001B[0m: \"['failure'] not found in axis\""
     ]
    }
   ],
   "source": [
    "oversamplit_SMOTE(X_train)"
   ],
   "metadata": {
    "collapsed": false
   }
  },
  {
   "cell_type": "markdown",
   "source": [],
   "metadata": {
    "collapsed": false
   }
  }
 ],
 "metadata": {
  "kernelspec": {
   "display_name": "Python 3",
   "language": "python",
   "name": "python3"
  },
  "language_info": {
   "codemirror_mode": {
    "name": "ipython",
    "version": 2
   },
   "file_extension": ".py",
   "mimetype": "text/x-python",
   "name": "python",
   "nbconvert_exporter": "python",
   "pygments_lexer": "ipython2",
   "version": "2.7.6"
  }
 },
 "nbformat": 4,
 "nbformat_minor": 0
}
