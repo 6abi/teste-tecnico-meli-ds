{
 "cells": [
  {
   "cell_type": "markdown",
   "source": [
    "<h1 style='color: green; font-size: 26px; font-weight: bold;'> 2. Similiaridade entre produtos <h1>"
   ],
   "metadata": {
    "collapsed": false
   }
  },
  {
   "cell_type": "markdown",
   "source": [
    "Un desafío constante en MELI es el de poder agrupar productos similares utilizando algunos\n",
    "atributos de estos como pueden ser el título, la descripción o su imagen.\n",
    "Para este desafío tenemos un dataset “items_titles.csv” que tiene títulos de 30 mil productos de 3 categorías diferentes de Mercado Libre Brasil\n",
    "\n",
    "<strong>Entregable</strong>\n",
    "El objetivo del desafío es poder generar una Jupyter notebook que determine cuán similares son dos títulos\n",
    "del dataset “item_titles_test.csv” generando como output un listado de la forma\n",
    "\n",
    "\n",
    "<p></p>\n",
    "\n",
    "<table>\n",
    "    <thread>\n",
    "        <tr>\n",
    "            <th> ITE_ITEM_TITLE </th>\n",
    "            <th> ITE_ITEM_TITLE </th>\n",
    "            <th> Score Similitud (0,1) </th>\n",
    "        </tr>\n",
    "    </thread>\n",
    "    <tbody>\n",
    "        <tr>\n",
    "            <td> Zapatillas Nike</td>\n",
    "            <td> Zapatillas Adidas </td>\n",
    "            <td> 0.5</td>\n",
    "        </tr>\n",
    "        <tr>\n",
    "            <td> Zapatillas Nike</td>\n",
    "            <td> Zapatillas Nike</td>\n",
    "            <td> 1</td>\n",
    "        </tr>\n",
    "    </tbody>\n",
    "</table>\n",
    "\n",
    "donde ordenando por score de similitud podamos encontrar los pares de productos más\n",
    "similares en nuestro dataset de test"
   ],
   "metadata": {
    "collapsed": false
   }
  },
  {
   "cell_type": "code",
   "execution_count": 1,
   "outputs": [
    {
     "name": "stderr",
     "output_type": "stream",
     "text": [
      "[nltk_data] Downloading package punkt to\n",
      "[nltk_data]     C:\\Users\\barba\\AppData\\Roaming\\nltk_data...\n",
      "[nltk_data]   Package punkt is already up-to-date!\n"
     ]
    }
   ],
   "source": [
    "import pandas as pd\n",
    "import os\n",
    "import glob\n",
    "import nltk\n",
    "nltk.download('punkt')\n",
    "from nltk.tokenize import RegexpTokenizer\n",
    "import matplotlib.pyplot as plt\n",
    "from sklearn.feature_extraction.text import CountVectorizer, TfidfVectorizer\n",
    "from sklearn.metrics.pairwise import cosine_similarity"
   ],
   "metadata": {
    "collapsed": false
   }
  },
  {
   "cell_type": "code",
   "execution_count": 2,
   "outputs": [],
   "source": [
    "dir_data = \"F:\\PycharmProjects\\DesaioMELI\\data\"\n",
    "df_train = pd.read_csv(dir_data+'\\items_titles.csv')\n",
    "df_test = pd.read_csv(dir_data+'\\items_titles_test.csv')"
   ],
   "metadata": {
    "collapsed": false
   }
  },
  {
   "cell_type": "code",
   "execution_count": 3,
   "outputs": [
    {
     "data": {
      "text/plain": "                                      ITE_ITEM_TITLE\n0  Tênis Ascension Posh Masculino - Preto E Verme...\n1  Tenis Para Caminhada Super Levinho Spider Corr...\n2  Tênis Feminino Le Parc Hocks Black/ice Origina...\n3  Tênis Olympikus Esportivo Academia Nova Tendên...\n4  Inteligente Led Bicicleta Tauda Luz Usb Bicicl...",
      "text/html": "<div>\n<style scoped>\n    .dataframe tbody tr th:only-of-type {\n        vertical-align: middle;\n    }\n\n    .dataframe tbody tr th {\n        vertical-align: top;\n    }\n\n    .dataframe thead th {\n        text-align: right;\n    }\n</style>\n<table border=\"1\" class=\"dataframe\">\n  <thead>\n    <tr style=\"text-align: right;\">\n      <th></th>\n      <th>ITE_ITEM_TITLE</th>\n    </tr>\n  </thead>\n  <tbody>\n    <tr>\n      <th>0</th>\n      <td>Tênis Ascension Posh Masculino - Preto E Verme...</td>\n    </tr>\n    <tr>\n      <th>1</th>\n      <td>Tenis Para Caminhada Super Levinho Spider Corr...</td>\n    </tr>\n    <tr>\n      <th>2</th>\n      <td>Tênis Feminino Le Parc Hocks Black/ice Origina...</td>\n    </tr>\n    <tr>\n      <th>3</th>\n      <td>Tênis Olympikus Esportivo Academia Nova Tendên...</td>\n    </tr>\n    <tr>\n      <th>4</th>\n      <td>Inteligente Led Bicicleta Tauda Luz Usb Bicicl...</td>\n    </tr>\n  </tbody>\n</table>\n</div>"
     },
     "execution_count": 3,
     "metadata": {},
     "output_type": "execute_result"
    }
   ],
   "source": [
    "df_train.head(5)"
   ],
   "metadata": {
    "collapsed": false
   }
  },
  {
   "cell_type": "markdown",
   "source": [
    "análise inicial"
   ],
   "metadata": {
    "collapsed": false
   }
  },
  {
   "cell_type": "code",
   "execution_count": 4,
   "outputs": [
    {
     "data": {
      "text/plain": "(30000, 1)"
     },
     "execution_count": 4,
     "metadata": {},
     "output_type": "execute_result"
    }
   ],
   "source": [
    "df_train.shape"
   ],
   "metadata": {
    "collapsed": false
   }
  },
  {
   "cell_type": "code",
   "execution_count": 5,
   "outputs": [
    {
     "data": {
      "text/plain": "                                           ITE_ITEM_TITLE\ncount                                               30000\nunique                                              30000\ntop     Tênis Ascension Posh Masculino - Preto E Verme...\nfreq                                                    1",
      "text/html": "<div>\n<style scoped>\n    .dataframe tbody tr th:only-of-type {\n        vertical-align: middle;\n    }\n\n    .dataframe tbody tr th {\n        vertical-align: top;\n    }\n\n    .dataframe thead th {\n        text-align: right;\n    }\n</style>\n<table border=\"1\" class=\"dataframe\">\n  <thead>\n    <tr style=\"text-align: right;\">\n      <th></th>\n      <th>ITE_ITEM_TITLE</th>\n    </tr>\n  </thead>\n  <tbody>\n    <tr>\n      <th>count</th>\n      <td>30000</td>\n    </tr>\n    <tr>\n      <th>unique</th>\n      <td>30000</td>\n    </tr>\n    <tr>\n      <th>top</th>\n      <td>Tênis Ascension Posh Masculino - Preto E Verme...</td>\n    </tr>\n    <tr>\n      <th>freq</th>\n      <td>1</td>\n    </tr>\n  </tbody>\n</table>\n</div>"
     },
     "execution_count": 5,
     "metadata": {},
     "output_type": "execute_result"
    }
   ],
   "source": [
    "df_train.describe()"
   ],
   "metadata": {
    "collapsed": false
   }
  },
  {
   "cell_type": "markdown",
   "source": [
    "# Feature Engineering"
   ],
   "metadata": {
    "collapsed": false
   }
  },
  {
   "cell_type": "markdown",
   "source": [
    "## Limpeza do corpus"
   ],
   "metadata": {
    "collapsed": false
   }
  },
  {
   "cell_type": "code",
   "execution_count": 6,
   "outputs": [],
   "source": [
    "def unigram_list(df,colum):\n",
    "    \"\"\" Forma a lista de unigramas somente com palavras e transforma todos os itens da lista em lower case \"\"\"\n",
    "    df[colum] = df[colum].str.lower()\n",
    "    regexp = RegexpTokenizer('\\w+')\n",
    "    df['unigrama_' + colum] = df[colum].apply(regexp.tokenize)"
   ],
   "metadata": {
    "collapsed": false
   }
  },
  {
   "cell_type": "code",
   "execution_count": 7,
   "outputs": [],
   "source": [
    "unigram_list(df_train, 'ITE_ITEM_TITLE')"
   ],
   "metadata": {
    "collapsed": false
   }
  },
  {
   "cell_type": "code",
   "execution_count": 8,
   "outputs": [
    {
     "data": {
      "text/plain": "                                      ITE_ITEM_TITLE  \\\n0  tênis ascension posh masculino - preto e verme...   \n1  tenis para caminhada super levinho spider corr...   \n2  tênis feminino le parc hocks black/ice origina...   \n3  tênis olympikus esportivo academia nova tendên...   \n4  inteligente led bicicleta tauda luz usb bicicl...   \n\n                             unigrama_ITE_ITEM_TITLE  \n0  [tênis, ascension, posh, masculino, preto, e, ...  \n1  [tenis, para, caminhada, super, levinho, spide...  \n2  [tênis, feminino, le, parc, hocks, black, ice,...  \n3  [tênis, olympikus, esportivo, academia, nova, ...  \n4  [inteligente, led, bicicleta, tauda, luz, usb,...  ",
      "text/html": "<div>\n<style scoped>\n    .dataframe tbody tr th:only-of-type {\n        vertical-align: middle;\n    }\n\n    .dataframe tbody tr th {\n        vertical-align: top;\n    }\n\n    .dataframe thead th {\n        text-align: right;\n    }\n</style>\n<table border=\"1\" class=\"dataframe\">\n  <thead>\n    <tr style=\"text-align: right;\">\n      <th></th>\n      <th>ITE_ITEM_TITLE</th>\n      <th>unigrama_ITE_ITEM_TITLE</th>\n    </tr>\n  </thead>\n  <tbody>\n    <tr>\n      <th>0</th>\n      <td>tênis ascension posh masculino - preto e verme...</td>\n      <td>[tênis, ascension, posh, masculino, preto, e, ...</td>\n    </tr>\n    <tr>\n      <th>1</th>\n      <td>tenis para caminhada super levinho spider corr...</td>\n      <td>[tenis, para, caminhada, super, levinho, spide...</td>\n    </tr>\n    <tr>\n      <th>2</th>\n      <td>tênis feminino le parc hocks black/ice origina...</td>\n      <td>[tênis, feminino, le, parc, hocks, black, ice,...</td>\n    </tr>\n    <tr>\n      <th>3</th>\n      <td>tênis olympikus esportivo academia nova tendên...</td>\n      <td>[tênis, olympikus, esportivo, academia, nova, ...</td>\n    </tr>\n    <tr>\n      <th>4</th>\n      <td>inteligente led bicicleta tauda luz usb bicicl...</td>\n      <td>[inteligente, led, bicicleta, tauda, luz, usb,...</td>\n    </tr>\n  </tbody>\n</table>\n</div>"
     },
     "execution_count": 8,
     "metadata": {},
     "output_type": "execute_result"
    }
   ],
   "source": [
    "df_train.head()"
   ],
   "metadata": {
    "collapsed": false
   }
  },
  {
   "cell_type": "markdown",
   "source": [
    "### Acentuação, cedilha e caracteres especiais\n"
   ],
   "metadata": {
    "collapsed": false
   }
  },
  {
   "cell_type": "code",
   "execution_count": 9,
   "outputs": [],
   "source": [
    "def retira_acentuacao(df, colum):\n",
    "    \"\"\" Retira acentuação e cedilha  \"\"\"\n",
    "    letras_com_ascento = \"éèëêáàãâíìîúûùóòôõçñ\"\n",
    "    letras_sem_ascento = \"eeeeaaaaiiiuuuoooocn\"\n",
    "\n",
    "    palavra_sem_acento = []\n",
    "    texto_sem_acento = []\n",
    "    id = 0\n",
    "    dict_texto = {}\n",
    "    for word in df[colum]:\n",
    "        if type(word) is list: # Se for uma lista de palavras\n",
    "            for j in word:\n",
    "                tabela_substituicao = j.maketrans(letras_com_ascento,letras_sem_ascento)\n",
    "                palavra_sem_acento.append(j.translate(tabela_substituicao))\n",
    "            texto_sem_acento.append(palavra_sem_acento)\n",
    "            palavra_sem_acento = []\n",
    "        else:\n",
    "            tabela_substituicao = word.maketrans(letras_com_ascento,letras_sem_ascento)\n",
    "            texto_sem_acento.append(word.translate(tabela_substituicao))\n",
    "\n",
    "    for i in texto_sem_acento:\n",
    "        dict_texto[id] = i\n",
    "        id = id + 1\n",
    "\n",
    "    df[colum] = df[colum].index.map(dict_texto)\n",
    "    return df[colum]"
   ],
   "metadata": {
    "collapsed": false
   }
  },
  {
   "cell_type": "code",
   "execution_count": 10,
   "outputs": [],
   "source": [
    "df_train['ITE_ITEM_TITLE_CLEAN'] = retira_acentuacao(df_train, 'unigrama_ITE_ITEM_TITLE')"
   ],
   "metadata": {
    "collapsed": false
   }
  },
  {
   "cell_type": "code",
   "execution_count": 11,
   "outputs": [
    {
     "data": {
      "text/plain": "                                          ITE_ITEM_TITLE  \\\n23047                 tênis new balance more v2 41,(9.5)   \n5852    bicicleta feminina infantil aro 16 top girls ...   \n19859                                 tênis sorrento d&g   \n13076  tênis infantil bibi ever feminino grafite - 11...   \n19726  sapatênis masculino adulto em couro kildare re...   \n\n                                 unigrama_ITE_ITEM_TITLE  \\\n23047          [tenis, new, balance, more, v2, 41, 9, 5]   \n5852   [bicicleta, feminina, infantil, aro, 16, top, ...   \n19859                            [tenis, sorrento, d, g]   \n13076  [tenis, infantil, bibi, ever, feminino, grafit...   \n19726  [sapatenis, masculino, adulto, em, couro, kild...   \n\n                                    ITE_ITEM_TITLE_CLEAN  \n23047          [tenis, new, balance, more, v2, 41, 9, 5]  \n5852   [bicicleta, feminina, infantil, aro, 16, top, ...  \n19859                            [tenis, sorrento, d, g]  \n13076  [tenis, infantil, bibi, ever, feminino, grafit...  \n19726  [sapatenis, masculino, adulto, em, couro, kild...  ",
      "text/html": "<div>\n<style scoped>\n    .dataframe tbody tr th:only-of-type {\n        vertical-align: middle;\n    }\n\n    .dataframe tbody tr th {\n        vertical-align: top;\n    }\n\n    .dataframe thead th {\n        text-align: right;\n    }\n</style>\n<table border=\"1\" class=\"dataframe\">\n  <thead>\n    <tr style=\"text-align: right;\">\n      <th></th>\n      <th>ITE_ITEM_TITLE</th>\n      <th>unigrama_ITE_ITEM_TITLE</th>\n      <th>ITE_ITEM_TITLE_CLEAN</th>\n    </tr>\n  </thead>\n  <tbody>\n    <tr>\n      <th>23047</th>\n      <td>tênis new balance more v2 41,(9.5)</td>\n      <td>[tenis, new, balance, more, v2, 41, 9, 5]</td>\n      <td>[tenis, new, balance, more, v2, 41, 9, 5]</td>\n    </tr>\n    <tr>\n      <th>5852</th>\n      <td>bicicleta feminina infantil aro 16 top girls ...</td>\n      <td>[bicicleta, feminina, infantil, aro, 16, top, ...</td>\n      <td>[bicicleta, feminina, infantil, aro, 16, top, ...</td>\n    </tr>\n    <tr>\n      <th>19859</th>\n      <td>tênis sorrento d&amp;g</td>\n      <td>[tenis, sorrento, d, g]</td>\n      <td>[tenis, sorrento, d, g]</td>\n    </tr>\n    <tr>\n      <th>13076</th>\n      <td>tênis infantil bibi ever feminino grafite - 11...</td>\n      <td>[tenis, infantil, bibi, ever, feminino, grafit...</td>\n      <td>[tenis, infantil, bibi, ever, feminino, grafit...</td>\n    </tr>\n    <tr>\n      <th>19726</th>\n      <td>sapatênis masculino adulto em couro kildare re...</td>\n      <td>[sapatenis, masculino, adulto, em, couro, kild...</td>\n      <td>[sapatenis, masculino, adulto, em, couro, kild...</td>\n    </tr>\n  </tbody>\n</table>\n</div>"
     },
     "execution_count": 11,
     "metadata": {},
     "output_type": "execute_result"
    }
   ],
   "source": [
    "df_train.sample(5)"
   ],
   "metadata": {
    "collapsed": false
   }
  },
  {
   "cell_type": "markdown",
   "source": [
    "### Stopwords"
   ],
   "metadata": {
    "collapsed": false
   }
  },
  {
   "cell_type": "code",
   "execution_count": 11,
   "outputs": [],
   "source": [],
   "metadata": {
    "collapsed": false
   }
  },
  {
   "cell_type": "code",
   "execution_count": 12,
   "outputs": [],
   "source": [
    "stopwords = pd.read_csv('.\\stopwords.txt', header=None)\n",
    "stopwords.rename(columns={0: 'palavras'}, inplace=True)"
   ],
   "metadata": {
    "collapsed": false
   }
  },
  {
   "cell_type": "code",
   "execution_count": 13,
   "outputs": [],
   "source": [
    "stopwords['palavras_sem_ascento'] = retira_acentuacao(stopwords,'palavras')"
   ],
   "metadata": {
    "collapsed": false
   }
  },
  {
   "cell_type": "code",
   "execution_count": 14,
   "outputs": [],
   "source": [
    "def remove_stopwords(df, colum):\n",
    "   return df[colum].apply(lambda x: [word.lower() for word in x if word.lower() not in list(stopwords['palavras_sem_ascento'])])"
   ],
   "metadata": {
    "collapsed": false
   }
  },
  {
   "cell_type": "code",
   "execution_count": 15,
   "outputs": [],
   "source": [
    "def final_colum(df,colum):\n",
    "    new_colum  = colum + '_FINAL'\n",
    "    df[new_colum] = remove_stopwords(df,colum)\n",
    "    #unificar as palavras da lista\n",
    "    df[new_colum]  = df[new_colum] .str.join(' ')\n",
    "    return df"
   ],
   "metadata": {
    "collapsed": false
   }
  },
  {
   "cell_type": "code",
   "execution_count": 16,
   "outputs": [
    {
     "data": {
      "text/plain": "                                          ITE_ITEM_TITLE  \\\n0      tênis ascension posh masculino - preto e verme...   \n1      tenis para caminhada super levinho spider corr...   \n2      tênis feminino le parc hocks black/ice origina...   \n3      tênis olympikus esportivo academia nova tendên...   \n4      inteligente led bicicleta tauda luz usb bicicl...   \n...                                                  ...   \n29995  tênis vans old skool i love my vans - usado - ...   \n29996                tênis feminino preto moleca 5296155   \n29997  tenis botinha com pelo via marte original lanç...   \n29998  tênis slip on feminino masculino original sapa...   \n29999  bicicleta nathor rosa infantil sem pedal balan...   \n\n                                 unigrama_ITE_ITEM_TITLE  \\\n0      [tenis, ascension, posh, masculino, preto, e, ...   \n1      [tenis, para, caminhada, super, levinho, spide...   \n2      [tenis, feminino, le, parc, hocks, black, ice,...   \n3      [tenis, olympikus, esportivo, academia, nova, ...   \n4      [inteligente, led, bicicleta, tauda, luz, usb,...   \n...                                                  ...   \n29995  [tenis, vans, old, skool, i, love, my, vans, u...   \n29996          [tenis, feminino, preto, moleca, 5296155]   \n29997  [tenis, botinha, com, pelo, via, marte, origin...   \n29998  [tenis, slip, on, feminino, masculino, origina...   \n29999  [bicicleta, nathor, rosa, infantil, sem, pedal...   \n\n                                    ITE_ITEM_TITLE_CLEAN  \\\n0      [tenis, ascension, posh, masculino, preto, e, ...   \n1      [tenis, para, caminhada, super, levinho, spide...   \n2      [tenis, feminino, le, parc, hocks, black, ice,...   \n3      [tenis, olympikus, esportivo, academia, nova, ...   \n4      [inteligente, led, bicicleta, tauda, luz, usb,...   \n...                                                  ...   \n29995  [tenis, vans, old, skool, i, love, my, vans, u...   \n29996          [tenis, feminino, preto, moleca, 5296155]   \n29997  [tenis, botinha, com, pelo, via, marte, origin...   \n29998  [tenis, slip, on, feminino, masculino, origina...   \n29999  [bicicleta, nathor, rosa, infantil, sem, pedal...   \n\n                              ITE_ITEM_TITLE_CLEAN_FINAL  \n0          tenis ascension posh masculino preto vermelho  \n1           tenis caminhada super levinho spider corrida  \n2      tenis feminino le parc hocks black ice origina...  \n3      tenis olympikus esportivo academia nova tenden...  \n4      inteligente led bicicleta tauda luz usb bicicl...  \n...                                                  ...  \n29995  tenis vans old skool i love my vans usado femi...  \n29996                tenis feminino preto moleca 5296155  \n29997        tenis botinha via marte original lancamento  \n29998  tenis slip on feminino masculino original sapa...  \n29999  bicicleta nathor rosa infantil pedal balance a...  \n\n[30000 rows x 4 columns]",
      "text/html": "<div>\n<style scoped>\n    .dataframe tbody tr th:only-of-type {\n        vertical-align: middle;\n    }\n\n    .dataframe tbody tr th {\n        vertical-align: top;\n    }\n\n    .dataframe thead th {\n        text-align: right;\n    }\n</style>\n<table border=\"1\" class=\"dataframe\">\n  <thead>\n    <tr style=\"text-align: right;\">\n      <th></th>\n      <th>ITE_ITEM_TITLE</th>\n      <th>unigrama_ITE_ITEM_TITLE</th>\n      <th>ITE_ITEM_TITLE_CLEAN</th>\n      <th>ITE_ITEM_TITLE_CLEAN_FINAL</th>\n    </tr>\n  </thead>\n  <tbody>\n    <tr>\n      <th>0</th>\n      <td>tênis ascension posh masculino - preto e verme...</td>\n      <td>[tenis, ascension, posh, masculino, preto, e, ...</td>\n      <td>[tenis, ascension, posh, masculino, preto, e, ...</td>\n      <td>tenis ascension posh masculino preto vermelho</td>\n    </tr>\n    <tr>\n      <th>1</th>\n      <td>tenis para caminhada super levinho spider corr...</td>\n      <td>[tenis, para, caminhada, super, levinho, spide...</td>\n      <td>[tenis, para, caminhada, super, levinho, spide...</td>\n      <td>tenis caminhada super levinho spider corrida</td>\n    </tr>\n    <tr>\n      <th>2</th>\n      <td>tênis feminino le parc hocks black/ice origina...</td>\n      <td>[tenis, feminino, le, parc, hocks, black, ice,...</td>\n      <td>[tenis, feminino, le, parc, hocks, black, ice,...</td>\n      <td>tenis feminino le parc hocks black ice origina...</td>\n    </tr>\n    <tr>\n      <th>3</th>\n      <td>tênis olympikus esportivo academia nova tendên...</td>\n      <td>[tenis, olympikus, esportivo, academia, nova, ...</td>\n      <td>[tenis, olympikus, esportivo, academia, nova, ...</td>\n      <td>tenis olympikus esportivo academia nova tenden...</td>\n    </tr>\n    <tr>\n      <th>4</th>\n      <td>inteligente led bicicleta tauda luz usb bicicl...</td>\n      <td>[inteligente, led, bicicleta, tauda, luz, usb,...</td>\n      <td>[inteligente, led, bicicleta, tauda, luz, usb,...</td>\n      <td>inteligente led bicicleta tauda luz usb bicicl...</td>\n    </tr>\n    <tr>\n      <th>...</th>\n      <td>...</td>\n      <td>...</td>\n      <td>...</td>\n      <td>...</td>\n    </tr>\n    <tr>\n      <th>29995</th>\n      <td>tênis vans old skool i love my vans - usado - ...</td>\n      <td>[tenis, vans, old, skool, i, love, my, vans, u...</td>\n      <td>[tenis, vans, old, skool, i, love, my, vans, u...</td>\n      <td>tenis vans old skool i love my vans usado femi...</td>\n    </tr>\n    <tr>\n      <th>29996</th>\n      <td>tênis feminino preto moleca 5296155</td>\n      <td>[tenis, feminino, preto, moleca, 5296155]</td>\n      <td>[tenis, feminino, preto, moleca, 5296155]</td>\n      <td>tenis feminino preto moleca 5296155</td>\n    </tr>\n    <tr>\n      <th>29997</th>\n      <td>tenis botinha com pelo via marte original lanç...</td>\n      <td>[tenis, botinha, com, pelo, via, marte, origin...</td>\n      <td>[tenis, botinha, com, pelo, via, marte, origin...</td>\n      <td>tenis botinha via marte original lancamento</td>\n    </tr>\n    <tr>\n      <th>29998</th>\n      <td>tênis slip on feminino masculino original sapa...</td>\n      <td>[tenis, slip, on, feminino, masculino, origina...</td>\n      <td>[tenis, slip, on, feminino, masculino, origina...</td>\n      <td>tenis slip on feminino masculino original sapa...</td>\n    </tr>\n    <tr>\n      <th>29999</th>\n      <td>bicicleta nathor rosa infantil sem pedal balan...</td>\n      <td>[bicicleta, nathor, rosa, infantil, sem, pedal...</td>\n      <td>[bicicleta, nathor, rosa, infantil, sem, pedal...</td>\n      <td>bicicleta nathor rosa infantil pedal balance a...</td>\n    </tr>\n  </tbody>\n</table>\n<p>30000 rows × 4 columns</p>\n</div>"
     },
     "execution_count": 16,
     "metadata": {},
     "output_type": "execute_result"
    }
   ],
   "source": [
    "final_colum(df_train,'ITE_ITEM_TITLE_CLEAN')"
   ],
   "metadata": {
    "collapsed": false
   }
  },
  {
   "cell_type": "markdown",
   "source": [
    "# Similaridade"
   ],
   "metadata": {
    "collapsed": false
   }
  },
  {
   "cell_type": "markdown",
   "source": [
    "## Similaridade cosseno com Embedding Matrix"
   ],
   "metadata": {
    "collapsed": false
   }
  },
  {
   "cell_type": "code",
   "execution_count": 17,
   "outputs": [
    {
     "data": {
      "text/plain": "                                         ITE_ITEM_TITLE  \\\n0      tênis olympikus esporte valente - masculino kids   \n1     bicicleta barra forte samy c/ 6 marchas cubo c...   \n2          tênis usthemp slip-on temático - labrador 2   \n3           tênis casual feminino moleca tecido tie dye   \n4           tênis star baby sapatinho conforto + brinde   \n...                                                 ...   \n9995               chuteira futsal oxn velox 3 infantil   \n9996  sapatenis casual masculino estiloso 24horas co...   \n9997          tênis feminino infantil molekinha tie dye   \n9998  tênis feminino leve barato ganhe 1 colchonete ...   \n9999  tênis polo ralph lauren modelo cantor low bran...   \n\n                                unigrama_ITE_ITEM_TITLE  \\\n0     [tênis, olympikus, esporte, valente, masculino...   \n1     [bicicleta, barra, forte, samy, c, 6, marchas,...   \n2     [tênis, usthemp, slip, on, temá, tico, labrado...   \n3     [tênis, casual, feminino, moleca, tecido, tie,...   \n4      [tênis, star, baby, sapatinho, conforto, brinde]   \n...                                                 ...   \n9995        [chuteira, futsal, oxn, velox, 3, infantil]   \n9996  [sapatenis, casual, masculino, estiloso, 24hor...   \n9997   [tênis, feminino, infantil, molekinha, tie, dye]   \n9998  [tênis, feminino, leve, barato, ganhe, 1, colc...   \n9999  [tênis, polo, ralph, lauren, modelo, cantor, l...   \n\n                                   ITE_ITEM_TITLE_CLEAN  \\\n0     [tenis, olympikus, esporte, valente, masculino...   \n1     [bicicleta, barra, forte, samy, c, 6, marchas,...   \n2     [tenis, usthemp, slip, on, tema, tico, labrado...   \n3     [tenis, casual, feminino, moleca, tecido, tie,...   \n4      [tenis, star, baby, sapatinho, conforto, brinde]   \n...                                                 ...   \n9995        [chuteira, futsal, oxn, velox, 3, infantil]   \n9996  [sapatenis, casual, masculino, estiloso, 24hor...   \n9997   [tenis, feminino, infantil, molekinha, tie, dye]   \n9998  [tenis, feminino, leve, barato, ganhe, 1, colc...   \n9999  [tenis, polo, ralph, lauren, modelo, cantor, l...   \n\n                             ITE_ITEM_TITLE_CLEAN_FINAL  \n0        tenis olympikus esporte valente masculino kids  \n1     bicicleta barra forte samy c 6 marchas cubo c ...  \n2            tenis usthemp slip on tema tico labrador 2  \n3           tenis casual feminino moleca tecido tie dye  \n4             tenis star baby sapatinho conforto brinde  \n...                                                 ...  \n9995               chuteira futsal oxn velox 3 infantil  \n9996  sapatenis casual masculino estiloso 24horas co...  \n9997          tenis feminino infantil molekinha tie dye  \n9998  tenis feminino leve barato ganhe 1 colchonete ...  \n9999  tenis polo ralph lauren modelo cantor low bran...  \n\n[10000 rows x 4 columns]",
      "text/html": "<div>\n<style scoped>\n    .dataframe tbody tr th:only-of-type {\n        vertical-align: middle;\n    }\n\n    .dataframe tbody tr th {\n        vertical-align: top;\n    }\n\n    .dataframe thead th {\n        text-align: right;\n    }\n</style>\n<table border=\"1\" class=\"dataframe\">\n  <thead>\n    <tr style=\"text-align: right;\">\n      <th></th>\n      <th>ITE_ITEM_TITLE</th>\n      <th>unigrama_ITE_ITEM_TITLE</th>\n      <th>ITE_ITEM_TITLE_CLEAN</th>\n      <th>ITE_ITEM_TITLE_CLEAN_FINAL</th>\n    </tr>\n  </thead>\n  <tbody>\n    <tr>\n      <th>0</th>\n      <td>tênis olympikus esporte valente - masculino kids</td>\n      <td>[tênis, olympikus, esporte, valente, masculino...</td>\n      <td>[tenis, olympikus, esporte, valente, masculino...</td>\n      <td>tenis olympikus esporte valente masculino kids</td>\n    </tr>\n    <tr>\n      <th>1</th>\n      <td>bicicleta barra forte samy c/ 6 marchas cubo c...</td>\n      <td>[bicicleta, barra, forte, samy, c, 6, marchas,...</td>\n      <td>[bicicleta, barra, forte, samy, c, 6, marchas,...</td>\n      <td>bicicleta barra forte samy c 6 marchas cubo c ...</td>\n    </tr>\n    <tr>\n      <th>2</th>\n      <td>tênis usthemp slip-on temático - labrador 2</td>\n      <td>[tênis, usthemp, slip, on, temá, tico, labrado...</td>\n      <td>[tenis, usthemp, slip, on, tema, tico, labrado...</td>\n      <td>tenis usthemp slip on tema tico labrador 2</td>\n    </tr>\n    <tr>\n      <th>3</th>\n      <td>tênis casual feminino moleca tecido tie dye</td>\n      <td>[tênis, casual, feminino, moleca, tecido, tie,...</td>\n      <td>[tenis, casual, feminino, moleca, tecido, tie,...</td>\n      <td>tenis casual feminino moleca tecido tie dye</td>\n    </tr>\n    <tr>\n      <th>4</th>\n      <td>tênis star baby sapatinho conforto + brinde</td>\n      <td>[tênis, star, baby, sapatinho, conforto, brinde]</td>\n      <td>[tenis, star, baby, sapatinho, conforto, brinde]</td>\n      <td>tenis star baby sapatinho conforto brinde</td>\n    </tr>\n    <tr>\n      <th>...</th>\n      <td>...</td>\n      <td>...</td>\n      <td>...</td>\n      <td>...</td>\n    </tr>\n    <tr>\n      <th>9995</th>\n      <td>chuteira futsal oxn velox 3 infantil</td>\n      <td>[chuteira, futsal, oxn, velox, 3, infantil]</td>\n      <td>[chuteira, futsal, oxn, velox, 3, infantil]</td>\n      <td>chuteira futsal oxn velox 3 infantil</td>\n    </tr>\n    <tr>\n      <th>9996</th>\n      <td>sapatenis casual masculino estiloso 24horas co...</td>\n      <td>[sapatenis, casual, masculino, estiloso, 24hor...</td>\n      <td>[sapatenis, casual, masculino, estiloso, 24hor...</td>\n      <td>sapatenis casual masculino estiloso 24horas co...</td>\n    </tr>\n    <tr>\n      <th>9997</th>\n      <td>tênis feminino infantil molekinha tie dye</td>\n      <td>[tênis, feminino, infantil, molekinha, tie, dye]</td>\n      <td>[tenis, feminino, infantil, molekinha, tie, dye]</td>\n      <td>tenis feminino infantil molekinha tie dye</td>\n    </tr>\n    <tr>\n      <th>9998</th>\n      <td>tênis feminino leve barato ganhe 1 colchonete ...</td>\n      <td>[tênis, feminino, leve, barato, ganhe, 1, colc...</td>\n      <td>[tenis, feminino, leve, barato, ganhe, 1, colc...</td>\n      <td>tenis feminino leve barato ganhe 1 colchonete ...</td>\n    </tr>\n    <tr>\n      <th>9999</th>\n      <td>tênis polo ralph lauren modelo cantor low bran...</td>\n      <td>[tênis, polo, ralph, lauren, modelo, cantor, l...</td>\n      <td>[tenis, polo, ralph, lauren, modelo, cantor, l...</td>\n      <td>tenis polo ralph lauren modelo cantor low bran...</td>\n    </tr>\n  </tbody>\n</table>\n<p>10000 rows × 4 columns</p>\n</div>"
     },
     "execution_count": 17,
     "metadata": {},
     "output_type": "execute_result"
    }
   ],
   "source": [
    "#Dados de teste\n",
    "unigram_list(df_test,'ITE_ITEM_TITLE')\n",
    "df_test['ITE_ITEM_TITLE_CLEAN'] = retira_acentuacao(df_test, 'unigrama_ITE_ITEM_TITLE')\n",
    "unigram_list(df_test, 'ITE_ITEM_TITLE')\n",
    "final_colum(df_test,'ITE_ITEM_TITLE_CLEAN')"
   ],
   "metadata": {
    "collapsed": false
   }
  },
  {
   "cell_type": "code",
   "execution_count": 20,
   "outputs": [],
   "source": [
    "def find_similar_products(train_df, test_df, train_col,original_train_col, test_col, original_test_col, limiar, vector):\n",
    "    # Convertendo as colunas de texto para uma matriz de frequência de palavras\n",
    "\n",
    "    train_matrix = vector.fit_transform(train_df[train_col])\n",
    "    test_matrix = vector.transform(test_df[test_col])\n",
    "\n",
    "    # Calculando a similaridade entre os produtos do conjunto de treino e teste\n",
    "    similarity_matrix = cosine_similarity(test_matrix, train_matrix)\n",
    "\n",
    "    #passa a matriz de similaridade para salvar o modelo em pickle\n",
    "    #save_cos_model(similarity_matrix)\n",
    "\n",
    "    # Encontrando os produtos similares para cada item do conjunto de teste\n",
    "    similar_product = []\n",
    "    for i, row in test_df.iterrows():\n",
    "        original_test_product = row[original_test_col]\n",
    "        test_product = row[test_col]\n",
    "        similar_indices = similarity_matrix[i].argsort()[::-1]\n",
    "        for idx in similar_indices:\n",
    "            original_train_product = train_df.iloc[idx][original_train_col]\n",
    "            train_product = train_df.iloc[idx][train_col]\n",
    "            similarity = similarity_matrix[i][idx]\n",
    "            if similarity > limiar :\n",
    "                similar_product.append({\n",
    "                        'ITE_ITEM_TITLE_TEST': original_test_product,\n",
    "                        'ITE_ITEM_TITLE': original_train_product,\n",
    "                        'Score Similitud (0,1)': similarity\n",
    "                })\n",
    "                break\n",
    "\n",
    "    # Retornando os resultados ordenados pelo grau de similaridade\n",
    "    similar_product = pd.DataFrame(similar_product).sort_values(by='Score Similitud (0,1)').reset_index(drop=True)\n",
    "    return similar_product,"
   ],
   "metadata": {
    "collapsed": false
   }
  },
  {
   "cell_type": "code",
   "execution_count": 21,
   "outputs": [
    {
     "data": {
      "text/plain": "                                  ITE_ITEM_TITLE_TEST  \\\n0       tênis molekinha tec thal/lyc prot/cam met cam   \n1   mulheres senhoras confortável wedge mesh tênis...   \n2   mulheres plush flats shoes cor sólida dedo red...   \n3   spikes de sapato de neve zerodis, prático para...   \n4   modelos de kits de bicicleta pintados à mão co...   \n5   adaptador da montagem da montagem da tocha da ...   \n6   lace up shoe cover anti-smash waterproof shoe ...   \n7   balança digital multilaser hc024 180 kg eastma...   \n8   tênis plataforma customizado para noivas e fes...   \n9   tênis sapatênis mule roxo purple rain prince d...   \n10  ponteira, reparo para cabos de vassoura e rodo...   \n11    tenis molekinho 08/2021 2838201 marinho/cza/lja   \n12  tenis nike chuck posite cave purple cb n 40 (b...   \n13  tênis de led infantil skechers twinkle toes ro...   \n14    bicicleta leve dobra roda de rolamento fácil de   \n15  monark bmx acrobike r1 quadro garfo guidão cor...   \n16  bicicleta mtb trek cobia 29er hard tail 2013 (...   \n17              kit qod barber shop whiskey - incolor   \n18  specialized downhill demo 8 27,5 2017 black bo...   \n19                         st com o display queimado    \n\n                                       ITE_ITEM_TITLE  Score Similitud (0,1)  \n0    tenis infantil - molekinho - lyc neop - 2616.103               0.264255  \n1          tênis feminino napa sua cia ref 8082.11780               0.266504  \n2   sapatos esportivos mulheres slip on mocassim f...               0.273981  \n3   sapato ferracini sapatenis masculino infinit n...               0.276461  \n4   kits 2 tênis esportivo feminino academia corri...               0.279088  \n5   suporte para montagem de bicicleta na parede s...               0.284544  \n6   sapatos femininos cover foot mesh soft sole sa...               0.295146  \n7   smart tv multilaser 40 fhd lcd wifi usb conver...               0.295367  \n8   tênis feminino confortável moleca p/ festas lo...               0.296730  \n9   tênis sapatênis mule colorido cores now united...               0.299836  \n10  bicicleta adulto aro 26 retrô com cesta plásti...               0.300719  \n11               tenis beira rio 08/2021 4276103 bege               0.301866  \n12  tênis nike lunarlon para andar de skate tam 10...               0.303649  \n13                   tênis infantil masculino com led               0.306584  \n14  barra de extensão de roda fácil de bicicleta d...               0.309444  \n15                             monark bmx mini aro 14               0.317230  \n16                                bike mtb bulls 29er               0.317554  \n17  15 expositor de calçados - acrílico incolor - ...               0.320324  \n18                        specialized camber pró 2017               0.324173  \n19  tênis infantil klin walk indigo/vermelho queim...               0.324315  ",
      "text/html": "<div>\n<style scoped>\n    .dataframe tbody tr th:only-of-type {\n        vertical-align: middle;\n    }\n\n    .dataframe tbody tr th {\n        vertical-align: top;\n    }\n\n    .dataframe thead th {\n        text-align: right;\n    }\n</style>\n<table border=\"1\" class=\"dataframe\">\n  <thead>\n    <tr style=\"text-align: right;\">\n      <th></th>\n      <th>ITE_ITEM_TITLE_TEST</th>\n      <th>ITE_ITEM_TITLE</th>\n      <th>Score Similitud (0,1)</th>\n    </tr>\n  </thead>\n  <tbody>\n    <tr>\n      <th>0</th>\n      <td>tênis molekinha tec thal/lyc prot/cam met cam</td>\n      <td>tenis infantil - molekinho - lyc neop - 2616.103</td>\n      <td>0.264255</td>\n    </tr>\n    <tr>\n      <th>1</th>\n      <td>mulheres senhoras confortável wedge mesh tênis...</td>\n      <td>tênis feminino napa sua cia ref 8082.11780</td>\n      <td>0.266504</td>\n    </tr>\n    <tr>\n      <th>2</th>\n      <td>mulheres plush flats shoes cor sólida dedo red...</td>\n      <td>sapatos esportivos mulheres slip on mocassim f...</td>\n      <td>0.273981</td>\n    </tr>\n    <tr>\n      <th>3</th>\n      <td>spikes de sapato de neve zerodis, prático para...</td>\n      <td>sapato ferracini sapatenis masculino infinit n...</td>\n      <td>0.276461</td>\n    </tr>\n    <tr>\n      <th>4</th>\n      <td>modelos de kits de bicicleta pintados à mão co...</td>\n      <td>kits 2 tênis esportivo feminino academia corri...</td>\n      <td>0.279088</td>\n    </tr>\n    <tr>\n      <th>5</th>\n      <td>adaptador da montagem da montagem da tocha da ...</td>\n      <td>suporte para montagem de bicicleta na parede s...</td>\n      <td>0.284544</td>\n    </tr>\n    <tr>\n      <th>6</th>\n      <td>lace up shoe cover anti-smash waterproof shoe ...</td>\n      <td>sapatos femininos cover foot mesh soft sole sa...</td>\n      <td>0.295146</td>\n    </tr>\n    <tr>\n      <th>7</th>\n      <td>balança digital multilaser hc024 180 kg eastma...</td>\n      <td>smart tv multilaser 40 fhd lcd wifi usb conver...</td>\n      <td>0.295367</td>\n    </tr>\n    <tr>\n      <th>8</th>\n      <td>tênis plataforma customizado para noivas e fes...</td>\n      <td>tênis feminino confortável moleca p/ festas lo...</td>\n      <td>0.296730</td>\n    </tr>\n    <tr>\n      <th>9</th>\n      <td>tênis sapatênis mule roxo purple rain prince d...</td>\n      <td>tênis sapatênis mule colorido cores now united...</td>\n      <td>0.299836</td>\n    </tr>\n    <tr>\n      <th>10</th>\n      <td>ponteira, reparo para cabos de vassoura e rodo...</td>\n      <td>bicicleta adulto aro 26 retrô com cesta plásti...</td>\n      <td>0.300719</td>\n    </tr>\n    <tr>\n      <th>11</th>\n      <td>tenis molekinho 08/2021 2838201 marinho/cza/lja</td>\n      <td>tenis beira rio 08/2021 4276103 bege</td>\n      <td>0.301866</td>\n    </tr>\n    <tr>\n      <th>12</th>\n      <td>tenis nike chuck posite cave purple cb n 40 (b...</td>\n      <td>tênis nike lunarlon para andar de skate tam 10...</td>\n      <td>0.303649</td>\n    </tr>\n    <tr>\n      <th>13</th>\n      <td>tênis de led infantil skechers twinkle toes ro...</td>\n      <td>tênis infantil masculino com led</td>\n      <td>0.306584</td>\n    </tr>\n    <tr>\n      <th>14</th>\n      <td>bicicleta leve dobra roda de rolamento fácil de</td>\n      <td>barra de extensão de roda fácil de bicicleta d...</td>\n      <td>0.309444</td>\n    </tr>\n    <tr>\n      <th>15</th>\n      <td>monark bmx acrobike r1 quadro garfo guidão cor...</td>\n      <td>monark bmx mini aro 14</td>\n      <td>0.317230</td>\n    </tr>\n    <tr>\n      <th>16</th>\n      <td>bicicleta mtb trek cobia 29er hard tail 2013 (...</td>\n      <td>bike mtb bulls 29er</td>\n      <td>0.317554</td>\n    </tr>\n    <tr>\n      <th>17</th>\n      <td>kit qod barber shop whiskey - incolor</td>\n      <td>15 expositor de calçados - acrílico incolor - ...</td>\n      <td>0.320324</td>\n    </tr>\n    <tr>\n      <th>18</th>\n      <td>specialized downhill demo 8 27,5 2017 black bo...</td>\n      <td>specialized camber pró 2017</td>\n      <td>0.324173</td>\n    </tr>\n    <tr>\n      <th>19</th>\n      <td>st com o display queimado</td>\n      <td>tênis infantil klin walk indigo/vermelho queim...</td>\n      <td>0.324315</td>\n    </tr>\n  </tbody>\n</table>\n</div>"
     },
     "execution_count": 21,
     "metadata": {},
     "output_type": "execute_result"
    }
   ],
   "source": [
    "#passa os dados de treino e teste\n",
    "similar_product = find_similar_products(df_train, df_test, 'ITE_ITEM_TITLE_CLEAN_FINAL','ITE_ITEM_TITLE', 'ITE_ITEM_TITLE_CLEAN_FINAL', 'ITE_ITEM_TITLE', 0, TfidfVectorizer(binary=True,  analyzer='word'))\n",
    "similar_product.head(20)"
   ],
   "metadata": {
    "collapsed": false
   }
  },
  {
   "cell_type": "markdown",
   "source": [
    "### Metricas de Validação geral"
   ],
   "metadata": {
    "collapsed": false
   }
  },
  {
   "cell_type": "code",
   "execution_count": 23,
   "outputs": [],
   "source": [
    "def evaluate_model(similar_product, true_values_col):\n",
    "    \"\"\" Função que avalia o desempenho do modelo de busca de produtos similares \"\"\"\n",
    "\n",
    "    # Calculando o número de produtos corretamente identificados\n",
    "    num_correct = 0\n",
    "    num_predicted = 0\n",
    "    num_true = 0\n",
    "\n",
    "    for i, row in similar_product.iterrows():\n",
    "        predicted_product = row['ITE_ITEM_TITLE']\n",
    "        true_products = similar_product[true_values_col][i]\n",
    "        if type(true_products) != str:\n",
    "            true_products = \", \".join(true_products)\n",
    "        if predicted_product in true_products:\n",
    "            num_correct += 1\n",
    "        num_predicted += 1\n",
    "        num_true += len(true_products.split(\", \"))\n",
    "\n",
    "    # Calculando as métricas de avaliação\n",
    "    precision = num_correct / num_predicted\n",
    "    recall = num_correct / num_true\n",
    "    f1_score = 2 * (precision * recall) / (precision + recall)\n",
    "\n",
    "    # Criando um dicionário com as métricas de avaliação\n",
    "    eval_dict = {\n",
    "        'precision': precision,\n",
    "        'recall': recall,\n",
    "        'f1_score': f1_score\n",
    "    }\n",
    "    return eval_dict\n"
   ],
   "metadata": {
    "collapsed": false
   }
  },
  {
   "cell_type": "code",
   "execution_count": 24,
   "outputs": [
    {
     "data": {
      "text/plain": "{'precision': 0.17008504252126064,\n 'recall': 0.1669449081803005,\n 'f1_score': 0.16850034691247892}"
     },
     "execution_count": 24,
     "metadata": {},
     "output_type": "execute_result"
    }
   ],
   "source": [
    "eval_dict = evaluate_model(similar_product, 'ITE_ITEM_TITLE_TEST')\n",
    "eval_dict"
   ],
   "metadata": {
    "collapsed": false
   }
  },
  {
   "cell_type": "code",
   "execution_count": 25,
   "outputs": [
    {
     "data": {
      "text/plain": "<Figure size 640x480 with 1 Axes>",
      "image/png": "[encoded data removed]"
     },
     "metadata": {},
     "output_type": "display_data"
    }
   ],
   "source": [
    "# Plotando o recall\n",
    "plt.plot([0, 1], [0, eval_dict['recall']], 'r--')\n",
    "plt.xlabel('Recall')\n",
    "plt.ylabel('Threshold')\n",
    "plt.ylim([0.0, 1.05])\n",
    "plt.xlim([0.0, 1.1])\n",
    "plt.show()\n"
   ],
   "metadata": {
    "collapsed": false
   }
  },
  {
   "cell_type": "markdown",
   "source": [
    "Aparenta baixo desempenho pelas métricas de avaliação (por conta de só validar como correto a correspondência exata).\n",
    "Para medir o desempenho com maior aderência ao modelo, irei utilizar faixas de similaridade para avaliação."
   ],
   "metadata": {
    "collapsed": false
   }
  },
  {
   "cell_type": "code",
   "execution_count": 53,
   "outputs": [],
   "source": [
    "def evaluate_model_ranges():\n",
    "    # Dataset fornecido\n",
    "    score_similitud = similar_product['Score Similitud (0,1)']\n",
    "\n",
    "    # Defina as faixas de valor e a quantidade de similaridade dentro de cada faixa\n",
    "    ranges = [(0, 0.1, 1), (0.1, 0.2, 1), (0.2, 0.4, 2), (0.4, 0.6, 3), (0.6, 0.8, 4),(0.8, 0.9, 5), (0.9, 1.0, 6)]\n",
    "\n",
    "    # Crie uma lista com os valores e a similaridade correspondente para cada faixa\n",
    "    similar_values = []\n",
    "    for range in ranges:\n",
    "        initial_value, final_value, similarity = range\n",
    "        values = [x for x in score_similitud if x >= initial_value and x < final_value]\n",
    "        for value in values:\n",
    "            similar_values.append((value, similarity, f\" [{initial_value:.1f} - {final_value:.1f}[\"))\n",
    "\n",
    "    # Crie um dicionário com as colunas do dataframe\n",
    "    data = {'score_similitud': [], 'faixa': [], 'tamanho da amostra': []}\n",
    "\n",
    "    # Crie o dataframe a partir do dicionário e adicione as colunas a similaridade e a faixa correspondente para cada uma\n",
    "    df = pd.DataFrame(data)\n",
    "    for value, similarity, range in similar_values:\n",
    "        df = pd.concat([df, pd.DataFrame({'score_similitud': [value], 'faixa': [range]})])\n",
    "\n",
    "    # Agrupe as linhas do dataframe pelo valor da coluna 'faixa'\n",
    "    df_final = df.groupby('faixa').count().reset_index()\n",
    "\n",
    "    df_final['tamanho da amostra'] = len(df['faixa'])\n",
    "    df_final['% de valores nessa faixa'] = round(df_final['score_similitud'] / df_final['tamanho da amostra'] * 100,2)\n",
    "\n",
    "    df_final.rename(columns={'score_similitud': 'quantidade'}, inplace=True)\n",
    "    return df_final"
   ],
   "metadata": {
    "collapsed": false
   }
  },
  {
   "cell_type": "code",
   "execution_count": 32,
   "outputs": [
    {
     "data": {
      "text/plain": "                                      ITE_ITEM_TITLE  \\\n0  tênis ascension posh masculino - preto e verme...   \n1  tenis para caminhada super levinho spider corr...   \n2  tênis feminino le parc hocks black/ice origina...   \n3  tênis olympikus esportivo academia nova tendên...   \n4  inteligente led bicicleta tauda luz usb bicicl...   \n\n                             unigrama_ITE_ITEM_TITLE  \\\n0  [tenis, ascension, posh, masculino, preto, e, ...   \n1  [tenis, para, caminhada, super, levinho, spide...   \n2  [tenis, feminino, le, parc, hocks, black, ice,...   \n3  [tenis, olympikus, esportivo, academia, nova, ...   \n4  [inteligente, led, bicicleta, tauda, luz, usb,...   \n\n                                ITE_ITEM_TITLE_CLEAN  \\\n0  [tenis, ascension, posh, masculino, preto, e, ...   \n1  [tenis, para, caminhada, super, levinho, spide...   \n2  [tenis, feminino, le, parc, hocks, black, ice,...   \n3  [tenis, olympikus, esportivo, academia, nova, ...   \n4  [inteligente, led, bicicleta, tauda, luz, usb,...   \n\n                          ITE_ITEM_TITLE_CLEAN_FINAL  \n0      tenis ascension posh masculino preto vermelho  \n1       tenis caminhada super levinho spider corrida  \n2  tenis feminino le parc hocks black ice origina...  \n3  tenis olympikus esportivo academia nova tenden...  \n4  inteligente led bicicleta tauda luz usb bicicl...  ",
      "text/html": "<div>\n<style scoped>\n    .dataframe tbody tr th:only-of-type {\n        vertical-align: middle;\n    }\n\n    .dataframe tbody tr th {\n        vertical-align: top;\n    }\n\n    .dataframe thead th {\n        text-align: right;\n    }\n</style>\n<table border=\"1\" class=\"dataframe\">\n  <thead>\n    <tr style=\"text-align: right;\">\n      <th></th>\n      <th>ITE_ITEM_TITLE</th>\n      <th>unigrama_ITE_ITEM_TITLE</th>\n      <th>ITE_ITEM_TITLE_CLEAN</th>\n      <th>ITE_ITEM_TITLE_CLEAN_FINAL</th>\n    </tr>\n  </thead>\n  <tbody>\n    <tr>\n      <th>0</th>\n      <td>tênis ascension posh masculino - preto e verme...</td>\n      <td>[tenis, ascension, posh, masculino, preto, e, ...</td>\n      <td>[tenis, ascension, posh, masculino, preto, e, ...</td>\n      <td>tenis ascension posh masculino preto vermelho</td>\n    </tr>\n    <tr>\n      <th>1</th>\n      <td>tenis para caminhada super levinho spider corr...</td>\n      <td>[tenis, para, caminhada, super, levinho, spide...</td>\n      <td>[tenis, para, caminhada, super, levinho, spide...</td>\n      <td>tenis caminhada super levinho spider corrida</td>\n    </tr>\n    <tr>\n      <th>2</th>\n      <td>tênis feminino le parc hocks black/ice origina...</td>\n      <td>[tenis, feminino, le, parc, hocks, black, ice,...</td>\n      <td>[tenis, feminino, le, parc, hocks, black, ice,...</td>\n      <td>tenis feminino le parc hocks black ice origina...</td>\n    </tr>\n    <tr>\n      <th>3</th>\n      <td>tênis olympikus esportivo academia nova tendên...</td>\n      <td>[tenis, olympikus, esportivo, academia, nova, ...</td>\n      <td>[tenis, olympikus, esportivo, academia, nova, ...</td>\n      <td>tenis olympikus esportivo academia nova tenden...</td>\n    </tr>\n    <tr>\n      <th>4</th>\n      <td>inteligente led bicicleta tauda luz usb bicicl...</td>\n      <td>[inteligente, led, bicicleta, tauda, luz, usb,...</td>\n      <td>[inteligente, led, bicicleta, tauda, luz, usb,...</td>\n      <td>inteligente led bicicleta tauda luz usb bicicl...</td>\n    </tr>\n  </tbody>\n</table>\n</div>"
     },
     "execution_count": 32,
     "metadata": {},
     "output_type": "execute_result"
    }
   ],
   "source": [
    "df_train.head()"
   ],
   "metadata": {
    "collapsed": false
   }
  },
  {
   "cell_type": "markdown",
   "source": [
    "##  Similaridade jaccard  - intersec"
   ],
   "metadata": {
    "collapsed": false
   }
  },
  {
   "cell_type": "code",
   "execution_count": null,
   "outputs": [],
   "source": [
    "import numpy as np\n",
    "\n",
    "\n",
    "def calcular_similaridade_jaccard(texto1, texto2):\n",
    "    s1 = set(texto1.split())\n",
    "    s2 = set(texto2.split())\n",
    "\n",
    "    return float(len(s1.intersection(s2)) / len(s1.union(s2)))\n",
    "def similarity_matrix_batch(df1, col1, df2, col2, batch_size=1000):\n",
    "    # Divide df1 em partes menores\n",
    "    df1_batches = np.array_split(df1, len(df1) // batch_size + 1)\n",
    "\n",
    "    result = pd.DataFrame()\n",
    "\n",
    "    for df1_batch in df1_batches:\n",
    "        # Merge os dataframes em cada parte\n",
    "        df1_batch['_tmp'] = 1\n",
    "        df2['_tmp'] = 1\n",
    "        cartesian_product = pd.merge(df1_batch, df2, on='_tmp').drop('_tmp', axis=1)\n",
    "\n",
    "        # Calcula a similaridade para cada par de linhas\n",
    "        cartesian_product['similarity'] = cartesian_product.apply(lambda x: calcular_similaridade_jaccard(x[col1+'_x'], x[col2+'_y']), axis=1)\n",
    "\n",
    "        # Concatena o resultado das partes\n",
    "        result = pd.concat([result, cartesian_product[[col1+'_x', col2+'_y', 'similarity']]], ignore_index=True)\n",
    "\n",
    "    # Renomeia as colunas e retorna o resultado final\n",
    "    result.columns = [col1, col2, 'similarity']\n",
    "    return result\n",
    "\n",
    "#Calculate the similarity between each pair of rows\n",
    "similarity_df = similarity_matrix_batch(df_test, 'ITE_ITEM_TITLE_CLEAN_FINAL', df_train, 'ITE_ITEM_TITLE_CLEAN_FINAL', batch_size=2000)\n"
   ],
   "metadata": {
    "collapsed": false
   }
  },
  {
   "cell_type": "code",
   "execution_count": 33,
   "outputs": [
    {
     "ename": "NameError",
     "evalue": "name 'similarity_df' is not defined",
     "output_type": "error",
     "traceback": [
      "\u001B[1;31m---------------------------------------------------------------------------\u001B[0m",
      "\u001B[1;31mNameError\u001B[0m                                 Traceback (most recent call last)",
      "Cell \u001B[1;32mIn[33], line 1\u001B[0m\n\u001B[1;32m----> 1\u001B[0m \u001B[43msimilarity_df\u001B[49m\u001B[38;5;241m.\u001B[39mhead()\n",
      "\u001B[1;31mNameError\u001B[0m: name 'similarity_df' is not defined"
     ]
    }
   ],
   "source": [
    "similarity_df.head()"
   ],
   "metadata": {
    "collapsed": false
   }
  },
  {
   "cell_type": "code",
   "execution_count": null,
   "outputs": [],
   "source": [
    "similarity_df = similarity_df[similarity_df['similarity'] > 0.4]\n",
    "similarity_df.to_excel(\"resultado_desafio2_jaccard.xlsx\", header=True)"
   ],
   "metadata": {
    "collapsed": false
   }
  },
  {
   "cell_type": "markdown",
   "source": [
    "## Medindo o tempo de processamento e desempenho de cada técnica"
   ],
   "metadata": {
    "collapsed": false
   }
  },
  {
   "cell_type": "code",
   "execution_count": null,
   "outputs": [],
   "source": [
    "import time\n",
    "\n",
    "def execution_time():\n",
    "    t01 = time.time()\n",
    "    pipeline_process_test(df_train, df_test, 'ITE_ITEM_TITLE', 'ITE_ITEM_TITLE', 0, TfidfVectorizer(binary=True))\n",
    "    t11 = time.time()\n",
    "    timer1 = t11 - t01\n",
    "    t02 = time.time()\n",
    "    similarity_df =  similarity_matrix_batch(df_test, 'ITE_ITEM_TITLE_CLEAN_FINAL', df_train, 'ITE_ITEM_TITLE_CLEAN_FINAL', batch_size=2000)\n",
    "    t12 = time.time()\n",
    "    timer2 = t12 - t02\n",
    "    # Criando um dicionário com as métricas de avaliação\n",
    "    exec_time = {\n",
    "        'cosseno': timer1,\n",
    "        'jaccard': timer2,\n",
    "    }\n",
    "    print('Tempo de execução cosseno: {:.2f} segundos'.format(timer1))\n",
    "    print('Tempo de execução jaccard: {:.2f} segundos'.format(timer2))\n",
    "    return exec_time\n",
    "execution_time()"
   ],
   "metadata": {
    "collapsed": false
   }
  },
  {
   "cell_type": "markdown",
   "source": [
    "#### Pelo desempenho similar observado no arquivo de resultados e considerando a diferença no tempo de processamento, optei por seguir somente com o metódo do cosseno."
   ],
   "metadata": {
    "collapsed": false
   }
  },
  {
   "cell_type": "markdown",
   "source": [
    "### Pipeline de processamento para cosseno"
   ],
   "metadata": {
    "collapsed": false
   }
  },
  {
   "cell_type": "code",
   "execution_count": 38,
   "outputs": [],
   "source": [
    "def pipeline_process_test(train, test, train_col, test_col, limiar, vector):\n",
    "    # Limpeza dos dados\n",
    "    unigram_list(train, train_col)\n",
    "    train['ITE_ITEM_TITLE_CLEAN'] = retira_acentuacao(train, 'unigrama_ITE_ITEM_TITLE')\n",
    "    final_colum(train,'ITE_ITEM_TITLE_CLEAN')\n",
    "\n",
    "    #colunas sem a limpeza de dados, para o dataset final\n",
    "    original_col = 'ITE_ITEM_TITLE'\n",
    "\n",
    "   #Dados de teste\n",
    "    unigram_list(test,test_col)\n",
    "    test['ITE_ITEM_TITLE_CLEAN'] = retira_acentuacao(test, 'unigrama_ITE_ITEM_TITLE')\n",
    "    final_colum(test,'ITE_ITEM_TITLE_CLEAN')\n",
    "\n",
    "    # Encontrando os produtos similares\n",
    "    similar_product = find_similar_products(train, test, train_col, original_col, test_col, original_col, limiar, vector)\n",
    "    #salva o resultado em um excel para melhor vizualização de todos os resultados\n",
    "    similar_product.to_excel('resultado_desafio2.xlsx', header=True)\n",
    "    return similar_product\n",
    "\n",
    "final_result = pipeline_process_test(df_train, df_test, 'ITE_ITEM_TITLE', 'ITE_ITEM_TITLE', 0, TfidfVectorizer(binary=True))\n"
   ],
   "metadata": {
    "collapsed": false
   }
  },
  {
   "cell_type": "markdown",
   "source": [
    "# Resultado final"
   ],
   "metadata": {
    "collapsed": false
   }
  },
  {
   "cell_type": "code",
   "execution_count": 41,
   "outputs": [
    {
     "data": {
      "text/plain": "                                    ITE_ITEM_TITLE_TEST  \\\n9995  tenis infantil feminino mercado livre tenis in...   \n9964       tênis usthemp clash temático - pastor alemão   \n9973  bicicleta infantil flower menina aro 12 rosa -...   \n9972  tenis infantil masculino feminino kidjoy wave ...   \n9971  kit 2 tênis esportivo anti impacto leve confor...   \n...                                                 ...   \n4     sandalia kemo com elastico pesca esporte nauti...   \n3     mulheres plush flats shoes cor sólida dedo red...   \n2     spikes de sapato de neve zerodis, prático para...   \n1     mulheres senhoras confortável wedge mesh tênis...   \n0         tênis molekinha tec thal/lyc prot/cam met cam   \n\n                                         ITE_ITEM_TITLE  Score Similitud (0,1)  \n9995  tenis infantil feminino mercado livre tenis in...               1.000000  \n9964       tênis usthemp clash temático - pastor alemão               1.000000  \n9973  bicicleta infantil flower menina aro 12 rosa -...               1.000000  \n9972  tenis infantil masculino feminino kidjoy wave ...               1.000000  \n9971  kit 2 tênis esportivo anti impacto leve confor...               1.000000  \n...                                                 ...                    ...  \n4      sapatênis infantil masculino motion azul nautico               0.276804  \n3     sapatos esportivos mulheres slip on mocassim f...               0.273975  \n2     apertos refletivos para botas de sapato de nev...               0.271333  \n1     mulheres senhoras lazer malha slip-on wedges h...               0.264478  \n0      tenis infantil - molekinho - lyc neop - 2616.103               0.258388  \n\n[9996 rows x 3 columns]",
      "text/html": "<div>\n<style scoped>\n    .dataframe tbody tr th:only-of-type {\n        vertical-align: middle;\n    }\n\n    .dataframe tbody tr th {\n        vertical-align: top;\n    }\n\n    .dataframe thead th {\n        text-align: right;\n    }\n</style>\n<table border=\"1\" class=\"dataframe\">\n  <thead>\n    <tr style=\"text-align: right;\">\n      <th></th>\n      <th>ITE_ITEM_TITLE_TEST</th>\n      <th>ITE_ITEM_TITLE</th>\n      <th>Score Similitud (0,1)</th>\n    </tr>\n  </thead>\n  <tbody>\n    <tr>\n      <th>9995</th>\n      <td>tenis infantil feminino mercado livre tenis in...</td>\n      <td>tenis infantil feminino mercado livre tenis in...</td>\n      <td>1.000000</td>\n    </tr>\n    <tr>\n      <th>9964</th>\n      <td>tênis usthemp clash temático - pastor alemão</td>\n      <td>tênis usthemp clash temático - pastor alemão</td>\n      <td>1.000000</td>\n    </tr>\n    <tr>\n      <th>9973</th>\n      <td>bicicleta infantil flower menina aro 12 rosa -...</td>\n      <td>bicicleta infantil flower menina aro 12 rosa -...</td>\n      <td>1.000000</td>\n    </tr>\n    <tr>\n      <th>9972</th>\n      <td>tenis infantil masculino feminino kidjoy wave ...</td>\n      <td>tenis infantil masculino feminino kidjoy wave ...</td>\n      <td>1.000000</td>\n    </tr>\n    <tr>\n      <th>9971</th>\n      <td>kit 2 tênis esportivo anti impacto leve confor...</td>\n      <td>kit 2 tênis esportivo anti impacto leve confor...</td>\n      <td>1.000000</td>\n    </tr>\n    <tr>\n      <th>...</th>\n      <td>...</td>\n      <td>...</td>\n      <td>...</td>\n    </tr>\n    <tr>\n      <th>4</th>\n      <td>sandalia kemo com elastico pesca esporte nauti...</td>\n      <td>sapatênis infantil masculino motion azul nautico</td>\n      <td>0.276804</td>\n    </tr>\n    <tr>\n      <th>3</th>\n      <td>mulheres plush flats shoes cor sólida dedo red...</td>\n      <td>sapatos esportivos mulheres slip on mocassim f...</td>\n      <td>0.273975</td>\n    </tr>\n    <tr>\n      <th>2</th>\n      <td>spikes de sapato de neve zerodis, prático para...</td>\n      <td>apertos refletivos para botas de sapato de nev...</td>\n      <td>0.271333</td>\n    </tr>\n    <tr>\n      <th>1</th>\n      <td>mulheres senhoras confortável wedge mesh tênis...</td>\n      <td>mulheres senhoras lazer malha slip-on wedges h...</td>\n      <td>0.264478</td>\n    </tr>\n    <tr>\n      <th>0</th>\n      <td>tênis molekinha tec thal/lyc prot/cam met cam</td>\n      <td>tenis infantil - molekinho - lyc neop - 2616.103</td>\n      <td>0.258388</td>\n    </tr>\n  </tbody>\n</table>\n<p>9996 rows × 3 columns</p>\n</div>"
     },
     "execution_count": 41,
     "metadata": {},
     "output_type": "execute_result"
    }
   ],
   "source": [
    "final_result.sort_values(by='Score Similitud (0,1)', ascending=False)"
   ],
   "metadata": {
    "collapsed": false
   }
  },
  {
   "cell_type": "code",
   "execution_count": 54,
   "outputs": [],
   "source": [
    "#salva o resultado em um excel para melhor vizualização de todos os resultados\n",
    "final_result.to_excel('resultado_desafio2.xlsx', header=True)"
   ],
   "metadata": {
    "collapsed": false
   }
  },
  {
   "cell_type": "code",
   "execution_count": 55,
   "outputs": [
    {
     "data": {
      "text/plain": "          faixa  quantidade  tamanho da amostra  % de valores nessa faixa\n0   [0.2 - 0.4[         155                8219                      1.89\n1   [0.4 - 0.6[        1977                8219                     24.05\n2   [0.6 - 0.8[        3662                8219                     44.56\n3   [0.8 - 0.9[        1607                8219                     19.55\n4   [0.9 - 1.0[         818                8219                      9.95",
      "text/html": "<div>\n<style scoped>\n    .dataframe tbody tr th:only-of-type {\n        vertical-align: middle;\n    }\n\n    .dataframe tbody tr th {\n        vertical-align: top;\n    }\n\n    .dataframe thead th {\n        text-align: right;\n    }\n</style>\n<table border=\"1\" class=\"dataframe\">\n  <thead>\n    <tr style=\"text-align: right;\">\n      <th></th>\n      <th>faixa</th>\n      <th>quantidade</th>\n      <th>tamanho da amostra</th>\n      <th>% de valores nessa faixa</th>\n    </tr>\n  </thead>\n  <tbody>\n    <tr>\n      <th>0</th>\n      <td>[0.2 - 0.4[</td>\n      <td>155</td>\n      <td>8219</td>\n      <td>1.89</td>\n    </tr>\n    <tr>\n      <th>1</th>\n      <td>[0.4 - 0.6[</td>\n      <td>1977</td>\n      <td>8219</td>\n      <td>24.05</td>\n    </tr>\n    <tr>\n      <th>2</th>\n      <td>[0.6 - 0.8[</td>\n      <td>3662</td>\n      <td>8219</td>\n      <td>44.56</td>\n    </tr>\n    <tr>\n      <th>3</th>\n      <td>[0.8 - 0.9[</td>\n      <td>1607</td>\n      <td>8219</td>\n      <td>19.55</td>\n    </tr>\n    <tr>\n      <th>4</th>\n      <td>[0.9 - 1.0[</td>\n      <td>818</td>\n      <td>8219</td>\n      <td>9.95</td>\n    </tr>\n  </tbody>\n</table>\n</div>"
     },
     "execution_count": 55,
     "metadata": {},
     "output_type": "execute_result"
    }
   ],
   "source": [
    "df_final = evaluate_model_ranges()\n",
    "df_final.head()"
   ],
   "metadata": {
    "collapsed": false
   }
  },
  {
   "cell_type": "code",
   "execution_count": 57,
   "outputs": [
    {
     "name": "stdout",
     "output_type": "stream",
     "text": [
      "Pelo menos 2425 das avaliações têm similaridade entre ]0.9 e 1.0], o que representa 29.50% das amostras analisadas\n",
      "Agora, considerando um limiar de 0.6, pelo menos 6087 das avaliações têm similaridade entre ]0.6 e 1.0], o que representa 74.06% das amostras analisadas\n"
     ]
    }
   ],
   "source": [
    "print(\"Pelo menos {} das avaliações têm similaridade entre ]0.9 e 1.0], o que representa {:.2f}% das amostras analisadas\".format(sum(df_final['quantidade'].tail(2)),sum(df_final['% de valores nessa faixa'].tail(2)) ))\n",
    "print(\"Agora, considerando um limiar de 0.6, pelo menos {} das avaliações têm similaridade entre ]0.6 e 1.0], o que representa {:.2f}% das amostras analisadas\".format(sum(df_final['quantidade'].tail(3)),sum(df_final['% de valores nessa faixa'].tail(3)) ))"
   ],
   "metadata": {
    "collapsed": false
   }
  }
 ],
 "metadata": {
  "kernelspec": {
   "display_name": "Python 3",
   "language": "python",
   "name": "python3"
  },
  "language_info": {
   "codemirror_mode": {
    "name": "ipython",
    "version": 2
   },
   "file_extension": ".py",
   "mimetype": "text/x-python",
   "name": "python",
   "nbconvert_exporter": "python",
   "pygments_lexer": "ipython2",
   "version": "2.7.6"
  }
 },
 "nbformat": 4,
 "nbformat_minor": 0
}
